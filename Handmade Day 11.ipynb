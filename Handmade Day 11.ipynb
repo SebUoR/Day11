{
 "cells": [
  {
   "cell_type": "markdown",
   "id": "8db243d7-8541-493f-8312-a11db7b0fd61",
   "metadata": {},
   "source": [
    "# Importing Packages"
   ]
  },
  {
   "cell_type": "code",
   "execution_count": 1,
   "id": "913e5816-660c-4886-ad93-47100f4b524c",
   "metadata": {},
   "outputs": [],
   "source": [
    "import numpy as np\n",
    "import pandas as pd\n",
    "\n",
    "import matplotlib.pyplot as plt\n",
    "import plotly.express as px\n",
    "from plotly.subplots import make_subplots\n",
    "import plotly.io as pio\n",
    "pio.renderers.defaule = 'colab'\n",
    "\n",
    "from itables import show\n",
    "\n",
    "# This stops a few warning messages from showing\n",
    "pd.options.mode.chained_assignment = None \n",
    "import warnings\n",
    "warnings.simplefilter(action='ignore', category=FutureWarning)"
   ]
  },
  {
   "cell_type": "markdown",
   "id": "d9feca06-104e-4f08-8256-c0fd5c2a1f18",
   "metadata": {},
   "source": [
    "## Case studies"
   ]
  },
  {
   "cell_type": "markdown",
   "id": "c5cd8e6e-40fc-439e-bdb2-653ddf719e88",
   "metadata": {},
   "source": [
    "### What type of study\n",
    "\n",
    "What type of study is the following, observational or experiment? What does that mean in terms of causal conclusions?\n",
    "\n",
    "Researchers studying the relationship between exercising and energy levels asked participants in their study how many times a week they exercise and whether they have high or low energy when they wake up in the morning.\n",
    "\n",
    "Based on responses to the exercise question the researchers grouped people into three categories (no exercise, exercise 1-3 times a week, and exercise more than 3 times a week).\n",
    "\n",
    "The researchers then compared the proportions of people who said they have high energy in the mornings across the three exercise categories.\n",
    "\n"
   ]
  },
  {
   "cell_type": "markdown",
   "id": "2b2d45f9-9621-4b44-947a-0e3f081ee46a",
   "metadata": {},
   "source": [
    "### Answer:\n",
    "\n",
    "I think that this is an observational study, because they simply asked questions and looked at their behavior, but never interfered with their life or activities. In terms of casual conclusions, while we can hypothetically say that people who exercise have higher energy, we don't know if exercising is what causes people to have the higher energy."
   ]
  },
  {
   "cell_type": "markdown",
   "id": "ebc85831-6ce2-4776-91d9-af792b7d2d0f",
   "metadata": {},
   "source": [
    "### What type of study\n",
    "\n",
    "What type of study is the following, observational or experiment? What does that mean in terms of causal conclusions?\n",
    "\n",
    "Researchers studying the relationship between exercising and energy levels randomly assigned participants in their study into three groups: no exercise, exercise 1-3 times a week, and exercise more than 3 times a week.\n",
    "\n",
    "After one week, participants were asked whether they have high or low energy when they wake up in the morning.\n",
    "\n",
    "The researchers then compared the proportions of people who said they have high energy in the mornings across the three exercise categories.\n",
    "\n"
   ]
  },
  {
   "cell_type": "markdown",
   "id": "d89e403f-e96e-4d2a-af32-ee110ae22d89",
   "metadata": {},
   "source": [
    "### Answer:\n",
    "\n",
    "This is an experiment, as they put people into groups randomly and asked them to do something, in this case excersize. Because of this, we're able to know whether it's excersize that influences energy levels."
   ]
  },
  {
   "cell_type": "markdown",
   "id": "4064e57f-890a-4587-a558-0cbedd5b1e20",
   "metadata": {},
   "source": [
    "### What type of study\n",
    "\n",
    "Girls who ate breakfast of any type had a lower average body mass index (BMI), a common obesity gauge, than those who said they didn’t. The index was even lower for girls who said they ate cereal for breakfast, according to findings of the study conducted by the Maryland Medical Research Institute with funding from the National Institutes of Health (NIH) and cereal-maker General Mills. […]\n",
    "\n",
    "The results were gleaned from a larger NIH survey of 2,379 girls in California, Ohio, and Maryland who were tracked between the ages of 9 and 19. […]\n",
    "\n",
    "As part of the survey, the girls were asked once a year what they had eaten during the previous three days.* […]\n",
    "\n",
    "Souce: Study: Cereal Keeps Girls Slim, Retrieved Sep 13, 2018."
   ]
  },
  {
   "cell_type": "markdown",
   "id": "6064e5d6-6908-46e0-9b65-741eb0fc188c",
   "metadata": {},
   "source": [
    "### Answer:\n",
    "\n",
    "This is an observational study, exactly like the first study. This is because they simply asked questions, but didn't interfere with their life. Because of this, we don't know for sure the causation behind this correlation, as we don't know what affected what, and there could even be other variables at play."
   ]
  },
  {
   "cell_type": "markdown",
   "id": "8f0758b3-70b1-4497-a4a9-36381ff8b7b4",
   "metadata": {},
   "source": [
    "## Example - Climate Change"
   ]
  },
  {
   "cell_type": "markdown",
   "id": "2dcc12c3-76d2-48c0-ab94-5a405a49734c",
   "metadata": {},
   "source": [
    "A July 2019 YouGov survey asked 1633 GB and 1333 USA randomly selected adults which of the following statements about the global environment best describes their view:\n",
    "\n",
    "They had the choices:\n",
    "\n",
    "The climate is changing and human activity is mainly responsible\n",
    "The climate is changing and human activity is partly responsible, together with other factors\n",
    "The climate is changing but human activity is not responsible at all\n",
    "The climate is not changing\n",
    "Source: YouGov - International Climate Change Survey\n",
    "\n",
    "**What kind of study is this?**\n",
    "    A causual study\n",
    "    \n",
    "**What kind of results can we find?**\n",
    "    We can't find causations, but we can find associations"
   ]
  }
 ],
 "metadata": {
  "kernelspec": {
   "display_name": "Python 3 (ipykernel)",
   "language": "python",
   "name": "python3"
  },
  "language_info": {
   "codemirror_mode": {
    "name": "ipython",
    "version": 3
   },
   "file_extension": ".py",
   "mimetype": "text/x-python",
   "name": "python",
   "nbconvert_exporter": "python",
   "pygments_lexer": "ipython3",
   "version": "3.12.2"
  }
 },
 "nbformat": 4,
 "nbformat_minor": 5
}
