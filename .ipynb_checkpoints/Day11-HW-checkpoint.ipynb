{
 "cells": [
  {
   "cell_type": "markdown",
   "id": "e55984bd-5d8f-4f74-be7e-27535ada1b7f",
   "metadata": {},
   "source": [
    "## Introduction to Data Science\n",
    "\n",
    "#### University of Redlands - DATA 101\n",
    "#### Prof: Joanna Bieri [joanna_bieri@redlands.edu](mailto:joanna_bieri@redlands.edu)\n",
    "#### [Class Website: data101.joannabieri.com](https://joannabieri.com/data101.html)\n",
    "\n",
    "---------------------------------------\n",
    "# Homework Day 11\n",
    "---------------------------------------\n",
    "\n",
    "GOALS:\n",
    "\n",
    "1. Understand Causal vs Experimental Studies\n",
    "2. Do a more free form data analysis\n",
    "3. Start doing your ethics reading\n",
    "\n",
    "----------------------------------------------------------\n",
    "\n",
    "This homework has **2 questions**, **10 exercises** and **1 essay response**."
   ]
  },
  {
   "cell_type": "code",
   "execution_count": 12,
   "id": "d0153569-41e3-4696-9b34-83ba90a0b5cf",
   "metadata": {},
   "outputs": [],
   "source": [
    "import numpy as np\n",
    "import pandas as pd\n",
    "\n",
    "import matplotlib.pyplot as plt\n",
    "import plotly.express as px\n",
    "from plotly.subplots import make_subplots\n",
    "import plotly.io as pio\n",
    "pio.renderers.defaule = 'colab'\n",
    "\n",
    "from itables import show\n",
    "\n",
    "# This stops a few warning messages from showing\n",
    "pd.options.mode.chained_assignment = None \n",
    "import warnings\n",
    "warnings.simplefilter(action='ignore', category=FutureWarning)"
   ]
  },
  {
   "cell_type": "code",
   "execution_count": 13,
   "id": "7048dfd1-2b03-4c4b-93e2-ff48f66af288",
   "metadata": {},
   "outputs": [
    {
     "data": {
      "text/html": [
       "<div>\n",
       "<style scoped>\n",
       "    .dataframe tbody tr th:only-of-type {\n",
       "        vertical-align: middle;\n",
       "    }\n",
       "\n",
       "    .dataframe tbody tr th {\n",
       "        vertical-align: top;\n",
       "    }\n",
       "\n",
       "    .dataframe thead th {\n",
       "        text-align: right;\n",
       "    }\n",
       "</style>\n",
       "<table border=\"1\" class=\"dataframe\">\n",
       "  <thead>\n",
       "    <tr style=\"text-align: right;\">\n",
       "      <th></th>\n",
       "      <th>The climate is changing and human activity is mainly responsible</th>\n",
       "      <th>The climate is changing and human activity is partly responsible, together with other factors</th>\n",
       "      <th>The climate is changing but human activity is not responsible at all</th>\n",
       "      <th>The climate is not changing</th>\n",
       "      <th>Don't know</th>\n",
       "    </tr>\n",
       "    <tr>\n",
       "      <th>country</th>\n",
       "      <th></th>\n",
       "      <th></th>\n",
       "      <th></th>\n",
       "      <th></th>\n",
       "      <th></th>\n",
       "    </tr>\n",
       "  </thead>\n",
       "  <tbody>\n",
       "    <tr>\n",
       "      <th>GB</th>\n",
       "      <td>833</td>\n",
       "      <td>604</td>\n",
       "      <td>49</td>\n",
       "      <td>33</td>\n",
       "      <td>114</td>\n",
       "    </tr>\n",
       "    <tr>\n",
       "      <th>US</th>\n",
       "      <td>507</td>\n",
       "      <td>493</td>\n",
       "      <td>120</td>\n",
       "      <td>80</td>\n",
       "      <td>133</td>\n",
       "    </tr>\n",
       "  </tbody>\n",
       "</table>\n",
       "</div>"
      ],
      "text/plain": [
       "         The climate is changing and human activity is mainly responsible    \\\n",
       "country                                                                       \n",
       "GB                                                     833                    \n",
       "US                                                     507                    \n",
       "\n",
       "         The climate is changing and human activity is partly responsible, together with other factors    \\\n",
       "country                                                                                                    \n",
       "GB                                                     604                                                 \n",
       "US                                                     493                                                 \n",
       "\n",
       "         The climate is changing but human activity is not responsible at all    \\\n",
       "country                                                                           \n",
       "GB                                                      49                        \n",
       "US                                                     120                        \n",
       "\n",
       "         The climate is not changing    Don't know  \n",
       "country                                             \n",
       "GB                                  33         114  \n",
       "US                                  80         133  "
      ]
     },
     "execution_count": 13,
     "metadata": {},
     "output_type": "execute_result"
    }
   ],
   "source": [
    "file_name = 'data/yougov-climate.csv'\n",
    "DF = pd.read_csv(file_name,index_col=0)\n",
    "DF"
   ]
  },
  {
   "cell_type": "markdown",
   "id": "ed9f27ed-eb76-470c-8f3d-cbc80e2b8ee9",
   "metadata": {},
   "source": [
    "In the lecture we analyzed the following questions for the first column in the data:\n",
    "\n",
    "\n",
    "\n",
    "\n",
    "\n"
   ]
  },
  {
   "cell_type": "markdown",
   "id": "5ab51457-6d61-47fe-8b5c-cbf2dfdcf726",
   "metadata": {},
   "source": [
    "### First question:\n",
    "\n",
    "What percent of **all respondents** think the climate is changing and human activity is mainly responsible?  "
   ]
  },
  {
   "cell_type": "code",
   "execution_count": 14,
   "id": "af614dab-509c-409a-8ed9-e5740b511c88",
   "metadata": {},
   "outputs": [
    {
     "data": {
      "text/html": [
       "<div>\n",
       "<style scoped>\n",
       "    .dataframe tbody tr th:only-of-type {\n",
       "        vertical-align: middle;\n",
       "    }\n",
       "\n",
       "    .dataframe tbody tr th {\n",
       "        vertical-align: top;\n",
       "    }\n",
       "\n",
       "    .dataframe thead th {\n",
       "        text-align: right;\n",
       "    }\n",
       "</style>\n",
       "<table border=\"1\" class=\"dataframe\">\n",
       "  <thead>\n",
       "    <tr style=\"text-align: right;\">\n",
       "      <th></th>\n",
       "      <th>The climate is changing and human activity is mainly responsible</th>\n",
       "      <th>The climate is changing and human activity is partly responsible, together with other factors</th>\n",
       "      <th>The climate is changing but human activity is not responsible at all</th>\n",
       "      <th>The climate is not changing</th>\n",
       "      <th>Don't know</th>\n",
       "      <th>total</th>\n",
       "    </tr>\n",
       "    <tr>\n",
       "      <th>country</th>\n",
       "      <th></th>\n",
       "      <th></th>\n",
       "      <th></th>\n",
       "      <th></th>\n",
       "      <th></th>\n",
       "      <th></th>\n",
       "    </tr>\n",
       "  </thead>\n",
       "  <tbody>\n",
       "    <tr>\n",
       "      <th>GB</th>\n",
       "      <td>833</td>\n",
       "      <td>604</td>\n",
       "      <td>49</td>\n",
       "      <td>33</td>\n",
       "      <td>114</td>\n",
       "      <td>1633</td>\n",
       "    </tr>\n",
       "    <tr>\n",
       "      <th>US</th>\n",
       "      <td>507</td>\n",
       "      <td>493</td>\n",
       "      <td>120</td>\n",
       "      <td>80</td>\n",
       "      <td>133</td>\n",
       "      <td>1333</td>\n",
       "    </tr>\n",
       "    <tr>\n",
       "      <th>total</th>\n",
       "      <td>1340</td>\n",
       "      <td>1097</td>\n",
       "      <td>169</td>\n",
       "      <td>113</td>\n",
       "      <td>247</td>\n",
       "      <td>2966</td>\n",
       "    </tr>\n",
       "  </tbody>\n",
       "</table>\n",
       "</div>"
      ],
      "text/plain": [
       "         The climate is changing and human activity is mainly responsible    \\\n",
       "country                                                                       \n",
       "GB                                                     833                    \n",
       "US                                                     507                    \n",
       "total                                                 1340                    \n",
       "\n",
       "         The climate is changing and human activity is partly responsible, together with other factors    \\\n",
       "country                                                                                                    \n",
       "GB                                                     604                                                 \n",
       "US                                                     493                                                 \n",
       "total                                                 1097                                                 \n",
       "\n",
       "         The climate is changing but human activity is not responsible at all    \\\n",
       "country                                                                           \n",
       "GB                                                      49                        \n",
       "US                                                     120                        \n",
       "total                                                  169                        \n",
       "\n",
       "         The climate is not changing    Don't know  total  \n",
       "country                                                    \n",
       "GB                                  33         114   1633  \n",
       "US                                  80         133   1333  \n",
       "total                              113         247   2966  "
      ]
     },
     "execution_count": 14,
     "metadata": {},
     "output_type": "execute_result"
    }
   ],
   "source": [
    "DF.loc['total']= DF.sum(axis=0)\n",
    "DF['total'] = DF.sum(axis=1)\n",
    "DF"
   ]
  },
  {
   "cell_type": "code",
   "execution_count": 4,
   "id": "c2b12f78-d5e7-4e91-88f7-dbd089fc1473",
   "metadata": {},
   "outputs": [
    {
     "data": {
      "text/plain": [
       "0.45178691840863117"
      ]
     },
     "execution_count": 4,
     "metadata": {},
     "output_type": "execute_result"
    }
   ],
   "source": [
    "all_respondents = DF['total'].loc['total']\n",
    "human_responsible = DF['The climate is changing and human activity is mainly responsible  ']['total']\n",
    "human_responsible/all_respondents"
   ]
  },
  {
   "cell_type": "markdown",
   "id": "e04e9f9a-e15c-4401-877c-86fd7e45c18d",
   "metadata": {},
   "source": [
    "### Second question:\n",
    "\n",
    "What percent of **GB respondents** think the climate is changing and  human activity is mainly responsible?  "
   ]
  },
  {
   "cell_type": "code",
   "execution_count": 5,
   "id": "5878bdb9-d3d9-4a5c-b471-656783a82112",
   "metadata": {},
   "outputs": [
    {
     "data": {
      "text/plain": [
       "0.5101041028781383"
      ]
     },
     "execution_count": 5,
     "metadata": {},
     "output_type": "execute_result"
    }
   ],
   "source": [
    "gb_respondants = DF['total'].loc['GB']\n",
    "GB_human_responsible = DF['The climate is changing and human activity is mainly responsible  ']['GB']\n",
    "GB_human_responsible/gb_respondants"
   ]
  },
  {
   "cell_type": "markdown",
   "id": "edd9c520-db51-4ebd-9fce-e147eff1c95d",
   "metadata": {},
   "source": [
    "### Third Question\n",
    "\n",
    "What percent of **US respondents** think the climate is changing and  human activity is mainly responsible?  "
   ]
  },
  {
   "cell_type": "code",
   "execution_count": 6,
   "id": "8e8d10b0-57b5-4b33-93ee-c0ef720f9d06",
   "metadata": {},
   "outputs": [
    {
     "data": {
      "text/plain": [
       "0.3803450862715679"
      ]
     },
     "execution_count": 6,
     "metadata": {},
     "output_type": "execute_result"
    }
   ],
   "source": [
    "us_respondants = DF['total'].loc['US']\n",
    "US_human_responsible = DF['The climate is changing and human activity is mainly responsible  ']['US']\n",
    "US_human_responsible/us_respondants"
   ]
  },
  {
   "cell_type": "markdown",
   "id": "01038f33-5eaf-4b23-9266-8bb4d38a5417",
   "metadata": {},
   "source": [
    "**Q1** Repeat the analysis from the lecture notes for one of the other columns/questions.\n",
    "\n",
    "1. Percent total\n",
    "2. Percent from GB\n",
    "3. Percent from US"
   ]
  },
  {
   "cell_type": "markdown",
   "id": "c4ae662f-dd03-48e6-bd12-8ba4baa27bab",
   "metadata": {},
   "source": [
    "### First question:\n",
    "\n",
    "What percent of **all respondents** think the climate is changing and human activity is mainly responsible?  "
   ]
  },
  {
   "cell_type": "markdown",
   "id": "be6d1919-7b20-4947-b2fa-71d6391acfdb",
   "metadata": {},
   "source": [
    "Talk about the conditional probability in this case:\n",
    "\n",
    "eg. In a person is from ________ then there is a ________ probability that they believe _______. If a person answered _______ then they are more likley to be from ________. "
   ]
  },
  {
   "cell_type": "markdown",
   "id": "249af7fa-4af0-4948-aa1c-6ac55a12b77d",
   "metadata": {},
   "source": [
    "## Berkeley admission data example\n",
    "\n",
    "- Study carried out by the Graduate Division of the University of California, Berkeley in the early 70’s to evaluate whether there was a gender bias in graduate admissions.\n",
    "- The data come from six departments. For confidentiality we'll call them A-F. \n",
    "- We have information on whether the applicant was male or female and whether they were admitted or rejected. This is an old study so only two binary classifications were used. \n",
    "\n",
    "### Here is the data\n"
   ]
  },
  {
   "cell_type": "code",
   "execution_count": 7,
   "id": "18c756ff-0c11-409c-b377-7f271627f33b",
   "metadata": {},
   "outputs": [
    {
     "data": {
      "text/html": [
       "<table id=\"itables_2476077e_044e_4ed3_b380_0031aba53d1a\" class=\"display nowrap\" data-quarto-disable-processing=\"true\" style=\"table-layout:auto;width:auto;margin:auto;caption-side:bottom\">\n",
       "<thead>\n",
       "    <tr style=\"text-align: right;\">\n",
       "      \n",
       "      <th>Department</th>\n",
       "      <th>Male Yes</th>\n",
       "      <th>Male No</th>\n",
       "      <th>Female Yes</th>\n",
       "      <th>Female No</th>\n",
       "    </tr>\n",
       "  </thead><tbody><tr>\n",
       "<td style=\"vertical-align:middle; text-align:left\">\n",
       "<div style=\"float:left; margin-right: 10px;\">\n",
       "<a href=https://mwouts.github.io/itables/><svg class=\"main-svg\" xmlns=\"http://www.w3.org/2000/svg\" xmlns:xlink=\"http://www.w3.org/1999/xlink\"\n",
       "width=\"64\" viewBox=\"0 0 500 400\" style=\"font-family: 'Droid Sans', sans-serif;\">\n",
       "    <g style=\"fill:#d9d7fc\">\n",
       "        <path d=\"M100,400H500V357H100Z\" />\n",
       "        <path d=\"M100,300H400V257H100Z\" />\n",
       "        <path d=\"M0,200H400V157H0Z\" />\n",
       "        <path d=\"M100,100H500V57H100Z\" />\n",
       "        <path d=\"M100,350H500V307H100Z\" />\n",
       "        <path d=\"M100,250H400V207H100Z\" />\n",
       "        <path d=\"M0,150H400V107H0Z\" />\n",
       "        <path d=\"M100,50H500V7H100Z\" />\n",
       "    </g>\n",
       "    <g style=\"fill:#1a1366;stroke:#1a1366;\">\n",
       "   <rect x=\"100\" y=\"7\" width=\"400\" height=\"43\">\n",
       "    <animate\n",
       "      attributeName=\"width\"\n",
       "      values=\"0;400;0\"\n",
       "      dur=\"5s\"\n",
       "      repeatCount=\"indefinite\" />\n",
       "      <animate\n",
       "      attributeName=\"x\"\n",
       "      values=\"100;100;500\"\n",
       "      dur=\"5s\"\n",
       "      repeatCount=\"indefinite\" />\n",
       "  </rect>\n",
       "        <rect x=\"0\" y=\"107\" width=\"400\" height=\"43\">\n",
       "    <animate\n",
       "      attributeName=\"width\"\n",
       "      values=\"0;400;0\"\n",
       "      dur=\"3.5s\"\n",
       "      repeatCount=\"indefinite\" />\n",
       "    <animate\n",
       "      attributeName=\"x\"\n",
       "      values=\"0;0;400\"\n",
       "      dur=\"3.5s\"\n",
       "      repeatCount=\"indefinite\" />\n",
       "  </rect>\n",
       "        <rect x=\"100\" y=\"207\" width=\"300\" height=\"43\">\n",
       "    <animate\n",
       "      attributeName=\"width\"\n",
       "      values=\"0;300;0\"\n",
       "      dur=\"3s\"\n",
       "      repeatCount=\"indefinite\" />\n",
       "    <animate\n",
       "      attributeName=\"x\"\n",
       "      values=\"100;100;400\"\n",
       "      dur=\"3s\"\n",
       "      repeatCount=\"indefinite\" />\n",
       "  </rect>\n",
       "        <rect x=\"100\" y=\"307\" width=\"400\" height=\"43\">\n",
       "    <animate\n",
       "      attributeName=\"width\"\n",
       "      values=\"0;400;0\"\n",
       "      dur=\"4s\"\n",
       "      repeatCount=\"indefinite\" />\n",
       "      <animate\n",
       "      attributeName=\"x\"\n",
       "      values=\"100;100;500\"\n",
       "      dur=\"4s\"\n",
       "      repeatCount=\"indefinite\" />\n",
       "  </rect>\n",
       "        <g style=\"fill:transparent;stroke-width:8; stroke-linejoin:round\" rx=\"5\">\n",
       "            <g transform=\"translate(45 50) rotate(-45)\">\n",
       "                <circle r=\"33\" cx=\"0\" cy=\"0\" />\n",
       "                <rect x=\"-8\" y=\"32\" width=\"16\" height=\"30\" />\n",
       "            </g>\n",
       "\n",
       "            <g transform=\"translate(450 152)\">\n",
       "                <polyline points=\"-15,-20 -35,-20 -35,40 25,40 25,20\" />\n",
       "                <rect x=\"-15\" y=\"-40\" width=\"60\" height=\"60\" />\n",
       "            </g>\n",
       "\n",
       "            <g transform=\"translate(50 352)\">\n",
       "                <polygon points=\"-35,-5 0,-40 35,-5\" />\n",
       "                <polygon points=\"-35,10 0,45 35,10\" />\n",
       "            </g>\n",
       "\n",
       "            <g transform=\"translate(75 250)\">\n",
       "                <polyline points=\"-30,30 -60,0 -30,-30\" />\n",
       "                <polyline points=\"0,30 -30,0 0,-30\" />\n",
       "            </g>\n",
       "\n",
       "            <g transform=\"translate(425 250) rotate(180)\">\n",
       "                <polyline points=\"-30,30 -60,0 -30,-30\" />\n",
       "                <polyline points=\"0,30 -30,0 0,-30\" />\n",
       "            </g>\n",
       "        </g>\n",
       "    </g>\n",
       "</svg>\n",
       "</a>\n",
       "</div>\n",
       "<div>\n",
       "Loading ITables v2.2.2 from the internet...\n",
       "(need <a href=https://mwouts.github.io/itables/troubleshooting.html>help</a>?)</td>\n",
       "</div>\n",
       "</tr></tbody>\n",
       "\n",
       "</table>\n",
       "<link href=\"https://www.unpkg.com/dt_for_itables@2.0.13/dt_bundle.css\" rel=\"stylesheet\">\n",
       "<script type=\"module\">\n",
       "    import {DataTable, jQuery as $} from 'https://www.unpkg.com/dt_for_itables@2.0.13/dt_bundle.js';\n",
       "\n",
       "    document.querySelectorAll(\"#itables_2476077e_044e_4ed3_b380_0031aba53d1a:not(.dataTable)\").forEach(table => {\n",
       "        if (!(table instanceof HTMLTableElement))\n",
       "            return;\n",
       "\n",
       "        // Define the table data\n",
       "        const data = [[\"A\", 512, 313, 89, 19], [\"B\", 353, 207, 17, 8], [\"C\", 120, 205, 202, 391], [\"D\", 138, 279, 131, 244], [\"E\", 53, 138, 94, 299], [\"F\", 22, 351, 24, 317]];\n",
       "\n",
       "        // Define the dt_args\n",
       "        let dt_args = {\"layout\": {\"topStart\": null, \"topEnd\": null, \"bottomStart\": null, \"bottomEnd\": null}, \"order\": [], \"warn_on_selected_rows_not_rendered\": true};\n",
       "        dt_args[\"data\"] = data;\n",
       "\n",
       "        \n",
       "        new DataTable(table, dt_args);\n",
       "    });\n",
       "</script>\n"
      ],
      "text/plain": [
       "<IPython.core.display.HTML object>"
      ]
     },
     "metadata": {},
     "output_type": "display_data"
    }
   ],
   "source": [
    "file_name = 'data/berkley.csv'\n",
    "DF = pd.read_csv(file_name)\n",
    "show(DF)"
   ]
  },
  {
   "cell_type": "code",
   "execution_count": 8,
   "id": "2946022d-d2f3-45fb-9426-fbde15d6427d",
   "metadata": {},
   "outputs": [
    {
     "data": {
      "text/html": [
       "<div>\n",
       "<style scoped>\n",
       "    .dataframe tbody tr th:only-of-type {\n",
       "        vertical-align: middle;\n",
       "    }\n",
       "\n",
       "    .dataframe tbody tr th {\n",
       "        vertical-align: top;\n",
       "    }\n",
       "\n",
       "    .dataframe thead th {\n",
       "        text-align: right;\n",
       "    }\n",
       "</style>\n",
       "<table border=\"1\" class=\"dataframe\">\n",
       "  <thead>\n",
       "    <tr style=\"text-align: right;\">\n",
       "      <th></th>\n",
       "      <th>Department</th>\n",
       "      <th>MF</th>\n",
       "      <th>Number</th>\n",
       "    </tr>\n",
       "  </thead>\n",
       "  <tbody>\n",
       "    <tr>\n",
       "      <th>0</th>\n",
       "      <td>A</td>\n",
       "      <td>Male Yes</td>\n",
       "      <td>512</td>\n",
       "    </tr>\n",
       "    <tr>\n",
       "      <th>1</th>\n",
       "      <td>B</td>\n",
       "      <td>Male Yes</td>\n",
       "      <td>353</td>\n",
       "    </tr>\n",
       "    <tr>\n",
       "      <th>2</th>\n",
       "      <td>C</td>\n",
       "      <td>Male Yes</td>\n",
       "      <td>120</td>\n",
       "    </tr>\n",
       "    <tr>\n",
       "      <th>3</th>\n",
       "      <td>D</td>\n",
       "      <td>Male Yes</td>\n",
       "      <td>138</td>\n",
       "    </tr>\n",
       "    <tr>\n",
       "      <th>4</th>\n",
       "      <td>E</td>\n",
       "      <td>Male Yes</td>\n",
       "      <td>53</td>\n",
       "    </tr>\n",
       "    <tr>\n",
       "      <th>5</th>\n",
       "      <td>F</td>\n",
       "      <td>Male Yes</td>\n",
       "      <td>22</td>\n",
       "    </tr>\n",
       "    <tr>\n",
       "      <th>6</th>\n",
       "      <td>A</td>\n",
       "      <td>Male No</td>\n",
       "      <td>313</td>\n",
       "    </tr>\n",
       "    <tr>\n",
       "      <th>7</th>\n",
       "      <td>B</td>\n",
       "      <td>Male No</td>\n",
       "      <td>207</td>\n",
       "    </tr>\n",
       "    <tr>\n",
       "      <th>8</th>\n",
       "      <td>C</td>\n",
       "      <td>Male No</td>\n",
       "      <td>205</td>\n",
       "    </tr>\n",
       "    <tr>\n",
       "      <th>9</th>\n",
       "      <td>D</td>\n",
       "      <td>Male No</td>\n",
       "      <td>279</td>\n",
       "    </tr>\n",
       "    <tr>\n",
       "      <th>10</th>\n",
       "      <td>E</td>\n",
       "      <td>Male No</td>\n",
       "      <td>138</td>\n",
       "    </tr>\n",
       "    <tr>\n",
       "      <th>11</th>\n",
       "      <td>F</td>\n",
       "      <td>Male No</td>\n",
       "      <td>351</td>\n",
       "    </tr>\n",
       "    <tr>\n",
       "      <th>12</th>\n",
       "      <td>A</td>\n",
       "      <td>Female Yes</td>\n",
       "      <td>89</td>\n",
       "    </tr>\n",
       "    <tr>\n",
       "      <th>13</th>\n",
       "      <td>B</td>\n",
       "      <td>Female Yes</td>\n",
       "      <td>17</td>\n",
       "    </tr>\n",
       "    <tr>\n",
       "      <th>14</th>\n",
       "      <td>C</td>\n",
       "      <td>Female Yes</td>\n",
       "      <td>202</td>\n",
       "    </tr>\n",
       "    <tr>\n",
       "      <th>15</th>\n",
       "      <td>D</td>\n",
       "      <td>Female Yes</td>\n",
       "      <td>131</td>\n",
       "    </tr>\n",
       "    <tr>\n",
       "      <th>16</th>\n",
       "      <td>E</td>\n",
       "      <td>Female Yes</td>\n",
       "      <td>94</td>\n",
       "    </tr>\n",
       "    <tr>\n",
       "      <th>17</th>\n",
       "      <td>F</td>\n",
       "      <td>Female Yes</td>\n",
       "      <td>24</td>\n",
       "    </tr>\n",
       "    <tr>\n",
       "      <th>18</th>\n",
       "      <td>A</td>\n",
       "      <td>Female No</td>\n",
       "      <td>19</td>\n",
       "    </tr>\n",
       "    <tr>\n",
       "      <th>19</th>\n",
       "      <td>B</td>\n",
       "      <td>Female No</td>\n",
       "      <td>8</td>\n",
       "    </tr>\n",
       "    <tr>\n",
       "      <th>20</th>\n",
       "      <td>C</td>\n",
       "      <td>Female No</td>\n",
       "      <td>391</td>\n",
       "    </tr>\n",
       "    <tr>\n",
       "      <th>21</th>\n",
       "      <td>D</td>\n",
       "      <td>Female No</td>\n",
       "      <td>244</td>\n",
       "    </tr>\n",
       "    <tr>\n",
       "      <th>22</th>\n",
       "      <td>E</td>\n",
       "      <td>Female No</td>\n",
       "      <td>299</td>\n",
       "    </tr>\n",
       "    <tr>\n",
       "      <th>23</th>\n",
       "      <td>F</td>\n",
       "      <td>Female No</td>\n",
       "      <td>317</td>\n",
       "    </tr>\n",
       "  </tbody>\n",
       "</table>\n",
       "</div>"
      ],
      "text/plain": [
       "   Department          MF  Number\n",
       "0           A    Male Yes     512\n",
       "1           B    Male Yes     353\n",
       "2           C    Male Yes     120\n",
       "3           D    Male Yes     138\n",
       "4           E    Male Yes      53\n",
       "5           F    Male Yes      22\n",
       "6           A     Male No     313\n",
       "7           B     Male No     207\n",
       "8           C     Male No     205\n",
       "9           D     Male No     279\n",
       "10          E     Male No     138\n",
       "11          F     Male No     351\n",
       "12          A  Female Yes      89\n",
       "13          B  Female Yes      17\n",
       "14          C  Female Yes     202\n",
       "15          D  Female Yes     131\n",
       "16          E  Female Yes      94\n",
       "17          F  Female Yes      24\n",
       "18          A   Female No      19\n",
       "19          B   Female No       8\n",
       "20          C   Female No     391\n",
       "21          D   Female No     244\n",
       "22          E   Female No     299\n",
       "23          F   Female No     317"
      ]
     },
     "execution_count": 8,
     "metadata": {},
     "output_type": "execute_result"
    }
   ],
   "source": [
    "DF_melt = pd.melt(DF,id_vars=['Department'],var_name='MF',value_name='Number')\n",
    "DF_melt"
   ]
  },
  {
   "cell_type": "code",
   "execution_count": 9,
   "id": "5d861ae5-ede6-4cfa-8a13-4b27e3de2b8e",
   "metadata": {},
   "outputs": [],
   "source": [
    "DF_melt['gender'] = DF_melt['MF'].apply(lambda x: x.split(' ')[0]).copy()\n",
    "DF_melt['admitted'] = DF_melt['MF'].apply(lambda x: x.split(' ')[1]).copy()"
   ]
  },
  {
   "cell_type": "code",
   "execution_count": 10,
   "id": "632666dc-2519-4a29-8f2e-d84bfb94ab1e",
   "metadata": {},
   "outputs": [
    {
     "data": {
      "text/html": [
       "<div>\n",
       "<style scoped>\n",
       "    .dataframe tbody tr th:only-of-type {\n",
       "        vertical-align: middle;\n",
       "    }\n",
       "\n",
       "    .dataframe tbody tr th {\n",
       "        vertical-align: top;\n",
       "    }\n",
       "\n",
       "    .dataframe thead th {\n",
       "        text-align: right;\n",
       "    }\n",
       "</style>\n",
       "<table border=\"1\" class=\"dataframe\">\n",
       "  <thead>\n",
       "    <tr style=\"text-align: right;\">\n",
       "      <th></th>\n",
       "      <th>Department</th>\n",
       "      <th>MF</th>\n",
       "      <th>Number</th>\n",
       "      <th>gender</th>\n",
       "      <th>admitted</th>\n",
       "    </tr>\n",
       "  </thead>\n",
       "  <tbody>\n",
       "    <tr>\n",
       "      <th>0</th>\n",
       "      <td>A</td>\n",
       "      <td>Male Yes</td>\n",
       "      <td>512</td>\n",
       "      <td>Male</td>\n",
       "      <td>Yes</td>\n",
       "    </tr>\n",
       "    <tr>\n",
       "      <th>1</th>\n",
       "      <td>B</td>\n",
       "      <td>Male Yes</td>\n",
       "      <td>353</td>\n",
       "      <td>Male</td>\n",
       "      <td>Yes</td>\n",
       "    </tr>\n",
       "    <tr>\n",
       "      <th>2</th>\n",
       "      <td>C</td>\n",
       "      <td>Male Yes</td>\n",
       "      <td>120</td>\n",
       "      <td>Male</td>\n",
       "      <td>Yes</td>\n",
       "    </tr>\n",
       "    <tr>\n",
       "      <th>3</th>\n",
       "      <td>D</td>\n",
       "      <td>Male Yes</td>\n",
       "      <td>138</td>\n",
       "      <td>Male</td>\n",
       "      <td>Yes</td>\n",
       "    </tr>\n",
       "    <tr>\n",
       "      <th>4</th>\n",
       "      <td>E</td>\n",
       "      <td>Male Yes</td>\n",
       "      <td>53</td>\n",
       "      <td>Male</td>\n",
       "      <td>Yes</td>\n",
       "    </tr>\n",
       "    <tr>\n",
       "      <th>5</th>\n",
       "      <td>F</td>\n",
       "      <td>Male Yes</td>\n",
       "      <td>22</td>\n",
       "      <td>Male</td>\n",
       "      <td>Yes</td>\n",
       "    </tr>\n",
       "    <tr>\n",
       "      <th>6</th>\n",
       "      <td>A</td>\n",
       "      <td>Male No</td>\n",
       "      <td>313</td>\n",
       "      <td>Male</td>\n",
       "      <td>No</td>\n",
       "    </tr>\n",
       "    <tr>\n",
       "      <th>7</th>\n",
       "      <td>B</td>\n",
       "      <td>Male No</td>\n",
       "      <td>207</td>\n",
       "      <td>Male</td>\n",
       "      <td>No</td>\n",
       "    </tr>\n",
       "    <tr>\n",
       "      <th>8</th>\n",
       "      <td>C</td>\n",
       "      <td>Male No</td>\n",
       "      <td>205</td>\n",
       "      <td>Male</td>\n",
       "      <td>No</td>\n",
       "    </tr>\n",
       "    <tr>\n",
       "      <th>9</th>\n",
       "      <td>D</td>\n",
       "      <td>Male No</td>\n",
       "      <td>279</td>\n",
       "      <td>Male</td>\n",
       "      <td>No</td>\n",
       "    </tr>\n",
       "    <tr>\n",
       "      <th>10</th>\n",
       "      <td>E</td>\n",
       "      <td>Male No</td>\n",
       "      <td>138</td>\n",
       "      <td>Male</td>\n",
       "      <td>No</td>\n",
       "    </tr>\n",
       "    <tr>\n",
       "      <th>11</th>\n",
       "      <td>F</td>\n",
       "      <td>Male No</td>\n",
       "      <td>351</td>\n",
       "      <td>Male</td>\n",
       "      <td>No</td>\n",
       "    </tr>\n",
       "    <tr>\n",
       "      <th>12</th>\n",
       "      <td>A</td>\n",
       "      <td>Female Yes</td>\n",
       "      <td>89</td>\n",
       "      <td>Female</td>\n",
       "      <td>Yes</td>\n",
       "    </tr>\n",
       "    <tr>\n",
       "      <th>13</th>\n",
       "      <td>B</td>\n",
       "      <td>Female Yes</td>\n",
       "      <td>17</td>\n",
       "      <td>Female</td>\n",
       "      <td>Yes</td>\n",
       "    </tr>\n",
       "    <tr>\n",
       "      <th>14</th>\n",
       "      <td>C</td>\n",
       "      <td>Female Yes</td>\n",
       "      <td>202</td>\n",
       "      <td>Female</td>\n",
       "      <td>Yes</td>\n",
       "    </tr>\n",
       "    <tr>\n",
       "      <th>15</th>\n",
       "      <td>D</td>\n",
       "      <td>Female Yes</td>\n",
       "      <td>131</td>\n",
       "      <td>Female</td>\n",
       "      <td>Yes</td>\n",
       "    </tr>\n",
       "    <tr>\n",
       "      <th>16</th>\n",
       "      <td>E</td>\n",
       "      <td>Female Yes</td>\n",
       "      <td>94</td>\n",
       "      <td>Female</td>\n",
       "      <td>Yes</td>\n",
       "    </tr>\n",
       "    <tr>\n",
       "      <th>17</th>\n",
       "      <td>F</td>\n",
       "      <td>Female Yes</td>\n",
       "      <td>24</td>\n",
       "      <td>Female</td>\n",
       "      <td>Yes</td>\n",
       "    </tr>\n",
       "    <tr>\n",
       "      <th>18</th>\n",
       "      <td>A</td>\n",
       "      <td>Female No</td>\n",
       "      <td>19</td>\n",
       "      <td>Female</td>\n",
       "      <td>No</td>\n",
       "    </tr>\n",
       "    <tr>\n",
       "      <th>19</th>\n",
       "      <td>B</td>\n",
       "      <td>Female No</td>\n",
       "      <td>8</td>\n",
       "      <td>Female</td>\n",
       "      <td>No</td>\n",
       "    </tr>\n",
       "    <tr>\n",
       "      <th>20</th>\n",
       "      <td>C</td>\n",
       "      <td>Female No</td>\n",
       "      <td>391</td>\n",
       "      <td>Female</td>\n",
       "      <td>No</td>\n",
       "    </tr>\n",
       "    <tr>\n",
       "      <th>21</th>\n",
       "      <td>D</td>\n",
       "      <td>Female No</td>\n",
       "      <td>244</td>\n",
       "      <td>Female</td>\n",
       "      <td>No</td>\n",
       "    </tr>\n",
       "    <tr>\n",
       "      <th>22</th>\n",
       "      <td>E</td>\n",
       "      <td>Female No</td>\n",
       "      <td>299</td>\n",
       "      <td>Female</td>\n",
       "      <td>No</td>\n",
       "    </tr>\n",
       "    <tr>\n",
       "      <th>23</th>\n",
       "      <td>F</td>\n",
       "      <td>Female No</td>\n",
       "      <td>317</td>\n",
       "      <td>Female</td>\n",
       "      <td>No</td>\n",
       "    </tr>\n",
       "  </tbody>\n",
       "</table>\n",
       "</div>"
      ],
      "text/plain": [
       "   Department          MF  Number  gender admitted\n",
       "0           A    Male Yes     512    Male      Yes\n",
       "1           B    Male Yes     353    Male      Yes\n",
       "2           C    Male Yes     120    Male      Yes\n",
       "3           D    Male Yes     138    Male      Yes\n",
       "4           E    Male Yes      53    Male      Yes\n",
       "5           F    Male Yes      22    Male      Yes\n",
       "6           A     Male No     313    Male       No\n",
       "7           B     Male No     207    Male       No\n",
       "8           C     Male No     205    Male       No\n",
       "9           D     Male No     279    Male       No\n",
       "10          E     Male No     138    Male       No\n",
       "11          F     Male No     351    Male       No\n",
       "12          A  Female Yes      89  Female      Yes\n",
       "13          B  Female Yes      17  Female      Yes\n",
       "14          C  Female Yes     202  Female      Yes\n",
       "15          D  Female Yes     131  Female      Yes\n",
       "16          E  Female Yes      94  Female      Yes\n",
       "17          F  Female Yes      24  Female      Yes\n",
       "18          A   Female No      19  Female       No\n",
       "19          B   Female No       8  Female       No\n",
       "20          C   Female No     391  Female       No\n",
       "21          D   Female No     244  Female       No\n",
       "22          E   Female No     299  Female       No\n",
       "23          F   Female No     317  Female       No"
      ]
     },
     "execution_count": 10,
     "metadata": {},
     "output_type": "execute_result"
    }
   ],
   "source": [
    "DF_melt"
   ]
  },
  {
   "cell_type": "markdown",
   "id": "432131a7-8956-4a5f-adee-ca0c59c0ff64",
   "metadata": {},
   "source": [
    "### Gender distribution by department\n",
    "\n",
    "What can we say about the gender distribution if we look at the individual departments.\n",
    "\n",
    "Start with our original \"melted\" data frame:"
   ]
  },
  {
   "cell_type": "markdown",
   "id": "022204a9-b9e4-4cc3-984f-d821c69b432b",
   "metadata": {},
   "source": [
    "#### Lets pivot!\n",
    "\n",
    "Pivot this data so that our departments become the column labels and our MF column becomes the index."
   ]
  },
  {
   "cell_type": "code",
   "execution_count": 15,
   "id": "af17b1d9-39d9-4fa7-9f03-619e4cca6639",
   "metadata": {},
   "outputs": [
    {
     "data": {
      "text/html": [
       "<div>\n",
       "<style scoped>\n",
       "    .dataframe tbody tr th:only-of-type {\n",
       "        vertical-align: middle;\n",
       "    }\n",
       "\n",
       "    .dataframe tbody tr th {\n",
       "        vertical-align: top;\n",
       "    }\n",
       "\n",
       "    .dataframe thead th {\n",
       "        text-align: right;\n",
       "    }\n",
       "</style>\n",
       "<table border=\"1\" class=\"dataframe\">\n",
       "  <thead>\n",
       "    <tr style=\"text-align: right;\">\n",
       "      <th>Department</th>\n",
       "      <th>A</th>\n",
       "      <th>B</th>\n",
       "      <th>C</th>\n",
       "      <th>D</th>\n",
       "      <th>E</th>\n",
       "      <th>F</th>\n",
       "    </tr>\n",
       "    <tr>\n",
       "      <th>MF</th>\n",
       "      <th></th>\n",
       "      <th></th>\n",
       "      <th></th>\n",
       "      <th></th>\n",
       "      <th></th>\n",
       "      <th></th>\n",
       "    </tr>\n",
       "  </thead>\n",
       "  <tbody>\n",
       "    <tr>\n",
       "      <th>Female No</th>\n",
       "      <td>19</td>\n",
       "      <td>8</td>\n",
       "      <td>391</td>\n",
       "      <td>244</td>\n",
       "      <td>299</td>\n",
       "      <td>317</td>\n",
       "    </tr>\n",
       "    <tr>\n",
       "      <th>Female Yes</th>\n",
       "      <td>89</td>\n",
       "      <td>17</td>\n",
       "      <td>202</td>\n",
       "      <td>131</td>\n",
       "      <td>94</td>\n",
       "      <td>24</td>\n",
       "    </tr>\n",
       "    <tr>\n",
       "      <th>Male No</th>\n",
       "      <td>313</td>\n",
       "      <td>207</td>\n",
       "      <td>205</td>\n",
       "      <td>279</td>\n",
       "      <td>138</td>\n",
       "      <td>351</td>\n",
       "    </tr>\n",
       "    <tr>\n",
       "      <th>Male Yes</th>\n",
       "      <td>512</td>\n",
       "      <td>353</td>\n",
       "      <td>120</td>\n",
       "      <td>138</td>\n",
       "      <td>53</td>\n",
       "      <td>22</td>\n",
       "    </tr>\n",
       "  </tbody>\n",
       "</table>\n",
       "</div>"
      ],
      "text/plain": [
       "Department    A    B    C    D    E    F\n",
       "MF                                      \n",
       "Female No    19    8  391  244  299  317\n",
       "Female Yes   89   17  202  131   94   24\n",
       "Male No     313  207  205  279  138  351\n",
       "Male Yes    512  353  120  138   53   22"
      ]
     },
     "execution_count": 15,
     "metadata": {},
     "output_type": "execute_result"
    }
   ],
   "source": [
    "# Your code here\n",
    "DF_dept = DF_melt.pivot(index='MF',columns='Department',values='Number')\n",
    "DF_dept"
   ]
  },
  {
   "cell_type": "markdown",
   "id": "6f3a4052-70cb-45e1-9175-559660d97a6d",
   "metadata": {},
   "source": [
    "**Q2** Calculate the proportions for the other departments. We did department A in the lecture. You can use the code from the lecture or come up with your own way to do this. You can do this one by one or try using a FOR loop.\n",
    "\n",
    "Talk about what you see in these proportions. Which departments admit a large number of women? How do your number align with the visualization below?"
   ]
  },
  {
   "cell_type": "code",
   "execution_count": 27,
   "id": "0e45185f-febe-4dc8-9d2a-392cb154218d",
   "metadata": {},
   "outputs": [],
   "source": [
    "# Your code here\n",
    "prob_femaleB = DF_dept['B']['Female Yes']/(DF_dept['B']['Female Yes']+DF_dept['B']['Female No'])\n",
    "prob_maleB = DF_dept['B']['Male Yes']/(DF_dept['B']['Male Yes']+DF_dept['B']['Male No'])\n",
    "\n",
    "prob_femaleB = DF_dept['C']['Female Yes']/(DF_dept['C']['Female Yes']+DF_dept['C']['Female No'])\n",
    "prob_maleB = DF_dept['C']['Male Yes']/(DF_dept['C']['Male Yes']+DF_dept['C']['Male No'])\n",
    "\n",
    "prob_femaleB = DF_dept['D']['Female Yes']/(DF_dept['D']['Female Yes']+DF_dept['D']['Female No'])\n",
    "prob_maleB = DF_dept['D']['Male Yes']/(DF_dept['D']['Male Yes']+DF_dept['D']['Male No'])\n",
    "\n",
    "prob_femaleB = DF_dept['E']['Female Yes']/(DF_dept['E']['Female Yes']+DF_dept['E']['Female No'])\n",
    "prob_maleB = DF_dept['E']['Male Yes']/(DF_dept['E']['Male Yes']+DF_dept['E']['Male No'])\n",
    "\n",
    "prob_femaleB = DF_dept['F']['Female Yes']/(DF_dept['F']['Female Yes']+DF_dept['F']['Female No'])\n",
    "prob_maleB = DF_dept['F']['Male Yes']/(DF_dept['F']['Male Yes']+DF_dept['F']['Male No'])"
   ]
  },
  {
   "cell_type": "markdown",
   "id": "1443020f-a431-4c9a-b5c7-7b47229b4614",
   "metadata": {},
   "source": [
    "### Here is a plot of the proportions data"
   ]
  },
  {
   "cell_type": "code",
   "execution_count": 28,
   "id": "fe801850-b1ab-4c10-b14a-5ddb8d1d6797",
   "metadata": {},
   "outputs": [
    {
     "data": {
      "application/vnd.plotly.v1+json": {
       "config": {
        "plotlyServerURL": "https://plot.ly"
       },
       "data": [
        {
         "alignmentgroup": "True",
         "bingroup": "y",
         "histfunc": "sum",
         "hovertemplate": "admitted=Yes<br>Department=A<br>sum of Number (normalized as percent)=%{x}<br>gender=%{y}<extra></extra>",
         "legendgroup": "Yes",
         "marker": {
          "color": "#2ca25f",
          "pattern": {
           "shape": ""
          }
         },
         "name": "Yes",
         "offsetgroup": "Yes",
         "orientation": "h",
         "showlegend": true,
         "type": "histogram",
         "x": [
          512,
          89
         ],
         "xaxis": "x5",
         "y": [
          "Male",
          "Female"
         ],
         "yaxis": "y5"
        },
        {
         "alignmentgroup": "True",
         "bingroup": "y",
         "histfunc": "sum",
         "hovertemplate": "admitted=Yes<br>Department=B<br>sum of Number (normalized as percent)=%{x}<br>gender=%{y}<extra></extra>",
         "legendgroup": "Yes",
         "marker": {
          "color": "#2ca25f",
          "pattern": {
           "shape": ""
          }
         },
         "name": "Yes",
         "offsetgroup": "Yes",
         "orientation": "h",
         "showlegend": false,
         "type": "histogram",
         "x": [
          353,
          17
         ],
         "xaxis": "x6",
         "y": [
          "Male",
          "Female"
         ],
         "yaxis": "y6"
        },
        {
         "alignmentgroup": "True",
         "bingroup": "y",
         "histfunc": "sum",
         "hovertemplate": "admitted=Yes<br>Department=C<br>sum of Number (normalized as percent)=%{x}<br>gender=%{y}<extra></extra>",
         "legendgroup": "Yes",
         "marker": {
          "color": "#2ca25f",
          "pattern": {
           "shape": ""
          }
         },
         "name": "Yes",
         "offsetgroup": "Yes",
         "orientation": "h",
         "showlegend": false,
         "type": "histogram",
         "x": [
          120,
          202
         ],
         "xaxis": "x3",
         "y": [
          "Male",
          "Female"
         ],
         "yaxis": "y3"
        },
        {
         "alignmentgroup": "True",
         "bingroup": "y",
         "histfunc": "sum",
         "hovertemplate": "admitted=Yes<br>Department=D<br>sum of Number (normalized as percent)=%{x}<br>gender=%{y}<extra></extra>",
         "legendgroup": "Yes",
         "marker": {
          "color": "#2ca25f",
          "pattern": {
           "shape": ""
          }
         },
         "name": "Yes",
         "offsetgroup": "Yes",
         "orientation": "h",
         "showlegend": false,
         "type": "histogram",
         "x": [
          138,
          131
         ],
         "xaxis": "x4",
         "y": [
          "Male",
          "Female"
         ],
         "yaxis": "y4"
        },
        {
         "alignmentgroup": "True",
         "bingroup": "y",
         "histfunc": "sum",
         "hovertemplate": "admitted=Yes<br>Department=E<br>sum of Number (normalized as percent)=%{x}<br>gender=%{y}<extra></extra>",
         "legendgroup": "Yes",
         "marker": {
          "color": "#2ca25f",
          "pattern": {
           "shape": ""
          }
         },
         "name": "Yes",
         "offsetgroup": "Yes",
         "orientation": "h",
         "showlegend": false,
         "type": "histogram",
         "x": [
          53,
          94
         ],
         "xaxis": "x",
         "y": [
          "Male",
          "Female"
         ],
         "yaxis": "y"
        },
        {
         "alignmentgroup": "True",
         "bingroup": "y",
         "histfunc": "sum",
         "hovertemplate": "admitted=Yes<br>Department=F<br>sum of Number (normalized as percent)=%{x}<br>gender=%{y}<extra></extra>",
         "legendgroup": "Yes",
         "marker": {
          "color": "#2ca25f",
          "pattern": {
           "shape": ""
          }
         },
         "name": "Yes",
         "offsetgroup": "Yes",
         "orientation": "h",
         "showlegend": false,
         "type": "histogram",
         "x": [
          22,
          24
         ],
         "xaxis": "x2",
         "y": [
          "Male",
          "Female"
         ],
         "yaxis": "y2"
        },
        {
         "alignmentgroup": "True",
         "bingroup": "y",
         "histfunc": "sum",
         "hovertemplate": "admitted=No<br>Department=A<br>sum of Number (normalized as percent)=%{x}<br>gender=%{y}<extra></extra>",
         "legendgroup": "No",
         "marker": {
          "color": "#99d8c9",
          "pattern": {
           "shape": ""
          }
         },
         "name": "No",
         "offsetgroup": "No",
         "orientation": "h",
         "showlegend": true,
         "type": "histogram",
         "x": [
          313,
          19
         ],
         "xaxis": "x5",
         "y": [
          "Male",
          "Female"
         ],
         "yaxis": "y5"
        },
        {
         "alignmentgroup": "True",
         "bingroup": "y",
         "histfunc": "sum",
         "hovertemplate": "admitted=No<br>Department=B<br>sum of Number (normalized as percent)=%{x}<br>gender=%{y}<extra></extra>",
         "legendgroup": "No",
         "marker": {
          "color": "#99d8c9",
          "pattern": {
           "shape": ""
          }
         },
         "name": "No",
         "offsetgroup": "No",
         "orientation": "h",
         "showlegend": false,
         "type": "histogram",
         "x": [
          207,
          8
         ],
         "xaxis": "x6",
         "y": [
          "Male",
          "Female"
         ],
         "yaxis": "y6"
        },
        {
         "alignmentgroup": "True",
         "bingroup": "y",
         "histfunc": "sum",
         "hovertemplate": "admitted=No<br>Department=C<br>sum of Number (normalized as percent)=%{x}<br>gender=%{y}<extra></extra>",
         "legendgroup": "No",
         "marker": {
          "color": "#99d8c9",
          "pattern": {
           "shape": ""
          }
         },
         "name": "No",
         "offsetgroup": "No",
         "orientation": "h",
         "showlegend": false,
         "type": "histogram",
         "x": [
          205,
          391
         ],
         "xaxis": "x3",
         "y": [
          "Male",
          "Female"
         ],
         "yaxis": "y3"
        },
        {
         "alignmentgroup": "True",
         "bingroup": "y",
         "histfunc": "sum",
         "hovertemplate": "admitted=No<br>Department=D<br>sum of Number (normalized as percent)=%{x}<br>gender=%{y}<extra></extra>",
         "legendgroup": "No",
         "marker": {
          "color": "#99d8c9",
          "pattern": {
           "shape": ""
          }
         },
         "name": "No",
         "offsetgroup": "No",
         "orientation": "h",
         "showlegend": false,
         "type": "histogram",
         "x": [
          279,
          244
         ],
         "xaxis": "x4",
         "y": [
          "Male",
          "Female"
         ],
         "yaxis": "y4"
        },
        {
         "alignmentgroup": "True",
         "bingroup": "y",
         "histfunc": "sum",
         "hovertemplate": "admitted=No<br>Department=E<br>sum of Number (normalized as percent)=%{x}<br>gender=%{y}<extra></extra>",
         "legendgroup": "No",
         "marker": {
          "color": "#99d8c9",
          "pattern": {
           "shape": ""
          }
         },
         "name": "No",
         "offsetgroup": "No",
         "orientation": "h",
         "showlegend": false,
         "type": "histogram",
         "x": [
          138,
          299
         ],
         "xaxis": "x",
         "y": [
          "Male",
          "Female"
         ],
         "yaxis": "y"
        },
        {
         "alignmentgroup": "True",
         "bingroup": "y",
         "histfunc": "sum",
         "hovertemplate": "admitted=No<br>Department=F<br>sum of Number (normalized as percent)=%{x}<br>gender=%{y}<extra></extra>",
         "legendgroup": "No",
         "marker": {
          "color": "#99d8c9",
          "pattern": {
           "shape": ""
          }
         },
         "name": "No",
         "offsetgroup": "No",
         "orientation": "h",
         "showlegend": false,
         "type": "histogram",
         "x": [
          351,
          317
         ],
         "xaxis": "x2",
         "y": [
          "Male",
          "Female"
         ],
         "yaxis": "y2"
        }
       ],
       "layout": {
        "annotations": [
         {
          "font": {},
          "showarrow": false,
          "text": "E",
          "x": 0.245,
          "xanchor": "center",
          "xref": "paper",
          "y": 0.2866666666666666,
          "yanchor": "bottom",
          "yref": "paper"
         },
         {
          "font": {},
          "showarrow": false,
          "text": "F",
          "x": 0.755,
          "xanchor": "center",
          "xref": "paper",
          "y": 0.2866666666666666,
          "yanchor": "bottom",
          "yref": "paper"
         },
         {
          "font": {},
          "showarrow": false,
          "text": "C",
          "x": 0.245,
          "xanchor": "center",
          "xref": "paper",
          "y": 0.6433333333333333,
          "yanchor": "bottom",
          "yref": "paper"
         },
         {
          "font": {},
          "showarrow": false,
          "text": "D",
          "x": 0.755,
          "xanchor": "center",
          "xref": "paper",
          "y": 0.6433333333333333,
          "yanchor": "bottom",
          "yref": "paper"
         },
         {
          "font": {},
          "showarrow": false,
          "text": "A",
          "x": 0.245,
          "xanchor": "center",
          "xref": "paper",
          "y": 0.9999999999999999,
          "yanchor": "bottom",
          "yref": "paper"
         },
         {
          "font": {},
          "showarrow": false,
          "text": "B",
          "x": 0.755,
          "xanchor": "center",
          "xref": "paper",
          "y": 0.9999999999999999,
          "yanchor": "bottom",
          "yref": "paper"
         }
        ],
        "autosize": false,
        "barmode": "relative",
        "barnorm": "percent",
        "height": 500,
        "legend": {
         "title": {
          "text": "Admitted"
         },
         "tracegroupgap": 0
        },
        "margin": {
         "t": 60
        },
        "template": {
         "data": {
          "bar": [
           {
            "error_x": {
             "color": "#2a3f5f"
            },
            "error_y": {
             "color": "#2a3f5f"
            },
            "marker": {
             "line": {
              "color": "white",
              "width": 0.5
             },
             "pattern": {
              "fillmode": "overlay",
              "size": 10,
              "solidity": 0.2
             }
            },
            "type": "bar"
           }
          ],
          "barpolar": [
           {
            "marker": {
             "line": {
              "color": "white",
              "width": 0.5
             },
             "pattern": {
              "fillmode": "overlay",
              "size": 10,
              "solidity": 0.2
             }
            },
            "type": "barpolar"
           }
          ],
          "carpet": [
           {
            "aaxis": {
             "endlinecolor": "#2a3f5f",
             "gridcolor": "#C8D4E3",
             "linecolor": "#C8D4E3",
             "minorgridcolor": "#C8D4E3",
             "startlinecolor": "#2a3f5f"
            },
            "baxis": {
             "endlinecolor": "#2a3f5f",
             "gridcolor": "#C8D4E3",
             "linecolor": "#C8D4E3",
             "minorgridcolor": "#C8D4E3",
             "startlinecolor": "#2a3f5f"
            },
            "type": "carpet"
           }
          ],
          "choropleth": [
           {
            "colorbar": {
             "outlinewidth": 0,
             "ticks": ""
            },
            "type": "choropleth"
           }
          ],
          "contour": [
           {
            "colorbar": {
             "outlinewidth": 0,
             "ticks": ""
            },
            "colorscale": [
             [
              0,
              "#0d0887"
             ],
             [
              0.1111111111111111,
              "#46039f"
             ],
             [
              0.2222222222222222,
              "#7201a8"
             ],
             [
              0.3333333333333333,
              "#9c179e"
             ],
             [
              0.4444444444444444,
              "#bd3786"
             ],
             [
              0.5555555555555556,
              "#d8576b"
             ],
             [
              0.6666666666666666,
              "#ed7953"
             ],
             [
              0.7777777777777778,
              "#fb9f3a"
             ],
             [
              0.8888888888888888,
              "#fdca26"
             ],
             [
              1,
              "#f0f921"
             ]
            ],
            "type": "contour"
           }
          ],
          "contourcarpet": [
           {
            "colorbar": {
             "outlinewidth": 0,
             "ticks": ""
            },
            "type": "contourcarpet"
           }
          ],
          "heatmap": [
           {
            "colorbar": {
             "outlinewidth": 0,
             "ticks": ""
            },
            "colorscale": [
             [
              0,
              "#0d0887"
             ],
             [
              0.1111111111111111,
              "#46039f"
             ],
             [
              0.2222222222222222,
              "#7201a8"
             ],
             [
              0.3333333333333333,
              "#9c179e"
             ],
             [
              0.4444444444444444,
              "#bd3786"
             ],
             [
              0.5555555555555556,
              "#d8576b"
             ],
             [
              0.6666666666666666,
              "#ed7953"
             ],
             [
              0.7777777777777778,
              "#fb9f3a"
             ],
             [
              0.8888888888888888,
              "#fdca26"
             ],
             [
              1,
              "#f0f921"
             ]
            ],
            "type": "heatmap"
           }
          ],
          "heatmapgl": [
           {
            "colorbar": {
             "outlinewidth": 0,
             "ticks": ""
            },
            "colorscale": [
             [
              0,
              "#0d0887"
             ],
             [
              0.1111111111111111,
              "#46039f"
             ],
             [
              0.2222222222222222,
              "#7201a8"
             ],
             [
              0.3333333333333333,
              "#9c179e"
             ],
             [
              0.4444444444444444,
              "#bd3786"
             ],
             [
              0.5555555555555556,
              "#d8576b"
             ],
             [
              0.6666666666666666,
              "#ed7953"
             ],
             [
              0.7777777777777778,
              "#fb9f3a"
             ],
             [
              0.8888888888888888,
              "#fdca26"
             ],
             [
              1,
              "#f0f921"
             ]
            ],
            "type": "heatmapgl"
           }
          ],
          "histogram": [
           {
            "marker": {
             "pattern": {
              "fillmode": "overlay",
              "size": 10,
              "solidity": 0.2
             }
            },
            "type": "histogram"
           }
          ],
          "histogram2d": [
           {
            "colorbar": {
             "outlinewidth": 0,
             "ticks": ""
            },
            "colorscale": [
             [
              0,
              "#0d0887"
             ],
             [
              0.1111111111111111,
              "#46039f"
             ],
             [
              0.2222222222222222,
              "#7201a8"
             ],
             [
              0.3333333333333333,
              "#9c179e"
             ],
             [
              0.4444444444444444,
              "#bd3786"
             ],
             [
              0.5555555555555556,
              "#d8576b"
             ],
             [
              0.6666666666666666,
              "#ed7953"
             ],
             [
              0.7777777777777778,
              "#fb9f3a"
             ],
             [
              0.8888888888888888,
              "#fdca26"
             ],
             [
              1,
              "#f0f921"
             ]
            ],
            "type": "histogram2d"
           }
          ],
          "histogram2dcontour": [
           {
            "colorbar": {
             "outlinewidth": 0,
             "ticks": ""
            },
            "colorscale": [
             [
              0,
              "#0d0887"
             ],
             [
              0.1111111111111111,
              "#46039f"
             ],
             [
              0.2222222222222222,
              "#7201a8"
             ],
             [
              0.3333333333333333,
              "#9c179e"
             ],
             [
              0.4444444444444444,
              "#bd3786"
             ],
             [
              0.5555555555555556,
              "#d8576b"
             ],
             [
              0.6666666666666666,
              "#ed7953"
             ],
             [
              0.7777777777777778,
              "#fb9f3a"
             ],
             [
              0.8888888888888888,
              "#fdca26"
             ],
             [
              1,
              "#f0f921"
             ]
            ],
            "type": "histogram2dcontour"
           }
          ],
          "mesh3d": [
           {
            "colorbar": {
             "outlinewidth": 0,
             "ticks": ""
            },
            "type": "mesh3d"
           }
          ],
          "parcoords": [
           {
            "line": {
             "colorbar": {
              "outlinewidth": 0,
              "ticks": ""
             }
            },
            "type": "parcoords"
           }
          ],
          "pie": [
           {
            "automargin": true,
            "type": "pie"
           }
          ],
          "scatter": [
           {
            "fillpattern": {
             "fillmode": "overlay",
             "size": 10,
             "solidity": 0.2
            },
            "type": "scatter"
           }
          ],
          "scatter3d": [
           {
            "line": {
             "colorbar": {
              "outlinewidth": 0,
              "ticks": ""
             }
            },
            "marker": {
             "colorbar": {
              "outlinewidth": 0,
              "ticks": ""
             }
            },
            "type": "scatter3d"
           }
          ],
          "scattercarpet": [
           {
            "marker": {
             "colorbar": {
              "outlinewidth": 0,
              "ticks": ""
             }
            },
            "type": "scattercarpet"
           }
          ],
          "scattergeo": [
           {
            "marker": {
             "colorbar": {
              "outlinewidth": 0,
              "ticks": ""
             }
            },
            "type": "scattergeo"
           }
          ],
          "scattergl": [
           {
            "marker": {
             "colorbar": {
              "outlinewidth": 0,
              "ticks": ""
             }
            },
            "type": "scattergl"
           }
          ],
          "scattermapbox": [
           {
            "marker": {
             "colorbar": {
              "outlinewidth": 0,
              "ticks": ""
             }
            },
            "type": "scattermapbox"
           }
          ],
          "scatterpolar": [
           {
            "marker": {
             "colorbar": {
              "outlinewidth": 0,
              "ticks": ""
             }
            },
            "type": "scatterpolar"
           }
          ],
          "scatterpolargl": [
           {
            "marker": {
             "colorbar": {
              "outlinewidth": 0,
              "ticks": ""
             }
            },
            "type": "scatterpolargl"
           }
          ],
          "scatterternary": [
           {
            "marker": {
             "colorbar": {
              "outlinewidth": 0,
              "ticks": ""
             }
            },
            "type": "scatterternary"
           }
          ],
          "surface": [
           {
            "colorbar": {
             "outlinewidth": 0,
             "ticks": ""
            },
            "colorscale": [
             [
              0,
              "#0d0887"
             ],
             [
              0.1111111111111111,
              "#46039f"
             ],
             [
              0.2222222222222222,
              "#7201a8"
             ],
             [
              0.3333333333333333,
              "#9c179e"
             ],
             [
              0.4444444444444444,
              "#bd3786"
             ],
             [
              0.5555555555555556,
              "#d8576b"
             ],
             [
              0.6666666666666666,
              "#ed7953"
             ],
             [
              0.7777777777777778,
              "#fb9f3a"
             ],
             [
              0.8888888888888888,
              "#fdca26"
             ],
             [
              1,
              "#f0f921"
             ]
            ],
            "type": "surface"
           }
          ],
          "table": [
           {
            "cells": {
             "fill": {
              "color": "#EBF0F8"
             },
             "line": {
              "color": "white"
             }
            },
            "header": {
             "fill": {
              "color": "#C8D4E3"
             },
             "line": {
              "color": "white"
             }
            },
            "type": "table"
           }
          ]
         },
         "layout": {
          "annotationdefaults": {
           "arrowcolor": "#2a3f5f",
           "arrowhead": 0,
           "arrowwidth": 1
          },
          "autotypenumbers": "strict",
          "coloraxis": {
           "colorbar": {
            "outlinewidth": 0,
            "ticks": ""
           }
          },
          "colorscale": {
           "diverging": [
            [
             0,
             "#8e0152"
            ],
            [
             0.1,
             "#c51b7d"
            ],
            [
             0.2,
             "#de77ae"
            ],
            [
             0.3,
             "#f1b6da"
            ],
            [
             0.4,
             "#fde0ef"
            ],
            [
             0.5,
             "#f7f7f7"
            ],
            [
             0.6,
             "#e6f5d0"
            ],
            [
             0.7,
             "#b8e186"
            ],
            [
             0.8,
             "#7fbc41"
            ],
            [
             0.9,
             "#4d9221"
            ],
            [
             1,
             "#276419"
            ]
           ],
           "sequential": [
            [
             0,
             "#0d0887"
            ],
            [
             0.1111111111111111,
             "#46039f"
            ],
            [
             0.2222222222222222,
             "#7201a8"
            ],
            [
             0.3333333333333333,
             "#9c179e"
            ],
            [
             0.4444444444444444,
             "#bd3786"
            ],
            [
             0.5555555555555556,
             "#d8576b"
            ],
            [
             0.6666666666666666,
             "#ed7953"
            ],
            [
             0.7777777777777778,
             "#fb9f3a"
            ],
            [
             0.8888888888888888,
             "#fdca26"
            ],
            [
             1,
             "#f0f921"
            ]
           ],
           "sequentialminus": [
            [
             0,
             "#0d0887"
            ],
            [
             0.1111111111111111,
             "#46039f"
            ],
            [
             0.2222222222222222,
             "#7201a8"
            ],
            [
             0.3333333333333333,
             "#9c179e"
            ],
            [
             0.4444444444444444,
             "#bd3786"
            ],
            [
             0.5555555555555556,
             "#d8576b"
            ],
            [
             0.6666666666666666,
             "#ed7953"
            ],
            [
             0.7777777777777778,
             "#fb9f3a"
            ],
            [
             0.8888888888888888,
             "#fdca26"
            ],
            [
             1,
             "#f0f921"
            ]
           ]
          },
          "colorway": [
           "#636efa",
           "#EF553B",
           "#00cc96",
           "#ab63fa",
           "#FFA15A",
           "#19d3f3",
           "#FF6692",
           "#B6E880",
           "#FF97FF",
           "#FECB52"
          ],
          "font": {
           "color": "#2a3f5f"
          },
          "geo": {
           "bgcolor": "white",
           "lakecolor": "white",
           "landcolor": "white",
           "showlakes": true,
           "showland": true,
           "subunitcolor": "#C8D4E3"
          },
          "hoverlabel": {
           "align": "left"
          },
          "hovermode": "closest",
          "mapbox": {
           "style": "light"
          },
          "paper_bgcolor": "white",
          "plot_bgcolor": "white",
          "polar": {
           "angularaxis": {
            "gridcolor": "#EBF0F8",
            "linecolor": "#EBF0F8",
            "ticks": ""
           },
           "bgcolor": "white",
           "radialaxis": {
            "gridcolor": "#EBF0F8",
            "linecolor": "#EBF0F8",
            "ticks": ""
           }
          },
          "scene": {
           "xaxis": {
            "backgroundcolor": "white",
            "gridcolor": "#DFE8F3",
            "gridwidth": 2,
            "linecolor": "#EBF0F8",
            "showbackground": true,
            "ticks": "",
            "zerolinecolor": "#EBF0F8"
           },
           "yaxis": {
            "backgroundcolor": "white",
            "gridcolor": "#DFE8F3",
            "gridwidth": 2,
            "linecolor": "#EBF0F8",
            "showbackground": true,
            "ticks": "",
            "zerolinecolor": "#EBF0F8"
           },
           "zaxis": {
            "backgroundcolor": "white",
            "gridcolor": "#DFE8F3",
            "gridwidth": 2,
            "linecolor": "#EBF0F8",
            "showbackground": true,
            "ticks": "",
            "zerolinecolor": "#EBF0F8"
           }
          },
          "shapedefaults": {
           "line": {
            "color": "#2a3f5f"
           }
          },
          "ternary": {
           "aaxis": {
            "gridcolor": "#DFE8F3",
            "linecolor": "#A2B1C6",
            "ticks": ""
           },
           "baxis": {
            "gridcolor": "#DFE8F3",
            "linecolor": "#A2B1C6",
            "ticks": ""
           },
           "bgcolor": "white",
           "caxis": {
            "gridcolor": "#DFE8F3",
            "linecolor": "#A2B1C6",
            "ticks": ""
           }
          },
          "title": {
           "x": 0.05
          },
          "xaxis": {
           "automargin": true,
           "gridcolor": "#EBF0F8",
           "linecolor": "#EBF0F8",
           "ticks": "",
           "title": {
            "standoff": 15
           },
           "zerolinecolor": "#EBF0F8",
           "zerolinewidth": 2
          },
          "yaxis": {
           "automargin": true,
           "gridcolor": "#EBF0F8",
           "linecolor": "#EBF0F8",
           "ticks": "",
           "title": {
            "standoff": 15
           },
           "zerolinecolor": "#EBF0F8",
           "zerolinewidth": 2
          }
         }
        },
        "title": {
         "text": "Percent male and female applications",
         "x": 0.5
        },
        "width": 800,
        "xaxis": {
         "anchor": "y",
         "autorange": true,
         "domain": [
          0,
          0.49
         ],
         "range": [
          0,
          105.26315789473685
         ],
         "title": {
          "text": ""
         },
         "type": "linear"
        },
        "xaxis2": {
         "anchor": "y2",
         "autorange": true,
         "domain": [
          0.51,
          1
         ],
         "matches": "x",
         "range": [
          0,
          105.26315789473685
         ],
         "title": {
          "text": ""
         },
         "type": "linear"
        },
        "xaxis3": {
         "anchor": "y3",
         "autorange": true,
         "domain": [
          0,
          0.49
         ],
         "matches": "x",
         "range": [
          0,
          105.26315789473685
         ],
         "showticklabels": false,
         "title": {
          "text": ""
         },
         "type": "linear"
        },
        "xaxis4": {
         "anchor": "y4",
         "autorange": true,
         "domain": [
          0.51,
          1
         ],
         "matches": "x",
         "range": [
          0,
          105.26315789473685
         ],
         "showticklabels": false,
         "title": {
          "text": ""
         },
         "type": "linear"
        },
        "xaxis5": {
         "anchor": "y5",
         "autorange": true,
         "domain": [
          0,
          0.49
         ],
         "matches": "x",
         "range": [
          0,
          105.26315789473685
         ],
         "showticklabels": false,
         "title": {
          "text": ""
         },
         "type": "linear"
        },
        "xaxis6": {
         "anchor": "y6",
         "autorange": true,
         "domain": [
          0.51,
          1
         ],
         "matches": "x",
         "range": [
          0,
          105.26315789473685
         ],
         "showticklabels": false,
         "title": {
          "text": ""
         },
         "type": "linear"
        },
        "yaxis": {
         "anchor": "x",
         "autorange": true,
         "domain": [
          0,
          0.2866666666666666
         ],
         "range": [
          -0.5,
          1.5
         ],
         "title": {
          "text": "Gender"
         },
         "type": "category"
        },
        "yaxis2": {
         "anchor": "x2",
         "autorange": true,
         "domain": [
          0,
          0.2866666666666666
         ],
         "matches": "y",
         "range": [
          -0.5,
          1.5
         ],
         "showticklabels": false,
         "type": "category"
        },
        "yaxis3": {
         "anchor": "x3",
         "autorange": true,
         "domain": [
          0.35666666666666663,
          0.6433333333333333
         ],
         "matches": "y",
         "range": [
          -0.5,
          1.5
         ],
         "title": {
          "text": "gender"
         },
         "type": "category"
        },
        "yaxis4": {
         "anchor": "x4",
         "autorange": true,
         "domain": [
          0.35666666666666663,
          0.6433333333333333
         ],
         "matches": "y",
         "range": [
          -0.5,
          1.5
         ],
         "showticklabels": false,
         "type": "category"
        },
        "yaxis5": {
         "anchor": "x5",
         "autorange": true,
         "domain": [
          0.7133333333333333,
          0.9999999999999999
         ],
         "matches": "y",
         "range": [
          -0.5,
          1.5
         ],
         "title": {
          "text": "gender"
         },
         "type": "category"
        },
        "yaxis6": {
         "anchor": "x6",
         "autorange": true,
         "domain": [
          0.7133333333333333,
          0.9999999999999999
         ],
         "matches": "y",
         "range": [
          -0.5,
          1.5
         ],
         "showticklabels": false,
         "type": "category"
        }
       }
      },
      "image/png": "[encoded data removed]",
      "text/html": [
       "<div>                            <div id=\"22cb19b1-2e6f-454c-8c55-627782b20714\" class=\"plotly-graph-div\" style=\"height:500px; width:800px;\"></div>            <script type=\"text/javascript\">                require([\"plotly\"], function(Plotly) {                    window.PLOTLYENV=window.PLOTLYENV || {};                                    if (document.getElementById(\"22cb19b1-2e6f-454c-8c55-627782b20714\")) {                    Plotly.newPlot(                        \"22cb19b1-2e6f-454c-8c55-627782b20714\",                        [{\"alignmentgroup\":\"True\",\"bingroup\":\"y\",\"histfunc\":\"sum\",\"hovertemplate\":\"admitted=Yes\\u003cbr\\u003eDepartment=A\\u003cbr\\u003esum of Number (normalized as percent)=%{x}\\u003cbr\\u003egender=%{y}\\u003cextra\\u003e\\u003c\\u002fextra\\u003e\",\"legendgroup\":\"Yes\",\"marker\":{\"color\":\"#2ca25f\",\"pattern\":{\"shape\":\"\"}},\"name\":\"Yes\",\"offsetgroup\":\"Yes\",\"orientation\":\"h\",\"showlegend\":true,\"x\":[512,89],\"xaxis\":\"x5\",\"y\":[\"Male\",\"Female\"],\"yaxis\":\"y5\",\"type\":\"histogram\"},{\"alignmentgroup\":\"True\",\"bingroup\":\"y\",\"histfunc\":\"sum\",\"hovertemplate\":\"admitted=Yes\\u003cbr\\u003eDepartment=B\\u003cbr\\u003esum of Number (normalized as percent)=%{x}\\u003cbr\\u003egender=%{y}\\u003cextra\\u003e\\u003c\\u002fextra\\u003e\",\"legendgroup\":\"Yes\",\"marker\":{\"color\":\"#2ca25f\",\"pattern\":{\"shape\":\"\"}},\"name\":\"Yes\",\"offsetgroup\":\"Yes\",\"orientation\":\"h\",\"showlegend\":false,\"x\":[353,17],\"xaxis\":\"x6\",\"y\":[\"Male\",\"Female\"],\"yaxis\":\"y6\",\"type\":\"histogram\"},{\"alignmentgroup\":\"True\",\"bingroup\":\"y\",\"histfunc\":\"sum\",\"hovertemplate\":\"admitted=Yes\\u003cbr\\u003eDepartment=C\\u003cbr\\u003esum of Number (normalized as percent)=%{x}\\u003cbr\\u003egender=%{y}\\u003cextra\\u003e\\u003c\\u002fextra\\u003e\",\"legendgroup\":\"Yes\",\"marker\":{\"color\":\"#2ca25f\",\"pattern\":{\"shape\":\"\"}},\"name\":\"Yes\",\"offsetgroup\":\"Yes\",\"orientation\":\"h\",\"showlegend\":false,\"x\":[120,202],\"xaxis\":\"x3\",\"y\":[\"Male\",\"Female\"],\"yaxis\":\"y3\",\"type\":\"histogram\"},{\"alignmentgroup\":\"True\",\"bingroup\":\"y\",\"histfunc\":\"sum\",\"hovertemplate\":\"admitted=Yes\\u003cbr\\u003eDepartment=D\\u003cbr\\u003esum of Number (normalized as percent)=%{x}\\u003cbr\\u003egender=%{y}\\u003cextra\\u003e\\u003c\\u002fextra\\u003e\",\"legendgroup\":\"Yes\",\"marker\":{\"color\":\"#2ca25f\",\"pattern\":{\"shape\":\"\"}},\"name\":\"Yes\",\"offsetgroup\":\"Yes\",\"orientation\":\"h\",\"showlegend\":false,\"x\":[138,131],\"xaxis\":\"x4\",\"y\":[\"Male\",\"Female\"],\"yaxis\":\"y4\",\"type\":\"histogram\"},{\"alignmentgroup\":\"True\",\"bingroup\":\"y\",\"histfunc\":\"sum\",\"hovertemplate\":\"admitted=Yes\\u003cbr\\u003eDepartment=E\\u003cbr\\u003esum of Number (normalized as percent)=%{x}\\u003cbr\\u003egender=%{y}\\u003cextra\\u003e\\u003c\\u002fextra\\u003e\",\"legendgroup\":\"Yes\",\"marker\":{\"color\":\"#2ca25f\",\"pattern\":{\"shape\":\"\"}},\"name\":\"Yes\",\"offsetgroup\":\"Yes\",\"orientation\":\"h\",\"showlegend\":false,\"x\":[53,94],\"xaxis\":\"x\",\"y\":[\"Male\",\"Female\"],\"yaxis\":\"y\",\"type\":\"histogram\"},{\"alignmentgroup\":\"True\",\"bingroup\":\"y\",\"histfunc\":\"sum\",\"hovertemplate\":\"admitted=Yes\\u003cbr\\u003eDepartment=F\\u003cbr\\u003esum of Number (normalized as percent)=%{x}\\u003cbr\\u003egender=%{y}\\u003cextra\\u003e\\u003c\\u002fextra\\u003e\",\"legendgroup\":\"Yes\",\"marker\":{\"color\":\"#2ca25f\",\"pattern\":{\"shape\":\"\"}},\"name\":\"Yes\",\"offsetgroup\":\"Yes\",\"orientation\":\"h\",\"showlegend\":false,\"x\":[22,24],\"xaxis\":\"x2\",\"y\":[\"Male\",\"Female\"],\"yaxis\":\"y2\",\"type\":\"histogram\"},{\"alignmentgroup\":\"True\",\"bingroup\":\"y\",\"histfunc\":\"sum\",\"hovertemplate\":\"admitted=No\\u003cbr\\u003eDepartment=A\\u003cbr\\u003esum of Number (normalized as percent)=%{x}\\u003cbr\\u003egender=%{y}\\u003cextra\\u003e\\u003c\\u002fextra\\u003e\",\"legendgroup\":\"No\",\"marker\":{\"color\":\"#99d8c9\",\"pattern\":{\"shape\":\"\"}},\"name\":\"No\",\"offsetgroup\":\"No\",\"orientation\":\"h\",\"showlegend\":true,\"x\":[313,19],\"xaxis\":\"x5\",\"y\":[\"Male\",\"Female\"],\"yaxis\":\"y5\",\"type\":\"histogram\"},{\"alignmentgroup\":\"True\",\"bingroup\":\"y\",\"histfunc\":\"sum\",\"hovertemplate\":\"admitted=No\\u003cbr\\u003eDepartment=B\\u003cbr\\u003esum of Number (normalized as percent)=%{x}\\u003cbr\\u003egender=%{y}\\u003cextra\\u003e\\u003c\\u002fextra\\u003e\",\"legendgroup\":\"No\",\"marker\":{\"color\":\"#99d8c9\",\"pattern\":{\"shape\":\"\"}},\"name\":\"No\",\"offsetgroup\":\"No\",\"orientation\":\"h\",\"showlegend\":false,\"x\":[207,8],\"xaxis\":\"x6\",\"y\":[\"Male\",\"Female\"],\"yaxis\":\"y6\",\"type\":\"histogram\"},{\"alignmentgroup\":\"True\",\"bingroup\":\"y\",\"histfunc\":\"sum\",\"hovertemplate\":\"admitted=No\\u003cbr\\u003eDepartment=C\\u003cbr\\u003esum of Number (normalized as percent)=%{x}\\u003cbr\\u003egender=%{y}\\u003cextra\\u003e\\u003c\\u002fextra\\u003e\",\"legendgroup\":\"No\",\"marker\":{\"color\":\"#99d8c9\",\"pattern\":{\"shape\":\"\"}},\"name\":\"No\",\"offsetgroup\":\"No\",\"orientation\":\"h\",\"showlegend\":false,\"x\":[205,391],\"xaxis\":\"x3\",\"y\":[\"Male\",\"Female\"],\"yaxis\":\"y3\",\"type\":\"histogram\"},{\"alignmentgroup\":\"True\",\"bingroup\":\"y\",\"histfunc\":\"sum\",\"hovertemplate\":\"admitted=No\\u003cbr\\u003eDepartment=D\\u003cbr\\u003esum of Number (normalized as percent)=%{x}\\u003cbr\\u003egender=%{y}\\u003cextra\\u003e\\u003c\\u002fextra\\u003e\",\"legendgroup\":\"No\",\"marker\":{\"color\":\"#99d8c9\",\"pattern\":{\"shape\":\"\"}},\"name\":\"No\",\"offsetgroup\":\"No\",\"orientation\":\"h\",\"showlegend\":false,\"x\":[279,244],\"xaxis\":\"x4\",\"y\":[\"Male\",\"Female\"],\"yaxis\":\"y4\",\"type\":\"histogram\"},{\"alignmentgroup\":\"True\",\"bingroup\":\"y\",\"histfunc\":\"sum\",\"hovertemplate\":\"admitted=No\\u003cbr\\u003eDepartment=E\\u003cbr\\u003esum of Number (normalized as percent)=%{x}\\u003cbr\\u003egender=%{y}\\u003cextra\\u003e\\u003c\\u002fextra\\u003e\",\"legendgroup\":\"No\",\"marker\":{\"color\":\"#99d8c9\",\"pattern\":{\"shape\":\"\"}},\"name\":\"No\",\"offsetgroup\":\"No\",\"orientation\":\"h\",\"showlegend\":false,\"x\":[138,299],\"xaxis\":\"x\",\"y\":[\"Male\",\"Female\"],\"yaxis\":\"y\",\"type\":\"histogram\"},{\"alignmentgroup\":\"True\",\"bingroup\":\"y\",\"histfunc\":\"sum\",\"hovertemplate\":\"admitted=No\\u003cbr\\u003eDepartment=F\\u003cbr\\u003esum of Number (normalized as percent)=%{x}\\u003cbr\\u003egender=%{y}\\u003cextra\\u003e\\u003c\\u002fextra\\u003e\",\"legendgroup\":\"No\",\"marker\":{\"color\":\"#99d8c9\",\"pattern\":{\"shape\":\"\"}},\"name\":\"No\",\"offsetgroup\":\"No\",\"orientation\":\"h\",\"showlegend\":false,\"x\":[351,317],\"xaxis\":\"x2\",\"y\":[\"Male\",\"Female\"],\"yaxis\":\"y2\",\"type\":\"histogram\"}],                        {\"template\":{\"data\":{\"barpolar\":[{\"marker\":{\"line\":{\"color\":\"white\",\"width\":0.5},\"pattern\":{\"fillmode\":\"overlay\",\"size\":10,\"solidity\":0.2}},\"type\":\"barpolar\"}],\"bar\":[{\"error_x\":{\"color\":\"#2a3f5f\"},\"error_y\":{\"color\":\"#2a3f5f\"},\"marker\":{\"line\":{\"color\":\"white\",\"width\":0.5},\"pattern\":{\"fillmode\":\"overlay\",\"size\":10,\"solidity\":0.2}},\"type\":\"bar\"}],\"carpet\":[{\"aaxis\":{\"endlinecolor\":\"#2a3f5f\",\"gridcolor\":\"#C8D4E3\",\"linecolor\":\"#C8D4E3\",\"minorgridcolor\":\"#C8D4E3\",\"startlinecolor\":\"#2a3f5f\"},\"baxis\":{\"endlinecolor\":\"#2a3f5f\",\"gridcolor\":\"#C8D4E3\",\"linecolor\":\"#C8D4E3\",\"minorgridcolor\":\"#C8D4E3\",\"startlinecolor\":\"#2a3f5f\"},\"type\":\"carpet\"}],\"choropleth\":[{\"colorbar\":{\"outlinewidth\":0,\"ticks\":\"\"},\"type\":\"choropleth\"}],\"contourcarpet\":[{\"colorbar\":{\"outlinewidth\":0,\"ticks\":\"\"},\"type\":\"contourcarpet\"}],\"contour\":[{\"colorbar\":{\"outlinewidth\":0,\"ticks\":\"\"},\"colorscale\":[[0.0,\"#0d0887\"],[0.1111111111111111,\"#46039f\"],[0.2222222222222222,\"#7201a8\"],[0.3333333333333333,\"#9c179e\"],[0.4444444444444444,\"#bd3786\"],[0.5555555555555556,\"#d8576b\"],[0.6666666666666666,\"#ed7953\"],[0.7777777777777778,\"#fb9f3a\"],[0.8888888888888888,\"#fdca26\"],[1.0,\"#f0f921\"]],\"type\":\"contour\"}],\"heatmapgl\":[{\"colorbar\":{\"outlinewidth\":0,\"ticks\":\"\"},\"colorscale\":[[0.0,\"#0d0887\"],[0.1111111111111111,\"#46039f\"],[0.2222222222222222,\"#7201a8\"],[0.3333333333333333,\"#9c179e\"],[0.4444444444444444,\"#bd3786\"],[0.5555555555555556,\"#d8576b\"],[0.6666666666666666,\"#ed7953\"],[0.7777777777777778,\"#fb9f3a\"],[0.8888888888888888,\"#fdca26\"],[1.0,\"#f0f921\"]],\"type\":\"heatmapgl\"}],\"heatmap\":[{\"colorbar\":{\"outlinewidth\":0,\"ticks\":\"\"},\"colorscale\":[[0.0,\"#0d0887\"],[0.1111111111111111,\"#46039f\"],[0.2222222222222222,\"#7201a8\"],[0.3333333333333333,\"#9c179e\"],[0.4444444444444444,\"#bd3786\"],[0.5555555555555556,\"#d8576b\"],[0.6666666666666666,\"#ed7953\"],[0.7777777777777778,\"#fb9f3a\"],[0.8888888888888888,\"#fdca26\"],[1.0,\"#f0f921\"]],\"type\":\"heatmap\"}],\"histogram2dcontour\":[{\"colorbar\":{\"outlinewidth\":0,\"ticks\":\"\"},\"colorscale\":[[0.0,\"#0d0887\"],[0.1111111111111111,\"#46039f\"],[0.2222222222222222,\"#7201a8\"],[0.3333333333333333,\"#9c179e\"],[0.4444444444444444,\"#bd3786\"],[0.5555555555555556,\"#d8576b\"],[0.6666666666666666,\"#ed7953\"],[0.7777777777777778,\"#fb9f3a\"],[0.8888888888888888,\"#fdca26\"],[1.0,\"#f0f921\"]],\"type\":\"histogram2dcontour\"}],\"histogram2d\":[{\"colorbar\":{\"outlinewidth\":0,\"ticks\":\"\"},\"colorscale\":[[0.0,\"#0d0887\"],[0.1111111111111111,\"#46039f\"],[0.2222222222222222,\"#7201a8\"],[0.3333333333333333,\"#9c179e\"],[0.4444444444444444,\"#bd3786\"],[0.5555555555555556,\"#d8576b\"],[0.6666666666666666,\"#ed7953\"],[0.7777777777777778,\"#fb9f3a\"],[0.8888888888888888,\"#fdca26\"],[1.0,\"#f0f921\"]],\"type\":\"histogram2d\"}],\"histogram\":[{\"marker\":{\"pattern\":{\"fillmode\":\"overlay\",\"size\":10,\"solidity\":0.2}},\"type\":\"histogram\"}],\"mesh3d\":[{\"colorbar\":{\"outlinewidth\":0,\"ticks\":\"\"},\"type\":\"mesh3d\"}],\"parcoords\":[{\"line\":{\"colorbar\":{\"outlinewidth\":0,\"ticks\":\"\"}},\"type\":\"parcoords\"}],\"pie\":[{\"automargin\":true,\"type\":\"pie\"}],\"scatter3d\":[{\"line\":{\"colorbar\":{\"outlinewidth\":0,\"ticks\":\"\"}},\"marker\":{\"colorbar\":{\"outlinewidth\":0,\"ticks\":\"\"}},\"type\":\"scatter3d\"}],\"scattercarpet\":[{\"marker\":{\"colorbar\":{\"outlinewidth\":0,\"ticks\":\"\"}},\"type\":\"scattercarpet\"}],\"scattergeo\":[{\"marker\":{\"colorbar\":{\"outlinewidth\":0,\"ticks\":\"\"}},\"type\":\"scattergeo\"}],\"scattergl\":[{\"marker\":{\"colorbar\":{\"outlinewidth\":0,\"ticks\":\"\"}},\"type\":\"scattergl\"}],\"scattermapbox\":[{\"marker\":{\"colorbar\":{\"outlinewidth\":0,\"ticks\":\"\"}},\"type\":\"scattermapbox\"}],\"scatterpolargl\":[{\"marker\":{\"colorbar\":{\"outlinewidth\":0,\"ticks\":\"\"}},\"type\":\"scatterpolargl\"}],\"scatterpolar\":[{\"marker\":{\"colorbar\":{\"outlinewidth\":0,\"ticks\":\"\"}},\"type\":\"scatterpolar\"}],\"scatter\":[{\"fillpattern\":{\"fillmode\":\"overlay\",\"size\":10,\"solidity\":0.2},\"type\":\"scatter\"}],\"scatterternary\":[{\"marker\":{\"colorbar\":{\"outlinewidth\":0,\"ticks\":\"\"}},\"type\":\"scatterternary\"}],\"surface\":[{\"colorbar\":{\"outlinewidth\":0,\"ticks\":\"\"},\"colorscale\":[[0.0,\"#0d0887\"],[0.1111111111111111,\"#46039f\"],[0.2222222222222222,\"#7201a8\"],[0.3333333333333333,\"#9c179e\"],[0.4444444444444444,\"#bd3786\"],[0.5555555555555556,\"#d8576b\"],[0.6666666666666666,\"#ed7953\"],[0.7777777777777778,\"#fb9f3a\"],[0.8888888888888888,\"#fdca26\"],[1.0,\"#f0f921\"]],\"type\":\"surface\"}],\"table\":[{\"cells\":{\"fill\":{\"color\":\"#EBF0F8\"},\"line\":{\"color\":\"white\"}},\"header\":{\"fill\":{\"color\":\"#C8D4E3\"},\"line\":{\"color\":\"white\"}},\"type\":\"table\"}]},\"layout\":{\"annotationdefaults\":{\"arrowcolor\":\"#2a3f5f\",\"arrowhead\":0,\"arrowwidth\":1},\"autotypenumbers\":\"strict\",\"coloraxis\":{\"colorbar\":{\"outlinewidth\":0,\"ticks\":\"\"}},\"colorscale\":{\"diverging\":[[0,\"#8e0152\"],[0.1,\"#c51b7d\"],[0.2,\"#de77ae\"],[0.3,\"#f1b6da\"],[0.4,\"#fde0ef\"],[0.5,\"#f7f7f7\"],[0.6,\"#e6f5d0\"],[0.7,\"#b8e186\"],[0.8,\"#7fbc41\"],[0.9,\"#4d9221\"],[1,\"#276419\"]],\"sequential\":[[0.0,\"#0d0887\"],[0.1111111111111111,\"#46039f\"],[0.2222222222222222,\"#7201a8\"],[0.3333333333333333,\"#9c179e\"],[0.4444444444444444,\"#bd3786\"],[0.5555555555555556,\"#d8576b\"],[0.6666666666666666,\"#ed7953\"],[0.7777777777777778,\"#fb9f3a\"],[0.8888888888888888,\"#fdca26\"],[1.0,\"#f0f921\"]],\"sequentialminus\":[[0.0,\"#0d0887\"],[0.1111111111111111,\"#46039f\"],[0.2222222222222222,\"#7201a8\"],[0.3333333333333333,\"#9c179e\"],[0.4444444444444444,\"#bd3786\"],[0.5555555555555556,\"#d8576b\"],[0.6666666666666666,\"#ed7953\"],[0.7777777777777778,\"#fb9f3a\"],[0.8888888888888888,\"#fdca26\"],[1.0,\"#f0f921\"]]},\"colorway\":[\"#636efa\",\"#EF553B\",\"#00cc96\",\"#ab63fa\",\"#FFA15A\",\"#19d3f3\",\"#FF6692\",\"#B6E880\",\"#FF97FF\",\"#FECB52\"],\"font\":{\"color\":\"#2a3f5f\"},\"geo\":{\"bgcolor\":\"white\",\"lakecolor\":\"white\",\"landcolor\":\"white\",\"showlakes\":true,\"showland\":true,\"subunitcolor\":\"#C8D4E3\"},\"hoverlabel\":{\"align\":\"left\"},\"hovermode\":\"closest\",\"mapbox\":{\"style\":\"light\"},\"paper_bgcolor\":\"white\",\"plot_bgcolor\":\"white\",\"polar\":{\"angularaxis\":{\"gridcolor\":\"#EBF0F8\",\"linecolor\":\"#EBF0F8\",\"ticks\":\"\"},\"bgcolor\":\"white\",\"radialaxis\":{\"gridcolor\":\"#EBF0F8\",\"linecolor\":\"#EBF0F8\",\"ticks\":\"\"}},\"scene\":{\"xaxis\":{\"backgroundcolor\":\"white\",\"gridcolor\":\"#DFE8F3\",\"gridwidth\":2,\"linecolor\":\"#EBF0F8\",\"showbackground\":true,\"ticks\":\"\",\"zerolinecolor\":\"#EBF0F8\"},\"yaxis\":{\"backgroundcolor\":\"white\",\"gridcolor\":\"#DFE8F3\",\"gridwidth\":2,\"linecolor\":\"#EBF0F8\",\"showbackground\":true,\"ticks\":\"\",\"zerolinecolor\":\"#EBF0F8\"},\"zaxis\":{\"backgroundcolor\":\"white\",\"gridcolor\":\"#DFE8F3\",\"gridwidth\":2,\"linecolor\":\"#EBF0F8\",\"showbackground\":true,\"ticks\":\"\",\"zerolinecolor\":\"#EBF0F8\"}},\"shapedefaults\":{\"line\":{\"color\":\"#2a3f5f\"}},\"ternary\":{\"aaxis\":{\"gridcolor\":\"#DFE8F3\",\"linecolor\":\"#A2B1C6\",\"ticks\":\"\"},\"baxis\":{\"gridcolor\":\"#DFE8F3\",\"linecolor\":\"#A2B1C6\",\"ticks\":\"\"},\"bgcolor\":\"white\",\"caxis\":{\"gridcolor\":\"#DFE8F3\",\"linecolor\":\"#A2B1C6\",\"ticks\":\"\"}},\"title\":{\"x\":0.05},\"xaxis\":{\"automargin\":true,\"gridcolor\":\"#EBF0F8\",\"linecolor\":\"#EBF0F8\",\"ticks\":\"\",\"title\":{\"standoff\":15},\"zerolinecolor\":\"#EBF0F8\",\"zerolinewidth\":2},\"yaxis\":{\"automargin\":true,\"gridcolor\":\"#EBF0F8\",\"linecolor\":\"#EBF0F8\",\"ticks\":\"\",\"title\":{\"standoff\":15},\"zerolinecolor\":\"#EBF0F8\",\"zerolinewidth\":2}}},\"xaxis\":{\"anchor\":\"y\",\"domain\":[0.0,0.49],\"title\":{\"text\":\"\"}},\"yaxis\":{\"anchor\":\"x\",\"domain\":[0.0,0.2866666666666666],\"title\":{\"text\":\"Gender\"}},\"xaxis2\":{\"anchor\":\"y2\",\"domain\":[0.51,1.0],\"matches\":\"x\",\"title\":{\"text\":\"\"}},\"yaxis2\":{\"anchor\":\"x2\",\"domain\":[0.0,0.2866666666666666],\"matches\":\"y\",\"showticklabels\":false},\"xaxis3\":{\"anchor\":\"y3\",\"domain\":[0.0,0.49],\"matches\":\"x\",\"showticklabels\":false,\"title\":{\"text\":\"\"}},\"yaxis3\":{\"anchor\":\"x3\",\"domain\":[0.35666666666666663,0.6433333333333333],\"matches\":\"y\",\"title\":{\"text\":\"gender\"}},\"xaxis4\":{\"anchor\":\"y4\",\"domain\":[0.51,1.0],\"matches\":\"x\",\"showticklabels\":false,\"title\":{\"text\":\"\"}},\"yaxis4\":{\"anchor\":\"x4\",\"domain\":[0.35666666666666663,0.6433333333333333],\"matches\":\"y\",\"showticklabels\":false},\"xaxis5\":{\"anchor\":\"y5\",\"domain\":[0.0,0.49],\"matches\":\"x\",\"showticklabels\":false,\"title\":{\"text\":\"\"}},\"yaxis5\":{\"anchor\":\"x5\",\"domain\":[0.7133333333333333,0.9999999999999999],\"matches\":\"y\",\"title\":{\"text\":\"gender\"}},\"xaxis6\":{\"anchor\":\"y6\",\"domain\":[0.51,1.0],\"matches\":\"x\",\"showticklabels\":false,\"title\":{\"text\":\"\"}},\"yaxis6\":{\"anchor\":\"x6\",\"domain\":[0.7133333333333333,0.9999999999999999],\"matches\":\"y\",\"showticklabels\":false},\"annotations\":[{\"font\":{},\"showarrow\":false,\"text\":\"E\",\"x\":0.245,\"xanchor\":\"center\",\"xref\":\"paper\",\"y\":0.2866666666666666,\"yanchor\":\"bottom\",\"yref\":\"paper\"},{\"font\":{},\"showarrow\":false,\"text\":\"F\",\"x\":0.755,\"xanchor\":\"center\",\"xref\":\"paper\",\"y\":0.2866666666666666,\"yanchor\":\"bottom\",\"yref\":\"paper\"},{\"font\":{},\"showarrow\":false,\"text\":\"C\",\"x\":0.245,\"xanchor\":\"center\",\"xref\":\"paper\",\"y\":0.6433333333333333,\"yanchor\":\"bottom\",\"yref\":\"paper\"},{\"font\":{},\"showarrow\":false,\"text\":\"D\",\"x\":0.755,\"xanchor\":\"center\",\"xref\":\"paper\",\"y\":0.6433333333333333,\"yanchor\":\"bottom\",\"yref\":\"paper\"},{\"font\":{},\"showarrow\":false,\"text\":\"A\",\"x\":0.245,\"xanchor\":\"center\",\"xref\":\"paper\",\"y\":0.9999999999999999,\"yanchor\":\"bottom\",\"yref\":\"paper\"},{\"font\":{},\"showarrow\":false,\"text\":\"B\",\"x\":0.755,\"xanchor\":\"center\",\"xref\":\"paper\",\"y\":0.9999999999999999,\"yanchor\":\"bottom\",\"yref\":\"paper\"}],\"legend\":{\"title\":{\"text\":\"Admitted\"},\"tracegroupgap\":0},\"margin\":{\"t\":60},\"barmode\":\"relative\",\"barnorm\":\"percent\",\"title\":{\"text\":\"Percent male and female applications\",\"x\":0.5},\"autosize\":false,\"width\":800,\"height\":500},                        {\"responsive\": true}                    ).then(function(){\n",
       "                            \n",
       "var gd = document.getElementById('22cb19b1-2e6f-454c-8c55-627782b20714');\n",
       "var x = new MutationObserver(function (mutations, observer) {{\n",
       "        var display = window.getComputedStyle(gd).display;\n",
       "        if (!display || display === 'none') {{\n",
       "            console.log([gd, 'removed!']);\n",
       "            Plotly.purge(gd);\n",
       "            observer.disconnect();\n",
       "        }}\n",
       "}});\n",
       "\n",
       "// Listen for the removal of the full notebook cells\n",
       "var notebookContainer = gd.closest('#notebook-container');\n",
       "if (notebookContainer) {{\n",
       "    x.observe(notebookContainer, {childList: true});\n",
       "}}\n",
       "\n",
       "// Listen for the clearing of the current output cell\n",
       "var outputEl = gd.closest('.output');\n",
       "if (outputEl) {{\n",
       "    x.observe(outputEl, {childList: true});\n",
       "}}\n",
       "\n",
       "                        })                };                });            </script>        </div>"
      ]
     },
     "metadata": {},
     "output_type": "display_data"
    }
   ],
   "source": [
    "fig = px.histogram(DF_melt,\n",
    "                   y='gender',\n",
    "                   x='Number',\n",
    "                   barnorm = \"percent\",\n",
    "                   color='admitted',\n",
    "                   facet_col='Department',\n",
    "                   facet_col_wrap=2,\n",
    "                   color_discrete_map = {'No':'#99d8c9','Yes':'#2ca25f'})\n",
    "\n",
    "fig.for_each_annotation(lambda a: a.update(text=a.text.split(\"=\")[1]))\n",
    "fig.update_xaxes(title_text='')\n",
    "\n",
    "fig.update_layout(title='Percent male and female applications',\n",
    "                  title_x=0.5,\n",
    "                  template=\"plotly_white\",\n",
    "                  xaxis_title=\"\",\n",
    "                  yaxis_title=\"Gender\",\n",
    "                  legend_title='Admitted',\n",
    "                  autosize=False,\n",
    "                  width=800,\n",
    "                  height=500)\n",
    "\n",
    "fig.show()"
   ]
  },
  {
   "cell_type": "markdown",
   "id": "a40fab13-19ce-4835-8a0c-145796c99d93",
   "metadata": {},
   "source": [
    "------------------------\n",
    "------------------------\n",
    "\n",
    "## Homework - Exercises\n",
    "\n",
    "** Homework content and data from Data Science in a Box - he-05-legos.Rmd\n",
    "\n",
    "This week we'll do some data gymnastics to refresh and review what we learned over the past few weeks using (**simulated**) data from Lego sales in 2018 for a sample of customers who bought Legos in the US. This is different than the data we used on the Exam!\n",
    "\n",
    "\n",
    "### Data"
   ]
  },
  {
   "cell_type": "code",
   "execution_count": 29,
   "id": "c5775204-ebb3-4e1c-a300-d4985aec01d5",
   "metadata": {},
   "outputs": [
    {
     "data": {
      "text/html": [
       "<div>\n",
       "<style scoped>\n",
       "    .dataframe tbody tr th:only-of-type {\n",
       "        vertical-align: middle;\n",
       "    }\n",
       "\n",
       "    .dataframe tbody tr th {\n",
       "        vertical-align: top;\n",
       "    }\n",
       "\n",
       "    .dataframe thead th {\n",
       "        text-align: right;\n",
       "    }\n",
       "</style>\n",
       "<table border=\"1\" class=\"dataframe\">\n",
       "  <thead>\n",
       "    <tr style=\"text-align: right;\">\n",
       "      <th></th>\n",
       "      <th>first_name</th>\n",
       "      <th>last_name</th>\n",
       "      <th>age</th>\n",
       "      <th>phone_number</th>\n",
       "      <th>set_id</th>\n",
       "      <th>number</th>\n",
       "      <th>theme</th>\n",
       "      <th>subtheme</th>\n",
       "      <th>year</th>\n",
       "      <th>name</th>\n",
       "      <th>pieces</th>\n",
       "      <th>us_price</th>\n",
       "      <th>image_url</th>\n",
       "      <th>quantity</th>\n",
       "    </tr>\n",
       "  </thead>\n",
       "  <tbody>\n",
       "    <tr>\n",
       "      <th>0</th>\n",
       "      <td>Kimberly</td>\n",
       "      <td>Beckstead</td>\n",
       "      <td>24</td>\n",
       "      <td>216-555-2549</td>\n",
       "      <td>24701</td>\n",
       "      <td>76062</td>\n",
       "      <td>DC Comics Super Heroes</td>\n",
       "      <td>Mighty Micros</td>\n",
       "      <td>2018</td>\n",
       "      <td>Robin vs. Bane</td>\n",
       "      <td>77.0</td>\n",
       "      <td>9.99</td>\n",
       "      <td>http://images.brickset.com/sets/images/76062-1...</td>\n",
       "      <td>1</td>\n",
       "    </tr>\n",
       "    <tr>\n",
       "      <th>1</th>\n",
       "      <td>Neel</td>\n",
       "      <td>Garvin</td>\n",
       "      <td>35</td>\n",
       "      <td>819-555-3189</td>\n",
       "      <td>25626</td>\n",
       "      <td>70595</td>\n",
       "      <td>Ninjago</td>\n",
       "      <td>Rise of the Villains</td>\n",
       "      <td>2018</td>\n",
       "      <td>Ultra Stealth Raider</td>\n",
       "      <td>1093.0</td>\n",
       "      <td>119.99</td>\n",
       "      <td>http://images.brickset.com/sets/images/70595-1...</td>\n",
       "      <td>1</td>\n",
       "    </tr>\n",
       "    <tr>\n",
       "      <th>2</th>\n",
       "      <td>Neel</td>\n",
       "      <td>Garvin</td>\n",
       "      <td>35</td>\n",
       "      <td>819-555-3189</td>\n",
       "      <td>24665</td>\n",
       "      <td>21031</td>\n",
       "      <td>Architecture</td>\n",
       "      <td>NaN</td>\n",
       "      <td>2018</td>\n",
       "      <td>Burj Khalifa</td>\n",
       "      <td>333.0</td>\n",
       "      <td>39.99</td>\n",
       "      <td>http://images.brickset.com/sets/images/21031-1...</td>\n",
       "      <td>1</td>\n",
       "    </tr>\n",
       "    <tr>\n",
       "      <th>3</th>\n",
       "      <td>Chelsea</td>\n",
       "      <td>Bouchard</td>\n",
       "      <td>41</td>\n",
       "      <td>NaN</td>\n",
       "      <td>24695</td>\n",
       "      <td>31048</td>\n",
       "      <td>Creator</td>\n",
       "      <td>NaN</td>\n",
       "      <td>2018</td>\n",
       "      <td>Lakeside Lodge</td>\n",
       "      <td>368.0</td>\n",
       "      <td>29.99</td>\n",
       "      <td>http://images.brickset.com/sets/images/31048-1...</td>\n",
       "      <td>1</td>\n",
       "    </tr>\n",
       "    <tr>\n",
       "      <th>4</th>\n",
       "      <td>Chelsea</td>\n",
       "      <td>Bouchard</td>\n",
       "      <td>41</td>\n",
       "      <td>NaN</td>\n",
       "      <td>25626</td>\n",
       "      <td>70595</td>\n",
       "      <td>Ninjago</td>\n",
       "      <td>Rise of the Villains</td>\n",
       "      <td>2018</td>\n",
       "      <td>Ultra Stealth Raider</td>\n",
       "      <td>1093.0</td>\n",
       "      <td>119.99</td>\n",
       "      <td>http://images.brickset.com/sets/images/70595-1...</td>\n",
       "      <td>1</td>\n",
       "    </tr>\n",
       "    <tr>\n",
       "      <th>...</th>\n",
       "      <td>...</td>\n",
       "      <td>...</td>\n",
       "      <td>...</td>\n",
       "      <td>...</td>\n",
       "      <td>...</td>\n",
       "      <td>...</td>\n",
       "      <td>...</td>\n",
       "      <td>...</td>\n",
       "      <td>...</td>\n",
       "      <td>...</td>\n",
       "      <td>...</td>\n",
       "      <td>...</td>\n",
       "      <td>...</td>\n",
       "      <td>...</td>\n",
       "    </tr>\n",
       "    <tr>\n",
       "      <th>615</th>\n",
       "      <td>Talise</td>\n",
       "      <td>Nieukirk</td>\n",
       "      <td>16</td>\n",
       "      <td>801-555-2343</td>\n",
       "      <td>24902</td>\n",
       "      <td>41556</td>\n",
       "      <td>Mixels</td>\n",
       "      <td>Series 7</td>\n",
       "      <td>2018</td>\n",
       "      <td>Tiketz</td>\n",
       "      <td>62.0</td>\n",
       "      <td>4.99</td>\n",
       "      <td>http://images.brickset.com/sets/images/41556-1...</td>\n",
       "      <td>2</td>\n",
       "    </tr>\n",
       "    <tr>\n",
       "      <th>616</th>\n",
       "      <td>Spencer</td>\n",
       "      <td>Morgan</td>\n",
       "      <td>28</td>\n",
       "      <td>784-555-3455</td>\n",
       "      <td>26041</td>\n",
       "      <td>41580</td>\n",
       "      <td>Mixels</td>\n",
       "      <td>Series 9</td>\n",
       "      <td>2018</td>\n",
       "      <td>Myke</td>\n",
       "      <td>63.0</td>\n",
       "      <td>4.99</td>\n",
       "      <td>NaN</td>\n",
       "      <td>2</td>\n",
       "    </tr>\n",
       "    <tr>\n",
       "      <th>617</th>\n",
       "      <td>Spencer</td>\n",
       "      <td>Morgan</td>\n",
       "      <td>28</td>\n",
       "      <td>784-555-3455</td>\n",
       "      <td>26060</td>\n",
       "      <td>5005051</td>\n",
       "      <td>Gear</td>\n",
       "      <td>Digital Media</td>\n",
       "      <td>2018</td>\n",
       "      <td>Friends of Heartlake City Girlz 4 Life</td>\n",
       "      <td>NaN</td>\n",
       "      <td>19.99</td>\n",
       "      <td>NaN</td>\n",
       "      <td>1</td>\n",
       "    </tr>\n",
       "    <tr>\n",
       "      <th>618</th>\n",
       "      <td>Amelia</td>\n",
       "      <td>Hageman</td>\n",
       "      <td>40</td>\n",
       "      <td>336-555-1950</td>\n",
       "      <td>24702</td>\n",
       "      <td>76063</td>\n",
       "      <td>DC Comics Super Heroes</td>\n",
       "      <td>Mighty Micros</td>\n",
       "      <td>2018</td>\n",
       "      <td>The Flash vs. Captain Cold</td>\n",
       "      <td>88.0</td>\n",
       "      <td>9.99</td>\n",
       "      <td>http://images.brickset.com/sets/images/76063-1...</td>\n",
       "      <td>2</td>\n",
       "    </tr>\n",
       "    <tr>\n",
       "      <th>619</th>\n",
       "      <td>Amelia</td>\n",
       "      <td>Hageman</td>\n",
       "      <td>40</td>\n",
       "      <td>336-555-1950</td>\n",
       "      <td>24720</td>\n",
       "      <td>10830</td>\n",
       "      <td>Duplo</td>\n",
       "      <td>NaN</td>\n",
       "      <td>2018</td>\n",
       "      <td>Minnie's Café</td>\n",
       "      <td>27.0</td>\n",
       "      <td>19.99</td>\n",
       "      <td>http://images.brickset.com/sets/images/10830-1...</td>\n",
       "      <td>4</td>\n",
       "    </tr>\n",
       "  </tbody>\n",
       "</table>\n",
       "<p>620 rows × 14 columns</p>\n",
       "</div>"
      ],
      "text/plain": [
       "    first_name  last_name  age  phone_number  set_id   number  \\\n",
       "0     Kimberly  Beckstead   24  216-555-2549   24701    76062   \n",
       "1         Neel     Garvin   35  819-555-3189   25626    70595   \n",
       "2         Neel     Garvin   35  819-555-3189   24665    21031   \n",
       "3      Chelsea   Bouchard   41           NaN   24695    31048   \n",
       "4      Chelsea   Bouchard   41           NaN   25626    70595   \n",
       "..         ...        ...  ...           ...     ...      ...   \n",
       "615     Talise   Nieukirk   16  801-555-2343   24902    41556   \n",
       "616    Spencer     Morgan   28  784-555-3455   26041    41580   \n",
       "617    Spencer     Morgan   28  784-555-3455   26060  5005051   \n",
       "618     Amelia    Hageman   40  336-555-1950   24702    76063   \n",
       "619     Amelia    Hageman   40  336-555-1950   24720    10830   \n",
       "\n",
       "                      theme              subtheme  year  \\\n",
       "0    DC Comics Super Heroes         Mighty Micros  2018   \n",
       "1                   Ninjago  Rise of the Villains  2018   \n",
       "2              Architecture                   NaN  2018   \n",
       "3                   Creator                   NaN  2018   \n",
       "4                   Ninjago  Rise of the Villains  2018   \n",
       "..                      ...                   ...   ...   \n",
       "615                  Mixels              Series 7  2018   \n",
       "616                  Mixels              Series 9  2018   \n",
       "617                    Gear         Digital Media  2018   \n",
       "618  DC Comics Super Heroes         Mighty Micros  2018   \n",
       "619                   Duplo                   NaN  2018   \n",
       "\n",
       "                                       name  pieces  us_price  \\\n",
       "0                            Robin vs. Bane    77.0      9.99   \n",
       "1                      Ultra Stealth Raider  1093.0    119.99   \n",
       "2                              Burj Khalifa   333.0     39.99   \n",
       "3                            Lakeside Lodge   368.0     29.99   \n",
       "4                      Ultra Stealth Raider  1093.0    119.99   \n",
       "..                                      ...     ...       ...   \n",
       "615                                  Tiketz    62.0      4.99   \n",
       "616                                    Myke    63.0      4.99   \n",
       "617  Friends of Heartlake City Girlz 4 Life     NaN     19.99   \n",
       "618              The Flash vs. Captain Cold    88.0      9.99   \n",
       "619                           Minnie's Café    27.0     19.99   \n",
       "\n",
       "                                             image_url  quantity  \n",
       "0    http://images.brickset.com/sets/images/76062-1...         1  \n",
       "1    http://images.brickset.com/sets/images/70595-1...         1  \n",
       "2    http://images.brickset.com/sets/images/21031-1...         1  \n",
       "3    http://images.brickset.com/sets/images/31048-1...         1  \n",
       "4    http://images.brickset.com/sets/images/70595-1...         1  \n",
       "..                                                 ...       ...  \n",
       "615  http://images.brickset.com/sets/images/41556-1...         2  \n",
       "616                                                NaN         2  \n",
       "617                                                NaN         1  \n",
       "618  http://images.brickset.com/sets/images/76063-1...         2  \n",
       "619  http://images.brickset.com/sets/images/10830-1...         4  \n",
       "\n",
       "[620 rows x 14 columns]"
      ]
     },
     "execution_count": 29,
     "metadata": {},
     "output_type": "execute_result"
    }
   ],
   "source": [
    "file_name = 'data/lego-sales.csv'\n",
    "DF = pd.read_csv(file_name)\n",
    "DF"
   ]
  },
  {
   "cell_type": "markdown",
   "id": "b2474002-893e-4c33-8229-d9fb8a3f4b29",
   "metadata": {},
   "source": [
    "### Exercises\n",
    "\n",
    "* Answer the following questions using reproducible Python code.\n",
    "* For each question, state your answer in a sentence, e.g. \"In this sample, the first three common names of purchasers are ...\".\n",
    "* Note that the answers to all questions are within the context of this particular sample of sales, i.e. you shouldn't make inferences about the population of all Lego sales based on this sample.\n",
    "\n",
    "-------------\n",
    "\n",
    "1.  Describe what you see in the data set (variables, observations, etc)\n",
    "   - In this data set, we can see using code that there are 620 observations and 14 variables, and the variables are listed below. I also added a .describe() to give some general details about the data"
   ]
  },
  {
   "cell_type": "code",
   "execution_count": 32,
   "id": "8b607034-a357-4220-9531-06ac2f72ef0a",
   "metadata": {},
   "outputs": [
    {
     "data": {
      "text/plain": [
       "(620, 14)"
      ]
     },
     "execution_count": 32,
     "metadata": {},
     "output_type": "execute_result"
    }
   ],
   "source": [
    "file_name = 'data/lego-sales.csv'\n",
    "DF = pd.read_csv(file_name)\n",
    "DF.shape"
   ]
  },
  {
   "cell_type": "code",
   "execution_count": 34,
   "id": "0c9c2857-57e1-4219-bbfe-3821d90f7f8e",
   "metadata": {},
   "outputs": [
    {
     "data": {
      "text/plain": [
       "Index(['first_name', 'last_name', 'age', 'phone_number', 'set_id', 'number',\n",
       "       'theme', 'subtheme', 'year', 'name', 'pieces', 'us_price', 'image_url',\n",
       "       'quantity'],\n",
       "      dtype='object')"
      ]
     },
     "execution_count": 34,
     "metadata": {},
     "output_type": "execute_result"
    }
   ],
   "source": [
    "DF.columns"
   ]
  },
  {
   "cell_type": "code",
   "execution_count": 36,
   "id": "fdf014ed-0f6a-4690-88b8-018abb2da9b4",
   "metadata": {},
   "outputs": [
    {
     "data": {
      "text/html": [
       "<div>\n",
       "<style scoped>\n",
       "    .dataframe tbody tr th:only-of-type {\n",
       "        vertical-align: middle;\n",
       "    }\n",
       "\n",
       "    .dataframe tbody tr th {\n",
       "        vertical-align: top;\n",
       "    }\n",
       "\n",
       "    .dataframe thead th {\n",
       "        text-align: right;\n",
       "    }\n",
       "</style>\n",
       "<table border=\"1\" class=\"dataframe\">\n",
       "  <thead>\n",
       "    <tr style=\"text-align: right;\">\n",
       "      <th></th>\n",
       "      <th>age</th>\n",
       "      <th>set_id</th>\n",
       "      <th>year</th>\n",
       "      <th>pieces</th>\n",
       "      <th>us_price</th>\n",
       "      <th>quantity</th>\n",
       "    </tr>\n",
       "  </thead>\n",
       "  <tbody>\n",
       "    <tr>\n",
       "      <th>count</th>\n",
       "      <td>620.000000</td>\n",
       "      <td>620.000000</td>\n",
       "      <td>620.0</td>\n",
       "      <td>551.000000</td>\n",
       "      <td>620.000000</td>\n",
       "      <td>620.000000</td>\n",
       "    </tr>\n",
       "    <tr>\n",
       "      <th>mean</th>\n",
       "      <td>34.356452</td>\n",
       "      <td>25124.982258</td>\n",
       "      <td>2018.0</td>\n",
       "      <td>254.206897</td>\n",
       "      <td>29.041613</td>\n",
       "      <td>1.437097</td>\n",
       "    </tr>\n",
       "    <tr>\n",
       "      <th>std</th>\n",
       "      <td>11.276537</td>\n",
       "      <td>506.760720</td>\n",
       "      <td>0.0</td>\n",
       "      <td>357.738804</td>\n",
       "      <td>34.630623</td>\n",
       "      <td>0.712849</td>\n",
       "    </tr>\n",
       "    <tr>\n",
       "      <th>min</th>\n",
       "      <td>16.000000</td>\n",
       "      <td>24548.000000</td>\n",
       "      <td>2018.0</td>\n",
       "      <td>13.000000</td>\n",
       "      <td>3.990000</td>\n",
       "      <td>1.000000</td>\n",
       "    </tr>\n",
       "    <tr>\n",
       "      <th>25%</th>\n",
       "      <td>25.000000</td>\n",
       "      <td>24724.750000</td>\n",
       "      <td>2018.0</td>\n",
       "      <td>70.000000</td>\n",
       "      <td>9.990000</td>\n",
       "      <td>1.000000</td>\n",
       "    </tr>\n",
       "    <tr>\n",
       "      <th>50%</th>\n",
       "      <td>33.000000</td>\n",
       "      <td>24804.500000</td>\n",
       "      <td>2018.0</td>\n",
       "      <td>114.000000</td>\n",
       "      <td>19.990000</td>\n",
       "      <td>1.000000</td>\n",
       "    </tr>\n",
       "    <tr>\n",
       "      <th>75%</th>\n",
       "      <td>41.000000</td>\n",
       "      <td>25640.250000</td>\n",
       "      <td>2018.0</td>\n",
       "      <td>313.000000</td>\n",
       "      <td>29.990000</td>\n",
       "      <td>2.000000</td>\n",
       "    </tr>\n",
       "    <tr>\n",
       "      <th>max</th>\n",
       "      <td>68.000000</td>\n",
       "      <td>26060.000000</td>\n",
       "      <td>2018.0</td>\n",
       "      <td>4634.000000</td>\n",
       "      <td>349.990000</td>\n",
       "      <td>5.000000</td>\n",
       "    </tr>\n",
       "  </tbody>\n",
       "</table>\n",
       "</div>"
      ],
      "text/plain": [
       "              age        set_id    year       pieces    us_price    quantity\n",
       "count  620.000000    620.000000   620.0   551.000000  620.000000  620.000000\n",
       "mean    34.356452  25124.982258  2018.0   254.206897   29.041613    1.437097\n",
       "std     11.276537    506.760720     0.0   357.738804   34.630623    0.712849\n",
       "min     16.000000  24548.000000  2018.0    13.000000    3.990000    1.000000\n",
       "25%     25.000000  24724.750000  2018.0    70.000000    9.990000    1.000000\n",
       "50%     33.000000  24804.500000  2018.0   114.000000   19.990000    1.000000\n",
       "75%     41.000000  25640.250000  2018.0   313.000000   29.990000    2.000000\n",
       "max     68.000000  26060.000000  2018.0  4634.000000  349.990000    5.000000"
      ]
     },
     "execution_count": 36,
     "metadata": {},
     "output_type": "execute_result"
    }
   ],
   "source": [
    "DF.describe()"
   ]
  },
  {
   "cell_type": "markdown",
   "id": "627486bc-e6f6-4f56-b1f8-1f77725ecea2",
   "metadata": {},
   "source": [
    "2.  What are the three most common first names of purchasers?\n",
    " - As you can see, the top three most common first names in this data set are Jackson, Jacob, and Joseph."
   ]
  },
  {
   "cell_type": "code",
   "execution_count": 65,
   "id": "b70aa658-38f2-4665-bfaa-45b87c390e01",
   "metadata": {},
   "outputs": [
    {
     "data": {
      "text/html": [
       "<table id=\"itables_85fc6478_682c_463c_ac18_e7974566759b\" class=\"display nowrap\" data-quarto-disable-processing=\"true\" style=\"table-layout:auto;width:auto;margin:auto;caption-side:bottom\">\n",
       "<thead>\n",
       "    <tr style=\"text-align: right;\">\n",
       "      <th></th>\n",
       "      <th>count</th>\n",
       "    </tr>\n",
       "    <tr>\n",
       "      <th>first_name</th>\n",
       "      <th></th>\n",
       "    </tr>\n",
       "  </thead><tbody><tr>\n",
       "<td style=\"vertical-align:middle; text-align:left\">\n",
       "<div style=\"float:left; margin-right: 10px;\">\n",
       "<a href=https://mwouts.github.io/itables/><svg class=\"main-svg\" xmlns=\"http://www.w3.org/2000/svg\" xmlns:xlink=\"http://www.w3.org/1999/xlink\"\n",
       "width=\"64\" viewBox=\"0 0 500 400\" style=\"font-family: 'Droid Sans', sans-serif;\">\n",
       "    <g style=\"fill:#d9d7fc\">\n",
       "        <path d=\"M100,400H500V357H100Z\" />\n",
       "        <path d=\"M100,300H400V257H100Z\" />\n",
       "        <path d=\"M0,200H400V157H0Z\" />\n",
       "        <path d=\"M100,100H500V57H100Z\" />\n",
       "        <path d=\"M100,350H500V307H100Z\" />\n",
       "        <path d=\"M100,250H400V207H100Z\" />\n",
       "        <path d=\"M0,150H400V107H0Z\" />\n",
       "        <path d=\"M100,50H500V7H100Z\" />\n",
       "    </g>\n",
       "    <g style=\"fill:#1a1366;stroke:#1a1366;\">\n",
       "   <rect x=\"100\" y=\"7\" width=\"400\" height=\"43\">\n",
       "    <animate\n",
       "      attributeName=\"width\"\n",
       "      values=\"0;400;0\"\n",
       "      dur=\"5s\"\n",
       "      repeatCount=\"indefinite\" />\n",
       "      <animate\n",
       "      attributeName=\"x\"\n",
       "      values=\"100;100;500\"\n",
       "      dur=\"5s\"\n",
       "      repeatCount=\"indefinite\" />\n",
       "  </rect>\n",
       "        <rect x=\"0\" y=\"107\" width=\"400\" height=\"43\">\n",
       "    <animate\n",
       "      attributeName=\"width\"\n",
       "      values=\"0;400;0\"\n",
       "      dur=\"3.5s\"\n",
       "      repeatCount=\"indefinite\" />\n",
       "    <animate\n",
       "      attributeName=\"x\"\n",
       "      values=\"0;0;400\"\n",
       "      dur=\"3.5s\"\n",
       "      repeatCount=\"indefinite\" />\n",
       "  </rect>\n",
       "        <rect x=\"100\" y=\"207\" width=\"300\" height=\"43\">\n",
       "    <animate\n",
       "      attributeName=\"width\"\n",
       "      values=\"0;300;0\"\n",
       "      dur=\"3s\"\n",
       "      repeatCount=\"indefinite\" />\n",
       "    <animate\n",
       "      attributeName=\"x\"\n",
       "      values=\"100;100;400\"\n",
       "      dur=\"3s\"\n",
       "      repeatCount=\"indefinite\" />\n",
       "  </rect>\n",
       "        <rect x=\"100\" y=\"307\" width=\"400\" height=\"43\">\n",
       "    <animate\n",
       "      attributeName=\"width\"\n",
       "      values=\"0;400;0\"\n",
       "      dur=\"4s\"\n",
       "      repeatCount=\"indefinite\" />\n",
       "      <animate\n",
       "      attributeName=\"x\"\n",
       "      values=\"100;100;500\"\n",
       "      dur=\"4s\"\n",
       "      repeatCount=\"indefinite\" />\n",
       "  </rect>\n",
       "        <g style=\"fill:transparent;stroke-width:8; stroke-linejoin:round\" rx=\"5\">\n",
       "            <g transform=\"translate(45 50) rotate(-45)\">\n",
       "                <circle r=\"33\" cx=\"0\" cy=\"0\" />\n",
       "                <rect x=\"-8\" y=\"32\" width=\"16\" height=\"30\" />\n",
       "            </g>\n",
       "\n",
       "            <g transform=\"translate(450 152)\">\n",
       "                <polyline points=\"-15,-20 -35,-20 -35,40 25,40 25,20\" />\n",
       "                <rect x=\"-15\" y=\"-40\" width=\"60\" height=\"60\" />\n",
       "            </g>\n",
       "\n",
       "            <g transform=\"translate(50 352)\">\n",
       "                <polygon points=\"-35,-5 0,-40 35,-5\" />\n",
       "                <polygon points=\"-35,10 0,45 35,10\" />\n",
       "            </g>\n",
       "\n",
       "            <g transform=\"translate(75 250)\">\n",
       "                <polyline points=\"-30,30 -60,0 -30,-30\" />\n",
       "                <polyline points=\"0,30 -30,0 0,-30\" />\n",
       "            </g>\n",
       "\n",
       "            <g transform=\"translate(425 250) rotate(180)\">\n",
       "                <polyline points=\"-30,30 -60,0 -30,-30\" />\n",
       "                <polyline points=\"0,30 -30,0 0,-30\" />\n",
       "            </g>\n",
       "        </g>\n",
       "    </g>\n",
       "</svg>\n",
       "</a>\n",
       "</div>\n",
       "<div>\n",
       "Loading ITables v2.2.2 from the internet...\n",
       "(need <a href=https://mwouts.github.io/itables/troubleshooting.html>help</a>?)</td>\n",
       "</div>\n",
       "</tr></tbody>\n",
       "\n",
       "</table>\n",
       "<link href=\"https://www.unpkg.com/dt_for_itables@2.0.13/dt_bundle.css\" rel=\"stylesheet\">\n",
       "<script type=\"module\">\n",
       "    import {DataTable, jQuery as $} from 'https://www.unpkg.com/dt_for_itables@2.0.13/dt_bundle.js';\n",
       "\n",
       "    document.querySelectorAll(\"#itables_85fc6478_682c_463c_ac18_e7974566759b:not(.dataTable)\").forEach(table => {\n",
       "        if (!(table instanceof HTMLTableElement))\n",
       "            return;\n",
       "\n",
       "        // Define the table data\n",
       "        const data = [[\"Jackson\", 13], [\"Jacob\", 11], [\"Joseph\", 11], [\"Michael\", 10], [\"Kaitlyn\", 8], [\"Lucas\", 8], [\"Connor\", 8], [\"Audrey\", 8], [\"Amanda\", 7], [\"Joshua\", 7], [\"Sarah\", 6], [\"Paige\", 6], [\"Josie\", 6], [\"Katherine\", 6], [\"Spencer\", 6], [\"India\", 5], [\"Brianna\", 5], [\"Daniel\", 5], [\"Brandilyn\", 5], [\"Nicholas\", 5], [\"Ramses\", 5], [\"John\", 5], [\"Saige\", 5], [\"Tristin\", 5], [\"Abraham\", 5], [\"Austin\", 5], [\"Alina\", 5], [\"Celia\", 5], [\"Caroline\", 5], [\"Trevor\", 5], [\"Krista\", 5], [\"Benjamin\", 4], [\"Marisa\", 4], [\"Christian\", 4], [\"Tanner\", 4], [\"Jeffrey\", 4], [\"Megan\", 4], [\"Jake\", 4], [\"Natalia\", 4], [\"Senay\", 4], [\"Ursula\", 4], [\"Demetri\", 4], [\"Seth\", 4], [\"Vanessa\", 4], [\"Emilie\", 4], [\"Sean\", 4], [\"Meagan\", 4], [\"Melissa\", 4], [\"Elizabeth\", 4], [\"Jordan\", 4], [\"Katie\", 4], [\"Keyana\", 4], [\"Dylan\", 4], [\"Tyrii\", 4], [\"Lady\", 4], [\"Dustin\", 4], [\"Tysen\", 3], [\"Christina\", 3], [\"Trenidy\", 3], [\"Hector\", 3], [\"Elias\", 3], [\"Kayla\", 3], [\"Autriana\", 3], [\"Rebecca\", 3], [\"Morgan\", 3], [\"Shina\", 3], [\"Payton\", 3], [\"Alexandra\", 3], [\"Robert\", 3], [\"Ryan\", 3], [\"Orion\", 3], [\"Chelsea\", 3], [\"Colleen\", 3], [\"Reyes\", 3], [\"Taylor\", 3], [\"Tj\", 3], [\"Jaime\", 3], [\"Janay\", 3], [\"Neil\", 3], [\"Tian\", 3], [\"Eric\", 3], [\"Serena\", 3], [\"Hannah\", 3], [\"Jennifer\", 3], [\"Isabel\", 3], [\"Tynecia\", 3], [\"Eden\", 3], [\"Mario\", 3], [\"Aaron\", 3], [\"Blake\", 3], [\"Carolane\", 3], [\"Alex\", 3], [\"Ashley\", 3], [\"Lavie\", 3], [\"Dakota\", 3], [\"Samantha\", 3], [\"Alyssa\", 3], [\"Binh\", 3], [\"Peyton\", 3], [\"Madeline\", 3], [\"Manuel\", 3], [\"Jenny\", 3], [\"Jessy\", 3], [\"John Jay\", 2], [\"Shadae\", 2], [\"Kalynne\", 2], [\"Son\", 2], [\"Beemnet\", 2], [\"Shylynn\", 2], [\"Riley\", 2], [\"Xavier\", 2], [\"Amber\", 2], [\"Chayanne\", 2], [\"Brittany\", 2], [\"Daianaira\", 2], [\"Nerea\", 2], [\"Julianna\", 2], [\"Chisa\", 2], [\"Katrina\", 2], [\"Carson\", 2], [\"Cameron\", 2], [\"Bryanna\", 2], [\"Billlie\", 2], [\"Ramon\", 2], [\"Avery\", 2], [\"Sofia\", 2], [\"Abigayle\", 2], [\"Toni\", 2], [\"Neel\", 2], [\"Cartrell\", 2], [\"Dakotah\", 2], [\"Pa\", 2], [\"Annabelle\", 2], [\"Chase\", 2], [\"Anthony\", 2], [\"Caleb\", 2], [\"Makenzie\", 2], [\"Michelle\", 2], [\"Mason\", 2], [\"Brandon\", 2], [\"Juana\", 2], [\"Mitchell\", 2], [\"Gabriel\", 2], [\"Jessa\", 2], [\"Delmi\", 2], [\"Dominique\", 2], [\"Da Som\", 2], [\"Holly\", 2], [\"Francisco\", 2], [\"Christy\", 2], [\"Carolyn\", 2], [\"Aiden\", 2], [\"Sergey\", 2], [\"Jose\", 2], [\"Sagi\", 2], [\"Rachael\", 2], [\"Melanie\", 2], [\"Elyssa\", 2], [\"Isaac\", 2], [\"Jessie\", 2], [\"Alissa\", 2], [\"Adam\", 2], [\"Kelsey\", 2], [\"Matthew\", 2], [\"Amelia\", 2], [\"Steven\", 2], [\"Cody\", 2], [\"Siria\", 2], [\"Nadia\", 2], [\"Angel\", 2], [\"Shelby\", 2], [\"Ean\", 2], [\"Sara\", 2], [\"Gabrielle\", 1], [\"Kareena\", 1], [\"Rachelle\", 1], [\"George\", 1], [\"Alejandre\", 1], [\"Darian\", 1], [\"Brenden\", 1], [\"Van\", 1], [\"Lawrence\", 1], [\"Dominic\", 1], [\"Keith\", 1], [\"Sonny\", 1], [\"Aleksandr\", 1], [\"Gunnar\", 1], [\"David\", 1], [\"John'Dunae\", 1], [\"Justin\", 1], [\"Allison\", 1], [\"Cecilia\", 1], [\"Elaine\", 1], [\"Erik\", 1], [\"Adoria\", 1], [\"Kelly\", 1], [\"Peggy\", 1], [\"Hanibal\", 1], [\"Katelynn\", 1], [\"Maya\", 1], [\"Mckenzie\", 1], [\"Judith\", 1], [\"Trevon\", 1], [\"Kevin\", 1], [\"Stephanie\", 1], [\"Miles\", 1], [\"Talise\", 1], [\"Danait\", 1], [\"Asia\", 1], [\"Keno\", 1], [\"Kimberly\", 1]];\n",
       "\n",
       "        // Define the dt_args\n",
       "        let dt_args = {\"layout\": {\"topStart\": \"pageLength\", \"topEnd\": \"search\", \"bottomStart\": \"info\", \"bottomEnd\": \"paging\"}, \"order\": [], \"warn_on_selected_rows_not_rendered\": true};\n",
       "        dt_args[\"data\"] = data;\n",
       "\n",
       "        \n",
       "        new DataTable(table, dt_args);\n",
       "    });\n",
       "</script>\n"
      ],
      "text/plain": [
       "<IPython.core.display.HTML object>"
      ]
     },
     "metadata": {},
     "output_type": "display_data"
    }
   ],
   "source": [
    "DF_names = DF['first_name'].value_counts().sort_values(ascending = False)\n",
    "show(DF_names)"
   ]
  },
  {
   "cell_type": "markdown",
   "id": "ab0f09ec-2416-42ba-85f8-b5069696f40f",
   "metadata": {},
   "source": [
    "3.  What are the three most common themes of Lego sets purchased?\n",
    "    - As you can see, in this data set, the top three themes are Star Wars, Nexo Knights, and Gear."
   ]
  },
  {
   "cell_type": "code",
   "execution_count": 64,
   "id": "8b1838e8-0c81-47f5-b8a5-55a5164569de",
   "metadata": {},
   "outputs": [
    {
     "data": {
      "text/html": [
       "<table id=\"itables_ac92c35b_ec5b_4df4_9f5d_f6d72398bcdd\" class=\"display nowrap\" data-quarto-disable-processing=\"true\" style=\"table-layout:auto;width:auto;margin:auto;caption-side:bottom\">\n",
       "<thead>\n",
       "    <tr style=\"text-align: right;\">\n",
       "      <th></th>\n",
       "      <th>count</th>\n",
       "    </tr>\n",
       "    <tr>\n",
       "      <th>theme</th>\n",
       "      <th></th>\n",
       "    </tr>\n",
       "  </thead><tbody><tr>\n",
       "<td style=\"vertical-align:middle; text-align:left\">\n",
       "<div style=\"float:left; margin-right: 10px;\">\n",
       "<a href=https://mwouts.github.io/itables/><svg class=\"main-svg\" xmlns=\"http://www.w3.org/2000/svg\" xmlns:xlink=\"http://www.w3.org/1999/xlink\"\n",
       "width=\"64\" viewBox=\"0 0 500 400\" style=\"font-family: 'Droid Sans', sans-serif;\">\n",
       "    <g style=\"fill:#d9d7fc\">\n",
       "        <path d=\"M100,400H500V357H100Z\" />\n",
       "        <path d=\"M100,300H400V257H100Z\" />\n",
       "        <path d=\"M0,200H400V157H0Z\" />\n",
       "        <path d=\"M100,100H500V57H100Z\" />\n",
       "        <path d=\"M100,350H500V307H100Z\" />\n",
       "        <path d=\"M100,250H400V207H100Z\" />\n",
       "        <path d=\"M0,150H400V107H0Z\" />\n",
       "        <path d=\"M100,50H500V7H100Z\" />\n",
       "    </g>\n",
       "    <g style=\"fill:#1a1366;stroke:#1a1366;\">\n",
       "   <rect x=\"100\" y=\"7\" width=\"400\" height=\"43\">\n",
       "    <animate\n",
       "      attributeName=\"width\"\n",
       "      values=\"0;400;0\"\n",
       "      dur=\"5s\"\n",
       "      repeatCount=\"indefinite\" />\n",
       "      <animate\n",
       "      attributeName=\"x\"\n",
       "      values=\"100;100;500\"\n",
       "      dur=\"5s\"\n",
       "      repeatCount=\"indefinite\" />\n",
       "  </rect>\n",
       "        <rect x=\"0\" y=\"107\" width=\"400\" height=\"43\">\n",
       "    <animate\n",
       "      attributeName=\"width\"\n",
       "      values=\"0;400;0\"\n",
       "      dur=\"3.5s\"\n",
       "      repeatCount=\"indefinite\" />\n",
       "    <animate\n",
       "      attributeName=\"x\"\n",
       "      values=\"0;0;400\"\n",
       "      dur=\"3.5s\"\n",
       "      repeatCount=\"indefinite\" />\n",
       "  </rect>\n",
       "        <rect x=\"100\" y=\"207\" width=\"300\" height=\"43\">\n",
       "    <animate\n",
       "      attributeName=\"width\"\n",
       "      values=\"0;300;0\"\n",
       "      dur=\"3s\"\n",
       "      repeatCount=\"indefinite\" />\n",
       "    <animate\n",
       "      attributeName=\"x\"\n",
       "      values=\"100;100;400\"\n",
       "      dur=\"3s\"\n",
       "      repeatCount=\"indefinite\" />\n",
       "  </rect>\n",
       "        <rect x=\"100\" y=\"307\" width=\"400\" height=\"43\">\n",
       "    <animate\n",
       "      attributeName=\"width\"\n",
       "      values=\"0;400;0\"\n",
       "      dur=\"4s\"\n",
       "      repeatCount=\"indefinite\" />\n",
       "      <animate\n",
       "      attributeName=\"x\"\n",
       "      values=\"100;100;500\"\n",
       "      dur=\"4s\"\n",
       "      repeatCount=\"indefinite\" />\n",
       "  </rect>\n",
       "        <g style=\"fill:transparent;stroke-width:8; stroke-linejoin:round\" rx=\"5\">\n",
       "            <g transform=\"translate(45 50) rotate(-45)\">\n",
       "                <circle r=\"33\" cx=\"0\" cy=\"0\" />\n",
       "                <rect x=\"-8\" y=\"32\" width=\"16\" height=\"30\" />\n",
       "            </g>\n",
       "\n",
       "            <g transform=\"translate(450 152)\">\n",
       "                <polyline points=\"-15,-20 -35,-20 -35,40 25,40 25,20\" />\n",
       "                <rect x=\"-15\" y=\"-40\" width=\"60\" height=\"60\" />\n",
       "            </g>\n",
       "\n",
       "            <g transform=\"translate(50 352)\">\n",
       "                <polygon points=\"-35,-5 0,-40 35,-5\" />\n",
       "                <polygon points=\"-35,10 0,45 35,10\" />\n",
       "            </g>\n",
       "\n",
       "            <g transform=\"translate(75 250)\">\n",
       "                <polyline points=\"-30,30 -60,0 -30,-30\" />\n",
       "                <polyline points=\"0,30 -30,0 0,-30\" />\n",
       "            </g>\n",
       "\n",
       "            <g transform=\"translate(425 250) rotate(180)\">\n",
       "                <polyline points=\"-30,30 -60,0 -30,-30\" />\n",
       "                <polyline points=\"0,30 -30,0 0,-30\" />\n",
       "            </g>\n",
       "        </g>\n",
       "    </g>\n",
       "</svg>\n",
       "</a>\n",
       "</div>\n",
       "<div>\n",
       "Loading ITables v2.2.2 from the internet...\n",
       "(need <a href=https://mwouts.github.io/itables/troubleshooting.html>help</a>?)</td>\n",
       "</div>\n",
       "</tr></tbody>\n",
       "\n",
       "</table>\n",
       "<link href=\"https://www.unpkg.com/dt_for_itables@2.0.13/dt_bundle.css\" rel=\"stylesheet\">\n",
       "<script type=\"module\">\n",
       "    import {DataTable, jQuery as $} from 'https://www.unpkg.com/dt_for_itables@2.0.13/dt_bundle.js';\n",
       "\n",
       "    document.querySelectorAll(\"#itables_ac92c35b_ec5b_4df4_9f5d_f6d72398bcdd:not(.dataTable)\").forEach(table => {\n",
       "        if (!(table instanceof HTMLTableElement))\n",
       "            return;\n",
       "\n",
       "        // Define the table data\n",
       "        const data = [[\"Star Wars\", 75], [\"Nexo Knights\", 64], [\"Gear\", 55], [\"Mixels\", 55], [\"City\", 45], [\"Friends\", 42], [\"Ninjago\", 38], [\"Duplo\", 35], [\"Bionicle\", 34], [\"Creator\", 25], [\"DC Comics Super Heroes\", 22], [\"Elves\", 22], [\"Marvel Super Heroes\", 19], [\"Dimensions\", 18], [\"Disney Princess\", 15], [\"The Angry Birds Movie\", 11], [\"Technic\", 10], [\"Architecture\", 10], [\"Minecraft\", 9], [\"Advanced Models\", 4], [\"Ghostbusters\", 3], [\"Seasonal\", 3], [\"Collectable Minifigures\", 3], [\"Ideas\", 2], [\"Classic\", 1]];\n",
       "\n",
       "        // Define the dt_args\n",
       "        let dt_args = {\"layout\": {\"topStart\": \"pageLength\", \"topEnd\": \"search\", \"bottomStart\": \"info\", \"bottomEnd\": \"paging\"}, \"order\": [], \"warn_on_selected_rows_not_rendered\": true};\n",
       "        dt_args[\"data\"] = data;\n",
       "\n",
       "        \n",
       "        new DataTable(table, dt_args);\n",
       "    });\n",
       "</script>\n"
      ],
      "text/plain": [
       "<IPython.core.display.HTML object>"
      ]
     },
     "metadata": {},
     "output_type": "display_data"
    }
   ],
   "source": [
    "DF_top_themes = DF['theme'].value_counts().sort_values(ascending = False)\n",
    "show(DF_top_themes)"
   ]
  },
  {
   "cell_type": "markdown",
   "id": "f4b35a85-42eb-4697-ba19-1316b0bf5563",
   "metadata": {},
   "source": [
    "4.  Among the most common theme of Lego sets purchased, what is the most common subtheme?\n",
    "   - Looks like it's Ultimate, The Force Awakens, and Buildable Figures"
   ]
  },
  {
   "cell_type": "code",
   "execution_count": 66,
   "id": "b3ddb24c-0091-4b01-8214-49db41f31eb1",
   "metadata": {},
   "outputs": [
    {
     "data": {
      "text/plain": [
       "subtheme\n",
       "Ultimate                     22\n",
       "The Force Awakens            15\n",
       "Buildable Figures            11\n",
       "Episode V                    10\n",
       "MicroFighters                10\n",
       "Battlefront                   7\n",
       "Role-Play toys                7\n",
       "Stationery                    7\n",
       "Original Content              7\n",
       "Episode III                   6\n",
       "Key Chains/Friends            6\n",
       "Key Chains/Miscellaneous      6\n",
       "Video Games/PS3               5\n",
       "Key Chains/Ninjago            5\n",
       "Watches/Clocks                4\n",
       "Seasonal                      3\n",
       "Video Games/Wii U             3\n",
       "Rebels                        3\n",
       "Key Chains/City               3\n",
       "Video Games/3DS               2\n",
       "Video Games/XBOX 360          2\n",
       "Playmats                      2\n",
       "Episode IV                    2\n",
       "Digital Media                 2\n",
       "Ultimate Collector Series     1\n",
       "Digital media                 1\n",
       "Name: count, dtype: int64"
      ]
     },
     "execution_count": 66,
     "metadata": {},
     "output_type": "execute_result"
    }
   ],
   "source": [
    "themes_of_interest = ['Star Wars', 'Nexo Knights', 'Gear']\n",
    "filtered_df = DF[DF['theme'].isin(themes_of_interest)]\n",
    "most_common_subthemes = filtered_df['subtheme'].value_counts().sort_values(ascending=False)\n",
    "most_common_subthemes"
   ]
  },
  {
   "cell_type": "markdown",
   "id": "0cf42454-c3f9-41c1-bad5-2012eadcf228",
   "metadata": {},
   "source": [
    "5.  Create data frames for each of the ages in the following categories: \"18 and under\", \"19 - 25\", \"26 - 35\", \"36 - 50\", \"51 and over\". HINT - use masks and create separate data frames -OR- create a new column with these categorical labels (more advanced)."
   ]
  },
  {
   "cell_type": "code",
   "execution_count": 86,
   "id": "ad5ebe7f-be39-4cf2-8f73-019700c70e61",
   "metadata": {},
   "outputs": [
    {
     "data": {
      "text/html": [
       "<table id=\"itables_233f173f_8b95_48c2_b861_6d291d2da81a\" class=\"display nowrap\" data-quarto-disable-processing=\"true\" style=\"table-layout:auto;width:auto;margin:auto;caption-side:bottom\">\n",
       "<thead>\n",
       "    <tr style=\"text-align: right;\">\n",
       "      <th></th>\n",
       "      <th>first_name</th>\n",
       "      <th>last_name</th>\n",
       "      <th>age</th>\n",
       "      <th>phone_number</th>\n",
       "      <th>set_id</th>\n",
       "      <th>number</th>\n",
       "      <th>theme</th>\n",
       "      <th>subtheme</th>\n",
       "      <th>year</th>\n",
       "      <th>name</th>\n",
       "      <th>pieces</th>\n",
       "      <th>us_price</th>\n",
       "      <th>image_url</th>\n",
       "      <th>quantity</th>\n",
       "    </tr>\n",
       "  </thead><tbody><tr>\n",
       "<td style=\"vertical-align:middle; text-align:left\">\n",
       "<div style=\"float:left; margin-right: 10px;\">\n",
       "<a href=https://mwouts.github.io/itables/><svg class=\"main-svg\" xmlns=\"http://www.w3.org/2000/svg\" xmlns:xlink=\"http://www.w3.org/1999/xlink\"\n",
       "width=\"64\" viewBox=\"0 0 500 400\" style=\"font-family: 'Droid Sans', sans-serif;\">\n",
       "    <g style=\"fill:#d9d7fc\">\n",
       "        <path d=\"M100,400H500V357H100Z\" />\n",
       "        <path d=\"M100,300H400V257H100Z\" />\n",
       "        <path d=\"M0,200H400V157H0Z\" />\n",
       "        <path d=\"M100,100H500V57H100Z\" />\n",
       "        <path d=\"M100,350H500V307H100Z\" />\n",
       "        <path d=\"M100,250H400V207H100Z\" />\n",
       "        <path d=\"M0,150H400V107H0Z\" />\n",
       "        <path d=\"M100,50H500V7H100Z\" />\n",
       "    </g>\n",
       "    <g style=\"fill:#1a1366;stroke:#1a1366;\">\n",
       "   <rect x=\"100\" y=\"7\" width=\"400\" height=\"43\">\n",
       "    <animate\n",
       "      attributeName=\"width\"\n",
       "      values=\"0;400;0\"\n",
       "      dur=\"5s\"\n",
       "      repeatCount=\"indefinite\" />\n",
       "      <animate\n",
       "      attributeName=\"x\"\n",
       "      values=\"100;100;500\"\n",
       "      dur=\"5s\"\n",
       "      repeatCount=\"indefinite\" />\n",
       "  </rect>\n",
       "        <rect x=\"0\" y=\"107\" width=\"400\" height=\"43\">\n",
       "    <animate\n",
       "      attributeName=\"width\"\n",
       "      values=\"0;400;0\"\n",
       "      dur=\"3.5s\"\n",
       "      repeatCount=\"indefinite\" />\n",
       "    <animate\n",
       "      attributeName=\"x\"\n",
       "      values=\"0;0;400\"\n",
       "      dur=\"3.5s\"\n",
       "      repeatCount=\"indefinite\" />\n",
       "  </rect>\n",
       "        <rect x=\"100\" y=\"207\" width=\"300\" height=\"43\">\n",
       "    <animate\n",
       "      attributeName=\"width\"\n",
       "      values=\"0;300;0\"\n",
       "      dur=\"3s\"\n",
       "      repeatCount=\"indefinite\" />\n",
       "    <animate\n",
       "      attributeName=\"x\"\n",
       "      values=\"100;100;400\"\n",
       "      dur=\"3s\"\n",
       "      repeatCount=\"indefinite\" />\n",
       "  </rect>\n",
       "        <rect x=\"100\" y=\"307\" width=\"400\" height=\"43\">\n",
       "    <animate\n",
       "      attributeName=\"width\"\n",
       "      values=\"0;400;0\"\n",
       "      dur=\"4s\"\n",
       "      repeatCount=\"indefinite\" />\n",
       "      <animate\n",
       "      attributeName=\"x\"\n",
       "      values=\"100;100;500\"\n",
       "      dur=\"4s\"\n",
       "      repeatCount=\"indefinite\" />\n",
       "  </rect>\n",
       "        <g style=\"fill:transparent;stroke-width:8; stroke-linejoin:round\" rx=\"5\">\n",
       "            <g transform=\"translate(45 50) rotate(-45)\">\n",
       "                <circle r=\"33\" cx=\"0\" cy=\"0\" />\n",
       "                <rect x=\"-8\" y=\"32\" width=\"16\" height=\"30\" />\n",
       "            </g>\n",
       "\n",
       "            <g transform=\"translate(450 152)\">\n",
       "                <polyline points=\"-15,-20 -35,-20 -35,40 25,40 25,20\" />\n",
       "                <rect x=\"-15\" y=\"-40\" width=\"60\" height=\"60\" />\n",
       "            </g>\n",
       "\n",
       "            <g transform=\"translate(50 352)\">\n",
       "                <polygon points=\"-35,-5 0,-40 35,-5\" />\n",
       "                <polygon points=\"-35,10 0,45 35,10\" />\n",
       "            </g>\n",
       "\n",
       "            <g transform=\"translate(75 250)\">\n",
       "                <polyline points=\"-30,30 -60,0 -30,-30\" />\n",
       "                <polyline points=\"0,30 -30,0 0,-30\" />\n",
       "            </g>\n",
       "\n",
       "            <g transform=\"translate(425 250) rotate(180)\">\n",
       "                <polyline points=\"-30,30 -60,0 -30,-30\" />\n",
       "                <polyline points=\"0,30 -30,0 0,-30\" />\n",
       "            </g>\n",
       "        </g>\n",
       "    </g>\n",
       "</svg>\n",
       "</a>\n",
       "</div>\n",
       "<div>\n",
       "Loading ITables v2.2.2 from the internet...\n",
       "(need <a href=https://mwouts.github.io/itables/troubleshooting.html>help</a>?)</td>\n",
       "</div>\n",
       "</tr></tbody>\n",
       "\n",
       "</table>\n",
       "<link href=\"https://www.unpkg.com/dt_for_itables@2.0.13/dt_bundle.css\" rel=\"stylesheet\">\n",
       "<script type=\"module\">\n",
       "    import {DataTable, jQuery as $} from 'https://www.unpkg.com/dt_for_itables@2.0.13/dt_bundle.js';\n",
       "\n",
       "    document.querySelectorAll(\"#itables_233f173f_8b95_48c2_b861_6d291d2da81a:not(.dataTable)\").forEach(table => {\n",
       "        if (!(table instanceof HTMLTableElement))\n",
       "            return;\n",
       "\n",
       "        // Define the table data\n",
       "        const data = [[44, \"Michelle\", \"Uguccioni\", 17, \"NaN\", 24756, \"70310\", \"Nexo Knights\", \"NaN\", 2018, \"Knighton Battle Blaster\", 76.0, 9.99, \"http://images.brickset.com/sets/images/70310-1.jpg\", 1], [45, \"Michelle\", \"Uguccioni\", 17, \"NaN\", 24896, \"31046\", \"Creator\", \"NaN\", 2018, \"Fast Car\", 222.0, 19.99, \"http://images.brickset.com/sets/images/31046-1.jpg\", 1], [70, \"Lucas\", \"Jimenez-Dominguez\", 18, \"712-555-0459\", 24691, \"31043\", \"Creator\", \"NaN\", 2018, \"Chopper Transporter\", 124.0, 9.99, \"http://images.brickset.com/sets/images/31043-1.jpg\", 2], [71, \"Lucas\", \"Jimenez-Dominguez\", 18, \"712-555-0459\", 26034, \"41573\", \"Mixels\", \"Series 9\", 2018, \"Sweepz\", 61.0, 4.99, \"NaN\", 1], [72, \"Lucas\", \"Jimenez-Dominguez\", 18, \"712-555-0459\", 24704, \"41140\", \"Disney Princess\", \"Palace Pets\", 2018, \"Daisy's Beauty Salon\", 98.0, 9.99, \"http://images.brickset.com/sets/images/41140-1.jpg\", 1], [73, \"Lucas\", \"Jimenez-Dominguez\", 18, \"712-555-0459\", 24903, \"41558\", \"Mixels\", \"Series 7\", 2018, \"Mixadel\", 63.0, 4.99, \"http://images.brickset.com/sets/images/41558-1.jpg\", 2], [74, \"Lucas\", \"Jimenez-Dominguez\", 18, \"712-555-0459\", 26033, \"41572\", \"Mixels\", \"Series 9\", 2018, \"Gobbol\", 62.0, 4.99, \"NaN\", 1], [187, \"Chayanne\", \"Williams\", 17, \"869-555-6681\", 24678, \"60109\", \"City\", \"Fire\", 2018, \"Fire Boat\", 412.0, 79.99, \"http://images.brickset.com/sets/images/60109-1.jpg\", 2], [188, \"Chayanne\", \"Williams\", 17, \"869-555-6681\", 24697, \"76044\", \"DC Comics Super Heroes\", \"Batman v Superman: Dawn of Justice\", 2018, \"Clash of the Heroes\", 92.0, 12.99, \"http://images.brickset.com/sets/images/76044-1.jpg\", 1], [223, \"Michael\", \"Cruz\", 17, \"361-555-8212\", 24723, \"41172\", \"Elves\", \"NaN\", 2018, \"The Water Dragon Adventure\", 212.0, 19.99, \"http://images.brickset.com/sets/images/41172-1.jpg\", 1], [224, \"Michael\", \"Cruz\", 17, \"361-555-8212\", 24618, \"71238\", \"Dimensions\", \"Fun Pack\", 2018, \"Fun Pack: Cyberman\", 40.0, 14.99, \"http://images.brickset.com/sets/images/71238-1.jpg\", 1], [225, \"Michael\", \"Cruz\", 17, \"361-555-8212\", 24920, \"70605\", \"Ninjago\", \"Skybound\", 2018, \"Misfortune's Keep\", 754.0, 79.99, \"http://images.brickset.com/sets/images/70605-1.jpg\", 1], [284, \"Steven\", \"Washington\", 16, \"336-555-1433\", 25910, \"30347\", \"City\", \"Fire\", 2018, \"Fire Car\", 53.0, 3.99, \"http://images.brickset.com/sets/images/30347-1.jpg\", 1], [285, \"Steven\", \"Washington\", 16, \"336-555-1433\", 25893, \"30349\", \"City\", \"NaN\", 2018, \"Sports Car\", 47.0, 3.99, \"http://images.brickset.com/sets/images/30349-1.jpg\", 5], [286, \"Serena\", \"Bartkowiak\", 16, \"305-555-2377\", 24806, \"71311\", \"Bionicle\", \"Miscellaneous\", 2018, \"Kopaka and Melum - Unity set\", 171.0, 24.99, \"http://images.brickset.com/sets/images/71311-1.jpg\", 2], [287, \"Serena\", \"Bartkowiak\", 16, \"305-555-2377\", 24778, \"75113\", \"Star Wars\", \"Buildable Figures\", 2018, \"Rey\", 84.0, 19.99, \"http://images.brickset.com/sets/images/75113-1.jpg\", 1], [288, \"Serena\", \"Bartkowiak\", 16, \"305-555-2377\", 24987, \"40201\", \"Seasonal\", \"Valentine's Day\", 2018, \"Valentine's Cupid Dog\", 150.0, 9.99, \"http://images.brickset.com/sets/images/40201-1.jpg\", 1], [439, \"Aaron\", \"Bruner\", 18, \"914-555-5003\", 24679, \"60111\", \"City\", \"Fire\", 2018, \"Fire Utility Truck\", 368.0, 39.99, \"http://images.brickset.com/sets/images/60111-1.jpg\", 4], [440, \"Aaron\", \"Bruner\", 18, \"914-555-5003\", 24956, \"71300\", \"Bionicle\", \"companions\", 2018, \"Uxar - Creature of Jungle\", 89.0, 9.99, \"http://images.brickset.com/sets/images/71300-1.jpg\", 1], [441, \"Aaron\", \"Bruner\", 18, \"914-555-5003\", 24796, \"75137\", \"Star Wars\", \"Episode V\", 2018, \"Carbon-Freezing Chamber\", 231.0, 24.99, \"http://images.brickset.com/sets/images/75137-1.jpg\", 2], [443, \"Michael\", \"Donner\", 18, \"432-555-3069\", 24660, \"71241\", \"Dimensions\", \"Fun Pack\", 2018, \"Fun Pack: Slimer\", 33.0, 14.99, \"http://images.brickset.com/sets/images/71241-1.jpg\", 2], [444, \"Michael\", \"Donner\", 18, \"432-555-3069\", 24709, \"10803\", \"Duplo\", \"NaN\", 2018, \"Arctic\", 40.0, 29.99, \"http://images.brickset.com/sets/images/10803-1.jpg\", 1], [445, \"Michael\", \"Donner\", 18, \"432-555-3069\", 26059, \"5005060\", \"Gear\", \"Video Games/3DS\", 2018, \"Marvel Avengers Nintendo 3DS Video Game\", NaN, 29.99, \"http://images.brickset.com/sets/images/5005060-1.jpg\", 1], [476, \"Dylan\", \"Mcgrath\", 18, \"229-555-1970\", 24748, \"76050\", \"Marvel Super Heroes\", \"Captain America: Civil War\", 2018, \"Crossbones' Hazard Heist\", 179.0, 19.99, \"http://images.brickset.com/sets/images/76050-1.jpg\", 1], [477, \"Dylan\", \"Mcgrath\", 18, \"229-555-1970\", 25645, \"71314\", \"Bionicle\", \"Reboot Villains\", 2018, \"Storm Beast\", 109.0, 14.99, \"NaN\", 1], [611, \"Natalia\", \"Vonduyke\", 16, \"859-555-3818\", 25879, \"853534\", \"Gear\", \"Key Chains/Ninjago\", 2018, \"Airjitzu Jay Key Chain\", NaN, 5.99, \"http://images.brickset.com/sets/images/853534-1.jpg\", 2], [612, \"Natalia\", \"Vonduyke\", 16, \"859-555-3818\", 24714, \"10814\", \"Duplo\", \"NaN\", 2018, \"Tow Truck\", 28.0, 19.99, \"http://images.brickset.com/sets/images/10814-1.jpg\", 1], [613, \"Natalia\", \"Vonduyke\", 16, \"859-555-3818\", 24765, \"70332\", \"Nexo Knights\", \"Ultimate\", 2018, \"Ultimate Aaron\", 82.0, 9.99, \"http://images.brickset.com/sets/images/70332-1.jpg\", 1], [614, \"Natalia\", \"Vonduyke\", 16, \"859-555-3818\", 25922, \"75149\", \"Star Wars\", \"The Force Awakens\", 2018, \"Resistance X-wing Fighter\", 740.0, 79.99, \"http://images.brickset.com/sets/images/75149-1.jpg\", 1], [615, \"Talise\", \"Nieukirk\", 16, \"801-555-2343\", 24902, \"41556\", \"Mixels\", \"Series 7\", 2018, \"Tiketz\", 62.0, 4.99, \"http://images.brickset.com/sets/images/41556-1.jpg\", 2]];\n",
       "\n",
       "        // Define the dt_args\n",
       "        let dt_args = {\"layout\": {\"topStart\": \"pageLength\", \"topEnd\": \"search\", \"bottomStart\": \"info\", \"bottomEnd\": \"paging\"}, \"order\": [], \"warn_on_selected_rows_not_rendered\": true};\n",
       "        dt_args[\"data\"] = data;\n",
       "\n",
       "        \n",
       "        new DataTable(table, dt_args);\n",
       "    });\n",
       "</script>\n"
      ],
      "text/plain": [
       "<IPython.core.display.HTML object>"
      ]
     },
     "metadata": {},
     "output_type": "display_data"
    },
    {
     "data": {
      "text/html": [
       "<table id=\"itables_4f42faf2_a25a_47b1_a114_0da1aa11d9a4\" class=\"display nowrap\" data-quarto-disable-processing=\"true\" style=\"table-layout:auto;width:auto;margin:auto;caption-side:bottom\">\n",
       "<thead>\n",
       "    <tr style=\"text-align: right;\">\n",
       "      <th></th>\n",
       "      <th>first_name</th>\n",
       "      <th>last_name</th>\n",
       "      <th>age</th>\n",
       "      <th>phone_number</th>\n",
       "      <th>set_id</th>\n",
       "      <th>number</th>\n",
       "      <th>theme</th>\n",
       "      <th>subtheme</th>\n",
       "      <th>year</th>\n",
       "      <th>name</th>\n",
       "      <th>pieces</th>\n",
       "      <th>us_price</th>\n",
       "      <th>image_url</th>\n",
       "      <th>quantity</th>\n",
       "    </tr>\n",
       "  </thead><tbody><tr>\n",
       "<td style=\"vertical-align:middle; text-align:left\">\n",
       "<div style=\"float:left; margin-right: 10px;\">\n",
       "<a href=https://mwouts.github.io/itables/><svg class=\"main-svg\" xmlns=\"http://www.w3.org/2000/svg\" xmlns:xlink=\"http://www.w3.org/1999/xlink\"\n",
       "width=\"64\" viewBox=\"0 0 500 400\" style=\"font-family: 'Droid Sans', sans-serif;\">\n",
       "    <g style=\"fill:#d9d7fc\">\n",
       "        <path d=\"M100,400H500V357H100Z\" />\n",
       "        <path d=\"M100,300H400V257H100Z\" />\n",
       "        <path d=\"M0,200H400V157H0Z\" />\n",
       "        <path d=\"M100,100H500V57H100Z\" />\n",
       "        <path d=\"M100,350H500V307H100Z\" />\n",
       "        <path d=\"M100,250H400V207H100Z\" />\n",
       "        <path d=\"M0,150H400V107H0Z\" />\n",
       "        <path d=\"M100,50H500V7H100Z\" />\n",
       "    </g>\n",
       "    <g style=\"fill:#1a1366;stroke:#1a1366;\">\n",
       "   <rect x=\"100\" y=\"7\" width=\"400\" height=\"43\">\n",
       "    <animate\n",
       "      attributeName=\"width\"\n",
       "      values=\"0;400;0\"\n",
       "      dur=\"5s\"\n",
       "      repeatCount=\"indefinite\" />\n",
       "      <animate\n",
       "      attributeName=\"x\"\n",
       "      values=\"100;100;500\"\n",
       "      dur=\"5s\"\n",
       "      repeatCount=\"indefinite\" />\n",
       "  </rect>\n",
       "        <rect x=\"0\" y=\"107\" width=\"400\" height=\"43\">\n",
       "    <animate\n",
       "      attributeName=\"width\"\n",
       "      values=\"0;400;0\"\n",
       "      dur=\"3.5s\"\n",
       "      repeatCount=\"indefinite\" />\n",
       "    <animate\n",
       "      attributeName=\"x\"\n",
       "      values=\"0;0;400\"\n",
       "      dur=\"3.5s\"\n",
       "      repeatCount=\"indefinite\" />\n",
       "  </rect>\n",
       "        <rect x=\"100\" y=\"207\" width=\"300\" height=\"43\">\n",
       "    <animate\n",
       "      attributeName=\"width\"\n",
       "      values=\"0;300;0\"\n",
       "      dur=\"3s\"\n",
       "      repeatCount=\"indefinite\" />\n",
       "    <animate\n",
       "      attributeName=\"x\"\n",
       "      values=\"100;100;400\"\n",
       "      dur=\"3s\"\n",
       "      repeatCount=\"indefinite\" />\n",
       "  </rect>\n",
       "        <rect x=\"100\" y=\"307\" width=\"400\" height=\"43\">\n",
       "    <animate\n",
       "      attributeName=\"width\"\n",
       "      values=\"0;400;0\"\n",
       "      dur=\"4s\"\n",
       "      repeatCount=\"indefinite\" />\n",
       "      <animate\n",
       "      attributeName=\"x\"\n",
       "      values=\"100;100;500\"\n",
       "      dur=\"4s\"\n",
       "      repeatCount=\"indefinite\" />\n",
       "  </rect>\n",
       "        <g style=\"fill:transparent;stroke-width:8; stroke-linejoin:round\" rx=\"5\">\n",
       "            <g transform=\"translate(45 50) rotate(-45)\">\n",
       "                <circle r=\"33\" cx=\"0\" cy=\"0\" />\n",
       "                <rect x=\"-8\" y=\"32\" width=\"16\" height=\"30\" />\n",
       "            </g>\n",
       "\n",
       "            <g transform=\"translate(450 152)\">\n",
       "                <polyline points=\"-15,-20 -35,-20 -35,40 25,40 25,20\" />\n",
       "                <rect x=\"-15\" y=\"-40\" width=\"60\" height=\"60\" />\n",
       "            </g>\n",
       "\n",
       "            <g transform=\"translate(50 352)\">\n",
       "                <polygon points=\"-35,-5 0,-40 35,-5\" />\n",
       "                <polygon points=\"-35,10 0,45 35,10\" />\n",
       "            </g>\n",
       "\n",
       "            <g transform=\"translate(75 250)\">\n",
       "                <polyline points=\"-30,30 -60,0 -30,-30\" />\n",
       "                <polyline points=\"0,30 -30,0 0,-30\" />\n",
       "            </g>\n",
       "\n",
       "            <g transform=\"translate(425 250) rotate(180)\">\n",
       "                <polyline points=\"-30,30 -60,0 -30,-30\" />\n",
       "                <polyline points=\"0,30 -30,0 0,-30\" />\n",
       "            </g>\n",
       "        </g>\n",
       "    </g>\n",
       "</svg>\n",
       "</a>\n",
       "</div>\n",
       "<div>\n",
       "Loading ITables v2.2.2 from the internet...\n",
       "(need <a href=https://mwouts.github.io/itables/troubleshooting.html>help</a>?)</td>\n",
       "</div>\n",
       "</tr></tbody>\n",
       "\n",
       "</table>\n",
       "<link href=\"https://www.unpkg.com/dt_for_itables@2.0.13/dt_bundle.css\" rel=\"stylesheet\">\n",
       "<script type=\"module\">\n",
       "    import {DataTable, jQuery as $} from 'https://www.unpkg.com/dt_for_itables@2.0.13/dt_bundle.js';\n",
       "\n",
       "    document.querySelectorAll(\"#itables_4f42faf2_a25a_47b1_a114_0da1aa11d9a4:not(.dataTable)\").forEach(table => {\n",
       "        if (!(table instanceof HTMLTableElement))\n",
       "            return;\n",
       "\n",
       "        // Define the table data\n",
       "        const data = [[0, \"Kimberly\", \"Beckstead\", 24, \"216-555-2549\", 24701, \"76062\", \"DC Comics Super Heroes\", \"Mighty Micros\", 2018, \"Robin vs. Bane\", 77.0, 9.99, \"http://images.brickset.com/sets/images/76062-1.jpg\", 1], [6, \"Bryanna\", \"Welsh\", 19, \"NaN\", 24797, \"75138\", \"Star Wars\", \"Episode V\", 2018, \"Hoth Attack\", 233.0, 24.99, \"http://images.brickset.com/sets/images/75138-1.jpg\", 1], [7, \"Bryanna\", \"Welsh\", 19, \"NaN\", 24701, \"76062\", \"DC Comics Super Heroes\", \"Mighty Micros\", 2018, \"Robin vs. Bane\", 77.0, 9.99, \"http://images.brickset.com/sets/images/76062-1.jpg\", 3], [10, \"Chase\", \"Fortenberry\", 19, \"205-555-3704\", 24707, \"10801\", \"Duplo\", \"NaN\", 2018, \"Baby Animals\", 13.0, 9.99, \"http://images.brickset.com/sets/images/10801-1.jpg\", 1], [11, \"Chase\", \"Fortenberry\", 19, \"205-555-3704\", 24713, \"10809\", \"Duplo\", \"NaN\", 2018, \"Police Patrol\", 15.0, 14.99, \"http://images.brickset.com/sets/images/10809-1.jpg\", 1], [12, \"Kevin\", \"Cruz\", 20, \"947-555-7946\", 24767, \"70335\", \"Nexo Knights\", \"Ultimate\", 2018, \"Ultimate Lavaria\", 69.0, 9.99, \"http://images.brickset.com/sets/images/70335-1.jpg\", 2], [40, \"Hector\", \"Collins\", 20, \"340-555-2508\", 24781, \"75116\", \"Star Wars\", \"Buildable Figures\", 2018, \"Finn\", 98.0, 24.99, \"http://images.brickset.com/sets/images/75116-1.jpg\", 1], [41, \"Hector\", \"Collins\", 20, \"340-555-2508\", 24723, \"41172\", \"Elves\", \"NaN\", 2018, \"The Water Dragon Adventure\", 212.0, 19.99, \"http://images.brickset.com/sets/images/41172-1.jpg\", 1], [42, \"Hector\", \"Collins\", 20, \"340-555-2508\", 24627, \"75098\", \"Star Wars\", \"Ultimate Collector Series\", 2018, \"Assault on Hoth\", 2144.0, 249.99, \"http://images.brickset.com/sets/images/75098-1.jpg\", 1], [52, \"Amanda\", \"Musick\", 24, \"878-555-7113\", 25916, \"76054\", \"DC Comics Super Heroes\", \"Batman\", 2018, \"Batman: Scarecrow Harvest of Fear\", 563.0, 59.99, \"http://images.brickset.com/sets/images/76054-1.jpg\", 2], [54, \"Shina\", \"Hegarty\", 22, \"868-555-1868\", 24737, \"41135\", \"Friends\", \"Pop Star\", 2018, \"Livi's Pop Star House\", 597.0, 49.99, \"http://images.brickset.com/sets/images/41135-1.jpg\", 3], [55, \"Shina\", \"Hegarty\", 22, \"868-555-1868\", 24706, \"41142\", \"Disney Princess\", \"Palace Pets\", 2018, \"Palace Pets Royal Castle\", 186.0, 19.99, \"http://images.brickset.com/sets/images/41142-1.jpg\", 3], [56, \"Shina\", \"Hegarty\", 22, \"868-555-1868\", 24664, \"21028\", \"Architecture\", \"Skylines\", 2018, \"New York City\", 598.0, 59.99, \"http://images.brickset.com/sets/images/21028-1.jpg\", 1], [57, \"Anthony\", \"Kiyotake\", 22, \"980-555-0099\", 25007, \"41568\", \"Mixels\", \"Series 8\", 2018, \"Lewt\", 62.0, 4.99, \"http://images.brickset.com/sets/images/41568-1.jpg\", 1], [58, \"Anthony\", \"Kiyotake\", 22, \"980-555-0099\", 25883, \"853568\", \"Gear\", \"Key Chains/City\", 2018, \"Prison Guard Key Chain\", NaN, 5.99, \"http://images.brickset.com/sets/images/853568-1.jpg\", 1], [61, \"Kayla\", \"Rush\", 25, \"281-555-9341\", 24896, \"31046\", \"Creator\", \"NaN\", 2018, \"Fast Car\", 222.0, 19.99, \"http://images.brickset.com/sets/images/31046-1.jpg\", 1], [62, \"Kayla\", \"Rush\", 25, \"281-555-9341\", 24750, \"76065\", \"Marvel Super Heroes\", \"Mighty Micros\", 2018, \"Captain America vs. Red Skull\", 95.0, 9.99, \"http://images.brickset.com/sets/images/76065-1.jpg\", 1], [63, \"Kayla\", \"Rush\", 25, \"281-555-9341\", 25662, \"75824\", \"The Angry Birds Movie\", \"NaN\", 2018, \"Pig City Teardown\", 386.0, 39.99, \"http://images.brickset.com/sets/images/75824-1.jpg\", 1], [67, \"Peggy\", \"Hiner\", 21, \"563-555-1011\", 24734, \"41119\", \"Friends\", \"NaN\", 2018, \"Heartlake Cupcake Cafe\", 439.0, 39.99, \"http://images.brickset.com/sets/images/41119-1.jpg\", 1], [79, \"Trevon\", \"Thanh\", 25, \"NaN\", 25612, \"21128\", \"Minecraft\", \"Minifig-scale\", 2018, \"The Village\", NaN, 199.99, \"NaN\", 1], [80, \"John'Dunae\", \"Higgins\", 19, \"813-555-5561\", 24744, \"76046\", \"DC Comics Super Heroes\", \"Batman v Superman: Dawn of Justice\", 2018, \"Heroes of Justice: Sky High Battle\", 517.0, 59.99, \"http://images.brickset.com/sets/images/76046-1.jpg\", 1], [87, \"Eric\", \"Benally\", 20, \"418-555-3696\", 24761, \"70316\", \"Nexo Knights\", \"NaN\", 2018, \"Jestro's Evil Mobile\", 658.0, 59.99, \"http://images.brickset.com/sets/images/70316-1.jpg\", 1], [88, \"Eric\", \"Benally\", 20, \"418-555-3696\", 25634, \"70319\", \"Nexo Knights\", \"NaN\", 2018, \"Macy's Thunder Mace\", 202.0, 19.99, \"http://images.brickset.com/sets/images/70319-1.jpg\", 1], [89, \"Eric\", \"Benally\", 20, \"418-555-3696\", 24900, \"41122\", \"Friends\", \"Adventure Camp\", 2018, \"Adventure Camp Tree House\", 726.0, 79.99, \"http://images.brickset.com/sets/images/41122-1.jpg\", 1], [92, \"Samantha\", \"Haberland\", 21, \"705-555-1457\", 25668, \"75828\", \"Ghostbusters\", \"Reboot\", 2018, \"Ghostbusters Ecto-1 & Ecto-2\", NaN, 59.99, \"http://images.brickset.com/sets/images/75828-1.jpg\", 1], [93, \"Samantha\", \"Haberland\", 21, \"705-555-1457\", 25644, \"71313\", \"Bionicle\", \"Reboot Villains\", 2018, \"Lava Beast\", 114.0, 14.99, \"NaN\", 1], [94, \"Samantha\", \"Haberland\", 21, \"705-555-1457\", 24764, \"70333\", \"Nexo Knights\", \"Ultimate\", 2018, \"Ultimate Robin\", 75.0, 9.99, \"http://images.brickset.com/sets/images/70333-1.jpg\", 1], [100, \"Tyrii\", \"Bloom\", 23, \"784-555-7128\", 24759, \"70313\", \"Nexo Knights\", \"NaN\", 2018, \"Moltor's Lava Smasher\", 187.0, 19.99, \"http://images.brickset.com/sets/images/70313-1.jpg\", 1], [101, \"Tyrii\", \"Bloom\", 23, \"784-555-7128\", 24735, \"41120\", \"Friends\", \"Adventure Camp\", 2018, \"Adventure Camp Archery\", 114.0, 9.99, \"http://images.brickset.com/sets/images/41120-1.jpg\", 1], [102, \"Tyrii\", \"Bloom\", 23, \"784-555-7128\", 24692, \"31044\", \"Creator\", \"NaN\", 2018, \"Park Animals\", 202.0, 14.99, \"http://images.brickset.com/sets/images/31044-1.jpg\", 1], [103, \"Tyrii\", \"Bloom\", 23, \"784-555-7128\", 24737, \"41135\", \"Friends\", \"Pop Star\", 2018, \"Livi's Pop Star House\", 597.0, 49.99, \"http://images.brickset.com/sets/images/41135-1.jpg\", 3], [112, \"Binh\", \"Skalla\", 23, \"NaN\", 24685, \"60118\", \"City\", \"Traffic\", 2018, \"Garbage Truck\", 248.0, 19.99, \"http://images.brickset.com/sets/images/60118-1.jpg\", 1], [113, \"Binh\", \"Skalla\", 23, \"NaN\", 24781, \"75116\", \"Star Wars\", \"Buildable Figures\", 2018, \"Finn\", 98.0, 24.99, \"http://images.brickset.com/sets/images/75116-1.jpg\", 1], [114, \"Binh\", \"Skalla\", 23, \"NaN\", 24736, \"41121\", \"Friends\", \"Adventure Camp\", 2018, \"Adventure Camp Rafting\", 320.0, 29.99, \"http://images.brickset.com/sets/images/41121-1.jpg\", 1], [126, \"David\", \"Cabral\", 19, \"415-555-8642\", 24957, \"71309\", \"Bionicle\", \"Toa\", 2018, \"Onua - Uniter of Earth\", 143.0, 19.99, \"http://images.brickset.com/sets/images/71309-1.jpg\", 2], [128, \"Manuel\", \"Wilkerson\", 23, \"441-555-3652\", 24725, \"41174\", \"Elves\", \"NaN\", 2018, \"The Starlight Inn\", 343.0, 29.99, \"http://images.brickset.com/sets/images/41174-1.jpg\", 1], [129, \"Manuel\", \"Wilkerson\", 23, \"441-555-3652\", 24751, \"76066\", \"Marvel Super Heroes\", \"Mighty Micros\", 2018, \"Hulk vs. Ultron\", 80.0, 9.99, \"http://images.brickset.com/sets/images/76066-1.jpg\", 1], [130, \"Manuel\", \"Wilkerson\", 23, \"441-555-3652\", 24768, \"70599\", \"Ninjago\", \"Skybound\", 2018, \"Cole's Dragon\", 98.0, 9.99, \"http://images.brickset.com/sets/images/70599-1.jpg\", 2], [145, \"Kaitlyn\", \"Degeer\", 24, \"316-555-7890\", 25887, \"853543\", \"Ninjago\", \"NaN\", 2018, \"Ninjago Party Set\", 70.0, 7.99, \"http://images.brickset.com/sets/images/853543-1.jpg\", 1], [146, \"Kaitlyn\", \"Degeer\", 24, \"316-555-7890\", 24765, \"70332\", \"Nexo Knights\", \"Ultimate\", 2018, \"Ultimate Aaron\", 82.0, 9.99, \"http://images.brickset.com/sets/images/70332-1.jpg\", 2], [147, \"Kaitlyn\", \"Degeer\", 24, \"316-555-7890\", 26035, \"41574\", \"Mixels\", \"Series 9\", 2018, \"Compax\", 66.0, 4.99, \"NaN\", 1], [148, \"Kaitlyn\", \"Degeer\", 24, \"316-555-7890\", 24994, \"10251\", \"Advanced Models\", \"Modular Buildings\", 2018, \"Brick Bank\", 2380.0, 169.99, \"http://images.brickset.com/sets/images/10251-1.jpg\", 2], [149, \"Matthew\", \"Sandoval\", 22, \"671-555-7044\", 25660, \"75822\", \"The Angry Birds Movie\", \"NaN\", 2018, \"Piggy Plane Attack\", 168.0, 19.99, \"http://images.brickset.com/sets/images/75822-1.jpg\", 1], [150, \"Matthew\", \"Sandoval\", 22, \"671-555-7044\", 25884, \"853571\", \"Gear\", \"Key Chains/Miscellaneous\", 2018, \"Hot Dog Guy Key Chain\", NaN, 5.99, \"http://images.brickset.com/sets/images/853571-1.jpg\", 1], [179, \"Sonny\", \"Smith\", 24, \"246-555-7913\", 24699, \"76053\", \"DC Comics Super Heroes\", \"Batman\", 2018, \"Gotham City Cycle Chase\", 224.0, 19.99, \"http://images.brickset.com/sets/images/76053-1.jpg\", 1], [183, \"Asia\", \"Salyer\", 24, \"508-555-0418\", 24751, \"76066\", \"Marvel Super Heroes\", \"Mighty Micros\", 2018, \"Hulk vs. Ultron\", 80.0, 9.99, \"http://images.brickset.com/sets/images/76066-1.jpg\", 3], [189, \"Demetri\", \"Do\", 21, \"541-555-1433\", 24665, \"21031\", \"Architecture\", \"NaN\", 2018, \"Burj Khalifa\", 333.0, 39.99, \"http://images.brickset.com/sets/images/21031-1.jpg\", 1], [190, \"Demetri\", \"Do\", 21, \"541-555-1433\", 25620, \"70588\", \"Ninjago\", \"Rise of the Villains\", 2018, \"Titanium Ninja Tumbler \", 342.0, 29.99, \"NaN\", 4], [191, \"Demetri\", \"Do\", 21, \"541-555-1433\", 24917, \"70314\", \"Nexo Knights\", \"NaN\", 2018, \"Beast Master's Chaos Chariot\", 314.0, 29.99, \"http://images.brickset.com/sets/images/70314-1.jpg\", 2], [192, \"Demetri\", \"Do\", 21, \"541-555-1433\", 24794, \"75135\", \"Star Wars\", \"Episode III\", 2018, \"Obi-Wan's Jedi Interceptor\", 215.0, 24.99, \"http://images.brickset.com/sets/images/75135-1.jpg\", 1], [193, \"Brittany\", \"Mclellan\", 25, \"210-555-0265\", 24662, \"21026\", \"Architecture\", \"Skylines\", 2018, \"Venice\", 212.0, 29.99, \"http://images.brickset.com/sets/images/21026-1.jpg\", 2], [194, \"Brittany\", \"Mclellan\", 25, \"210-555-0265\", 24717, \"10818\", \"Duplo\", \"NaN\", 2018, \"My First Truck\", 29.0, 19.99, \"http://images.brickset.com/sets/images/10818-1.jpg\", 1], [217, \"Ramon\", \"Walker-Reese\", 23, \"NaN\", 24796, \"75137\", \"Star Wars\", \"Episode V\", 2018, \"Carbon-Freezing Chamber\", 231.0, 24.99, \"http://images.brickset.com/sets/images/75137-1.jpg\", 1], [218, \"Ramon\", \"Walker-Reese\", 23, \"NaN\", 25633, \"70318\", \"Nexo Knights\", \"NaN\", 2018, \"The Glob Lobber\", 95.0, 9.99, \"http://images.brickset.com/sets/images/70318-1.jpg\", 1], [219, \"Brandon\", \"Lopez\", 21, \"606-555-3903\", 24713, \"10809\", \"Duplo\", \"NaN\", 2018, \"Police Patrol\", 15.0, 14.99, \"http://images.brickset.com/sets/images/10809-1.jpg\", 1], [220, \"Brandon\", \"Lopez\", 21, \"606-555-3903\", 24660, \"71241\", \"Dimensions\", \"Fun Pack\", 2018, \"Fun Pack: Slimer\", 33.0, 14.99, \"http://images.brickset.com/sets/images/71241-1.jpg\", 1], [221, \"Sagi\", \"Heredia\", 19, \"989-555-3671\", 24898, \"41113\", \"Friends\", \"Party\", 2018, \"Party Gift Shop\", 52.0, 4.99, \"http://images.brickset.com/sets/images/41113-1.jpg\", 3], [222, \"Sagi\", \"Heredia\", 19, \"989-555-3671\", 25640, \"70325\", \"Nexo Knights\", \"NaN\", 2018, \"Infernox captures the Queen\", 253.0, 24.99, \"http://images.brickset.com/sets/images/70325-1.jpg\", 1], [240, \"Kareena\", \"Hagar\", 23, \"678-555-3786\", 25663, \"75825\", \"The Angry Birds Movie\", \"NaN\", 2018, \"Piggy Pirate Ship\", 620.0, 59.99, \"http://images.brickset.com/sets/images/75825-1.jpg\", 1], [268, \"Darian\", \"Smith\", 24, \"830-555-6006\", 26036, \"41575\", \"Mixels\", \"Series 9\", 2018, \"Cobrax\", 64.0, 4.99, \"NaN\", 1], [271, \"Lady\", \"Brown\", 21, \"856-555-0798\", 24723, \"41172\", \"Elves\", \"NaN\", 2018, \"The Water Dragon Adventure\", 212.0, 19.99, \"http://images.brickset.com/sets/images/41172-1.jpg\", 1], [272, \"Lady\", \"Brown\", 21, \"856-555-0798\", 24666, \"71301\", \"Bionicle\", \"Companions\", 2018, \"Ketar - Creature of Stone\", 80.0, 9.99, \"http://images.brickset.com/sets/images/71301-1.jpg\", 1], [273, \"Lady\", \"Brown\", 21, \"856-555-0798\", 24733, \"41118\", \"Friends\", \"NaN\", 2018, \"Heartlake Supermarket\", 313.0, 29.99, \"http://images.brickset.com/sets/images/41118-1.jpg\", 1], [274, \"Lady\", \"Brown\", 21, \"856-555-0798\", 24758, \"70312\", \"Nexo Knights\", \"NaN\", 2018, \"Lance's Mecha Horse\", 237.0, 19.99, \"http://images.brickset.com/sets/images/70312-1.jpg\", 1], [275, \"Sarah\", \"Wagner\", 20, \"NaN\", 24898, \"41113\", \"Friends\", \"Party\", 2018, \"Party Gift Shop\", 52.0, 4.99, \"http://images.brickset.com/sets/images/41113-1.jpg\", 1], [276, \"Sarah\", \"Wagner\", 20, \"NaN\", 24671, \"71306\", \"Bionicle\", \"Toa\", 2018, \"Pohatu - Uniter of Stone\", 90.0, 14.99, \"http://images.brickset.com/sets/images/71306-1.jpg\", 1], [277, \"Sarah\", \"Wagner\", 20, \"NaN\", 26026, \"41179\", \"Elves\", \"NaN\", 2018, \"Queen Dragon's Rescue\", 833.0, 69.99, \"NaN\", 1], [278, \"Sarah\", \"Wagner\", 20, \"NaN\", 24720, \"10830\", \"Duplo\", \"NaN\", 2018, \"Minnie's Caf\\u00e9\", 27.0, 19.99, \"http://images.brickset.com/sets/images/10830-1.jpg\", 1], [279, \"Sarah\", \"Wagner\", 20, \"NaN\", 24725, \"41174\", \"Elves\", \"NaN\", 2018, \"The Starlight Inn\", 343.0, 29.99, \"http://images.brickset.com/sets/images/41174-1.jpg\", 1], [298, \"Krista\", \"Gaines\", 24, \"307-555-5115\", 24697, \"76044\", \"DC Comics Super Heroes\", \"Batman v Superman: Dawn of Justice\", 2018, \"Clash of the Heroes\", 92.0, 12.99, \"http://images.brickset.com/sets/images/76044-1.jpg\", 1], [299, \"Krista\", \"Gaines\", 24, \"307-555-5115\", 26024, \"41177\", \"Elves\", \"NaN\", 2018, \"The Precious Crystal Mine\", 273.0, 29.99, \"http://images.brickset.com/sets/images/41177-1.jpg\", 1], [300, \"Krista\", \"Gaines\", 24, \"307-555-5115\", 24702, \"76063\", \"DC Comics Super Heroes\", \"Mighty Micros\", 2018, \"The Flash vs. Captain Cold\", 88.0, 9.99, \"http://images.brickset.com/sets/images/76063-1.jpg\", 2], [301, \"Krista\", \"Gaines\", 24, \"307-555-5115\", 24684, \"60117\", \"City\", \"Traffic\", 2018, \"Van & Caravan\", 250.0, 19.99, \"http://images.brickset.com/sets/images/60117-1.jpg\", 2], [302, \"Krista\", \"Gaines\", 24, \"307-555-5115\", 24714, \"10814\", \"Duplo\", \"NaN\", 2018, \"Tow Truck\", 28.0, 19.99, \"http://images.brickset.com/sets/images/10814-1.jpg\", 1], [309, \"Abraham\", \"Medlock\", 23, \"754-555-6047\", 26034, \"41573\", \"Mixels\", \"Series 9\", 2018, \"Sweepz\", 61.0, 4.99, \"NaN\", 1], [310, \"Abraham\", \"Medlock\", 23, \"754-555-6047\", 24724, \"41173\", \"Elves\", \"NaN\", 2018, \"Elvendale School of Dragons\", 230.0, 19.99, \"http://images.brickset.com/sets/images/41173-1.jpg\", 2], [311, \"Abraham\", \"Medlock\", 23, \"754-555-6047\", 24783, \"75118\", \"Star Wars\", \"Buildable Figures\", 2018, \"Captain Phasma\", 82.0, 24.99, \"http://images.brickset.com/sets/images/75118-1.jpg\", 1], [312, \"Abraham\", \"Medlock\", 23, \"754-555-6047\", 24709, \"10803\", \"Duplo\", \"NaN\", 2018, \"Arctic\", 40.0, 29.99, \"http://images.brickset.com/sets/images/10803-1.jpg\", 3], [313, \"Abraham\", \"Medlock\", 23, \"754-555-6047\", 25009, \"41570\", \"Mixels\", \"Series 8\", 2018, \"Skrubz\", 68.0, 4.99, \"http://images.brickset.com/sets/images/41570-1.jpg\", 1], [322, \"Makenzie\", \"Pitts\", 25, \"NaN\", 24792, \"75134\", \"Star Wars\", \"Battlefront\", 2018, \"Galactic Empire Battle Pack\", 109.0, 12.99, \"http://images.brickset.com/sets/images/75134-1.jpg\", 1], [323, \"Makenzie\", \"Pitts\", 25, \"NaN\", 26037, \"41576\", \"Mixels\", \"Series 9\", 2018, \"Spinza\", 60.0, 4.99, \"NaN\", 2], [337, \"Meagan\", \"Burke\", 22, \"316-555-5143\", 24769, \"70600\", \"Ninjago\", \"Skybound\", 2018, \"Ninja Bike Chase\", 231.0, 19.99, \"http://images.brickset.com/sets/images/70600-1.jpg\", 1], [338, \"Meagan\", \"Burke\", 22, \"316-555-5143\", 24705, \"41141\", \"Disney Princess\", \"Palace Pets\", 2018, \"Pumpkin's Royal Carriage\", 79.0, 9.99, \"http://images.brickset.com/sets/images/41141-1.jpg\", 1], [339, \"Meagan\", \"Burke\", 22, \"316-555-5143\", 24668, \"71303\", \"Bionicle\", \"Companions\", 2018, \"Ikir - Creature of Fire\", 77.0, 9.99, \"http://images.brickset.com/sets/images/71303-1.jpg\", 1], [340, \"Meagan\", \"Burke\", 22, \"316-555-5143\", 25901, \"5004612\", \"Gear\", \"Watches/Clocks\", 2018, \"Lucy Wyldstyle Minifigure Link Watch\", NaN, 24.99, \"http://images.brickset.com/sets/images/5004612-1.jpg\", 1], [352, \"Shadae\", \"Chidel\", 20, \"406-555-0853\", 24661, \"71233\", \"Dimensions\", \"Fun Pack\", 2018, \"Fun Pack: Stay Puft\", 65.0, 14.99, \"http://images.brickset.com/sets/images/71233-1.jpg\", 2], [353, \"Shadae\", \"Chidel\", 20, \"406-555-0853\", 24705, \"41141\", \"Disney Princess\", \"Palace Pets\", 2018, \"Pumpkin's Royal Carriage\", 79.0, 9.99, \"http://images.brickset.com/sets/images/41141-1.jpg\", 1], [369, \"Justin\", \"Hiner\", 23, \"212-555-7274\", 24797, \"75138\", \"Star Wars\", \"Episode V\", 2018, \"Hoth Attack\", 233.0, 24.99, \"http://images.brickset.com/sets/images/75138-1.jpg\", 1], [370, \"Brianna\", \"Biery\", 20, \"443-555-5650\", 25656, \"10804\", \"Duplo\", \"NaN\", 2018, \"Jungle\", 86.0, 49.99, \"http://images.brickset.com/sets/images/10804-1.jpg\", 2], [371, \"Brianna\", \"Biery\", 20, \"443-555-5650\", 24898, \"41113\", \"Friends\", \"Party\", 2018, \"Party Gift Shop\", 52.0, 4.99, \"http://images.brickset.com/sets/images/41113-1.jpg\", 1], [374, \"Allison\", \"English\", 20, \"308-555-8064\", 24757, \"70311\", \"Nexo Knights\", \"NaN\", 2018, \"Chaos Catapult\", 93.0, 9.99, \"http://images.brickset.com/sets/images/70311-1.jpg\", 1], [386, \"Seth\", \"Foley\", 24, \"NaN\", 24903, \"41558\", \"Mixels\", \"Series 7\", 2018, \"Mixadel\", 63.0, 4.99, \"http://images.brickset.com/sets/images/41558-1.jpg\", 2], [387, \"Seth\", \"Foley\", 24, \"NaN\", 24750, \"76065\", \"Marvel Super Heroes\", \"Mighty Micros\", 2018, \"Captain America vs. Red Skull\", 95.0, 9.99, \"http://images.brickset.com/sets/images/76065-1.jpg\", 1], [388, \"Seth\", \"Foley\", 24, \"NaN\", 25875, \"853570\", \"City\", \"Police\", 2018, \"Police Accessory Set\", 26.0, 14.99, \"http://images.brickset.com/sets/images/853570-1.jpg\", 2], [389, \"Seth\", \"Foley\", 24, \"NaN\", 25594, \"71011\", \"Collectable Minifigures\", \"Series 15\", 2018, \"LEGO Minifigures - Series 15 - Sealed Box\", NaN, 3.99, \"http://images.brickset.com/sets/images/71011-18.jpg\", 1], [405, \"Alina\", \"Calerich\", 22, \"480-555-5897\", 24731, \"41116\", \"Friends\", \"NaN\", 2018, \"Olivia's Exploration Car\", 185.0, 14.99, \"http://images.brickset.com/sets/images/41116-1.jpg\", 1], [406, \"Alina\", \"Calerich\", 22, \"480-555-5897\", 24727, \"41176\", \"Elves\", \"NaN\", 2018, \"The Secret Market Place\", 691.0, 59.99, \"http://images.brickset.com/sets/images/41176-1.jpg\", 1], [407, \"Alina\", \"Calerich\", 22, \"480-555-5897\", 24915, \"60130\", \"City\", \"Police\", 2018, \"Prison Island\", 754.0, 89.99, \"http://images.brickset.com/sets/images/60130-1.jpg\", 1], [408, \"Alina\", \"Calerich\", 22, \"480-555-5897\", 25897, \"853551\", \"Gear\", \"Key Chains/Friends\", 2018, \"Olivia Key Chain\", NaN, 5.99, \"http://images.brickset.com/sets/images/853551-1.jpg\", 1], [409, \"Alina\", \"Calerich\", 22, \"480-555-5897\", 24673, \"71308\", \"Bionicle\", \"Toa\", 2018, \"Tahu - Uniter of Fire\", 132.0, 19.99, \"http://images.brickset.com/sets/images/71308-1.jpg\", 1], [467, \"Keith\", \"Atwood\", 25, \"NaN\", 24804, \"42048\", \"Technic\", \"NaN\", 2018, \"Race Kart\", 345.0, 29.99, \"http://images.brickset.com/sets/images/42048-1.jpg\", 1], [468, \"John\", \"Ellis\", 24, \"815-555-9436\", 26057, \"5005058\", \"Gear\", \"Video Games/Wii U\", 2018, \"Marvel Avengers Wii U Video Game\", NaN, 49.99, \"http://images.brickset.com/sets/images/5005058-1.jpg\", 1], [469, \"Tynecia\", \"Kramer\", 20, \"778-555-0036\", 24731, \"41116\", \"Friends\", \"NaN\", 2018, \"Olivia's Exploration Car\", 185.0, 14.99, \"http://images.brickset.com/sets/images/41116-1.jpg\", 1], [470, \"Tynecia\", \"Kramer\", 20, \"778-555-0036\", 24770, \"70602\", \"Ninjago\", \"Skybound\", 2018, \"Jay's Elemental Dragon\", 350.0, 29.99, \"http://images.brickset.com/sets/images/70602-1.jpg\", 1], [471, \"Tynecia\", \"Kramer\", 20, \"778-555-0036\", 25658, \"21305\", \"Ideas\", \"NaN\", 2018, \"Maze\", 769.0, 69.99, \"NaN\", 2], [489, \"Ryan\", \"Marquez\", 25, \"281-555-0811\", 24766, \"70334\", \"Nexo Knights\", \"Ultimate\", 2018, \"Ultimate Beast Master\", 65.0, 9.99, \"http://images.brickset.com/sets/images/70334-1.jpg\", 1], [490, \"Ryan\", \"Marquez\", 25, \"281-555-0811\", 25898, \"75145\", \"Star Wars\", \"Original Content\", 2018, \"Eclipse Fighter\", 363.0, 29.99, \"http://images.brickset.com/sets/images/75145-1.jpg\", 1], [491, \"Ryan\", \"Marquez\", 25, \"281-555-0811\", 24618, \"71238\", \"Dimensions\", \"Fun Pack\", 2018, \"Fun Pack: Cyberman\", 40.0, 14.99, \"http://images.brickset.com/sets/images/71238-1.jpg\", 1], [507, \"Alexandra\", \"Leinhart\", 24, \"551-555-8769\", 24736, \"41121\", \"Friends\", \"Adventure Camp\", 2018, \"Adventure Camp Rafting\", 320.0, 29.99, \"http://images.brickset.com/sets/images/41121-1.jpg\", 2], [508, \"Alexandra\", \"Leinhart\", 24, \"551-555-8769\", 24762, \"70330\", \"Nexo Knights\", \"Ultimate\", 2018, \"Ultimate Clay\", 72.0, 9.99, \"http://images.brickset.com/sets/images/70330-1.jpg\", 1], [509, \"Alexandra\", \"Leinhart\", 24, \"551-555-8769\", 25635, \"70320\", \"Nexo Knights\", \"NaN\", 2018, \"Aaron Fox's Aero-Striker V2\", 301.0, 29.99, \"http://images.brickset.com/sets/images/70320-1.jpg\", 2], [521, \"Jacob\", \"Scott\", 23, \"312-555-5114\", 24691, \"31043\", \"Creator\", \"NaN\", 2018, \"Chopper Transporter\", 124.0, 9.99, \"http://images.brickset.com/sets/images/31043-1.jpg\", 2], [522, \"Jacob\", \"Scott\", 23, \"312-555-5114\", 24672, \"71307\", \"Bionicle\", \"Toa\", 2018, \"Gali - Uniter of Water\", 87.0, 14.99, \"http://images.brickset.com/sets/images/71307-1.jpg\", 1], [526, \"Amanda\", \"Hunter\", 21, \"NaN\", 25655, \"10826\", \"Duplo\", \"Miles from Tomorrowland\", 2018, \"Miles' Stellosphere Hangar\", 44.0, 34.99, \"http://images.brickset.com/sets/images/10826-1.jpg\", 2], [527, \"Amanda\", \"Hunter\", 21, \"NaN\", 24666, \"71301\", \"Bionicle\", \"Companions\", 2018, \"Ketar - Creature of Stone\", 80.0, 9.99, \"http://images.brickset.com/sets/images/71301-1.jpg\", 1], [539, \"Lawrence\", \"Lewis\", 21, \"602-555-4393\", 24663, \"21027\", \"Architecture\", \"Skylines\", 2018, \"Berlin\", 289.0, 29.99, \"http://images.brickset.com/sets/images/21027-1.jpg\", 2], [570, \"Morgan\", \"Andreas\", 22, \"785-555-6517\", 25002, \"41563\", \"Mixels\", \"Series 8\", 2018, \"Splasho\", 67.0, 4.99, \"http://images.brickset.com/sets/images/41563-1.jpg\", 2], [571, \"Morgan\", \"Andreas\", 22, \"785-555-6517\", 24918, \"70317\", \"Nexo Knights\", \"NaN\", 2018, \"The Fortrex\", 1140.0, 99.99, \"http://images.brickset.com/sets/images/70317-1.jpg\", 1], [572, \"Morgan\", \"Andreas\", 22, \"785-555-6517\", 24675, \"60106\", \"City\", \"Fire\", 2018, \"Fire Starter Set\", 90.0, 9.99, \"http://images.brickset.com/sets/images/60106-1.jpg\", 1], [581, \"Tanner\", \"Dockstader\", 21, \"573-555-4274\", 24789, \"75130\", \"Star Wars\", \"MicroFighters\", 2018, \"AT-DP\", 76.0, 9.99, \"http://images.brickset.com/sets/images/75130-1.jpg\", 1], [582, \"Tanner\", \"Dockstader\", 21, \"573-555-4274\", 24690, \"31042\", \"Creator\", \"NaN\", 2018, \"Super Soarer\", 100.0, 9.99, \"http://images.brickset.com/sets/images/31042-1.jpg\", 2], [583, \"Tanner\", \"Dockstader\", 21, \"573-555-4274\", 25917, \"76058\", \"Marvel Super Heroes\", \"Ultimate Spider-Man\", 2018, \"Spider-Man: Ghost Rider Team-Up\", 217.0, 19.99, \"http://images.brickset.com/sets/images/76058-1.jpg\", 1], [584, \"Tanner\", \"Dockstader\", 21, \"573-555-4274\", 24692, \"31044\", \"Creator\", \"NaN\", 2018, \"Park Animals\", 202.0, 14.99, \"http://images.brickset.com/sets/images/31044-1.jpg\", 2], [590, \"Paige\", \"Ice\", 21, \"NaN\", 24682, \"60115\", \"City\", \"Traffic\", 2018, \"4 x 4 Off Roader\", 176.0, 19.99, \"http://images.brickset.com/sets/images/60115-1.jpg\", 1], [591, \"Paige\", \"Ice\", 21, \"NaN\", 26038, \"41577\", \"Mixels\", \"Series 9\", 2018, \"Mysto\", 64.0, 4.99, \"NaN\", 1], [592, \"Aiden\", \"Ganley\", 19, \"786-555-5067\", 25639, \"70324\", \"Nexo Knights\", \"NaN\", 2018, \"Merlok's Library 2.0\", 288.0, 24.99, \"http://images.brickset.com/sets/images/70324-1.jpg\", 1], [593, \"Aiden\", \"Ganley\", 19, \"786-555-5067\", 24756, \"70310\", \"Nexo Knights\", \"NaN\", 2018, \"Knighton Battle Blaster\", 76.0, 9.99, \"http://images.brickset.com/sets/images/70310-1.jpg\", 2], [608, \"Carolyn\", \"Quarry\", 23, \"567-555-7649\", 25627, \"70596\", \"Ninjago\", \"Rise of the Villains\", 2018, \"Samurai X Cave Chaos\", 1253.0, 119.99, \"NaN\", 2], [609, \"Carolyn\", \"Quarry\", 23, \"567-555-7649\", 24806, \"71311\", \"Bionicle\", \"Miscellaneous\", 2018, \"Kopaka and Melum - Unity set\", 171.0, 24.99, \"http://images.brickset.com/sets/images/71311-1.jpg\", 2]];\n",
       "\n",
       "        // Define the dt_args\n",
       "        let dt_args = {\"layout\": {\"topStart\": \"pageLength\", \"topEnd\": \"search\", \"bottomStart\": \"info\", \"bottomEnd\": \"paging\"}, \"order\": [], \"warn_on_selected_rows_not_rendered\": true};\n",
       "        dt_args[\"data\"] = data;\n",
       "\n",
       "        \n",
       "        new DataTable(table, dt_args);\n",
       "    });\n",
       "</script>\n"
      ],
      "text/plain": [
       "<IPython.core.display.HTML object>"
      ]
     },
     "metadata": {},
     "output_type": "display_data"
    },
    {
     "data": {
      "text/html": [
       "<table id=\"itables_f1f6cc38_39d5_4159_9647_40612a428981\" class=\"display nowrap\" data-quarto-disable-processing=\"true\" style=\"table-layout:auto;width:auto;margin:auto;caption-side:bottom\">\n",
       "<thead>\n",
       "    <tr style=\"text-align: right;\">\n",
       "      <th></th>\n",
       "      <th>first_name</th>\n",
       "      <th>last_name</th>\n",
       "      <th>age</th>\n",
       "      <th>phone_number</th>\n",
       "      <th>set_id</th>\n",
       "      <th>number</th>\n",
       "      <th>theme</th>\n",
       "      <th>subtheme</th>\n",
       "      <th>year</th>\n",
       "      <th>name</th>\n",
       "      <th>pieces</th>\n",
       "      <th>us_price</th>\n",
       "      <th>image_url</th>\n",
       "      <th>quantity</th>\n",
       "    </tr>\n",
       "  </thead><tbody><tr>\n",
       "<td style=\"vertical-align:middle; text-align:left\">\n",
       "<div style=\"float:left; margin-right: 10px;\">\n",
       "<a href=https://mwouts.github.io/itables/><svg class=\"main-svg\" xmlns=\"http://www.w3.org/2000/svg\" xmlns:xlink=\"http://www.w3.org/1999/xlink\"\n",
       "width=\"64\" viewBox=\"0 0 500 400\" style=\"font-family: 'Droid Sans', sans-serif;\">\n",
       "    <g style=\"fill:#d9d7fc\">\n",
       "        <path d=\"M100,400H500V357H100Z\" />\n",
       "        <path d=\"M100,300H400V257H100Z\" />\n",
       "        <path d=\"M0,200H400V157H0Z\" />\n",
       "        <path d=\"M100,100H500V57H100Z\" />\n",
       "        <path d=\"M100,350H500V307H100Z\" />\n",
       "        <path d=\"M100,250H400V207H100Z\" />\n",
       "        <path d=\"M0,150H400V107H0Z\" />\n",
       "        <path d=\"M100,50H500V7H100Z\" />\n",
       "    </g>\n",
       "    <g style=\"fill:#1a1366;stroke:#1a1366;\">\n",
       "   <rect x=\"100\" y=\"7\" width=\"400\" height=\"43\">\n",
       "    <animate\n",
       "      attributeName=\"width\"\n",
       "      values=\"0;400;0\"\n",
       "      dur=\"5s\"\n",
       "      repeatCount=\"indefinite\" />\n",
       "      <animate\n",
       "      attributeName=\"x\"\n",
       "      values=\"100;100;500\"\n",
       "      dur=\"5s\"\n",
       "      repeatCount=\"indefinite\" />\n",
       "  </rect>\n",
       "        <rect x=\"0\" y=\"107\" width=\"400\" height=\"43\">\n",
       "    <animate\n",
       "      attributeName=\"width\"\n",
       "      values=\"0;400;0\"\n",
       "      dur=\"3.5s\"\n",
       "      repeatCount=\"indefinite\" />\n",
       "    <animate\n",
       "      attributeName=\"x\"\n",
       "      values=\"0;0;400\"\n",
       "      dur=\"3.5s\"\n",
       "      repeatCount=\"indefinite\" />\n",
       "  </rect>\n",
       "        <rect x=\"100\" y=\"207\" width=\"300\" height=\"43\">\n",
       "    <animate\n",
       "      attributeName=\"width\"\n",
       "      values=\"0;300;0\"\n",
       "      dur=\"3s\"\n",
       "      repeatCount=\"indefinite\" />\n",
       "    <animate\n",
       "      attributeName=\"x\"\n",
       "      values=\"100;100;400\"\n",
       "      dur=\"3s\"\n",
       "      repeatCount=\"indefinite\" />\n",
       "  </rect>\n",
       "        <rect x=\"100\" y=\"307\" width=\"400\" height=\"43\">\n",
       "    <animate\n",
       "      attributeName=\"width\"\n",
       "      values=\"0;400;0\"\n",
       "      dur=\"4s\"\n",
       "      repeatCount=\"indefinite\" />\n",
       "      <animate\n",
       "      attributeName=\"x\"\n",
       "      values=\"100;100;500\"\n",
       "      dur=\"4s\"\n",
       "      repeatCount=\"indefinite\" />\n",
       "  </rect>\n",
       "        <g style=\"fill:transparent;stroke-width:8; stroke-linejoin:round\" rx=\"5\">\n",
       "            <g transform=\"translate(45 50) rotate(-45)\">\n",
       "                <circle r=\"33\" cx=\"0\" cy=\"0\" />\n",
       "                <rect x=\"-8\" y=\"32\" width=\"16\" height=\"30\" />\n",
       "            </g>\n",
       "\n",
       "            <g transform=\"translate(450 152)\">\n",
       "                <polyline points=\"-15,-20 -35,-20 -35,40 25,40 25,20\" />\n",
       "                <rect x=\"-15\" y=\"-40\" width=\"60\" height=\"60\" />\n",
       "            </g>\n",
       "\n",
       "            <g transform=\"translate(50 352)\">\n",
       "                <polygon points=\"-35,-5 0,-40 35,-5\" />\n",
       "                <polygon points=\"-35,10 0,45 35,10\" />\n",
       "            </g>\n",
       "\n",
       "            <g transform=\"translate(75 250)\">\n",
       "                <polyline points=\"-30,30 -60,0 -30,-30\" />\n",
       "                <polyline points=\"0,30 -30,0 0,-30\" />\n",
       "            </g>\n",
       "\n",
       "            <g transform=\"translate(425 250) rotate(180)\">\n",
       "                <polyline points=\"-30,30 -60,0 -30,-30\" />\n",
       "                <polyline points=\"0,30 -30,0 0,-30\" />\n",
       "            </g>\n",
       "        </g>\n",
       "    </g>\n",
       "</svg>\n",
       "</a>\n",
       "</div>\n",
       "<div>\n",
       "Loading ITables v2.2.2 from the internet...\n",
       "(need <a href=https://mwouts.github.io/itables/troubleshooting.html>help</a>?)</td>\n",
       "</div>\n",
       "</tr></tbody>\n",
       "\n",
       "</table>\n",
       "<link href=\"https://www.unpkg.com/dt_for_itables@2.0.13/dt_bundle.css\" rel=\"stylesheet\">\n",
       "<script type=\"module\">\n",
       "    import {DataTable, jQuery as $} from 'https://www.unpkg.com/dt_for_itables@2.0.13/dt_bundle.js';\n",
       "\n",
       "    document.querySelectorAll(\"#itables_f1f6cc38_39d5_4159_9647_40612a428981:not(.dataTable)\").forEach(table => {\n",
       "        if (!(table instanceof HTMLTableElement))\n",
       "            return;\n",
       "\n",
       "        // Define the table data\n",
       "        const data = [[1, \"Neel\", \"Garvin\", 35, \"819-555-3189\", 25626, \"70595\", \"Ninjago\", \"Rise of the Villains\", 2018, \"Ultra Stealth Raider\", 1093.0, 119.99, \"http://images.brickset.com/sets/images/70595-1.jpg\", 1], [2, \"Neel\", \"Garvin\", 35, \"819-555-3189\", 24665, \"21031\", \"Architecture\", \"NaN\", 2018, \"Burj Khalifa\", 333.0, 39.99, \"http://images.brickset.com/sets/images/21031-1.jpg\", 1], [27, \"Jacob\", \"Nzabanita\", 31, \"339-555-2572\", 24732, \"41117\", \"Friends\", \"Pop Star\", 2018, \"Pop Star TV Studio\", 194.0, 19.99, \"http://images.brickset.com/sets/images/41117-1.jpg\", 1], [28, \"Jacob\", \"Nzabanita\", 31, \"339-555-2572\", 24793, \"75133\", \"Star Wars\", \"Battlefront\", 2018, \"Rebel Alliance Battle Pack\", 101.0, 12.99, \"http://images.brickset.com/sets/images/75133-1.jpg\", 2], [29, \"Jacob\", \"Nzabanita\", 31, \"339-555-2572\", 24723, \"41172\", \"Elves\", \"NaN\", 2018, \"The Water Dragon Adventure\", 212.0, 19.99, \"http://images.brickset.com/sets/images/41172-1.jpg\", 1], [30, \"Jacob\", \"Nzabanita\", 31, \"339-555-2572\", 25920, \"75151\", \"Star Wars\", \"Episode III\", 2018, \"Clone Turbo Tank\", 903.0, 109.99, \"http://images.brickset.com/sets/images/75151-1.jpg\", 1], [49, \"Katherine\", \"Hogue\", 27, \"289-555-4928\", 25876, \"853555\", \"Gear\", \"Stationery\", 2018, \"Campsite Scrapbook\", NaN, 14.99, \"http://images.brickset.com/sets/images/853555-1.jpg\", 2], [50, \"Katherine\", \"Hogue\", 27, \"289-555-4928\", 25660, \"75822\", \"The Angry Birds Movie\", \"NaN\", 2018, \"Piggy Plane Attack\", 168.0, 19.99, \"http://images.brickset.com/sets/images/75822-1.jpg\", 1], [59, \"Connor\", \"Fourzan\", 32, \"805-555-3065\", 25886, \"853519\", \"Gear\", \"Playmats\", 2018, \"NK Playmat\", NaN, 14.99, \"http://images.brickset.com/sets/images/853519-1.jpg\", 1], [60, \"Connor\", \"Fourzan\", 32, \"805-555-3065\", 24789, \"75130\", \"Star Wars\", \"MicroFighters\", 2018, \"AT-DP\", 76.0, 9.99, \"http://images.brickset.com/sets/images/75130-1.jpg\", 1], [64, \"Lucas\", \"Montoya\", 34, \"616-555-2269\", 24901, \"41555\", \"Mixels\", \"Series 7\", 2018, \"Busto\", 69.0, 4.99, \"http://images.brickset.com/sets/images/41555-1.jpg\", 2], [65, \"Lucas\", \"Montoya\", 34, \"616-555-2269\", 24899, \"41114\", \"Friends\", \"Party\", 2018, \"Party Styling\", 54.0, 4.99, \"http://images.brickset.com/sets/images/41114-1.jpg\", 2], [66, \"Lucas\", \"Montoya\", 34, \"616-555-2269\", 24762, \"70330\", \"Nexo Knights\", \"Ultimate\", 2018, \"Ultimate Clay\", 72.0, 9.99, \"http://images.brickset.com/sets/images/70330-1.jpg\", 2], [68, \"Maya\", \"Wolfe\", 33, \"NaN\", 25881, \"853549\", \"Gear\", \"Key Chains/Friends\", 2018, \"Mia Key Chain\", NaN, 5.99, \"http://images.brickset.com/sets/images/853549-1.jpg\", 1], [75, \"Jake\", \"Montes Alvarez\", 30, \"603-555-6881\", 25005, \"41566\", \"Mixels\", \"Series 8\", 2018, \"Sharx\", 55.0, 4.99, \"http://images.brickset.com/sets/images/41566-1.jpg\", 1], [76, \"Jake\", \"Montes Alvarez\", 30, \"603-555-6881\", 24751, \"76066\", \"Marvel Super Heroes\", \"Mighty Micros\", 2018, \"Hulk vs. Ultron\", 80.0, 9.99, \"http://images.brickset.com/sets/images/76066-1.jpg\", 1], [77, \"Jake\", \"Montes Alvarez\", 30, \"603-555-6881\", 24704, \"41140\", \"Disney Princess\", \"Palace Pets\", 2018, \"Daisy's Beauty Salon\", 98.0, 9.99, \"http://images.brickset.com/sets/images/41140-1.jpg\", 2], [78, \"Jake\", \"Montes Alvarez\", 30, \"603-555-6881\", 25901, \"5004612\", \"Gear\", \"Watches/Clocks\", 2018, \"Lucy Wyldstyle Minifigure Link Watch\", NaN, 24.99, \"http://images.brickset.com/sets/images/5004612-1.jpg\", 3], [104, \"Austin\", \"Martinez\", 29, \"NaN\", 24769, \"70600\", \"Ninjago\", \"Skybound\", 2018, \"Ninja Bike Chase\", 231.0, 19.99, \"http://images.brickset.com/sets/images/70600-1.jpg\", 2], [118, \"Jacob\", \"Barron\", 27, \"319-555-6104\", 24680, \"60113\", \"City\", \"Traffic\", 2018, \"Rally Car\", 104.0, 9.99, \"http://images.brickset.com/sets/images/60113-1.jpg\", 1], [119, \"Jacob\", \"Barron\", 27, \"319-555-6104\", 24792, \"75134\", \"Star Wars\", \"Battlefront\", 2018, \"Galactic Empire Battle Pack\", 109.0, 12.99, \"http://images.brickset.com/sets/images/75134-1.jpg\", 2], [131, \"Dakota\", \"Klopp\", 33, \"970-555-9320\", 25660, \"75822\", \"The Angry Birds Movie\", \"NaN\", 2018, \"Piggy Plane Attack\", 168.0, 19.99, \"http://images.brickset.com/sets/images/75822-1.jpg\", 1], [132, \"Dakota\", \"Klopp\", 33, \"970-555-9320\", 24807, \"71235\", \"Dimensions\", \"Level Pack\", 2018, \"Level Pack: Midway Arcade\", 96.0, 29.99, \"http://images.brickset.com/sets/images/71235-1.jpg\", 2], [133, \"Dakota\", \"Klopp\", 33, \"970-555-9320\", 25006, \"41567\", \"Mixels\", \"Series 8\", 2018, \"Skulzy\", 66.0, 4.99, \"http://images.brickset.com/sets/images/41567-1.jpg\", 2], [136, \"Xavier\", \"Suazo\", 27, \"321-555-0605\", 24779, \"75114\", \"Star Wars\", \"Buildable Figures\", 2018, \"First Order Stormtrooper\", 81.0, 19.99, \"http://images.brickset.com/sets/images/75114-1.jpg\", 1], [137, \"Xavier\", \"Suazo\", 27, \"321-555-0605\", 24771, \"70603\", \"Ninjago\", \"Skybound\", 2018, \"Raid Zeppelin\", 294.0, 29.99, \"http://images.brickset.com/sets/images/70603-1.jpg\", 1], [138, \"Jaime\", \"Rideout\", 26, \"913-555-5139\", 25641, \"70326\", \"Nexo Knights\", \"NaN\", 2018, \"The Black Knight Mech\", 530.0, 39.99, \"NaN\", 2], [139, \"Jaime\", \"Rideout\", 26, \"913-555-5139\", 24717, \"10818\", \"Duplo\", \"NaN\", 2018, \"My First Truck\", 29.0, 19.99, \"http://images.brickset.com/sets/images/10818-1.jpg\", 2], [140, \"Jaime\", \"Rideout\", 26, \"913-555-5139\", 24899, \"41114\", \"Friends\", \"Party\", 2018, \"Party Styling\", 54.0, 4.99, \"http://images.brickset.com/sets/images/41114-1.jpg\", 2], [153, \"Reyes\", \"Wilson\", 33, \"605-555-2774\", 24903, \"41558\", \"Mixels\", \"Series 7\", 2018, \"Mixadel\", 63.0, 4.99, \"http://images.brickset.com/sets/images/41558-1.jpg\", 1], [154, \"Reyes\", \"Wilson\", 33, \"605-555-2774\", 24693, \"31045\", \"Creator\", \"NaN\", 2018, \"Ocean Explorer\", 213.0, 14.99, \"http://images.brickset.com/sets/images/31045-1.jpg\", 1], [155, \"Reyes\", \"Wilson\", 33, \"605-555-2774\", 24793, \"75133\", \"Star Wars\", \"Battlefront\", 2018, \"Rebel Alliance Battle Pack\", 101.0, 12.99, \"http://images.brickset.com/sets/images/75133-1.jpg\", 2], [156, \"Avery\", \"Leung\", 33, \"330-555-2699\", 24781, \"75116\", \"Star Wars\", \"Buildable Figures\", 2018, \"Finn\", 98.0, 24.99, \"http://images.brickset.com/sets/images/75116-1.jpg\", 1], [157, \"Avery\", \"Leung\", 33, \"330-555-2699\", 25876, \"853555\", \"Gear\", \"Stationery\", 2018, \"Campsite Scrapbook\", NaN, 14.99, \"http://images.brickset.com/sets/images/853555-1.jpg\", 1], [158, \"Michael\", \"Williams\", 31, \"936-555-2974\", 24988, \"40202\", \"Seasonal\", \"Easter\", 2018, \"Easter Chick\", 111.0, 9.99, \"NaN\", 1], [159, \"Michael\", \"Williams\", 31, \"936-555-2974\", 24672, \"71307\", \"Bionicle\", \"Toa\", 2018, \"Gali - Uniter of Water\", 87.0, 14.99, \"http://images.brickset.com/sets/images/71307-1.jpg\", 1], [160, \"Michael\", \"Williams\", 31, \"936-555-2974\", 24895, \"31041\", \"Creator\", \"NaN\", 2018, \"Construction Vehicles\", 64.0, 4.99, \"http://images.brickset.com/sets/images/31041-1.jpg\", 1], [161, \"Colleen\", \"Galley\", 31, \"710-555-8843\", 24705, \"41141\", \"Disney Princess\", \"Palace Pets\", 2018, \"Pumpkin's Royal Carriage\", 79.0, 9.99, \"http://images.brickset.com/sets/images/41141-1.jpg\", 2], [162, \"Colleen\", \"Galley\", 31, \"710-555-8843\", 24976, \"60105\", \"City\", \"Fire\", 2018, \"Fire ATV\", 64.0, 6.99, \"http://images.brickset.com/sets/images/60105-1.jpg\", 1], [163, \"Colleen\", \"Galley\", 31, \"710-555-8843\", 24956, \"71300\", \"Bionicle\", \"companions\", 2018, \"Uxar - Creature of Jungle\", 89.0, 9.99, \"http://images.brickset.com/sets/images/71300-1.jpg\", 1], [164, \"Brandilyn\", \"Robertson\", 27, \"724-555-5496\", 24703, \"41069\", \"Disney Princess\", \"Palace Pets\", 2018, \"Treasure's Day at the Pool\", 70.0, 5.99, \"http://images.brickset.com/sets/images/41069-1.jpg\", 1], [165, \"Brandilyn\", \"Robertson\", 27, \"724-555-5496\", 25886, \"853519\", \"Gear\", \"Playmats\", 2018, \"NK Playmat\", NaN, 14.99, \"http://images.brickset.com/sets/images/853519-1.jpg\", 3], [166, \"Brandilyn\", \"Robertson\", 27, \"724-555-5496\", 24704, \"41140\", \"Disney Princess\", \"Palace Pets\", 2018, \"Daisy's Beauty Salon\", 98.0, 9.99, \"http://images.brickset.com/sets/images/41140-1.jpg\", 1], [167, \"Brandilyn\", \"Robertson\", 27, \"724-555-5496\", 25635, \"70320\", \"Nexo Knights\", \"NaN\", 2018, \"Aaron Fox's Aero-Striker V2\", 301.0, 29.99, \"http://images.brickset.com/sets/images/70320-1.jpg\", 1], [168, \"Brandilyn\", \"Robertson\", 27, \"724-555-5496\", 24745, \"76047\", \"Marvel Super Heroes\", \"Captain America: Civil War\", 2018, \"Black Panther Pursuit\", 287.0, 29.99, \"http://images.brickset.com/sets/images/76047-1.jpg\", 2], [169, \"Son\", \"Saldanha\", 30, \"507-555-2278\", 25878, \"853505\", \"Gear\", \"Role-Play toys\", 2018, \"NK Sword Standard\", NaN, 9.99, \"http://images.brickset.com/sets/images/853505-1.jpg\", 2], [170, \"Son\", \"Saldanha\", 30, \"507-555-2278\", 24793, \"75133\", \"Star Wars\", \"Battlefront\", 2018, \"Rebel Alliance Battle Pack\", 101.0, 12.99, \"http://images.brickset.com/sets/images/75133-1.jpg\", 2], [177, \"Shylynn\", \"Seitz\", 28, \"205-555-7084\", 24756, \"70310\", \"Nexo Knights\", \"NaN\", 2018, \"Knighton Battle Blaster\", 76.0, 9.99, \"http://images.brickset.com/sets/images/70310-1.jpg\", 2], [178, \"Shylynn\", \"Seitz\", 28, \"205-555-7084\", 24679, \"60111\", \"City\", \"Fire\", 2018, \"Fire Utility Truck\", 368.0, 39.99, \"http://images.brickset.com/sets/images/60111-1.jpg\", 1], [184, \"Neil\", \"Gabel\", 30, \"508-555-5700\", 26056, \"5005057\", \"Gear\", \"Video Games/XBOX 360\", 2018, \"Marvel Avengers XBOX 360 Video Game\", NaN, 49.99, \"http://images.brickset.com/sets/images/5005057-1.jpg\", 2], [185, \"Neil\", \"Gabel\", 30, \"508-555-5700\", 26058, \"5005059\", \"Gear\", \"Video Games/PS3\", 2018, \"Marvel Avengers PS3 Video Game\", NaN, 49.99, \"http://images.brickset.com/sets/images/5005059-1.jpg\", 1], [186, \"Neil\", \"Gabel\", 30, \"508-555-5700\", 24672, \"71307\", \"Bionicle\", \"Toa\", 2018, \"Gali - Uniter of Water\", 87.0, 14.99, \"http://images.brickset.com/sets/images/71307-1.jpg\", 1], [195, \"Joseph\", \"Ross\", 33, \"254-555-7628\", 24794, \"75135\", \"Star Wars\", \"Episode III\", 2018, \"Obi-Wan's Jedi Interceptor\", 215.0, 24.99, \"http://images.brickset.com/sets/images/75135-1.jpg\", 4], [196, \"Joseph\", \"Ross\", 33, \"254-555-7628\", 24684, \"60117\", \"City\", \"Traffic\", 2018, \"Van & Caravan\", 250.0, 19.99, \"http://images.brickset.com/sets/images/60117-1.jpg\", 2], [197, \"Paige\", \"Wagner\", 35, \"860-555-1618\", 26038, \"41577\", \"Mixels\", \"Series 9\", 2018, \"Mysto\", 64.0, 4.99, \"NaN\", 1], [198, \"Paige\", \"Wagner\", 35, \"860-555-1618\", 24727, \"41176\", \"Elves\", \"NaN\", 2018, \"The Secret Market Place\", 691.0, 59.99, \"http://images.brickset.com/sets/images/41176-1.jpg\", 3], [199, \"Paige\", \"Wagner\", 35, \"860-555-1618\", 24957, \"71309\", \"Bionicle\", \"Toa\", 2018, \"Onua - Uniter of Earth\", 143.0, 19.99, \"http://images.brickset.com/sets/images/71309-1.jpg\", 1], [200, \"Paige\", \"Wagner\", 35, \"860-555-1618\", 24798, \"75140\", \"Star Wars\", \"The Force Awakens\", 2018, \"Resistance Troop Transporter\", 646.0, 69.99, \"http://images.brickset.com/sets/images/75140-1.jpg\", 1], [201, \"Daianaira\", \"Joseph\", 26, \"714-555-9762\", 25594, \"71011\", \"Collectable Minifigures\", \"Series 15\", 2018, \"LEGO Minifigures - Series 15 - Sealed Box\", NaN, 3.99, \"http://images.brickset.com/sets/images/71011-18.jpg\", 1], [202, \"Daianaira\", \"Joseph\", 26, \"714-555-9762\", 26058, \"5005059\", \"Gear\", \"Video Games/PS3\", 2018, \"Marvel Avengers PS3 Video Game\", NaN, 49.99, \"http://images.brickset.com/sets/images/5005059-1.jpg\", 1], [205, \"Amber\", \"Terwilliger\", 35, \"626-555-5321\", 24733, \"41118\", \"Friends\", \"NaN\", 2018, \"Heartlake Supermarket\", 313.0, 29.99, \"http://images.brickset.com/sets/images/41118-1.jpg\", 2], [206, \"Amber\", \"Terwilliger\", 35, \"626-555-5321\", 25611, \"21127\", \"Minecraft\", \"Minifig-scale\", 2018, \"The Fortress\", NaN, 109.99, \"http://images.brickset.com/sets/images/21127-1.jpg\", 1], [211, \"Nerea\", \"Feldman\", 28, \"423-555-9631\", 24805, \"42049\", \"Technic\", \"NaN\", 2018, \"Mine Loader\", 476.0, 49.99, \"http://images.brickset.com/sets/images/42049-1.jpg\", 2], [212, \"Nerea\", \"Feldman\", 28, \"423-555-9631\", 25921, \"75157\", \"Star Wars\", \"Rebels\", 2018, \"Captain Rex's AT-TE\", 972.0, 119.99, \"http://images.brickset.com/sets/images/75157-1.jpg\", 2], [213, \"Julianna\", \"Stephens\", 34, \"403-555-9991\", 24692, \"31044\", \"Creator\", \"NaN\", 2018, \"Park Animals\", 202.0, 14.99, \"http://images.brickset.com/sets/images/31044-1.jpg\", 1], [214, \"Julianna\", \"Stephens\", 34, \"403-555-9991\", 24797, \"75138\", \"Star Wars\", \"Episode V\", 2018, \"Hoth Attack\", 233.0, 24.99, \"http://images.brickset.com/sets/images/75138-1.jpg\", 1], [215, \"Katrina\", \"Clyman\", 32, \"604-555-3882\", 24689, \"60129\", \"City\", \"Police\", 2018, \"Police Patrol Boat\", 200.0, 49.99, \"http://images.brickset.com/sets/images/60129-1.jpg\", 1], [216, \"Katrina\", \"Clyman\", 32, \"604-555-3882\", 24663, \"21027\", \"Architecture\", \"Skylines\", 2018, \"Berlin\", 289.0, 29.99, \"http://images.brickset.com/sets/images/21027-1.jpg\", 1], [231, \"Jackson\", \"Roybal\", 26, \"NaN\", 26036, \"41575\", \"Mixels\", \"Series 9\", 2018, \"Cobrax\", 64.0, 4.99, \"NaN\", 1], [232, \"Jackson\", \"Roybal\", 26, \"NaN\", 24700, \"76061\", \"DC Comics Super Heroes\", \"Mighty Micros\", 2018, \"Batman vs. Catwoman\", 79.0, 9.99, \"http://images.brickset.com/sets/images/76061-1.jpg\", 1], [233, \"Jackson\", \"Roybal\", 26, \"NaN\", 24695, \"31048\", \"Creator\", \"NaN\", 2018, \"Lakeside Lodge\", 368.0, 29.99, \"http://images.brickset.com/sets/images/31048-1.jpg\", 1], [252, \"Elizabeth\", \"Kendrick\", 35, \"816-555-5138\", 25630, \"70337\", \"Nexo Knights\", \"Ultimate\", 2018, \"Ultimate Lance\", 75.0, 9.99, \"NaN\", 1], [253, \"Elizabeth\", \"Kendrick\", 35, \"816-555-5138\", 24735, \"41120\", \"Friends\", \"Adventure Camp\", 2018, \"Adventure Camp Archery\", 114.0, 9.99, \"http://images.brickset.com/sets/images/41120-1.jpg\", 1], [257, \"Abigayle\", \"Hosman\", 34, \"604-555-7100\", 24710, \"10806\", \"Duplo\", \"NaN\", 2018, \"Horses\", 20.0, 14.99, \"http://images.brickset.com/sets/images/10806-1.jpg\", 1], [258, \"Abigayle\", \"Hosman\", 34, \"604-555-7100\", 25630, \"70337\", \"Nexo Knights\", \"Ultimate\", 2018, \"Ultimate Lance\", 75.0, 9.99, \"NaN\", 1], [263, \"Austin\", \"Atencio\", 30, \"225-555-7391\", 25659, \"75821\", \"The Angry Birds Movie\", \"NaN\", 2018, \"Piggy Car Escape\", 74.0, 12.99, \"http://images.brickset.com/sets/images/75821-1.jpg\", 1], [264, \"Austin\", \"Atencio\", 30, \"225-555-7391\", 24804, \"42048\", \"Technic\", \"NaN\", 2018, \"Race Kart\", 345.0, 29.99, \"http://images.brickset.com/sets/images/42048-1.jpg\", 2], [265, \"Austin\", \"Atencio\", 30, \"225-555-7391\", 26041, \"41580\", \"Mixels\", \"Series 9\", 2018, \"Myke\", 63.0, 4.99, \"NaN\", 1], [266, \"Austin\", \"Atencio\", 30, \"225-555-7391\", 24704, \"41140\", \"Disney Princess\", \"Palace Pets\", 2018, \"Daisy's Beauty Salon\", 98.0, 9.99, \"http://images.brickset.com/sets/images/41140-1.jpg\", 1], [267, \"Brenden\", \"Trujillo\", 31, \"928-555-1076\", 25658, \"21305\", \"Ideas\", \"NaN\", 2018, \"Maze\", 769.0, 69.99, \"NaN\", 1], [269, \"Elizabeth\", \"Roemmich\", 32, \"502-555-4381\", 24994, \"10251\", \"Advanced Models\", \"Modular Buildings\", 2018, \"Brick Bank\", 2380.0, 169.99, \"http://images.brickset.com/sets/images/10251-1.jpg\", 1], [270, \"Elizabeth\", \"Roemmich\", 32, \"502-555-4381\", 25657, \"76051\", \"Marvel Super Heroes\", \"Captain America: Civil War\", 2018, \"Super Hero Airport Battle\", 807.0, 79.99, \"http://images.brickset.com/sets/images/76051-1.jpg\", 1], [289, \"Alejandre\", \"Baek\", 26, \"616-555-9268\", 24771, \"70603\", \"Ninjago\", \"Skybound\", 2018, \"Raid Zeppelin\", 294.0, 29.99, \"http://images.brickset.com/sets/images/70603-1.jpg\", 2], [303, \"Pa\", \"Strasser\", 26, \"830-555-7071\", 24770, \"70602\", \"Ninjago\", \"Skybound\", 2018, \"Jay's Elemental Dragon\", 350.0, 29.99, \"http://images.brickset.com/sets/images/70602-1.jpg\", 1], [304, \"Pa\", \"Strasser\", 26, \"830-555-7071\", 24795, \"75136\", \"Star Wars\", \"Episode IV\", 2018, \"Droid Escape Pod\", 197.0, 24.99, \"http://images.brickset.com/sets/images/75136-1.jpg\", 2], [308, \"George\", \"Guerra\", 35, \"NaN\", 24895, \"31041\", \"Creator\", \"NaN\", 2018, \"Construction Vehicles\", 64.0, 4.99, \"http://images.brickset.com/sets/images/31041-1.jpg\", 1], [341, \"Dakotah\", \"Baca\", 30, \"979-555-1121\", 25611, \"21127\", \"Minecraft\", \"Minifig-scale\", 2018, \"The Fortress\", NaN, 109.99, \"http://images.brickset.com/sets/images/21127-1.jpg\", 1], [342, \"Dakotah\", \"Baca\", 30, \"979-555-1121\", 24689, \"60129\", \"City\", \"Police\", 2018, \"Police Patrol Boat\", 200.0, 49.99, \"http://images.brickset.com/sets/images/60129-1.jpg\", 1], [348, \"Senay\", \"Hildreth\", 30, \"607-555-8247\", 24895, \"31041\", \"Creator\", \"NaN\", 2018, \"Construction Vehicles\", 64.0, 4.99, \"http://images.brickset.com/sets/images/31041-1.jpg\", 3], [349, \"Senay\", \"Hildreth\", 30, \"607-555-8247\", 24798, \"75140\", \"Star Wars\", \"The Force Awakens\", 2018, \"Resistance Troop Transporter\", 646.0, 69.99, \"http://images.brickset.com/sets/images/75140-1.jpg\", 2], [350, \"Senay\", \"Hildreth\", 30, \"607-555-8247\", 25642, \"70327\", \"Nexo Knights\", \"NaN\", 2018, \"The King's Mech\", 375.0, 29.99, \"http://images.brickset.com/sets/images/70327-1.jpg\", 1], [351, \"Senay\", \"Hildreth\", 30, \"607-555-8247\", 24957, \"71309\", \"Bionicle\", \"Toa\", 2018, \"Onua - Uniter of Earth\", 143.0, 19.99, \"http://images.brickset.com/sets/images/71309-1.jpg\", 2], [361, \"Holly\", \"Klingelsmith\", 33, \"NaN\", 25003, \"41564\", \"Mixels\", \"Series 8\", 2018, \"Aquad\", 70.0, 4.99, \"http://images.brickset.com/sets/images/41564-1.jpg\", 4], [362, \"Holly\", \"Klingelsmith\", 33, \"NaN\", 24906, \"41562\", \"Mixels\", \"Series 7\", 2018, \"Trumpsy\", 54.0, 4.99, \"http://images.brickset.com/sets/images/41562-1.jpg\", 1], [363, \"Mason\", \"Perez\", 32, \"403-555-2627\", 24718, \"10819\", \"Duplo\", \"NaN\", 2018, \"My First Garden\", 25.0, 19.99, \"http://images.brickset.com/sets/images/10819-1.jpg\", 3], [364, \"Mason\", \"Perez\", 32, \"403-555-2627\", 24903, \"41558\", \"Mixels\", \"Series 7\", 2018, \"Mixadel\", 63.0, 4.99, \"http://images.brickset.com/sets/images/41558-1.jpg\", 1], [367, \"Jordan\", \"O'Boyle\", 28, \"880-555-9695\", 24662, \"21026\", \"Architecture\", \"Skylines\", 2018, \"Venice\", 212.0, 29.99, \"http://images.brickset.com/sets/images/21026-1.jpg\", 1], [368, \"Jordan\", \"O'Boyle\", 28, \"880-555-9695\", 25635, \"70320\", \"Nexo Knights\", \"NaN\", 2018, \"Aaron Fox's Aero-Striker V2\", 301.0, 29.99, \"http://images.brickset.com/sets/images/70320-1.jpg\", 2], [382, \"Emilie\", \"Ellis\", 33, \"806-555-3409\", 25639, \"70324\", \"Nexo Knights\", \"NaN\", 2018, \"Merlok's Library 2.0\", 288.0, 24.99, \"http://images.brickset.com/sets/images/70324-1.jpg\", 1], [383, \"Emilie\", \"Ellis\", 33, \"806-555-3409\", 24760, \"70315\", \"Nexo Knights\", \"NaN\", 2018, \"Clay's Rumble Blade\", 367.0, 39.99, \"http://images.brickset.com/sets/images/70315-1.jpg\", 1], [384, \"Emilie\", \"Ellis\", 33, \"806-555-3409\", 24762, \"70330\", \"Nexo Knights\", \"Ultimate\", 2018, \"Ultimate Clay\", 72.0, 9.99, \"http://images.brickset.com/sets/images/70330-1.jpg\", 2], [385, \"Emilie\", \"Ellis\", 33, \"806-555-3409\", 25877, \"853506\", \"Gear\", \"Role-Play toys\", 2018, \"NK Shield Standard\", NaN, 12.99, \"http://images.brickset.com/sets/images/853506-1.jpg\", 1], [390, \"Sara\", \"Siegwarth\", 30, \"214-555-6861\", 24898, \"41113\", \"Friends\", \"Party\", 2018, \"Party Gift Shop\", 52.0, 4.99, \"http://images.brickset.com/sets/images/41113-1.jpg\", 1], [391, \"Sara\", \"Siegwarth\", 30, \"214-555-6861\", 25876, \"853555\", \"Gear\", \"Stationery\", 2018, \"Campsite Scrapbook\", NaN, 14.99, \"http://images.brickset.com/sets/images/853555-1.jpg\", 1], [392, \"Siria\", \"Vorwald\", 28, \"716-555-2704\", 24956, \"71300\", \"Bionicle\", \"companions\", 2018, \"Uxar - Creature of Jungle\", 89.0, 9.99, \"http://images.brickset.com/sets/images/71300-1.jpg\", 1], [393, \"Siria\", \"Vorwald\", 28, \"716-555-2704\", 24691, \"31043\", \"Creator\", \"NaN\", 2018, \"Chopper Transporter\", 124.0, 9.99, \"http://images.brickset.com/sets/images/31043-1.jpg\", 1], [400, \"Brianna\", \"Prisbrey\", 28, \"580-555-3606\", 24697, \"76044\", \"DC Comics Super Heroes\", \"Batman v Superman: Dawn of Justice\", 2018, \"Clash of the Heroes\", 92.0, 12.99, \"http://images.brickset.com/sets/images/76044-1.jpg\", 1], [401, \"Brianna\", \"Prisbrey\", 28, \"580-555-3606\", 25656, \"10804\", \"Duplo\", \"NaN\", 2018, \"Jungle\", 86.0, 49.99, \"http://images.brickset.com/sets/images/10804-1.jpg\", 1], [402, \"Brianna\", \"Prisbrey\", 28, \"580-555-3606\", 24551, \"71234\", \"Dimensions\", \"Fun Pack\", 2018, \"Fun Pack: Sensei Wu\", 58.0, 14.99, \"http://images.brickset.com/sets/images/71234-1.jpg\", 1], [410, \"Ursula\", \"Goyen\", 33, \"973-555-5517\", 24920, \"70605\", \"Ninjago\", \"Skybound\", 2018, \"Misfortune's Keep\", 754.0, 79.99, \"http://images.brickset.com/sets/images/70605-1.jpg\", 2], [411, \"Ursula\", \"Goyen\", 33, \"973-555-5517\", 25876, \"853555\", \"Gear\", \"Stationery\", 2018, \"Campsite Scrapbook\", NaN, 14.99, \"http://images.brickset.com/sets/images/853555-1.jpg\", 1], [412, \"Ursula\", \"Goyen\", 33, \"973-555-5517\", 25638, \"70323\", \"Nexo Knights\", \"NaN\", 2018, \"Jestro's Volcano Lair\", 1186.0, 119.99, \"http://images.brickset.com/sets/images/70323-1.jpg\", 1], [413, \"Ursula\", \"Goyen\", 33, \"973-555-5517\", 24722, \"41171\", \"Elves\", \"NaN\", 2018, \"Emily Jones & the Baby Wind Dragon\", 80.0, 9.99, \"http://images.brickset.com/sets/images/41171-1.jpg\", 1], [429, \"Alex\", \"Martin\", 32, \"612-555-6849\", 25664, \"75826\", \"The Angry Birds Movie\", \"NaN\", 2018, \"King Pig's Castle\", 859.0, 89.99, \"http://images.brickset.com/sets/images/75826-1.jpg\", 2], [430, \"Alex\", \"Martin\", 32, \"612-555-6849\", 25624, \"70593\", \"Ninjago\", \"Skybound\", 2018, \"The Green NRG Dragon\", 567.0, 49.99, \"http://images.brickset.com/sets/images/70593-1.jpg\", 1], [442, \"Dominic\", \"Mayo\", 34, \"936-555-0956\", 25887, \"853543\", \"Ninjago\", \"NaN\", 2018, \"Ninjago Party Set\", 70.0, 7.99, \"http://images.brickset.com/sets/images/853543-1.jpg\", 2], [446, \"Elyssa\", \"Nelson\", 26, \"815-555-4287\", 24703, \"41069\", \"Disney Princess\", \"Palace Pets\", 2018, \"Treasure's Day at the Pool\", 70.0, 5.99, \"http://images.brickset.com/sets/images/41069-1.jpg\", 1], [447, \"Elyssa\", \"Nelson\", 26, \"815-555-4287\", 24736, \"41121\", \"Friends\", \"Adventure Camp\", 2018, \"Adventure Camp Rafting\", 320.0, 29.99, \"http://images.brickset.com/sets/images/41121-1.jpg\", 1], [448, \"Francisco\", \"Smith\", 34, \"229-555-6673\", 24687, \"60127\", \"City\", \"Police\", 2018, \"Prison Island Starter Set\", 92.0, 9.99, \"http://images.brickset.com/sets/images/60127-1.jpg\", 1], [449, \"Francisco\", \"Smith\", 34, \"229-555-6673\", 24802, \"42046\", \"Technic\", \"NaN\", 2018, \"Getaway Racer\", 170.0, 19.99, \"http://images.brickset.com/sets/images/42046-1.jpg\", 1], [450, \"Saige\", \"Dugger\", 27, \"406-555-4946\", 24677, \"60108\", \"City\", \"Fire\", 2018, \"Fire Response Unit\", 257.0, 39.99, \"http://images.brickset.com/sets/images/60108-1.jpg\", 1], [451, \"Saige\", \"Dugger\", 27, \"406-555-4946\", 24715, \"10816\", \"Duplo\", \"NaN\", 2018, \"My First Cars and Trucks\", 36.0, 19.99, \"http://images.brickset.com/sets/images/10816-1.jpg\", 2], [452, \"Saige\", \"Dugger\", 27, \"406-555-4946\", 24722, \"41171\", \"Elves\", \"NaN\", 2018, \"Emily Jones & the Baby Wind Dragon\", 80.0, 9.99, \"http://images.brickset.com/sets/images/41171-1.jpg\", 1], [453, \"Saige\", \"Dugger\", 27, \"406-555-4946\", 25635, \"70320\", \"Nexo Knights\", \"NaN\", 2018, \"Aaron Fox's Aero-Striker V2\", 301.0, 29.99, \"http://images.brickset.com/sets/images/70320-1.jpg\", 1], [454, \"Saige\", \"Dugger\", 27, \"406-555-4946\", 24762, \"70330\", \"Nexo Knights\", \"Ultimate\", 2018, \"Ultimate Clay\", 72.0, 9.99, \"http://images.brickset.com/sets/images/70330-1.jpg\", 1], [461, \"Kaitlyn\", \"Engel\", 27, \"440-555-1127\", 24672, \"71307\", \"Bionicle\", \"Toa\", 2018, \"Gali - Uniter of Water\", 87.0, 14.99, \"http://images.brickset.com/sets/images/71307-1.jpg\", 3], [462, \"Kaitlyn\", \"Engel\", 27, \"440-555-1127\", 25010, \"41571\", \"Mixels\", \"Series 8\", 2018, \"Tuth\", 67.0, 4.99, \"http://images.brickset.com/sets/images/41571-1.jpg\", 2], [463, \"Kaitlyn\", \"Engel\", 27, \"440-555-1127\", 25896, \"853547\", \"Gear\", \"Key Chains/Friends\", 2018, \"Emma Key Chain\", NaN, 5.99, \"http://images.brickset.com/sets/images/853547-1.jpg\", 2], [464, \"Kaitlyn\", \"Engel\", 27, \"440-555-1127\", 25645, \"71314\", \"Bionicle\", \"Reboot Villains\", 2018, \"Storm Beast\", 109.0, 14.99, \"NaN\", 1], [465, \"Rachael\", \"Tilley\", 26, \"806-555-8594\", 24988, \"40202\", \"Seasonal\", \"Easter\", 2018, \"Easter Chick\", 111.0, 9.99, \"NaN\", 2], [466, \"Rachael\", \"Tilley\", 26, \"806-555-8594\", 26036, \"41575\", \"Mixels\", \"Series 9\", 2018, \"Cobrax\", 64.0, 4.99, \"NaN\", 1], [472, \"Jennifer\", \"Dana\", 26, \"956-555-9719\", 24691, \"31043\", \"Creator\", \"NaN\", 2018, \"Chopper Transporter\", 124.0, 9.99, \"http://images.brickset.com/sets/images/31043-1.jpg\", 2], [473, \"Jennifer\", \"Dana\", 26, \"956-555-9719\", 25597, \"75827\", \"Ghostbusters\", \"NaN\", 2018, \"Firehouse Headquarters \", 4634.0, 349.99, \"http://images.brickset.com/sets/images/75827-1.jpg\", 2], [478, \"Jacob\", \"Griffith\", 29, \"928-555-3406\", 25627, \"70596\", \"Ninjago\", \"Rise of the Villains\", 2018, \"Samurai X Cave Chaos\", 1253.0, 119.99, \"NaN\", 1], [479, \"Jacob\", \"Griffith\", 29, \"928-555-3406\", 25887, \"853543\", \"Ninjago\", \"NaN\", 2018, \"Ninjago Party Set\", 70.0, 7.99, \"http://images.brickset.com/sets/images/853543-1.jpg\", 2], [480, \"Jacob\", \"Griffith\", 29, \"928-555-3406\", 24716, \"10817\", \"Duplo\", \"NaN\", 2018, \"Creative Chest\", 70.0, 29.99, \"http://images.brickset.com/sets/images/10817-1.jpg\", 1], [481, \"Dustin\", \"Tennis\", 31, \"229-555-5837\", 24687, \"60127\", \"City\", \"Police\", 2018, \"Prison Island Starter Set\", 92.0, 9.99, \"http://images.brickset.com/sets/images/60127-1.jpg\", 1], [495, \"Jenny\", \"Tutone\", 35, \"919-867-5309\", 24729, \"41111\", \"Friends\", \"Party\", 2018, \"Party Train\", 109.0, 9.99, \"http://images.brickset.com/sets/images/41111-1.jpg\", 1], [496, \"Jenny\", \"Tutone\", 35, \"919-867-5309\", 24894, \"31040\", \"Creator\", \"NaN\", 2018, \"Desert Racers\", 65.0, 4.99, \"http://images.brickset.com/sets/images/31040-1.jpg\", 1], [497, \"Jenny\", \"Tutone\", 35, \"919-867-5309\", 24735, \"41120\", \"Friends\", \"Adventure Camp\", 2018, \"Adventure Camp Archery\", 114.0, 9.99, \"http://images.brickset.com/sets/images/41120-1.jpg\", 1], [512, \"Peyton\", \"Wiebe\", 29, \"281-555-8711\", 25612, \"21128\", \"Minecraft\", \"Minifig-scale\", 2018, \"The Village\", NaN, 199.99, \"NaN\", 1], [513, \"Peyton\", \"Wiebe\", 29, \"281-555-8711\", 25922, \"75149\", \"Star Wars\", \"The Force Awakens\", 2018, \"Resistance X-wing Fighter\", 740.0, 79.99, \"http://images.brickset.com/sets/images/75149-1.jpg\", 1], [514, \"Peyton\", \"Wiebe\", 29, \"281-555-8711\", 26024, \"41177\", \"Elves\", \"NaN\", 2018, \"The Precious Crystal Mine\", 273.0, 29.99, \"http://images.brickset.com/sets/images/41177-1.jpg\", 2], [516, \"Alex\", \"Ford\", 33, \"509-555-2531\", 24701, \"76062\", \"DC Comics Super Heroes\", \"Mighty Micros\", 2018, \"Robin vs. Bane\", 77.0, 9.99, \"http://images.brickset.com/sets/images/76062-1.jpg\", 1], [517, \"Audrey\", \"Eustace\", 26, \"NaN\", 24771, \"70603\", \"Ninjago\", \"Skybound\", 2018, \"Raid Zeppelin\", 294.0, 29.99, \"http://images.brickset.com/sets/images/70603-1.jpg\", 1], [518, \"Audrey\", \"Eustace\", 26, \"NaN\", 25877, \"853506\", \"Gear\", \"Role-Play toys\", 2018, \"NK Shield Standard\", NaN, 12.99, \"http://images.brickset.com/sets/images/853506-1.jpg\", 1], [519, \"Audrey\", \"Eustace\", 26, \"NaN\", 25641, \"70326\", \"Nexo Knights\", \"NaN\", 2018, \"The Black Knight Mech\", 530.0, 39.99, \"NaN\", 1], [520, \"Audrey\", \"Eustace\", 26, \"NaN\", 24749, \"76064\", \"Marvel Super Heroes\", \"Mighty Micros\", 2018, \"Spider-Man vs. Green Goblin\", 85.0, 9.99, \"http://images.brickset.com/sets/images/76064-1.jpg\", 1], [528, \"Alissa\", \"Lamsal\", 27, \"313-555-1678\", 24762, \"70330\", \"Nexo Knights\", \"Ultimate\", 2018, \"Ultimate Clay\", 72.0, 9.99, \"http://images.brickset.com/sets/images/70330-1.jpg\", 2], [529, \"Alissa\", \"Lamsal\", 27, \"313-555-1678\", 25640, \"70325\", \"Nexo Knights\", \"NaN\", 2018, \"Infernox captures the Queen\", 253.0, 24.99, \"http://images.brickset.com/sets/images/70325-1.jpg\", 3], [542, \"Megan\", \"Sweetman\", 30, \"567-555-4401\", 24957, \"71309\", \"Bionicle\", \"Toa\", 2018, \"Onua - Uniter of Earth\", 143.0, 19.99, \"http://images.brickset.com/sets/images/71309-1.jpg\", 1], [543, \"Megan\", \"Sweetman\", 30, \"567-555-4401\", 24959, \"75139\", \"Star Wars\", \"The Force Awakens\", 2018, \"Battle on Takodana\", 409.0, 59.99, \"http://images.brickset.com/sets/images/75139-1.jpg\", 2], [544, \"Megan\", \"Sweetman\", 30, \"567-555-4401\", 24986, \"30446\", \"DC Comics Super Heroes\", \"Batman v Superman: Dawn of Justice\", 2018, \"The Batmobile\", 63.0, 3.99, \"http://images.brickset.com/sets/images/30446-1.jpg\", 1], [545, \"Megan\", \"Sweetman\", 30, \"567-555-4401\", 24737, \"41135\", \"Friends\", \"Pop Star\", 2018, \"Livi's Pop Star House\", 597.0, 49.99, \"http://images.brickset.com/sets/images/41135-1.jpg\", 1], [557, \"Danait\", \"Mckinny\", 33, \"NaN\", 24919, \"70601\", \"Ninjago\", \"Skybound\", 2018, \"Sky Shark\", 221.0, 19.99, \"http://images.brickset.com/sets/images/70601-1.jpg\", 2], [558, \"Joseph\", \"Holub\", 33, \"732-555-8846\", 25877, \"853506\", \"Gear\", \"Role-Play toys\", 2018, \"NK Shield Standard\", NaN, 12.99, \"http://images.brickset.com/sets/images/853506-1.jpg\", 3], [559, \"Joseph\", \"Holub\", 33, \"732-555-8846\", 25007, \"41568\", \"Mixels\", \"Series 8\", 2018, \"Lewt\", 62.0, 4.99, \"http://images.brickset.com/sets/images/41568-1.jpg\", 1], [560, \"Joseph\", \"Holub\", 33, \"732-555-8846\", 25606, \"75148\", \"Star Wars\", \"The Force Awakens\", 2018, \"Encounter on Jakku\", 530.0, 59.99, \"http://images.brickset.com/sets/images/75148-1.jpg\", 1], [561, \"Joseph\", \"Holub\", 33, \"732-555-8846\", 24619, \"41560\", \"Mixels\", \"Series 7\", 2018, \"Jamzy\", 70.0, 4.99, \"http://images.brickset.com/sets/images/41560-1.jpg\", 1], [562, \"Joseph\", \"Holub\", 33, \"732-555-8846\", 24797, \"75138\", \"Star Wars\", \"Episode V\", 2018, \"Hoth Attack\", 233.0, 24.99, \"http://images.brickset.com/sets/images/75138-1.jpg\", 2], [568, \"Dominique\", \"Kifletsion\", 28, \"647-555-6291\", 24730, \"41115\", \"Friends\", \"NaN\", 2018, \"Emma's Creative Workshop\", 108.0, 9.99, \"http://images.brickset.com/sets/images/41115-1.jpg\", 2], [569, \"Dominique\", \"Kifletsion\", 28, \"647-555-6291\", 25917, \"76058\", \"Marvel Super Heroes\", \"Ultimate Spider-Man\", 2018, \"Spider-Man: Ghost Rider Team-Up\", 217.0, 19.99, \"http://images.brickset.com/sets/images/76058-1.jpg\", 3], [575, \"Katelynn\", \"Wardlaw\", 35, \"604-555-2142\", 24913, \"60112\", \"City\", \"Fire\", 2018, \"Fire Engine\", 376.0, 49.99, \"http://images.brickset.com/sets/images/60112-1.jpg\", 1], [576, \"Autriana\", \"Hess\", 26, \"616-555-0154\", 24681, \"60114\", \"City\", \"Harbour\", 2018, \"Race Boat\", 95.0, 9.99, \"http://images.brickset.com/sets/images/60114-1.jpg\", 1], [577, \"Autriana\", \"Hess\", 26, \"616-555-0154\", 24710, \"10806\", \"Duplo\", \"NaN\", 2018, \"Horses\", 20.0, 14.99, \"http://images.brickset.com/sets/images/10806-1.jpg\", 1], [578, \"Autriana\", \"Hess\", 26, \"616-555-0154\", 26025, \"41178\", \"Elves\", \"NaN\", 2018, \"The Dragon Sanctuary\", 585.0, 49.99, \"NaN\", 1], [579, \"Christy\", \"Larsen\", 26, \"910-555-9252\", 24903, \"41558\", \"Mixels\", \"Series 7\", 2018, \"Mixadel\", 63.0, 4.99, \"http://images.brickset.com/sets/images/41558-1.jpg\", 1], [580, \"Christy\", \"Larsen\", 26, \"910-555-9252\", 24735, \"41120\", \"Friends\", \"Adventure Camp\", 2018, \"Adventure Camp Archery\", 114.0, 9.99, \"http://images.brickset.com/sets/images/41120-1.jpg\", 1], [585, \"Trenidy\", \"Embrey\", 26, \"215-555-1034\", 25884, \"853571\", \"Gear\", \"Key Chains/Miscellaneous\", 2018, \"Hot Dog Guy Key Chain\", NaN, 5.99, \"http://images.brickset.com/sets/images/853571-1.jpg\", 2], [586, \"Trenidy\", \"Embrey\", 26, \"215-555-1034\", 24779, \"75114\", \"Star Wars\", \"Buildable Figures\", 2018, \"First Order Stormtrooper\", 81.0, 19.99, \"http://images.brickset.com/sets/images/75114-1.jpg\", 1], [587, \"Trenidy\", \"Embrey\", 26, \"215-555-1034\", 24791, \"75132\", \"Star Wars\", \"The Force Awakens\", 2018, \"First Order Battle Pack\", 88.0, 12.99, \"http://images.brickset.com/sets/images/75132-1.jpg\", 3], [588, \"Sean\", \"Graves-Ayers\", 34, \"949-555-1759\", 25641, \"70326\", \"Nexo Knights\", \"NaN\", 2018, \"The Black Knight Mech\", 530.0, 39.99, \"NaN\", 2], [589, \"Sean\", \"Graves-Ayers\", 34, \"949-555-1759\", 26035, \"41574\", \"Mixels\", \"Series 9\", 2018, \"Compax\", 66.0, 4.99, \"NaN\", 1], [600, \"Juana\", \"Geisert\", 35, \"701-555-8100\", 25919, \"75150\", \"Star Wars\", \"Rebels\", 2018, \"Vader's TIE Advanced vs. A-wing Fighter\", 702.0, 89.99, \"http://images.brickset.com/sets/images/75150-1.jpg\", 2], [601, \"Juana\", \"Geisert\", 35, \"701-555-8100\", 25644, \"71313\", \"Bionicle\", \"Reboot Villains\", 2018, \"Lava Beast\", 114.0, 14.99, \"NaN\", 1], [603, \"Benjamin\", \"Park\", 33, \"NaN\", 24785, \"75126\", \"Star Wars\", \"MicroFighters\", 2018, \"First Order Snowspeeder\", 91.0, 9.99, \"http://images.brickset.com/sets/images/75126-1.jpg\", 1], [604, \"Benjamin\", \"Park\", 33, \"NaN\", 25898, \"75145\", \"Star Wars\", \"Original Content\", 2018, \"Eclipse Fighter\", 363.0, 29.99, \"http://images.brickset.com/sets/images/75145-1.jpg\", 4], [605, \"Benjamin\", \"Park\", 33, \"NaN\", 25883, \"853568\", \"Gear\", \"Key Chains/City\", 2018, \"Prison Guard Key Chain\", NaN, 5.99, \"http://images.brickset.com/sets/images/853568-1.jpg\", 1], [606, \"Benjamin\", \"Park\", 33, \"NaN\", 24957, \"71309\", \"Bionicle\", \"Toa\", 2018, \"Onua - Uniter of Earth\", 143.0, 19.99, \"http://images.brickset.com/sets/images/71309-1.jpg\", 2], [607, \"Miles\", \"Hill\", 34, \"NaN\", 24758, \"70312\", \"Nexo Knights\", \"NaN\", 2018, \"Lance's Mecha Horse\", 237.0, 19.99, \"http://images.brickset.com/sets/images/70312-1.jpg\", 2], [610, \"Jennifer\", \"Reinert\", 29, \"402-555-0467\", 24660, \"71241\", \"Dimensions\", \"Fun Pack\", 2018, \"Fun Pack: Slimer\", 33.0, 14.99, \"http://images.brickset.com/sets/images/71241-1.jpg\", 3], [616, \"Spencer\", \"Morgan\", 28, \"784-555-3455\", 26041, \"41580\", \"Mixels\", \"Series 9\", 2018, \"Myke\", 63.0, 4.99, \"NaN\", 2], [617, \"Spencer\", \"Morgan\", 28, \"784-555-3455\", 26060, \"5005051\", \"Gear\", \"Digital Media\", 2018, \"Friends of Heartlake City Girlz 4 Life\", NaN, 19.99, \"NaN\", 1]];\n",
       "\n",
       "        // Define the dt_args\n",
       "        let dt_args = {\"layout\": {\"topStart\": \"pageLength\", \"topEnd\": \"search\", \"bottomStart\": \"info\", \"bottomEnd\": \"paging\"}, \"order\": [], \"warn_on_selected_rows_not_rendered\": true};\n",
       "        dt_args[\"data\"] = data;\n",
       "\n",
       "        \n",
       "        new DataTable(table, dt_args);\n",
       "    });\n",
       "</script>\n"
      ],
      "text/plain": [
       "<IPython.core.display.HTML object>"
      ]
     },
     "metadata": {},
     "output_type": "display_data"
    },
    {
     "data": {
      "text/html": [
       "<table id=\"itables_ffa60500_0fc4_4782_b75a_b50368028d0e\" class=\"display nowrap\" data-quarto-disable-processing=\"true\" style=\"table-layout:auto;width:auto;margin:auto;caption-side:bottom\">\n",
       "<thead>\n",
       "    <tr style=\"text-align: right;\">\n",
       "      <th></th>\n",
       "      <th>first_name</th>\n",
       "      <th>last_name</th>\n",
       "      <th>age</th>\n",
       "      <th>phone_number</th>\n",
       "      <th>set_id</th>\n",
       "      <th>number</th>\n",
       "      <th>theme</th>\n",
       "      <th>subtheme</th>\n",
       "      <th>year</th>\n",
       "      <th>name</th>\n",
       "      <th>pieces</th>\n",
       "      <th>us_price</th>\n",
       "      <th>image_url</th>\n",
       "      <th>quantity</th>\n",
       "    </tr>\n",
       "  </thead><tbody><tr>\n",
       "<td style=\"vertical-align:middle; text-align:left\">\n",
       "<div style=\"float:left; margin-right: 10px;\">\n",
       "<a href=https://mwouts.github.io/itables/><svg class=\"main-svg\" xmlns=\"http://www.w3.org/2000/svg\" xmlns:xlink=\"http://www.w3.org/1999/xlink\"\n",
       "width=\"64\" viewBox=\"0 0 500 400\" style=\"font-family: 'Droid Sans', sans-serif;\">\n",
       "    <g style=\"fill:#d9d7fc\">\n",
       "        <path d=\"M100,400H500V357H100Z\" />\n",
       "        <path d=\"M100,300H400V257H100Z\" />\n",
       "        <path d=\"M0,200H400V157H0Z\" />\n",
       "        <path d=\"M100,100H500V57H100Z\" />\n",
       "        <path d=\"M100,350H500V307H100Z\" />\n",
       "        <path d=\"M100,250H400V207H100Z\" />\n",
       "        <path d=\"M0,150H400V107H0Z\" />\n",
       "        <path d=\"M100,50H500V7H100Z\" />\n",
       "    </g>\n",
       "    <g style=\"fill:#1a1366;stroke:#1a1366;\">\n",
       "   <rect x=\"100\" y=\"7\" width=\"400\" height=\"43\">\n",
       "    <animate\n",
       "      attributeName=\"width\"\n",
       "      values=\"0;400;0\"\n",
       "      dur=\"5s\"\n",
       "      repeatCount=\"indefinite\" />\n",
       "      <animate\n",
       "      attributeName=\"x\"\n",
       "      values=\"100;100;500\"\n",
       "      dur=\"5s\"\n",
       "      repeatCount=\"indefinite\" />\n",
       "  </rect>\n",
       "        <rect x=\"0\" y=\"107\" width=\"400\" height=\"43\">\n",
       "    <animate\n",
       "      attributeName=\"width\"\n",
       "      values=\"0;400;0\"\n",
       "      dur=\"3.5s\"\n",
       "      repeatCount=\"indefinite\" />\n",
       "    <animate\n",
       "      attributeName=\"x\"\n",
       "      values=\"0;0;400\"\n",
       "      dur=\"3.5s\"\n",
       "      repeatCount=\"indefinite\" />\n",
       "  </rect>\n",
       "        <rect x=\"100\" y=\"207\" width=\"300\" height=\"43\">\n",
       "    <animate\n",
       "      attributeName=\"width\"\n",
       "      values=\"0;300;0\"\n",
       "      dur=\"3s\"\n",
       "      repeatCount=\"indefinite\" />\n",
       "    <animate\n",
       "      attributeName=\"x\"\n",
       "      values=\"100;100;400\"\n",
       "      dur=\"3s\"\n",
       "      repeatCount=\"indefinite\" />\n",
       "  </rect>\n",
       "        <rect x=\"100\" y=\"307\" width=\"400\" height=\"43\">\n",
       "    <animate\n",
       "      attributeName=\"width\"\n",
       "      values=\"0;400;0\"\n",
       "      dur=\"4s\"\n",
       "      repeatCount=\"indefinite\" />\n",
       "      <animate\n",
       "      attributeName=\"x\"\n",
       "      values=\"100;100;500\"\n",
       "      dur=\"4s\"\n",
       "      repeatCount=\"indefinite\" />\n",
       "  </rect>\n",
       "        <g style=\"fill:transparent;stroke-width:8; stroke-linejoin:round\" rx=\"5\">\n",
       "            <g transform=\"translate(45 50) rotate(-45)\">\n",
       "                <circle r=\"33\" cx=\"0\" cy=\"0\" />\n",
       "                <rect x=\"-8\" y=\"32\" width=\"16\" height=\"30\" />\n",
       "            </g>\n",
       "\n",
       "            <g transform=\"translate(450 152)\">\n",
       "                <polyline points=\"-15,-20 -35,-20 -35,40 25,40 25,20\" />\n",
       "                <rect x=\"-15\" y=\"-40\" width=\"60\" height=\"60\" />\n",
       "            </g>\n",
       "\n",
       "            <g transform=\"translate(50 352)\">\n",
       "                <polygon points=\"-35,-5 0,-40 35,-5\" />\n",
       "                <polygon points=\"-35,10 0,45 35,10\" />\n",
       "            </g>\n",
       "\n",
       "            <g transform=\"translate(75 250)\">\n",
       "                <polyline points=\"-30,30 -60,0 -30,-30\" />\n",
       "                <polyline points=\"0,30 -30,0 0,-30\" />\n",
       "            </g>\n",
       "\n",
       "            <g transform=\"translate(425 250) rotate(180)\">\n",
       "                <polyline points=\"-30,30 -60,0 -30,-30\" />\n",
       "                <polyline points=\"0,30 -30,0 0,-30\" />\n",
       "            </g>\n",
       "        </g>\n",
       "    </g>\n",
       "</svg>\n",
       "</a>\n",
       "</div>\n",
       "<div>\n",
       "Loading ITables v2.2.2 from the internet...\n",
       "(need <a href=https://mwouts.github.io/itables/troubleshooting.html>help</a>?)</td>\n",
       "</div>\n",
       "</tr></tbody>\n",
       "\n",
       "</table>\n",
       "<link href=\"https://www.unpkg.com/dt_for_itables@2.0.13/dt_bundle.css\" rel=\"stylesheet\">\n",
       "<script type=\"module\">\n",
       "    import {DataTable, jQuery as $} from 'https://www.unpkg.com/dt_for_itables@2.0.13/dt_bundle.js';\n",
       "\n",
       "    document.querySelectorAll(\"#itables_ffa60500_0fc4_4782_b75a_b50368028d0e:not(.dataTable)\").forEach(table => {\n",
       "        if (!(table instanceof HTMLTableElement))\n",
       "            return;\n",
       "\n",
       "        // Define the table data\n",
       "        const data = [[3, \"Chelsea\", \"Bouchard\", 41, \"NaN\", 24695, \"31048\", \"Creator\", \"NaN\", 2018, \"Lakeside Lodge\", 368.0, 29.99, \"http://images.brickset.com/sets/images/31048-1.jpg\", 1], [4, \"Chelsea\", \"Bouchard\", 41, \"NaN\", 25626, \"70595\", \"Ninjago\", \"Rise of the Villains\", 2018, \"Ultra Stealth Raider\", 1093.0, 119.99, \"http://images.brickset.com/sets/images/70595-1.jpg\", 1], [5, \"Chelsea\", \"Bouchard\", 41, \"NaN\", 24721, \"10831\", \"Duplo\", \"NaN\", 2018, \"My First Caterpillar\", 19.0, 9.99, \"http://images.brickset.com/sets/images/10831-1.jpg\", 1], [8, \"Caleb\", \"Garcia-Wideman\", 37, \"907-555-9236\", 24730, \"41115\", \"Friends\", \"NaN\", 2018, \"Emma's Creative Workshop\", 108.0, 9.99, \"http://images.brickset.com/sets/images/41115-1.jpg\", 1], [9, \"Caleb\", \"Garcia-Wideman\", 37, \"907-555-9236\", 25611, \"21127\", \"Minecraft\", \"Minifig-scale\", 2018, \"The Fortress\", NaN, 109.99, \"http://images.brickset.com/sets/images/21127-1.jpg\", 2], [13, \"Connor\", \"Brown\", 36, \"516-555-4310\", 24548, \"71230\", \"Dimensions\", \"Fun Pack\", 2018, \"Fun Pack: Doc Brown\", 69.0, 14.99, \"http://images.brickset.com/sets/images/71230-1.jpg\", 1], [14, \"Connor\", \"Brown\", 36, \"516-555-4310\", 24913, \"60112\", \"City\", \"Fire\", 2018, \"Fire Engine\", 376.0, 49.99, \"http://images.brickset.com/sets/images/60112-1.jpg\", 1], [15, \"Connor\", \"Brown\", 36, \"516-555-4310\", 26034, \"41573\", \"Mixels\", \"Series 9\", 2018, \"Sweepz\", 61.0, 4.99, \"NaN\", 1], [16, \"Toni\", \"Borison\", 40, \"284-555-4560\", 25626, \"70595\", \"Ninjago\", \"Rise of the Villains\", 2018, \"Ultra Stealth Raider\", 1093.0, 119.99, \"http://images.brickset.com/sets/images/70595-1.jpg\", 1], [17, \"Toni\", \"Borison\", 40, \"284-555-4560\", 24994, \"10251\", \"Advanced Models\", \"Modular Buildings\", 2018, \"Brick Bank\", 2380.0, 169.99, \"http://images.brickset.com/sets/images/10251-1.jpg\", 1], [18, \"Daniel\", \"Hurst\", 44, \"251-555-0845\", 24903, \"41558\", \"Mixels\", \"Series 7\", 2018, \"Mixadel\", 63.0, 4.99, \"http://images.brickset.com/sets/images/41558-1.jpg\", 1], [19, \"Daniel\", \"Hurst\", 44, \"251-555-0845\", 24695, \"31048\", \"Creator\", \"NaN\", 2018, \"Lakeside Lodge\", 368.0, 29.99, \"http://images.brickset.com/sets/images/31048-1.jpg\", 1], [20, \"Judith\", \"Webb\", 39, \"917-555-7417\", 26058, \"5005059\", \"Gear\", \"Video Games/PS3\", 2018, \"Marvel Avengers PS3 Video Game\", NaN, 49.99, \"http://images.brickset.com/sets/images/5005059-1.jpg\", 2], [21, \"Nicholas\", \"Belfageoua\", 46, \"606-555-4814\", 25881, \"853549\", \"Gear\", \"Key Chains/Friends\", 2018, \"Mia Key Chain\", NaN, 5.99, \"http://images.brickset.com/sets/images/853549-1.jpg\", 1], [22, \"Nicholas\", \"Belfageoua\", 46, \"606-555-4814\", 25642, \"70327\", \"Nexo Knights\", \"NaN\", 2018, \"The King's Mech\", 375.0, 29.99, \"http://images.brickset.com/sets/images/70327-1.jpg\", 1], [23, \"Amanda\", \"Tronnier\", 45, \"317-555-7477\", 24959, \"75139\", \"Star Wars\", \"The Force Awakens\", 2018, \"Battle on Takodana\", 409.0, 59.99, \"http://images.brickset.com/sets/images/75139-1.jpg\", 1], [24, \"Amanda\", \"Tronnier\", 45, \"317-555-7477\", 25887, \"853543\", \"Ninjago\", \"NaN\", 2018, \"Ninjago Party Set\", 70.0, 7.99, \"http://images.brickset.com/sets/images/853543-1.jpg\", 2], [25, \"Amanda\", \"Tronnier\", 45, \"317-555-7477\", 24685, \"60118\", \"City\", \"Traffic\", 2018, \"Garbage Truck\", 248.0, 19.99, \"http://images.brickset.com/sets/images/60118-1.jpg\", 1], [26, \"Amanda\", \"Tronnier\", 45, \"317-555-7477\", 25901, \"5004612\", \"Gear\", \"Watches/Clocks\", 2018, \"Lucy Wyldstyle Minifigure Link Watch\", NaN, 24.99, \"http://images.brickset.com/sets/images/5004612-1.jpg\", 1], [34, \"Erik\", \"Brownrigg\", 44, \"NaN\", 25621, \"70589\", \"Ninjago\", \"Rise of the Villains\", 2018, \"Rock Roader\", 406.0, 39.99, \"http://images.brickset.com/sets/images/70589-1.jpg\", 1], [35, \"Jackson\", \"Martinez\", 43, \"250-555-1732\", 24669, \"71304\", \"Bionicle\", \"Companions\", 2018, \"Terak - Creature of Earth\", 74.0, 9.99, \"http://images.brickset.com/sets/images/71304-1.jpg\", 1], [36, \"Jackson\", \"Martinez\", 43, \"250-555-1732\", 24904, \"41559\", \"Mixels\", \"Series 7\", 2018, \"Paladum\", 64.0, 4.99, \"http://images.brickset.com/sets/images/41559-1.jpg\", 2], [37, \"Jackson\", \"Martinez\", 43, \"250-555-1732\", 24665, \"21031\", \"Architecture\", \"NaN\", 2018, \"Burj Khalifa\", 333.0, 39.99, \"http://images.brickset.com/sets/images/21031-1.jpg\", 3], [43, \"Mckenzie\", \"Cherry\", 37, \"336-555-9269\", 25878, \"853505\", \"Gear\", \"Role-Play toys\", 2018, \"NK Sword Standard\", NaN, 9.99, \"http://images.brickset.com/sets/images/853505-1.jpg\", 1], [46, \"Rebecca\", \"Duval\", 48, \"908-555-4029\", 24899, \"41114\", \"Friends\", \"Party\", 2018, \"Party Styling\", 54.0, 4.99, \"http://images.brickset.com/sets/images/41114-1.jpg\", 2], [47, \"Rebecca\", \"Duval\", 48, \"908-555-4029\", 26034, \"41573\", \"Mixels\", \"Series 9\", 2018, \"Sweepz\", 61.0, 4.99, \"NaN\", 1], [48, \"Rebecca\", \"Duval\", 48, \"908-555-4029\", 24664, \"21028\", \"Architecture\", \"Skylines\", 2018, \"New York City\", 598.0, 59.99, \"http://images.brickset.com/sets/images/21028-1.jpg\", 2], [51, \"Adoria\", \"Hammond\", 40, \"712-555-6781\", 24720, \"10830\", \"Duplo\", \"NaN\", 2018, \"Minnie's Caf\\u00e9\", 27.0, 19.99, \"http://images.brickset.com/sets/images/10830-1.jpg\", 1], [53, \"Cecilia\", \"Mauro\", 50, \"NaN\", 25921, \"75157\", \"Star Wars\", \"Rebels\", 2018, \"Captain Rex's AT-TE\", 972.0, 119.99, \"http://images.brickset.com/sets/images/75157-1.jpg\", 3], [81, \"Tysen\", \"Banda-Chavez\", 43, \"NaN\", 26059, \"5005060\", \"Gear\", \"Video Games/3DS\", 2018, \"Marvel Avengers Nintendo 3DS Video Game\", NaN, 29.99, \"http://images.brickset.com/sets/images/5005060-1.jpg\", 2], [82, \"Tysen\", \"Banda-Chavez\", 43, \"NaN\", 25003, \"41564\", \"Mixels\", \"Series 8\", 2018, \"Aquad\", 70.0, 4.99, \"http://images.brickset.com/sets/images/41564-1.jpg\", 1], [83, \"Tysen\", \"Banda-Chavez\", 43, \"NaN\", 24677, \"60108\", \"City\", \"Fire\", 2018, \"Fire Response Unit\", 257.0, 39.99, \"http://images.brickset.com/sets/images/60108-1.jpg\", 2], [90, \"Carson\", \"Aragon\", 38, \"NaN\", 25634, \"70319\", \"Nexo Knights\", \"NaN\", 2018, \"Macy's Thunder Mace\", 202.0, 19.99, \"http://images.brickset.com/sets/images/70319-1.jpg\", 1], [91, \"Carson\", \"Aragon\", 38, \"NaN\", 25910, \"30347\", \"City\", \"Fire\", 2018, \"Fire Car\", 53.0, 3.99, \"http://images.brickset.com/sets/images/30347-1.jpg\", 1], [95, \"Cameron\", \"Rodriguez\", 48, \"325-555-1926\", 25879, \"853534\", \"Gear\", \"Key Chains/Ninjago\", 2018, \"Airjitzu Jay Key Chain\", NaN, 5.99, \"http://images.brickset.com/sets/images/853534-1.jpg\", 1], [96, \"Cameron\", \"Rodriguez\", 48, \"325-555-1926\", 25910, \"30347\", \"City\", \"Fire\", 2018, \"Fire Car\", 53.0, 3.99, \"http://images.brickset.com/sets/images/30347-1.jpg\", 1], [97, \"Connor\", \"Padilla\", 36, \"441-555-6534\", 24674, \"71310\", \"Bionicle\", \"Reboot Villains\", 2018, \"Umarak the Hunter\", 172.0, 19.99, \"http://images.brickset.com/sets/images/71310-1.jpg\", 2], [98, \"Connor\", \"Padilla\", 36, \"441-555-6534\", 24902, \"41556\", \"Mixels\", \"Series 7\", 2018, \"Tiketz\", 62.0, 4.99, \"http://images.brickset.com/sets/images/41556-1.jpg\", 1], [99, \"Connor\", \"Padilla\", 36, \"441-555-6534\", 24797, \"75138\", \"Star Wars\", \"Episode V\", 2018, \"Hoth Attack\", 233.0, 24.99, \"http://images.brickset.com/sets/images/75138-1.jpg\", 1], [105, \"Caroline\", \"Holstein\", 38, \"318-555-7894\", 24798, \"75140\", \"Star Wars\", \"The Force Awakens\", 2018, \"Resistance Troop Transporter\", 646.0, 69.99, \"http://images.brickset.com/sets/images/75140-1.jpg\", 1], [106, \"Caroline\", \"Holstein\", 38, \"318-555-7894\", 24763, \"70331\", \"Nexo Knights\", \"Ultimate\", 2018, \"Ultimate Macy\", 101.0, 9.99, \"http://images.brickset.com/sets/images/70331-1.jpg\", 1], [107, \"Caroline\", \"Holstein\", 38, \"318-555-7894\", 24678, \"60109\", \"City\", \"Fire\", 2018, \"Fire Boat\", 412.0, 79.99, \"http://images.brickset.com/sets/images/60109-1.jpg\", 1], [108, \"Caroline\", \"Holstein\", 38, \"318-555-7894\", 24959, \"75139\", \"Star Wars\", \"The Force Awakens\", 2018, \"Battle on Takodana\", 409.0, 59.99, \"http://images.brickset.com/sets/images/75139-1.jpg\", 1], [109, \"Caroline\", \"Holstein\", 38, \"318-555-7894\", 24699, \"76053\", \"DC Comics Super Heroes\", \"Batman\", 2018, \"Gotham City Cycle Chase\", 224.0, 19.99, \"http://images.brickset.com/sets/images/76053-1.jpg\", 3], [120, \"Madeline\", \"Castor\", 39, \"450-555-9877\", 25006, \"41567\", \"Mixels\", \"Series 8\", 2018, \"Skulzy\", 66.0, 4.99, \"http://images.brickset.com/sets/images/41567-1.jpg\", 1], [121, \"Madeline\", \"Castor\", 39, \"450-555-9877\", 25969, \"76059\", \"Marvel Super Heroes\", \"Ultimate Spider-Man\", 2018, \"Spider-Man: Doc Ock's Tentacle Trap\", 446.0, 39.99, \"http://images.brickset.com/sets/images/76059-1.jpg\", 1], [122, \"Madeline\", \"Castor\", 39, \"450-555-9877\", 26025, \"41178\", \"Elves\", \"NaN\", 2018, \"The Dragon Sanctuary\", 585.0, 49.99, \"NaN\", 1], [123, \"Trevor\", \"Perez\", 39, \"878-555-5155\", 24730, \"41115\", \"Friends\", \"NaN\", 2018, \"Emma's Creative Workshop\", 108.0, 9.99, \"http://images.brickset.com/sets/images/41115-1.jpg\", 1], [124, \"Trevor\", \"Perez\", 39, \"878-555-5155\", 24746, \"76048\", \"Marvel Super Heroes\", \"Avengers Assemble\", 2018, \"Iron Skull Sub Attack\", 335.0, 29.99, \"http://images.brickset.com/sets/images/76048-1.jpg\", 1], [125, \"Trevor\", \"Perez\", 39, \"878-555-5155\", 24703, \"41069\", \"Disney Princess\", \"Palace Pets\", 2018, \"Treasure's Day at the Pool\", 70.0, 5.99, \"http://images.brickset.com/sets/images/41069-1.jpg\", 1], [127, \"Adam\", \"Albornoz\", 36, \"418-555-2486\", 24907, \"42050\", \"Technic\", \"NaN\", 2018, \"Drag Racer\", 647.0, 79.99, \"http://images.brickset.com/sets/images/42050-1.jpg\", 1], [141, \"Tj\", \"Aguon\", 47, \"862-555-5629\", 24737, \"41135\", \"Friends\", \"Pop Star\", 2018, \"Livi's Pop Star House\", 597.0, 49.99, \"http://images.brickset.com/sets/images/41135-1.jpg\", 1], [142, \"Tj\", \"Aguon\", 47, \"862-555-5629\", 24894, \"31040\", \"Creator\", \"NaN\", 2018, \"Desert Racers\", 65.0, 4.99, \"http://images.brickset.com/sets/images/31040-1.jpg\", 1], [143, \"Tj\", \"Aguon\", 47, \"862-555-5629\", 24720, \"10830\", \"Duplo\", \"NaN\", 2018, \"Minnie's Caf\\u00e9\", 27.0, 19.99, \"http://images.brickset.com/sets/images/10830-1.jpg\", 1], [144, \"Taylor\", \"Allen\", 41, \"760-555-8123\", 25923, \"75147\", \"Star Wars\", \"Original Content\", 2018, \"Star Scavenger\", 558.0, 49.99, \"http://images.brickset.com/sets/images/75147-1.jpg\", 2], [171, \"Katherine\", \"Beck\", 45, \"209-555-7105\", 24994, \"10251\", \"Advanced Models\", \"Modular Buildings\", 2018, \"Brick Bank\", 2380.0, 169.99, \"http://images.brickset.com/sets/images/10251-1.jpg\", 1], [172, \"Katherine\", \"Beck\", 45, \"209-555-7105\", 24959, \"75139\", \"Star Wars\", \"The Force Awakens\", 2018, \"Battle on Takodana\", 409.0, 59.99, \"http://images.brickset.com/sets/images/75139-1.jpg\", 1], [173, \"Katherine\", \"Beck\", 45, \"209-555-7105\", 24758, \"70312\", \"Nexo Knights\", \"NaN\", 2018, \"Lance's Mecha Horse\", 237.0, 19.99, \"http://images.brickset.com/sets/images/70312-1.jpg\", 2], [174, \"Katherine\", \"Beck\", 45, \"209-555-7105\", 26025, \"41178\", \"Elves\", \"NaN\", 2018, \"The Dragon Sanctuary\", 585.0, 49.99, \"NaN\", 1], [175, \"Beemnet\", \"Masters\", 41, \"902-555-8429\", 24678, \"60109\", \"City\", \"Fire\", 2018, \"Fire Boat\", 412.0, 79.99, \"http://images.brickset.com/sets/images/60109-1.jpg\", 1], [176, \"Beemnet\", \"Masters\", 41, \"902-555-8429\", 24794, \"75135\", \"Star Wars\", \"Episode III\", 2018, \"Obi-Wan's Jedi Interceptor\", 215.0, 24.99, \"http://images.brickset.com/sets/images/75135-1.jpg\", 1], [203, \"Sean\", \"Cordova\", 43, \"881-555-7280\", 25004, \"41565\", \"Mixels\", \"Series 8\", 2018, \"Hydro\", 70.0, 4.99, \"http://images.brickset.com/sets/images/41565-1.jpg\", 5], [204, \"Sean\", \"Cordova\", 43, \"881-555-7280\", 25656, \"10804\", \"Duplo\", \"NaN\", 2018, \"Jungle\", 86.0, 49.99, \"http://images.brickset.com/sets/images/10804-1.jpg\", 1], [207, \"Katie\", \"Evering\", 37, \"882-555-7296\", 24659, \"71228\", \"Dimensions\", \"Level Pack\", 2018, \"Level Pack: Ghostbusters\", 115.0, 29.99, \"http://images.brickset.com/sets/images/71228-1.jpg\", 1], [208, \"Katie\", \"Evering\", 37, \"882-555-7296\", 26040, \"41579\", \"Mixels\", \"Series 9\", 2018, \"Camsta\", 62.0, 4.99, \"NaN\", 2], [209, \"Katie\", \"Evering\", 37, \"882-555-7296\", 25659, \"75821\", \"The Angry Birds Movie\", \"NaN\", 2018, \"Piggy Car Escape\", 74.0, 12.99, \"http://images.brickset.com/sets/images/75821-1.jpg\", 2], [210, \"Katie\", \"Evering\", 37, \"882-555-7296\", 24765, \"70332\", \"Nexo Knights\", \"Ultimate\", 2018, \"Ultimate Aaron\", 82.0, 9.99, \"http://images.brickset.com/sets/images/70332-1.jpg\", 2], [226, \"Melissa\", \"Holmberg\", 36, \"NaN\", 24791, \"75132\", \"Star Wars\", \"The Force Awakens\", 2018, \"First Order Battle Pack\", 88.0, 12.99, \"http://images.brickset.com/sets/images/75132-1.jpg\", 1], [227, \"Cody\", \"Gonzales\", 44, \"973-555-3236\", 24908, \"42052\", \"Technic\", \"NaN\", 2018, \"Heavy Lift Helicopter\", 1042.0, 139.99, \"http://images.brickset.com/sets/images/42052-1.jpg\", 1], [228, \"Cody\", \"Gonzales\", 44, \"973-555-3236\", 25922, \"75149\", \"Star Wars\", \"The Force Awakens\", 2018, \"Resistance X-wing Fighter\", 740.0, 79.99, \"http://images.brickset.com/sets/images/75149-1.jpg\", 3], [229, \"Jessie\", \"Barron\", 37, \"918-555-7552\", 24696, \"31050\", \"Creator\", \"NaN\", 2018, \"Corner Deli\", 467.0, 39.99, \"http://images.brickset.com/sets/images/31050-1.jpg\", 1], [230, \"Jessie\", \"Barron\", 37, \"918-555-7552\", 24730, \"41115\", \"Friends\", \"NaN\", 2018, \"Emma's Creative Workshop\", 108.0, 9.99, \"http://images.brickset.com/sets/images/41115-1.jpg\", 1], [234, \"Kelsey\", \"Schiffner\", 37, \"510-555-5847\", 24919, \"70601\", \"Ninjago\", \"Skybound\", 2018, \"Sky Shark\", 221.0, 19.99, \"http://images.brickset.com/sets/images/70601-1.jpg\", 2], [235, \"Kelsey\", \"Schiffner\", 37, \"510-555-5847\", 24756, \"70310\", \"Nexo Knights\", \"NaN\", 2018, \"Knighton Battle Blaster\", 76.0, 9.99, \"http://images.brickset.com/sets/images/70310-1.jpg\", 1], [236, \"Kalynne\", \"Kerth\", 46, \"361-555-5328\", 24976, \"60105\", \"City\", \"Fire\", 2018, \"Fire ATV\", 64.0, 6.99, \"http://images.brickset.com/sets/images/60105-1.jpg\", 1], [237, \"Kalynne\", \"Kerth\", 46, \"361-555-5328\", 25641, \"70326\", \"Nexo Knights\", \"NaN\", 2018, \"The Black Knight Mech\", 530.0, 39.99, \"NaN\", 1], [238, \"John Jay\", \"Griego\", 50, \"710-555-8921\", 24552, \"71229\", \"Dimensions\", \"Team Pack\", 2018, \"Team Pack: Joker and Harley Quinn\", 92.0, 24.99, \"http://images.brickset.com/sets/images/71229-1.jpg\", 2], [239, \"John Jay\", \"Griego\", 50, \"710-555-8921\", 24795, \"75136\", \"Star Wars\", \"Episode IV\", 2018, \"Droid Escape Pod\", 197.0, 24.99, \"http://images.brickset.com/sets/images/75136-1.jpg\", 1], [241, \"Celia\", \"Foley\", 42, \"NaN\", 24670, \"71305\", \"Bionicle\", \"Toa\", 2018, \"Lewa - Uniter of Jungle\", 79.0, 14.99, \"http://images.brickset.com/sets/images/71305-1.jpg\", 1], [242, \"Celia\", \"Foley\", 42, \"NaN\", 24734, \"41119\", \"Friends\", \"NaN\", 2018, \"Heartlake Cupcake Cafe\", 439.0, 39.99, \"http://images.brickset.com/sets/images/41119-1.jpg\", 1], [243, \"Celia\", \"Foley\", 42, \"NaN\", 25645, \"71314\", \"Bionicle\", \"Reboot Villains\", 2018, \"Storm Beast\", 109.0, 14.99, \"NaN\", 3], [244, \"Celia\", \"Foley\", 42, \"NaN\", 25605, \"75146\", \"Star Wars\", \"Seasonal\", 2018, \"Star Wars Advent Calendar\", 282.0, 39.99, \"http://images.brickset.com/sets/images/75146-1.jpg\", 2], [245, \"Celia\", \"Foley\", 42, \"NaN\", 25612, \"21128\", \"Minecraft\", \"Minifig-scale\", 2018, \"The Village\", NaN, 199.99, \"NaN\", 1], [246, \"Alyssa\", \"Gorrell\", 38, \"867-555-7840\", 24683, \"60116\", \"City\", \"Medical\", 2018, \"Ambulance Plane\", 183.0, 19.99, \"http://images.brickset.com/sets/images/60116-1.jpg\", 2], [247, \"Alyssa\", \"Gorrell\", 38, \"867-555-7840\", 25880, \"853548\", \"Gear\", \"Key Chains/Friends\", 2018, \"Andrea Key Chain\", NaN, 5.99, \"http://images.brickset.com/sets/images/853548-1.jpg\", 1], [248, \"Alyssa\", \"Gorrell\", 38, \"867-555-7840\", 24659, \"71228\", \"Dimensions\", \"Level Pack\", 2018, \"Level Pack: Ghostbusters\", 115.0, 29.99, \"http://images.brickset.com/sets/images/71228-1.jpg\", 1], [249, \"Tian\", \"Nelson\", 38, \"205-555-7773\", 25634, \"70319\", \"Nexo Knights\", \"NaN\", 2018, \"Macy's Thunder Mace\", 202.0, 19.99, \"http://images.brickset.com/sets/images/70319-1.jpg\", 4], [250, \"Tian\", \"Nelson\", 38, \"205-555-7773\", 25647, \"71316\", \"Bionicle\", \"Reboot Villains\", 2018, \"Umarak the Destroyer\", 191.0, 24.99, \"NaN\", 1], [251, \"Tian\", \"Nelson\", 38, \"205-555-7773\", 26060, \"5005051\", \"Gear\", \"Digital Media\", 2018, \"Friends of Heartlake City Girlz 4 Life\", NaN, 19.99, \"NaN\", 1], [255, \"Sofia\", \"Szloboda\", 46, \"602-555-2267\", 24906, \"41562\", \"Mixels\", \"Series 7\", 2018, \"Trumpsy\", 54.0, 4.99, \"http://images.brickset.com/sets/images/41562-1.jpg\", 2], [256, \"Sofia\", \"Szloboda\", 46, \"602-555-2267\", 24704, \"41140\", \"Disney Princess\", \"Palace Pets\", 2018, \"Daisy's Beauty Salon\", 98.0, 9.99, \"http://images.brickset.com/sets/images/41140-1.jpg\", 2], [259, \"Joseph\", \"Brown\", 50, \"801-555-2112\", 24704, \"41140\", \"Disney Princess\", \"Palace Pets\", 2018, \"Daisy's Beauty Salon\", 98.0, 9.99, \"http://images.brickset.com/sets/images/41140-1.jpg\", 1], [260, \"Joseph\", \"Brown\", 50, \"801-555-2112\", 25851, \"B0189OU0JY\", \"Gear\", \"Digital media\", 2018, \"LEGO Star Wars: Droid Tales\", NaN, 19.99, \"http://images.brickset.com/sets/images/B0189OU0JY-1.jpg\", 1], [261, \"Joseph\", \"Brown\", 50, \"801-555-2112\", 25910, \"30347\", \"City\", \"Fire\", 2018, \"Fire Car\", 53.0, 3.99, \"http://images.brickset.com/sets/images/30347-1.jpg\", 2], [262, \"Joseph\", \"Brown\", 50, \"801-555-2112\", 25657, \"76051\", \"Marvel Super Heroes\", \"Captain America: Civil War\", 2018, \"Super Hero Airport Battle\", 807.0, 79.99, \"http://images.brickset.com/sets/images/76051-1.jpg\", 2], [280, \"Spencer\", \"Pasillas\", 44, \"865-555-3503\", 24625, \"41066\", \"Disney Princess\", \"Frozen\", 2018, \"Anna & Kristoff's Sleigh Adventure\", 174.0, 29.99, \"http://images.brickset.com/sets/images/41066-1.jpg\", 1], [281, \"Spencer\", \"Pasillas\", 44, \"865-555-3503\", 24716, \"10817\", \"Duplo\", \"NaN\", 2018, \"Creative Chest\", 70.0, 29.99, \"http://images.brickset.com/sets/images/10817-1.jpg\", 1], [282, \"Spencer\", \"Pasillas\", 44, \"865-555-3503\", 24891, \"10815\", \"Duplo\", \"NaN\", 2018, \"My First Rocket\", 18.0, 9.99, \"http://images.brickset.com/sets/images/10815-1.jpg\", 1], [283, \"Spencer\", \"Pasillas\", 44, \"865-555-3503\", 24756, \"70310\", \"Nexo Knights\", \"NaN\", 2018, \"Knighton Battle Blaster\", 76.0, 9.99, \"http://images.brickset.com/sets/images/70310-1.jpg\", 1], [290, \"Billlie\", \"Benson\", 50, \"940-555-2729\", 24719, \"10829\", \"Duplo\", \"Mickey Mouse Clubhouse\", 2018, \"Mickey's Workshop\", 18.0, 19.99, \"http://images.brickset.com/sets/images/10829-1.jpg\", 1], [291, \"Billlie\", \"Benson\", 50, \"940-555-2729\", 25879, \"853534\", \"Gear\", \"Key Chains/Ninjago\", 2018, \"Airjitzu Jay Key Chain\", NaN, 5.99, \"http://images.brickset.com/sets/images/853534-1.jpg\", 1], [292, \"Marisa\", \"Beck\", 37, \"580-555-3417\", 25622, \"70591\", \"Ninjago\", \"Skybound\", 2018, \"Kryptarium Prison Breakout\", 207.0, 19.99, \"http://images.brickset.com/sets/images/70591-1.jpg\", 1], [293, \"Marisa\", \"Beck\", 37, \"580-555-3417\", 25917, \"76058\", \"Marvel Super Heroes\", \"Ultimate Spider-Man\", 2018, \"Spider-Man: Ghost Rider Team-Up\", 217.0, 19.99, \"http://images.brickset.com/sets/images/76058-1.jpg\", 1], [294, \"Marisa\", \"Beck\", 37, \"580-555-3417\", 24896, \"31046\", \"Creator\", \"NaN\", 2018, \"Fast Car\", 222.0, 19.99, \"http://images.brickset.com/sets/images/31046-1.jpg\", 2], [295, \"Marisa\", \"Beck\", 37, \"580-555-3417\", 24692, \"31044\", \"Creator\", \"NaN\", 2018, \"Park Animals\", 202.0, 14.99, \"http://images.brickset.com/sets/images/31044-1.jpg\", 2], [296, \"Cartrell\", \"Park\", 49, \"816-555-5191\", 24726, \"41175\", \"Elves\", \"NaN\", 2018, \"Fire Dragon's Lava Cave\", 441.0, 39.99, \"http://images.brickset.com/sets/images/41175-1.jpg\", 1], [297, \"Cartrell\", \"Park\", 49, \"816-555-5191\", 24807, \"71235\", \"Dimensions\", \"Level Pack\", 2018, \"Level Pack: Midway Arcade\", 96.0, 29.99, \"http://images.brickset.com/sets/images/71235-1.jpg\", 1], [305, \"Jessy\", \"Lopez-Itomura\", 43, \"613-555-4443\", 25878, \"853505\", \"Gear\", \"Role-Play toys\", 2018, \"NK Sword Standard\", NaN, 9.99, \"http://images.brickset.com/sets/images/853505-1.jpg\", 2], [306, \"Jessy\", \"Lopez-Itomura\", 43, \"613-555-4443\", 24676, \"60107\", \"City\", \"Fire\", 2018, \"Fire Ladder Truck\", 214.0, 24.99, \"http://images.brickset.com/sets/images/60107-1.jpg\", 1], [307, \"Jessy\", \"Lopez-Itomura\", 43, \"613-555-4443\", 24748, \"76050\", \"Marvel Super Heroes\", \"Captain America: Civil War\", 2018, \"Crossbones' Hazard Heist\", 179.0, 19.99, \"http://images.brickset.com/sets/images/76050-1.jpg\", 3], [317, \"Joshua\", \"Dillard\", 41, \"734-555-7042\", 25877, \"853506\", \"Gear\", \"Role-Play toys\", 2018, \"NK Shield Standard\", NaN, 12.99, \"http://images.brickset.com/sets/images/853506-1.jpg\", 1], [318, \"Joshua\", \"Dillard\", 41, \"734-555-7042\", 24767, \"70335\", \"Nexo Knights\", \"Ultimate\", 2018, \"Ultimate Lavaria\", 69.0, 9.99, \"http://images.brickset.com/sets/images/70335-1.jpg\", 1], [319, \"Annabelle\", \"Lindegren\", 36, \"662-555-9880\", 25647, \"71316\", \"Bionicle\", \"Reboot Villains\", 2018, \"Umarak the Destroyer\", 191.0, 24.99, \"NaN\", 1], [320, \"Annabelle\", \"Lindegren\", 36, \"662-555-9880\", 24986, \"30446\", \"DC Comics Super Heroes\", \"Batman v Superman: Dawn of Justice\", 2018, \"The Batmobile\", 63.0, 3.99, \"http://images.brickset.com/sets/images/30446-1.jpg\", 2], [321, \"Gabrielle\", \"Mccumiskey\", 37, \"441-555-2199\", 24915, \"60130\", \"City\", \"Police\", 2018, \"Prison Island\", 754.0, 89.99, \"http://images.brickset.com/sets/images/60130-1.jpg\", 2], [324, \"Ramses\", \"Ackah Yensu\", 38, \"909-555-0851\", 25879, \"853534\", \"Gear\", \"Key Chains/Ninjago\", 2018, \"Airjitzu Jay Key Chain\", NaN, 5.99, \"http://images.brickset.com/sets/images/853534-1.jpg\", 1], [325, \"Ramses\", \"Ackah Yensu\", 38, \"909-555-0851\", 24791, \"75132\", \"Star Wars\", \"The Force Awakens\", 2018, \"First Order Battle Pack\", 88.0, 12.99, \"http://images.brickset.com/sets/images/75132-1.jpg\", 1], [326, \"Ramses\", \"Ackah Yensu\", 38, \"909-555-0851\", 24916, \"60131\", \"City\", \"Police\", 2018, \"Crooks Island\", 244.0, 29.99, \"http://images.brickset.com/sets/images/60131-1.jpg\", 1], [327, \"Ramses\", \"Ackah Yensu\", 38, \"909-555-0851\", 24719, \"10829\", \"Duplo\", \"Mickey Mouse Clubhouse\", 2018, \"Mickey's Workshop\", 18.0, 19.99, \"http://images.brickset.com/sets/images/10829-1.jpg\", 2], [328, \"Ramses\", \"Ackah Yensu\", 38, \"909-555-0851\", 24796, \"75137\", \"Star Wars\", \"Episode V\", 2018, \"Carbon-Freezing Chamber\", 231.0, 24.99, \"http://images.brickset.com/sets/images/75137-1.jpg\", 2], [329, \"Christian\", \"Ortiviz Madrid\", 41, \"434-555-8176\", 24781, \"75116\", \"Star Wars\", \"Buildable Figures\", 2018, \"Finn\", 98.0, 24.99, \"http://images.brickset.com/sets/images/75116-1.jpg\", 3], [330, \"Christian\", \"Ortiviz Madrid\", 41, \"434-555-8176\", 25630, \"70337\", \"Nexo Knights\", \"Ultimate\", 2018, \"Ultimate Lance\", 75.0, 9.99, \"NaN\", 1], [331, \"Christian\", \"Ortiviz Madrid\", 41, \"434-555-8176\", 24729, \"41111\", \"Friends\", \"Party\", 2018, \"Party Train\", 109.0, 9.99, \"http://images.brickset.com/sets/images/41111-1.jpg\", 1], [332, \"Christian\", \"Ortiviz Madrid\", 41, \"434-555-8176\", 24766, \"70334\", \"Nexo Knights\", \"Ultimate\", 2018, \"Ultimate Beast Master\", 65.0, 9.99, \"http://images.brickset.com/sets/images/70334-1.jpg\", 2], [343, \"Elaine\", \"Richa\", 37, \"246-555-8048\", 24759, \"70313\", \"Nexo Knights\", \"NaN\", 2018, \"Moltor's Lava Smasher\", 187.0, 19.99, \"http://images.brickset.com/sets/images/70313-1.jpg\", 2], [344, \"Chisa\", \"Pomeroy\", 39, \"617-555-1805\", 24788, \"75129\", \"Star Wars\", \"MicroFighters\", 2018, \"Wookiee Gunship\", 84.0, 9.99, \"http://images.brickset.com/sets/images/75129-1.jpg\", 1], [345, \"Chisa\", \"Pomeroy\", 39, \"617-555-1805\", 25901, \"5004612\", \"Gear\", \"Watches/Clocks\", 2018, \"Lucy Wyldstyle Minifigure Link Watch\", NaN, 24.99, \"http://images.brickset.com/sets/images/5004612-1.jpg\", 2], [346, \"Trevor\", \"Calderon-Nava\", 47, \"778-555-6609\", 24746, \"76048\", \"Marvel Super Heroes\", \"Avengers Assemble\", 2018, \"Iron Skull Sub Attack\", 335.0, 29.99, \"http://images.brickset.com/sets/images/76048-1.jpg\", 3], [347, \"Trevor\", \"Calderon-Nava\", 47, \"778-555-6609\", 24727, \"41176\", \"Elves\", \"NaN\", 2018, \"The Secret Market Place\", 691.0, 59.99, \"http://images.brickset.com/sets/images/41176-1.jpg\", 1], [354, \"Vanessa\", \"Mantey\", 42, \"NaN\", 24621, \"41557\", \"Mixels\", \"Series 7\", 2018, \"Camillot\", 64.0, 4.99, \"http://images.brickset.com/sets/images/41557-1.jpg\", 1], [355, \"Vanessa\", \"Mantey\", 42, \"NaN\", 24696, \"31050\", \"Creator\", \"NaN\", 2018, \"Corner Deli\", 467.0, 39.99, \"http://images.brickset.com/sets/images/31050-1.jpg\", 2], [356, \"Vanessa\", \"Mantey\", 42, \"NaN\", 24747, \"76049\", \"Marvel Super Heroes\", \"Avengers Assemble\", 2018, \"Avenjet Space Mission\", 523.0, 59.99, \"http://images.brickset.com/sets/images/76049-1.jpg\", 1], [357, \"Vanessa\", \"Mantey\", 42, \"NaN\", 24728, \"41110\", \"Friends\", \"Party\", 2018, \"Birthday Party\", 191.0, 19.99, \"http://images.brickset.com/sets/images/41110-1.jpg\", 1], [358, \"Mitchell\", \"Olivo\", 41, \"345-555-9053\", 26037, \"41576\", \"Mixels\", \"Series 9\", 2018, \"Spinza\", 60.0, 4.99, \"NaN\", 1], [359, \"Mitchell\", \"Olivo\", 41, \"345-555-9053\", 25918, \"76055\", \"DC Comics Super Heroes\", \"Batman\", 2018, \"Batman: Killer Croc Sewer Smash\", 759.0, 79.99, \"http://images.brickset.com/sets/images/76055-1.jpg\", 1], [375, \"Isabel\", \"Garrison\", 38, \"561-555-4014\", 25876, \"853555\", \"Gear\", \"Stationery\", 2018, \"Campsite Scrapbook\", NaN, 14.99, \"http://images.brickset.com/sets/images/853555-1.jpg\", 1], [376, \"Isabel\", \"Garrison\", 38, \"561-555-4014\", 24756, \"70310\", \"Nexo Knights\", \"NaN\", 2018, \"Knighton Battle Blaster\", 76.0, 9.99, \"http://images.brickset.com/sets/images/70310-1.jpg\", 1], [377, \"Isabel\", \"Garrison\", 38, \"561-555-4014\", 24725, \"41174\", \"Elves\", \"NaN\", 2018, \"The Starlight Inn\", 343.0, 29.99, \"http://images.brickset.com/sets/images/41174-1.jpg\", 1], [378, \"Rachelle\", \"Henderson\", 50, \"636-555-3458\", 25009, \"41570\", \"Mixels\", \"Series 8\", 2018, \"Skrubz\", 68.0, 4.99, \"http://images.brickset.com/sets/images/41570-1.jpg\", 1], [379, \"Eden\", \"Morgan\", 47, \"882-555-5047\", 24712, \"10808\", \"Duplo\", \"NaN\", 2018, \"Little Plane\", 13.0, 9.99, \"http://images.brickset.com/sets/images/10808-1.jpg\", 2], [380, \"Eden\", \"Morgan\", 47, \"882-555-5047\", 25612, \"21128\", \"Minecraft\", \"Minifig-scale\", 2018, \"The Village\", NaN, 199.99, \"NaN\", 1], [381, \"Eden\", \"Morgan\", 47, \"882-555-5047\", 24675, \"60106\", \"City\", \"Fire\", 2018, \"Fire Starter Set\", 90.0, 9.99, \"http://images.brickset.com/sets/images/60106-1.jpg\", 2], [394, \"Blake\", \"Serota\", 44, \"952-555-3416\", 26058, \"5005059\", \"Gear\", \"Video Games/PS3\", 2018, \"Marvel Avengers PS3 Video Game\", NaN, 49.99, \"http://images.brickset.com/sets/images/5005059-1.jpg\", 1], [395, \"Blake\", \"Serota\", 44, \"952-555-3416\", 24785, \"75126\", \"Star Wars\", \"MicroFighters\", 2018, \"First Order Snowspeeder\", 91.0, 9.99, \"http://images.brickset.com/sets/images/75126-1.jpg\", 1], [396, \"Blake\", \"Serota\", 44, \"952-555-3416\", 25885, \"853572\", \"Gear\", \"Key Chains/Miscellaneous\", 2018, \"Bumble Bee Key Chain\", NaN, 5.99, \"http://images.brickset.com/sets/images/853572-1.jpg\", 1], [397, \"Lavie\", \"Faulkner\", 41, \"718-555-0575\", 25647, \"71316\", \"Bionicle\", \"Reboot Villains\", 2018, \"Umarak the Destroyer\", 191.0, 24.99, \"NaN\", 2], [398, \"Lavie\", \"Faulkner\", 41, \"718-555-0575\", 25662, \"75824\", \"The Angry Birds Movie\", \"NaN\", 2018, \"Pig City Teardown\", 386.0, 39.99, \"http://images.brickset.com/sets/images/75824-1.jpg\", 1], [399, \"Lavie\", \"Faulkner\", 41, \"718-555-0575\", 25623, \"70592\", \"Ninjago\", \"Rise of the Villains\", 2018, \"Salvage M.E.C.\", 439.0, 39.99, \"http://images.brickset.com/sets/images/70592-1.jpg\", 1], [403, \"Da Som\", \"Roskam\", 36, \"441-555-9959\", 24764, \"70333\", \"Nexo Knights\", \"Ultimate\", 2018, \"Ultimate Robin\", 75.0, 9.99, \"http://images.brickset.com/sets/images/70333-1.jpg\", 1], [404, \"Da Som\", \"Roskam\", 36, \"441-555-9959\", 25875, \"853570\", \"City\", \"Police\", 2018, \"Police Accessory Set\", 26.0, 14.99, \"http://images.brickset.com/sets/images/853570-1.jpg\", 1], [417, \"Jackson\", \"Dominguez\", 40, \"NaN\", 24759, \"70313\", \"Nexo Knights\", \"NaN\", 2018, \"Moltor's Lava Smasher\", 187.0, 19.99, \"http://images.brickset.com/sets/images/70313-1.jpg\", 2], [418, \"Jackson\", \"Dominguez\", 40, \"NaN\", 25611, \"21127\", \"Minecraft\", \"Minifig-scale\", 2018, \"The Fortress\", NaN, 109.99, \"http://images.brickset.com/sets/images/21127-1.jpg\", 1], [419, \"Jackson\", \"Dominguez\", 40, \"NaN\", 25008, \"41569\", \"Mixels\", \"Series 8\", 2018, \"Surgeo\", 63.0, 4.99, \"http://images.brickset.com/sets/images/41569-1.jpg\", 2], [420, \"Jackson\", \"Dominguez\", 40, \"NaN\", 24733, \"41118\", \"Friends\", \"NaN\", 2018, \"Heartlake Supermarket\", 313.0, 29.99, \"http://images.brickset.com/sets/images/41118-1.jpg\", 1], [421, \"Jackson\", \"Dominguez\", 40, \"NaN\", 25632, \"70339\", \"Nexo Knights\", \"Ultimate\", 2018, \"Ultimate Flama\", 67.0, 9.99, \"NaN\", 3], [422, \"Jackson\", \"Dominguez\", 40, \"NaN\", 26034, \"41573\", \"Mixels\", \"Series 9\", 2018, \"Sweepz\", 61.0, 4.99, \"NaN\", 1], [423, \"Jackson\", \"Dominguez\", 40, \"NaN\", 25885, \"853572\", \"Gear\", \"Key Chains/Miscellaneous\", 2018, \"Bumble Bee Key Chain\", NaN, 5.99, \"http://images.brickset.com/sets/images/853572-1.jpg\", 2], [424, \"India\", \"Rudy\", 39, \"NaN\", 24709, \"10803\", \"Duplo\", \"NaN\", 2018, \"Arctic\", 40.0, 29.99, \"http://images.brickset.com/sets/images/10803-1.jpg\", 1], [425, \"India\", \"Rudy\", 39, \"NaN\", 25004, \"41565\", \"Mixels\", \"Series 8\", 2018, \"Hydro\", 70.0, 4.99, \"http://images.brickset.com/sets/images/41565-1.jpg\", 2], [426, \"India\", \"Rudy\", 39, \"NaN\", 24659, \"71228\", \"Dimensions\", \"Level Pack\", 2018, \"Level Pack: Ghostbusters\", 115.0, 29.99, \"http://images.brickset.com/sets/images/71228-1.jpg\", 1], [427, \"India\", \"Rudy\", 39, \"NaN\", 25636, \"70321\", \"Nexo Knights\", \"NaN\", 2018, \"General Magmar's Siege Machine of Doom\", 516.0, 49.99, \"http://images.brickset.com/sets/images/70321-1.jpg\", 2], [428, \"India\", \"Rudy\", 39, \"NaN\", 24790, \"75131\", \"Star Wars\", \"The Force Awakens\", 2018, \"Resistance Trooper Battle Pack\", 112.0, 12.99, \"http://images.brickset.com/sets/images/75131-1.jpg\", 1], [431, \"Carolane\", \"Levosky\", 37, \"732-555-0913\", 25876, \"853555\", \"Gear\", \"Stationery\", 2018, \"Campsite Scrapbook\", NaN, 14.99, \"http://images.brickset.com/sets/images/853555-1.jpg\", 4], [432, \"Carolane\", \"Levosky\", 37, \"732-555-0913\", 26041, \"41580\", \"Mixels\", \"Series 9\", 2018, \"Myke\", 63.0, 4.99, \"NaN\", 1], [433, \"Carolane\", \"Levosky\", 37, \"732-555-0913\", 24797, \"75138\", \"Star Wars\", \"Episode V\", 2018, \"Hoth Attack\", 233.0, 24.99, \"http://images.brickset.com/sets/images/75138-1.jpg\", 2], [434, \"Tristin\", \"Marcy\", 39, \"NaN\", 25010, \"41571\", \"Mixels\", \"Series 8\", 2018, \"Tuth\", 67.0, 4.99, \"http://images.brickset.com/sets/images/41571-1.jpg\", 1], [435, \"Tristin\", \"Marcy\", 39, \"NaN\", 24760, \"70315\", \"Nexo Knights\", \"NaN\", 2018, \"Clay's Rumble Blade\", 367.0, 39.99, \"http://images.brickset.com/sets/images/70315-1.jpg\", 2], [436, \"Tristin\", \"Marcy\", 39, \"NaN\", 24800, \"42044\", \"Technic\", \"NaN\", 2018, \"Display Team Jet\", 113.0, 12.99, \"http://images.brickset.com/sets/images/42044-1.jpg\", 1], [437, \"Tristin\", \"Marcy\", 39, \"NaN\", 24986, \"30446\", \"DC Comics Super Heroes\", \"Batman v Superman: Dawn of Justice\", 2018, \"The Batmobile\", 63.0, 3.99, \"http://images.brickset.com/sets/images/30446-1.jpg\", 1], [438, \"Tristin\", \"Marcy\", 39, \"NaN\", 26057, \"5005058\", \"Gear\", \"Video Games/Wii U\", 2018, \"Marvel Avengers Wii U Video Game\", NaN, 49.99, \"http://images.brickset.com/sets/images/5005058-1.jpg\", 3], [474, \"Gabriel\", \"Dysart\", 49, \"858-555-0076\", 25637, \"70322\", \"Nexo Knights\", \"NaN\", 2018, \"Axl's Tower Carrier\", 670.0, 69.99, \"http://images.brickset.com/sets/images/70322-1.jpg\", 2], [475, \"Gabriel\", \"Dysart\", 49, \"858-555-0076\", 24697, \"76044\", \"DC Comics Super Heroes\", \"Batman v Superman: Dawn of Justice\", 2018, \"Clash of the Heroes\", 92.0, 12.99, \"http://images.brickset.com/sets/images/76044-1.jpg\", 3], [482, \"Melanie\", \"Rollert\", 43, \"NaN\", 25668, \"75828\", \"Ghostbusters\", \"Reboot\", 2018, \"Ghostbusters Ecto-1 & Ecto-2\", NaN, 59.99, \"http://images.brickset.com/sets/images/75828-1.jpg\", 2], [483, \"Melanie\", \"Rollert\", 43, \"NaN\", 26026, \"41179\", \"Elves\", \"NaN\", 2018, \"Queen Dragon's Rescue\", 833.0, 69.99, \"NaN\", 3], [484, \"Robert\", \"Buse\", 38, \"712-555-9533\", 24794, \"75135\", \"Star Wars\", \"Episode III\", 2018, \"Obi-Wan's Jedi Interceptor\", 215.0, 24.99, \"http://images.brickset.com/sets/images/75135-1.jpg\", 2], [485, \"Robert\", \"Buse\", 38, \"712-555-9533\", 24784, \"75125\", \"Star Wars\", \"MicroFighters\", 2018, \"Resistance X-wing Fighter\", 87.0, 9.99, \"http://images.brickset.com/sets/images/75125-1.jpg\", 1], [486, \"Robert\", \"Buse\", 38, \"712-555-9533\", 24733, \"41118\", \"Friends\", \"NaN\", 2018, \"Heartlake Supermarket\", 313.0, 29.99, \"http://images.brickset.com/sets/images/41118-1.jpg\", 2], [498, \"Josie\", \"Paley\", 38, \"807-555-3971\", 25876, \"853555\", \"Gear\", \"Stationery\", 2018, \"Campsite Scrapbook\", NaN, 14.99, \"http://images.brickset.com/sets/images/853555-1.jpg\", 1], [499, \"Josie\", \"Paley\", 38, \"807-555-3971\", 24796, \"75137\", \"Star Wars\", \"Episode V\", 2018, \"Carbon-Freezing Chamber\", 231.0, 24.99, \"http://images.brickset.com/sets/images/75137-1.jpg\", 2], [500, \"Josie\", \"Paley\", 38, \"807-555-3971\", 24781, \"75116\", \"Star Wars\", \"Buildable Figures\", 2018, \"Finn\", 98.0, 24.99, \"http://images.brickset.com/sets/images/75116-1.jpg\", 3], [501, \"Josie\", \"Paley\", 38, \"807-555-3971\", 26034, \"41573\", \"Mixels\", \"Series 9\", 2018, \"Sweepz\", 61.0, 4.99, \"NaN\", 1], [502, \"Josie\", \"Paley\", 38, \"807-555-3971\", 24788, \"75129\", \"Star Wars\", \"MicroFighters\", 2018, \"Wookiee Gunship\", 84.0, 9.99, \"http://images.brickset.com/sets/images/75129-1.jpg\", 1], [503, \"Josie\", \"Paley\", 38, \"807-555-3971\", 24904, \"41559\", \"Mixels\", \"Series 7\", 2018, \"Paladum\", 64.0, 4.99, \"http://images.brickset.com/sets/images/41559-1.jpg\", 2], [504, \"Christina\", \"Williams\", 39, \"541-555-5085\", 24670, \"71305\", \"Bionicle\", \"Toa\", 2018, \"Lewa - Uniter of Jungle\", 79.0, 14.99, \"http://images.brickset.com/sets/images/71305-1.jpg\", 2], [505, \"Christina\", \"Williams\", 39, \"541-555-5085\", 24995, \"10702\", \"Classic\", \"NaN\", 2018, \"Creative Building Set\", 583.0, 29.99, \"http://images.brickset.com/sets/images/10702-1.jpg\", 1], [506, \"Christina\", \"Williams\", 39, \"541-555-5085\", 24758, \"70312\", \"Nexo Knights\", \"NaN\", 2018, \"Lance's Mecha Horse\", 237.0, 19.99, \"http://images.brickset.com/sets/images/70312-1.jpg\", 1], [510, \"Delmi\", \"Spedding\", 40, \"758-555-3948\", 24679, \"60111\", \"City\", \"Fire\", 2018, \"Fire Utility Truck\", 368.0, 39.99, \"http://images.brickset.com/sets/images/60111-1.jpg\", 2], [511, \"Delmi\", \"Spedding\", 40, \"758-555-3948\", 24735, \"41120\", \"Friends\", \"Adventure Camp\", 2018, \"Adventure Camp Archery\", 114.0, 9.99, \"http://images.brickset.com/sets/images/41120-1.jpg\", 1], [515, \"Gunnar\", \"Nickless\", 36, \"915-555-5334\", 24678, \"60109\", \"City\", \"Fire\", 2018, \"Fire Boat\", 412.0, 79.99, \"http://images.brickset.com/sets/images/60109-1.jpg\", 1], [530, \"Melissa\", \"Prael\", 41, \"819-555-1361\", 24919, \"70601\", \"Ninjago\", \"Skybound\", 2018, \"Sky Shark\", 221.0, 19.99, \"http://images.brickset.com/sets/images/70601-1.jpg\", 1], [531, \"Melissa\", \"Prael\", 41, \"819-555-1361\", 25006, \"41567\", \"Mixels\", \"Series 8\", 2018, \"Skulzy\", 66.0, 4.99, \"http://images.brickset.com/sets/images/41567-1.jpg\", 1], [532, \"Melissa\", \"Prael\", 41, \"819-555-1361\", 24804, \"42048\", \"Technic\", \"NaN\", 2018, \"Race Kart\", 345.0, 29.99, \"http://images.brickset.com/sets/images/42048-1.jpg\", 1], [533, \"Audrey\", \"Baker\", 40, \"386-555-0465\", 25916, \"76054\", \"DC Comics Super Heroes\", \"Batman\", 2018, \"Batman: Scarecrow Harvest of Fear\", 563.0, 59.99, \"http://images.brickset.com/sets/images/76054-1.jpg\", 1], [534, \"Audrey\", \"Baker\", 40, \"386-555-0465\", 25660, \"75822\", \"The Angry Birds Movie\", \"NaN\", 2018, \"Piggy Plane Attack\", 168.0, 19.99, \"http://images.brickset.com/sets/images/75822-1.jpg\", 1], [535, \"Audrey\", \"Baker\", 40, \"386-555-0465\", 24803, \"42047\", \"Technic\", \"NaN\", 2018, \"Police Interceptor\", 185.0, 19.99, \"http://images.brickset.com/sets/images/42047-1.jpg\", 1], [536, \"Audrey\", \"Baker\", 40, \"386-555-0465\", 24691, \"31043\", \"Creator\", \"NaN\", 2018, \"Chopper Transporter\", 124.0, 9.99, \"http://images.brickset.com/sets/images/31043-1.jpg\", 1], [548, \"John\", \"Leavell\", 39, \"843-555-8490\", 24786, \"75127\", \"Star Wars\", \"MicroFighters\", 2018, \"The Ghost\", 104.0, 9.99, \"http://images.brickset.com/sets/images/75127-1.jpg\", 1], [549, \"John\", \"Leavell\", 39, \"843-555-8490\", 25656, \"10804\", \"Duplo\", \"NaN\", 2018, \"Jungle\", 86.0, 49.99, \"http://images.brickset.com/sets/images/10804-1.jpg\", 1], [550, \"John\", \"Leavell\", 39, \"843-555-8490\", 25624, \"70593\", \"Ninjago\", \"Skybound\", 2018, \"The Green NRG Dragon\", 567.0, 49.99, \"http://images.brickset.com/sets/images/70593-1.jpg\", 1], [551, \"John\", \"Leavell\", 39, \"843-555-8490\", 24551, \"71234\", \"Dimensions\", \"Fun Pack\", 2018, \"Fun Pack: Sensei Wu\", 58.0, 14.99, \"http://images.brickset.com/sets/images/71234-1.jpg\", 1], [554, \"Nadia\", \"Romero\", 37, \"702-555-1158\", 24672, \"71307\", \"Bionicle\", \"Toa\", 2018, \"Gali - Uniter of Water\", 87.0, 14.99, \"http://images.brickset.com/sets/images/71307-1.jpg\", 1], [555, \"Nadia\", \"Romero\", 37, \"702-555-1158\", 24986, \"30446\", \"DC Comics Super Heroes\", \"Batman v Superman: Dawn of Justice\", 2018, \"The Batmobile\", 63.0, 3.99, \"http://images.brickset.com/sets/images/30446-1.jpg\", 1], [556, \"Sarah\", \"Harris\", 44, \"787-555-1308\", 25624, \"70593\", \"Ninjago\", \"Skybound\", 2018, \"The Green NRG Dragon\", 567.0, 49.99, \"http://images.brickset.com/sets/images/70593-1.jpg\", 1], [563, \"Elias\", \"Garrett\", 50, \"832-555-9165\", 24915, \"60130\", \"City\", \"Police\", 2018, \"Prison Island\", 754.0, 89.99, \"http://images.brickset.com/sets/images/60130-1.jpg\", 3], [564, \"Elias\", \"Garrett\", 50, \"832-555-9165\", 25898, \"75145\", \"Star Wars\", \"Original Content\", 2018, \"Eclipse Fighter\", 363.0, 29.99, \"http://images.brickset.com/sets/images/75145-1.jpg\", 1], [565, \"Elias\", \"Garrett\", 50, \"832-555-9165\", 24725, \"41174\", \"Elves\", \"NaN\", 2018, \"The Starlight Inn\", 343.0, 29.99, \"http://images.brickset.com/sets/images/41174-1.jpg\", 1], [566, \"Isaac\", \"Younger\", 42, \"345-555-2861\", 25662, \"75824\", \"The Angry Birds Movie\", \"NaN\", 2018, \"Pig City Teardown\", 386.0, 39.99, \"http://images.brickset.com/sets/images/75824-1.jpg\", 1], [567, \"Isaac\", \"Younger\", 42, \"345-555-2861\", 24686, \"60119\", \"City\", \"Harbour\", 2018, \"Ferry\", 301.0, 29.99, \"http://images.brickset.com/sets/images/60119-1.jpg\", 1], [573, \"Kelly\", \"Wilson\", 36, \"419-555-4451\", 24694, \"31047\", \"Creator\", \"NaN\", 2018, \"Propeller Plane\", 230.0, 19.99, \"http://images.brickset.com/sets/images/31047-1.jpg\", 1], [574, \"Adam\", \"Mehdinia\", 36, \"520-555-0348\", 25883, \"853568\", \"Gear\", \"Key Chains/City\", 2018, \"Prison Guard Key Chain\", NaN, 5.99, \"http://images.brickset.com/sets/images/853568-1.jpg\", 2], [597, \"Payton\", \"Milsap\", 42, \"NaN\", 24669, \"71304\", \"Bionicle\", \"Companions\", 2018, \"Terak - Creature of Earth\", 74.0, 9.99, \"http://images.brickset.com/sets/images/71304-1.jpg\", 1], [598, \"Payton\", \"Milsap\", 42, \"NaN\", 24702, \"76063\", \"DC Comics Super Heroes\", \"Mighty Micros\", 2018, \"The Flash vs. Captain Cold\", 88.0, 9.99, \"http://images.brickset.com/sets/images/76063-1.jpg\", 3], [599, \"Payton\", \"Milsap\", 42, \"NaN\", 24678, \"60109\", \"City\", \"Fire\", 2018, \"Fire Boat\", 412.0, 79.99, \"http://images.brickset.com/sets/images/60109-1.jpg\", 2], [602, \"Stephanie\", \"Harrison\", 42, \"NaN\", 24736, \"41121\", \"Friends\", \"Adventure Camp\", 2018, \"Adventure Camp Rafting\", 320.0, 29.99, \"http://images.brickset.com/sets/images/41121-1.jpg\", 1], [618, \"Amelia\", \"Hageman\", 40, \"336-555-1950\", 24702, \"76063\", \"DC Comics Super Heroes\", \"Mighty Micros\", 2018, \"The Flash vs. Captain Cold\", 88.0, 9.99, \"http://images.brickset.com/sets/images/76063-1.jpg\", 2], [619, \"Amelia\", \"Hageman\", 40, \"336-555-1950\", 24720, \"10830\", \"Duplo\", \"NaN\", 2018, \"Minnie's Caf\\u00e9\", 27.0, 19.99, \"http://images.brickset.com/sets/images/10830-1.jpg\", 4]];\n",
       "\n",
       "        // Define the dt_args\n",
       "        let dt_args = {\"layout\": {\"topStart\": \"pageLength\", \"topEnd\": \"search\", \"bottomStart\": \"info\", \"bottomEnd\": \"paging\"}, \"order\": [], \"warn_on_selected_rows_not_rendered\": true};\n",
       "        dt_args[\"data\"] = data;\n",
       "\n",
       "        \n",
       "        new DataTable(table, dt_args);\n",
       "    });\n",
       "</script>\n"
      ],
      "text/plain": [
       "<IPython.core.display.HTML object>"
      ]
     },
     "metadata": {},
     "output_type": "display_data"
    },
    {
     "data": {
      "text/html": [
       "<table id=\"itables_18d55c6d_b6b4_4857_8907_b8e86b8cde55\" class=\"display nowrap\" data-quarto-disable-processing=\"true\" style=\"table-layout:auto;width:auto;margin:auto;caption-side:bottom\">\n",
       "<thead>\n",
       "    <tr style=\"text-align: right;\">\n",
       "      <th></th>\n",
       "      <th>first_name</th>\n",
       "      <th>last_name</th>\n",
       "      <th>age</th>\n",
       "      <th>phone_number</th>\n",
       "      <th>set_id</th>\n",
       "      <th>number</th>\n",
       "      <th>theme</th>\n",
       "      <th>subtheme</th>\n",
       "      <th>year</th>\n",
       "      <th>name</th>\n",
       "      <th>pieces</th>\n",
       "      <th>us_price</th>\n",
       "      <th>image_url</th>\n",
       "      <th>quantity</th>\n",
       "    </tr>\n",
       "  </thead><tbody><tr>\n",
       "<td style=\"vertical-align:middle; text-align:left\">\n",
       "<div style=\"float:left; margin-right: 10px;\">\n",
       "<a href=https://mwouts.github.io/itables/><svg class=\"main-svg\" xmlns=\"http://www.w3.org/2000/svg\" xmlns:xlink=\"http://www.w3.org/1999/xlink\"\n",
       "width=\"64\" viewBox=\"0 0 500 400\" style=\"font-family: 'Droid Sans', sans-serif;\">\n",
       "    <g style=\"fill:#d9d7fc\">\n",
       "        <path d=\"M100,400H500V357H100Z\" />\n",
       "        <path d=\"M100,300H400V257H100Z\" />\n",
       "        <path d=\"M0,200H400V157H0Z\" />\n",
       "        <path d=\"M100,100H500V57H100Z\" />\n",
       "        <path d=\"M100,350H500V307H100Z\" />\n",
       "        <path d=\"M100,250H400V207H100Z\" />\n",
       "        <path d=\"M0,150H400V107H0Z\" />\n",
       "        <path d=\"M100,50H500V7H100Z\" />\n",
       "    </g>\n",
       "    <g style=\"fill:#1a1366;stroke:#1a1366;\">\n",
       "   <rect x=\"100\" y=\"7\" width=\"400\" height=\"43\">\n",
       "    <animate\n",
       "      attributeName=\"width\"\n",
       "      values=\"0;400;0\"\n",
       "      dur=\"5s\"\n",
       "      repeatCount=\"indefinite\" />\n",
       "      <animate\n",
       "      attributeName=\"x\"\n",
       "      values=\"100;100;500\"\n",
       "      dur=\"5s\"\n",
       "      repeatCount=\"indefinite\" />\n",
       "  </rect>\n",
       "        <rect x=\"0\" y=\"107\" width=\"400\" height=\"43\">\n",
       "    <animate\n",
       "      attributeName=\"width\"\n",
       "      values=\"0;400;0\"\n",
       "      dur=\"3.5s\"\n",
       "      repeatCount=\"indefinite\" />\n",
       "    <animate\n",
       "      attributeName=\"x\"\n",
       "      values=\"0;0;400\"\n",
       "      dur=\"3.5s\"\n",
       "      repeatCount=\"indefinite\" />\n",
       "  </rect>\n",
       "        <rect x=\"100\" y=\"207\" width=\"300\" height=\"43\">\n",
       "    <animate\n",
       "      attributeName=\"width\"\n",
       "      values=\"0;300;0\"\n",
       "      dur=\"3s\"\n",
       "      repeatCount=\"indefinite\" />\n",
       "    <animate\n",
       "      attributeName=\"x\"\n",
       "      values=\"100;100;400\"\n",
       "      dur=\"3s\"\n",
       "      repeatCount=\"indefinite\" />\n",
       "  </rect>\n",
       "        <rect x=\"100\" y=\"307\" width=\"400\" height=\"43\">\n",
       "    <animate\n",
       "      attributeName=\"width\"\n",
       "      values=\"0;400;0\"\n",
       "      dur=\"4s\"\n",
       "      repeatCount=\"indefinite\" />\n",
       "      <animate\n",
       "      attributeName=\"x\"\n",
       "      values=\"100;100;500\"\n",
       "      dur=\"4s\"\n",
       "      repeatCount=\"indefinite\" />\n",
       "  </rect>\n",
       "        <g style=\"fill:transparent;stroke-width:8; stroke-linejoin:round\" rx=\"5\">\n",
       "            <g transform=\"translate(45 50) rotate(-45)\">\n",
       "                <circle r=\"33\" cx=\"0\" cy=\"0\" />\n",
       "                <rect x=\"-8\" y=\"32\" width=\"16\" height=\"30\" />\n",
       "            </g>\n",
       "\n",
       "            <g transform=\"translate(450 152)\">\n",
       "                <polyline points=\"-15,-20 -35,-20 -35,40 25,40 25,20\" />\n",
       "                <rect x=\"-15\" y=\"-40\" width=\"60\" height=\"60\" />\n",
       "            </g>\n",
       "\n",
       "            <g transform=\"translate(50 352)\">\n",
       "                <polygon points=\"-35,-5 0,-40 35,-5\" />\n",
       "                <polygon points=\"-35,10 0,45 35,10\" />\n",
       "            </g>\n",
       "\n",
       "            <g transform=\"translate(75 250)\">\n",
       "                <polyline points=\"-30,30 -60,0 -30,-30\" />\n",
       "                <polyline points=\"0,30 -30,0 0,-30\" />\n",
       "            </g>\n",
       "\n",
       "            <g transform=\"translate(425 250) rotate(180)\">\n",
       "                <polyline points=\"-30,30 -60,0 -30,-30\" />\n",
       "                <polyline points=\"0,30 -30,0 0,-30\" />\n",
       "            </g>\n",
       "        </g>\n",
       "    </g>\n",
       "</svg>\n",
       "</a>\n",
       "</div>\n",
       "<div>\n",
       "Loading ITables v2.2.2 from the internet...\n",
       "(need <a href=https://mwouts.github.io/itables/troubleshooting.html>help</a>?)</td>\n",
       "</div>\n",
       "</tr></tbody>\n",
       "\n",
       "</table>\n",
       "<link href=\"https://www.unpkg.com/dt_for_itables@2.0.13/dt_bundle.css\" rel=\"stylesheet\">\n",
       "<script type=\"module\">\n",
       "    import {DataTable, jQuery as $} from 'https://www.unpkg.com/dt_for_itables@2.0.13/dt_bundle.js';\n",
       "\n",
       "    document.querySelectorAll(\"#itables_18d55c6d_b6b4_4857_8907_b8e86b8cde55:not(.dataTable)\").forEach(table => {\n",
       "        if (!(table instanceof HTMLTableElement))\n",
       "            return;\n",
       "\n",
       "        // Define the table data\n",
       "        const data = [[0, \"Kimberly\", \"Beckstead\", 24, \"216-555-2549\", 24701, \"76062\", \"DC Comics Super Heroes\", \"Mighty Micros\", 2018, \"Robin vs. Bane\", 77.0, 9.99, \"http://images.brickset.com/sets/images/76062-1.jpg\", 1], [1, \"Neel\", \"Garvin\", 35, \"819-555-3189\", 25626, \"70595\", \"Ninjago\", \"Rise of the Villains\", 2018, \"Ultra Stealth Raider\", 1093.0, 119.99, \"http://images.brickset.com/sets/images/70595-1.jpg\", 1], [2, \"Neel\", \"Garvin\", 35, \"819-555-3189\", 24665, \"21031\", \"Architecture\", \"NaN\", 2018, \"Burj Khalifa\", 333.0, 39.99, \"http://images.brickset.com/sets/images/21031-1.jpg\", 1], [3, \"Chelsea\", \"Bouchard\", 41, \"NaN\", 24695, \"31048\", \"Creator\", \"NaN\", 2018, \"Lakeside Lodge\", 368.0, 29.99, \"http://images.brickset.com/sets/images/31048-1.jpg\", 1], [4, \"Chelsea\", \"Bouchard\", 41, \"NaN\", 25626, \"70595\", \"Ninjago\", \"Rise of the Villains\", 2018, \"Ultra Stealth Raider\", 1093.0, 119.99, \"http://images.brickset.com/sets/images/70595-1.jpg\", 1], [5, \"Chelsea\", \"Bouchard\", 41, \"NaN\", 24721, \"10831\", \"Duplo\", \"NaN\", 2018, \"My First Caterpillar\", 19.0, 9.99, \"http://images.brickset.com/sets/images/10831-1.jpg\", 1], [6, \"Bryanna\", \"Welsh\", 19, \"NaN\", 24797, \"75138\", \"Star Wars\", \"Episode V\", 2018, \"Hoth Attack\", 233.0, 24.99, \"http://images.brickset.com/sets/images/75138-1.jpg\", 1], [7, \"Bryanna\", \"Welsh\", 19, \"NaN\", 24701, \"76062\", \"DC Comics Super Heroes\", \"Mighty Micros\", 2018, \"Robin vs. Bane\", 77.0, 9.99, \"http://images.brickset.com/sets/images/76062-1.jpg\", 3], [8, \"Caleb\", \"Garcia-Wideman\", 37, \"907-555-9236\", 24730, \"41115\", \"Friends\", \"NaN\", 2018, \"Emma's Creative Workshop\", 108.0, 9.99, \"http://images.brickset.com/sets/images/41115-1.jpg\", 1], [9, \"Caleb\", \"Garcia-Wideman\", 37, \"907-555-9236\", 25611, \"21127\", \"Minecraft\", \"Minifig-scale\", 2018, \"The Fortress\", NaN, 109.99, \"http://images.brickset.com/sets/images/21127-1.jpg\", 2], [10, \"Chase\", \"Fortenberry\", 19, \"205-555-3704\", 24707, \"10801\", \"Duplo\", \"NaN\", 2018, \"Baby Animals\", 13.0, 9.99, \"http://images.brickset.com/sets/images/10801-1.jpg\", 1], [11, \"Chase\", \"Fortenberry\", 19, \"205-555-3704\", 24713, \"10809\", \"Duplo\", \"NaN\", 2018, \"Police Patrol\", 15.0, 14.99, \"http://images.brickset.com/sets/images/10809-1.jpg\", 1], [12, \"Kevin\", \"Cruz\", 20, \"947-555-7946\", 24767, \"70335\", \"Nexo Knights\", \"Ultimate\", 2018, \"Ultimate Lavaria\", 69.0, 9.99, \"http://images.brickset.com/sets/images/70335-1.jpg\", 2], [13, \"Connor\", \"Brown\", 36, \"516-555-4310\", 24548, \"71230\", \"Dimensions\", \"Fun Pack\", 2018, \"Fun Pack: Doc Brown\", 69.0, 14.99, \"http://images.brickset.com/sets/images/71230-1.jpg\", 1], [14, \"Connor\", \"Brown\", 36, \"516-555-4310\", 24913, \"60112\", \"City\", \"Fire\", 2018, \"Fire Engine\", 376.0, 49.99, \"http://images.brickset.com/sets/images/60112-1.jpg\", 1], [15, \"Connor\", \"Brown\", 36, \"516-555-4310\", 26034, \"41573\", \"Mixels\", \"Series 9\", 2018, \"Sweepz\", 61.0, 4.99, \"NaN\", 1], [16, \"Toni\", \"Borison\", 40, \"284-555-4560\", 25626, \"70595\", \"Ninjago\", \"Rise of the Villains\", 2018, \"Ultra Stealth Raider\", 1093.0, 119.99, \"http://images.brickset.com/sets/images/70595-1.jpg\", 1], [17, \"Toni\", \"Borison\", 40, \"284-555-4560\", 24994, \"10251\", \"Advanced Models\", \"Modular Buildings\", 2018, \"Brick Bank\", 2380.0, 169.99, \"http://images.brickset.com/sets/images/10251-1.jpg\", 1], [18, \"Daniel\", \"Hurst\", 44, \"251-555-0845\", 24903, \"41558\", \"Mixels\", \"Series 7\", 2018, \"Mixadel\", 63.0, 4.99, \"http://images.brickset.com/sets/images/41558-1.jpg\", 1], [19, \"Daniel\", \"Hurst\", 44, \"251-555-0845\", 24695, \"31048\", \"Creator\", \"NaN\", 2018, \"Lakeside Lodge\", 368.0, 29.99, \"http://images.brickset.com/sets/images/31048-1.jpg\", 1], [20, \"Judith\", \"Webb\", 39, \"917-555-7417\", 26058, \"5005059\", \"Gear\", \"Video Games/PS3\", 2018, \"Marvel Avengers PS3 Video Game\", NaN, 49.99, \"http://images.brickset.com/sets/images/5005059-1.jpg\", 2], [21, \"Nicholas\", \"Belfageoua\", 46, \"606-555-4814\", 25881, \"853549\", \"Gear\", \"Key Chains/Friends\", 2018, \"Mia Key Chain\", NaN, 5.99, \"http://images.brickset.com/sets/images/853549-1.jpg\", 1], [22, \"Nicholas\", \"Belfageoua\", 46, \"606-555-4814\", 25642, \"70327\", \"Nexo Knights\", \"NaN\", 2018, \"The King's Mech\", 375.0, 29.99, \"http://images.brickset.com/sets/images/70327-1.jpg\", 1], [23, \"Amanda\", \"Tronnier\", 45, \"317-555-7477\", 24959, \"75139\", \"Star Wars\", \"The Force Awakens\", 2018, \"Battle on Takodana\", 409.0, 59.99, \"http://images.brickset.com/sets/images/75139-1.jpg\", 1], [24, \"Amanda\", \"Tronnier\", 45, \"317-555-7477\", 25887, \"853543\", \"Ninjago\", \"NaN\", 2018, \"Ninjago Party Set\", 70.0, 7.99, \"http://images.brickset.com/sets/images/853543-1.jpg\", 2], [25, \"Amanda\", \"Tronnier\", 45, \"317-555-7477\", 24685, \"60118\", \"City\", \"Traffic\", 2018, \"Garbage Truck\", 248.0, 19.99, \"http://images.brickset.com/sets/images/60118-1.jpg\", 1], [26, \"Amanda\", \"Tronnier\", 45, \"317-555-7477\", 25901, \"5004612\", \"Gear\", \"Watches/Clocks\", 2018, \"Lucy Wyldstyle Minifigure Link Watch\", NaN, 24.99, \"http://images.brickset.com/sets/images/5004612-1.jpg\", 1], [27, \"Jacob\", \"Nzabanita\", 31, \"339-555-2572\", 24732, \"41117\", \"Friends\", \"Pop Star\", 2018, \"Pop Star TV Studio\", 194.0, 19.99, \"http://images.brickset.com/sets/images/41117-1.jpg\", 1], [28, \"Jacob\", \"Nzabanita\", 31, \"339-555-2572\", 24793, \"75133\", \"Star Wars\", \"Battlefront\", 2018, \"Rebel Alliance Battle Pack\", 101.0, 12.99, \"http://images.brickset.com/sets/images/75133-1.jpg\", 2], [29, \"Jacob\", \"Nzabanita\", 31, \"339-555-2572\", 24723, \"41172\", \"Elves\", \"NaN\", 2018, \"The Water Dragon Adventure\", 212.0, 19.99, \"http://images.brickset.com/sets/images/41172-1.jpg\", 1], [30, \"Jacob\", \"Nzabanita\", 31, \"339-555-2572\", 25920, \"75151\", \"Star Wars\", \"Episode III\", 2018, \"Clone Turbo Tank\", 903.0, 109.99, \"http://images.brickset.com/sets/images/75151-1.jpg\", 1], [31, \"Hannah\", \"Drews Stunkel\", 55, \"339-555-6320\", 25628, \"70590\", \"Ninjago\", \"NaN\", 2018, \"Airjitzu Battle Grounds\", 666.0, 59.99, \"NaN\", 1], [32, \"Hannah\", \"Drews Stunkel\", 55, \"339-555-6320\", 25624, \"70593\", \"Ninjago\", \"Skybound\", 2018, \"The Green NRG Dragon\", 567.0, 49.99, \"http://images.brickset.com/sets/images/70593-1.jpg\", 3], [33, \"Hannah\", \"Drews Stunkel\", 55, \"339-555-6320\", 24734, \"41119\", \"Friends\", \"NaN\", 2018, \"Heartlake Cupcake Cafe\", 439.0, 39.99, \"http://images.brickset.com/sets/images/41119-1.jpg\", 1], [34, \"Erik\", \"Brownrigg\", 44, \"NaN\", 25621, \"70589\", \"Ninjago\", \"Rise of the Villains\", 2018, \"Rock Roader\", 406.0, 39.99, \"http://images.brickset.com/sets/images/70589-1.jpg\", 1], [35, \"Jackson\", \"Martinez\", 43, \"250-555-1732\", 24669, \"71304\", \"Bionicle\", \"Companions\", 2018, \"Terak - Creature of Earth\", 74.0, 9.99, \"http://images.brickset.com/sets/images/71304-1.jpg\", 1], [36, \"Jackson\", \"Martinez\", 43, \"250-555-1732\", 24904, \"41559\", \"Mixels\", \"Series 7\", 2018, \"Paladum\", 64.0, 4.99, \"http://images.brickset.com/sets/images/41559-1.jpg\", 2], [37, \"Jackson\", \"Martinez\", 43, \"250-555-1732\", 24665, \"21031\", \"Architecture\", \"NaN\", 2018, \"Burj Khalifa\", 333.0, 39.99, \"http://images.brickset.com/sets/images/21031-1.jpg\", 3], [38, \"Riley\", \"Ott\", 51, \"517-555-2093\", 24785, \"75126\", \"Star Wars\", \"MicroFighters\", 2018, \"First Order Snowspeeder\", 91.0, 9.99, \"http://images.brickset.com/sets/images/75126-1.jpg\", 2], [39, \"Riley\", \"Ott\", 51, \"517-555-2093\", 24772, \"70604\", \"Ninjago\", \"Skybound\", 2018, \"Tiger Widow Island\", 450.0, 49.99, \"http://images.brickset.com/sets/images/70604-1.jpg\", 1], [40, \"Hector\", \"Collins\", 20, \"340-555-2508\", 24781, \"75116\", \"Star Wars\", \"Buildable Figures\", 2018, \"Finn\", 98.0, 24.99, \"http://images.brickset.com/sets/images/75116-1.jpg\", 1], [41, \"Hector\", \"Collins\", 20, \"340-555-2508\", 24723, \"41172\", \"Elves\", \"NaN\", 2018, \"The Water Dragon Adventure\", 212.0, 19.99, \"http://images.brickset.com/sets/images/41172-1.jpg\", 1], [42, \"Hector\", \"Collins\", 20, \"340-555-2508\", 24627, \"75098\", \"Star Wars\", \"Ultimate Collector Series\", 2018, \"Assault on Hoth\", 2144.0, 249.99, \"http://images.brickset.com/sets/images/75098-1.jpg\", 1], [43, \"Mckenzie\", \"Cherry\", 37, \"336-555-9269\", 25878, \"853505\", \"Gear\", \"Role-Play toys\", 2018, \"NK Sword Standard\", NaN, 9.99, \"http://images.brickset.com/sets/images/853505-1.jpg\", 1], [46, \"Rebecca\", \"Duval\", 48, \"908-555-4029\", 24899, \"41114\", \"Friends\", \"Party\", 2018, \"Party Styling\", 54.0, 4.99, \"http://images.brickset.com/sets/images/41114-1.jpg\", 2], [47, \"Rebecca\", \"Duval\", 48, \"908-555-4029\", 26034, \"41573\", \"Mixels\", \"Series 9\", 2018, \"Sweepz\", 61.0, 4.99, \"NaN\", 1], [48, \"Rebecca\", \"Duval\", 48, \"908-555-4029\", 24664, \"21028\", \"Architecture\", \"Skylines\", 2018, \"New York City\", 598.0, 59.99, \"http://images.brickset.com/sets/images/21028-1.jpg\", 2], [49, \"Katherine\", \"Hogue\", 27, \"289-555-4928\", 25876, \"853555\", \"Gear\", \"Stationery\", 2018, \"Campsite Scrapbook\", NaN, 14.99, \"http://images.brickset.com/sets/images/853555-1.jpg\", 2], [50, \"Katherine\", \"Hogue\", 27, \"289-555-4928\", 25660, \"75822\", \"The Angry Birds Movie\", \"NaN\", 2018, \"Piggy Plane Attack\", 168.0, 19.99, \"http://images.brickset.com/sets/images/75822-1.jpg\", 1], [51, \"Adoria\", \"Hammond\", 40, \"712-555-6781\", 24720, \"10830\", \"Duplo\", \"NaN\", 2018, \"Minnie's Caf\\u00e9\", 27.0, 19.99, \"http://images.brickset.com/sets/images/10830-1.jpg\", 1], [52, \"Amanda\", \"Musick\", 24, \"878-555-7113\", 25916, \"76054\", \"DC Comics Super Heroes\", \"Batman\", 2018, \"Batman: Scarecrow Harvest of Fear\", 563.0, 59.99, \"http://images.brickset.com/sets/images/76054-1.jpg\", 2], [53, \"Cecilia\", \"Mauro\", 50, \"NaN\", 25921, \"75157\", \"Star Wars\", \"Rebels\", 2018, \"Captain Rex's AT-TE\", 972.0, 119.99, \"http://images.brickset.com/sets/images/75157-1.jpg\", 3], [54, \"Shina\", \"Hegarty\", 22, \"868-555-1868\", 24737, \"41135\", \"Friends\", \"Pop Star\", 2018, \"Livi's Pop Star House\", 597.0, 49.99, \"http://images.brickset.com/sets/images/41135-1.jpg\", 3], [55, \"Shina\", \"Hegarty\", 22, \"868-555-1868\", 24706, \"41142\", \"Disney Princess\", \"Palace Pets\", 2018, \"Palace Pets Royal Castle\", 186.0, 19.99, \"http://images.brickset.com/sets/images/41142-1.jpg\", 3], [56, \"Shina\", \"Hegarty\", 22, \"868-555-1868\", 24664, \"21028\", \"Architecture\", \"Skylines\", 2018, \"New York City\", 598.0, 59.99, \"http://images.brickset.com/sets/images/21028-1.jpg\", 1], [57, \"Anthony\", \"Kiyotake\", 22, \"980-555-0099\", 25007, \"41568\", \"Mixels\", \"Series 8\", 2018, \"Lewt\", 62.0, 4.99, \"http://images.brickset.com/sets/images/41568-1.jpg\", 1], [58, \"Anthony\", \"Kiyotake\", 22, \"980-555-0099\", 25883, \"853568\", \"Gear\", \"Key Chains/City\", 2018, \"Prison Guard Key Chain\", NaN, 5.99, \"http://images.brickset.com/sets/images/853568-1.jpg\", 1], [59, \"Connor\", \"Fourzan\", 32, \"805-555-3065\", 25886, \"853519\", \"Gear\", \"Playmats\", 2018, \"NK Playmat\", NaN, 14.99, \"http://images.brickset.com/sets/images/853519-1.jpg\", 1], [60, \"Connor\", \"Fourzan\", 32, \"805-555-3065\", 24789, \"75130\", \"Star Wars\", \"MicroFighters\", 2018, \"AT-DP\", 76.0, 9.99, \"http://images.brickset.com/sets/images/75130-1.jpg\", 1], [61, \"Kayla\", \"Rush\", 25, \"281-555-9341\", 24896, \"31046\", \"Creator\", \"NaN\", 2018, \"Fast Car\", 222.0, 19.99, \"http://images.brickset.com/sets/images/31046-1.jpg\", 1], [62, \"Kayla\", \"Rush\", 25, \"281-555-9341\", 24750, \"76065\", \"Marvel Super Heroes\", \"Mighty Micros\", 2018, \"Captain America vs. Red Skull\", 95.0, 9.99, \"http://images.brickset.com/sets/images/76065-1.jpg\", 1], [63, \"Kayla\", \"Rush\", 25, \"281-555-9341\", 25662, \"75824\", \"The Angry Birds Movie\", \"NaN\", 2018, \"Pig City Teardown\", 386.0, 39.99, \"http://images.brickset.com/sets/images/75824-1.jpg\", 1], [64, \"Lucas\", \"Montoya\", 34, \"616-555-2269\", 24901, \"41555\", \"Mixels\", \"Series 7\", 2018, \"Busto\", 69.0, 4.99, \"http://images.brickset.com/sets/images/41555-1.jpg\", 2], [65, \"Lucas\", \"Montoya\", 34, \"616-555-2269\", 24899, \"41114\", \"Friends\", \"Party\", 2018, \"Party Styling\", 54.0, 4.99, \"http://images.brickset.com/sets/images/41114-1.jpg\", 2], [66, \"Lucas\", \"Montoya\", 34, \"616-555-2269\", 24762, \"70330\", \"Nexo Knights\", \"Ultimate\", 2018, \"Ultimate Clay\", 72.0, 9.99, \"http://images.brickset.com/sets/images/70330-1.jpg\", 2], [67, \"Peggy\", \"Hiner\", 21, \"563-555-1011\", 24734, \"41119\", \"Friends\", \"NaN\", 2018, \"Heartlake Cupcake Cafe\", 439.0, 39.99, \"http://images.brickset.com/sets/images/41119-1.jpg\", 1], [68, \"Maya\", \"Wolfe\", 33, \"NaN\", 25881, \"853549\", \"Gear\", \"Key Chains/Friends\", 2018, \"Mia Key Chain\", NaN, 5.99, \"http://images.brickset.com/sets/images/853549-1.jpg\", 1], [69, \"Keno\", \"Graves\", 51, \"209-555-6030\", 25898, \"75145\", \"Star Wars\", \"Original Content\", 2018, \"Eclipse Fighter\", 363.0, 29.99, \"http://images.brickset.com/sets/images/75145-1.jpg\", 1], [70, \"Lucas\", \"Jimenez-Dominguez\", 18, \"712-555-0459\", 24691, \"31043\", \"Creator\", \"NaN\", 2018, \"Chopper Transporter\", 124.0, 9.99, \"http://images.brickset.com/sets/images/31043-1.jpg\", 2], [71, \"Lucas\", \"Jimenez-Dominguez\", 18, \"712-555-0459\", 26034, \"41573\", \"Mixels\", \"Series 9\", 2018, \"Sweepz\", 61.0, 4.99, \"NaN\", 1], [72, \"Lucas\", \"Jimenez-Dominguez\", 18, \"712-555-0459\", 24704, \"41140\", \"Disney Princess\", \"Palace Pets\", 2018, \"Daisy's Beauty Salon\", 98.0, 9.99, \"http://images.brickset.com/sets/images/41140-1.jpg\", 1], [73, \"Lucas\", \"Jimenez-Dominguez\", 18, \"712-555-0459\", 24903, \"41558\", \"Mixels\", \"Series 7\", 2018, \"Mixadel\", 63.0, 4.99, \"http://images.brickset.com/sets/images/41558-1.jpg\", 2], [74, \"Lucas\", \"Jimenez-Dominguez\", 18, \"712-555-0459\", 26033, \"41572\", \"Mixels\", \"Series 9\", 2018, \"Gobbol\", 62.0, 4.99, \"NaN\", 1], [75, \"Jake\", \"Montes Alvarez\", 30, \"603-555-6881\", 25005, \"41566\", \"Mixels\", \"Series 8\", 2018, \"Sharx\", 55.0, 4.99, \"http://images.brickset.com/sets/images/41566-1.jpg\", 1], [76, \"Jake\", \"Montes Alvarez\", 30, \"603-555-6881\", 24751, \"76066\", \"Marvel Super Heroes\", \"Mighty Micros\", 2018, \"Hulk vs. Ultron\", 80.0, 9.99, \"http://images.brickset.com/sets/images/76066-1.jpg\", 1], [77, \"Jake\", \"Montes Alvarez\", 30, \"603-555-6881\", 24704, \"41140\", \"Disney Princess\", \"Palace Pets\", 2018, \"Daisy's Beauty Salon\", 98.0, 9.99, \"http://images.brickset.com/sets/images/41140-1.jpg\", 2], [78, \"Jake\", \"Montes Alvarez\", 30, \"603-555-6881\", 25901, \"5004612\", \"Gear\", \"Watches/Clocks\", 2018, \"Lucy Wyldstyle Minifigure Link Watch\", NaN, 24.99, \"http://images.brickset.com/sets/images/5004612-1.jpg\", 3], [79, \"Trevon\", \"Thanh\", 25, \"NaN\", 25612, \"21128\", \"Minecraft\", \"Minifig-scale\", 2018, \"The Village\", NaN, 199.99, \"NaN\", 1], [80, \"John'Dunae\", \"Higgins\", 19, \"813-555-5561\", 24744, \"76046\", \"DC Comics Super Heroes\", \"Batman v Superman: Dawn of Justice\", 2018, \"Heroes of Justice: Sky High Battle\", 517.0, 59.99, \"http://images.brickset.com/sets/images/76046-1.jpg\", 1], [81, \"Tysen\", \"Banda-Chavez\", 43, \"NaN\", 26059, \"5005060\", \"Gear\", \"Video Games/3DS\", 2018, \"Marvel Avengers Nintendo 3DS Video Game\", NaN, 29.99, \"http://images.brickset.com/sets/images/5005060-1.jpg\", 2], [82, \"Tysen\", \"Banda-Chavez\", 43, \"NaN\", 25003, \"41564\", \"Mixels\", \"Series 8\", 2018, \"Aquad\", 70.0, 4.99, \"http://images.brickset.com/sets/images/41564-1.jpg\", 1], [83, \"Tysen\", \"Banda-Chavez\", 43, \"NaN\", 24677, \"60108\", \"City\", \"Fire\", 2018, \"Fire Response Unit\", 257.0, 39.99, \"http://images.brickset.com/sets/images/60108-1.jpg\", 2], [84, \"Janay\", \"Gienapp\", 63, \"774-555-2102\", 25612, \"21128\", \"Minecraft\", \"Minifig-scale\", 2018, \"The Village\", NaN, 199.99, \"NaN\", 1], [85, \"Janay\", \"Gienapp\", 63, \"774-555-2102\", 24704, \"41140\", \"Disney Princess\", \"Palace Pets\", 2018, \"Daisy's Beauty Salon\", 98.0, 9.99, \"http://images.brickset.com/sets/images/41140-1.jpg\", 1], [86, \"Janay\", \"Gienapp\", 63, \"774-555-2102\", 25893, \"30349\", \"City\", \"NaN\", 2018, \"Sports Car\", 47.0, 3.99, \"http://images.brickset.com/sets/images/30349-1.jpg\", 1], [87, \"Eric\", \"Benally\", 20, \"418-555-3696\", 24761, \"70316\", \"Nexo Knights\", \"NaN\", 2018, \"Jestro's Evil Mobile\", 658.0, 59.99, \"http://images.brickset.com/sets/images/70316-1.jpg\", 1], [88, \"Eric\", \"Benally\", 20, \"418-555-3696\", 25634, \"70319\", \"Nexo Knights\", \"NaN\", 2018, \"Macy's Thunder Mace\", 202.0, 19.99, \"http://images.brickset.com/sets/images/70319-1.jpg\", 1], [89, \"Eric\", \"Benally\", 20, \"418-555-3696\", 24900, \"41122\", \"Friends\", \"Adventure Camp\", 2018, \"Adventure Camp Tree House\", 726.0, 79.99, \"http://images.brickset.com/sets/images/41122-1.jpg\", 1], [90, \"Carson\", \"Aragon\", 38, \"NaN\", 25634, \"70319\", \"Nexo Knights\", \"NaN\", 2018, \"Macy's Thunder Mace\", 202.0, 19.99, \"http://images.brickset.com/sets/images/70319-1.jpg\", 1], [91, \"Carson\", \"Aragon\", 38, \"NaN\", 25910, \"30347\", \"City\", \"Fire\", 2018, \"Fire Car\", 53.0, 3.99, \"http://images.brickset.com/sets/images/30347-1.jpg\", 1], [92, \"Samantha\", \"Haberland\", 21, \"705-555-1457\", 25668, \"75828\", \"Ghostbusters\", \"Reboot\", 2018, \"Ghostbusters Ecto-1 & Ecto-2\", NaN, 59.99, \"http://images.brickset.com/sets/images/75828-1.jpg\", 1], [93, \"Samantha\", \"Haberland\", 21, \"705-555-1457\", 25644, \"71313\", \"Bionicle\", \"Reboot Villains\", 2018, \"Lava Beast\", 114.0, 14.99, \"NaN\", 1], [94, \"Samantha\", \"Haberland\", 21, \"705-555-1457\", 24764, \"70333\", \"Nexo Knights\", \"Ultimate\", 2018, \"Ultimate Robin\", 75.0, 9.99, \"http://images.brickset.com/sets/images/70333-1.jpg\", 1], [95, \"Cameron\", \"Rodriguez\", 48, \"325-555-1926\", 25879, \"853534\", \"Gear\", \"Key Chains/Ninjago\", 2018, \"Airjitzu Jay Key Chain\", NaN, 5.99, \"http://images.brickset.com/sets/images/853534-1.jpg\", 1], [96, \"Cameron\", \"Rodriguez\", 48, \"325-555-1926\", 25910, \"30347\", \"City\", \"Fire\", 2018, \"Fire Car\", 53.0, 3.99, \"http://images.brickset.com/sets/images/30347-1.jpg\", 1], [97, \"Connor\", \"Padilla\", 36, \"441-555-6534\", 24674, \"71310\", \"Bionicle\", \"Reboot Villains\", 2018, \"Umarak the Hunter\", 172.0, 19.99, \"http://images.brickset.com/sets/images/71310-1.jpg\", 2], [98, \"Connor\", \"Padilla\", 36, \"441-555-6534\", 24902, \"41556\", \"Mixels\", \"Series 7\", 2018, \"Tiketz\", 62.0, 4.99, \"http://images.brickset.com/sets/images/41556-1.jpg\", 1], [99, \"Connor\", \"Padilla\", 36, \"441-555-6534\", 24797, \"75138\", \"Star Wars\", \"Episode V\", 2018, \"Hoth Attack\", 233.0, 24.99, \"http://images.brickset.com/sets/images/75138-1.jpg\", 1], [100, \"Tyrii\", \"Bloom\", 23, \"784-555-7128\", 24759, \"70313\", \"Nexo Knights\", \"NaN\", 2018, \"Moltor's Lava Smasher\", 187.0, 19.99, \"http://images.brickset.com/sets/images/70313-1.jpg\", 1], [101, \"Tyrii\", \"Bloom\", 23, \"784-555-7128\", 24735, \"41120\", \"Friends\", \"Adventure Camp\", 2018, \"Adventure Camp Archery\", 114.0, 9.99, \"http://images.brickset.com/sets/images/41120-1.jpg\", 1], [102, \"Tyrii\", \"Bloom\", 23, \"784-555-7128\", 24692, \"31044\", \"Creator\", \"NaN\", 2018, \"Park Animals\", 202.0, 14.99, \"http://images.brickset.com/sets/images/31044-1.jpg\", 1], [103, \"Tyrii\", \"Bloom\", 23, \"784-555-7128\", 24737, \"41135\", \"Friends\", \"Pop Star\", 2018, \"Livi's Pop Star House\", 597.0, 49.99, \"http://images.brickset.com/sets/images/41135-1.jpg\", 3], [104, \"Austin\", \"Martinez\", 29, \"NaN\", 24769, \"70600\", \"Ninjago\", \"Skybound\", 2018, \"Ninja Bike Chase\", 231.0, 19.99, \"http://images.brickset.com/sets/images/70600-1.jpg\", 2], [105, \"Caroline\", \"Holstein\", 38, \"318-555-7894\", 24798, \"75140\", \"Star Wars\", \"The Force Awakens\", 2018, \"Resistance Troop Transporter\", 646.0, 69.99, \"http://images.brickset.com/sets/images/75140-1.jpg\", 1], [106, \"Caroline\", \"Holstein\", 38, \"318-555-7894\", 24763, \"70331\", \"Nexo Knights\", \"Ultimate\", 2018, \"Ultimate Macy\", 101.0, 9.99, \"http://images.brickset.com/sets/images/70331-1.jpg\", 1], [107, \"Caroline\", \"Holstein\", 38, \"318-555-7894\", 24678, \"60109\", \"City\", \"Fire\", 2018, \"Fire Boat\", 412.0, 79.99, \"http://images.brickset.com/sets/images/60109-1.jpg\", 1], [108, \"Caroline\", \"Holstein\", 38, \"318-555-7894\", 24959, \"75139\", \"Star Wars\", \"The Force Awakens\", 2018, \"Battle on Takodana\", 409.0, 59.99, \"http://images.brickset.com/sets/images/75139-1.jpg\", 1], [109, \"Caroline\", \"Holstein\", 38, \"318-555-7894\", 24699, \"76053\", \"DC Comics Super Heroes\", \"Batman\", 2018, \"Gotham City Cycle Chase\", 224.0, 19.99, \"http://images.brickset.com/sets/images/76053-1.jpg\", 3], [110, \"Joshua\", \"Long\", 55, \"469-555-6245\", 26056, \"5005057\", \"Gear\", \"Video Games/XBOX 360\", 2018, \"Marvel Avengers XBOX 360 Video Game\", NaN, 49.99, \"http://images.brickset.com/sets/images/5005057-1.jpg\", 1], [111, \"Joshua\", \"Long\", 55, \"469-555-6245\", 26057, \"5005058\", \"Gear\", \"Video Games/Wii U\", 2018, \"Marvel Avengers Wii U Video Game\", NaN, 49.99, \"http://images.brickset.com/sets/images/5005058-1.jpg\", 1], [112, \"Binh\", \"Skalla\", 23, \"NaN\", 24685, \"60118\", \"City\", \"Traffic\", 2018, \"Garbage Truck\", 248.0, 19.99, \"http://images.brickset.com/sets/images/60118-1.jpg\", 1], [113, \"Binh\", \"Skalla\", 23, \"NaN\", 24781, \"75116\", \"Star Wars\", \"Buildable Figures\", 2018, \"Finn\", 98.0, 24.99, \"http://images.brickset.com/sets/images/75116-1.jpg\", 1], [114, \"Binh\", \"Skalla\", 23, \"NaN\", 24736, \"41121\", \"Friends\", \"Adventure Camp\", 2018, \"Adventure Camp Rafting\", 320.0, 29.99, \"http://images.brickset.com/sets/images/41121-1.jpg\", 1], [115, \"Nicholas\", \"Scott\", 57, \"418-555-1075\", 24758, \"70312\", \"Nexo Knights\", \"NaN\", 2018, \"Lance's Mecha Horse\", 237.0, 19.99, \"http://images.brickset.com/sets/images/70312-1.jpg\", 1], [116, \"Nicholas\", \"Scott\", 57, \"418-555-1075\", 25881, \"853549\", \"Gear\", \"Key Chains/Friends\", 2018, \"Mia Key Chain\", NaN, 5.99, \"http://images.brickset.com/sets/images/853549-1.jpg\", 1], [117, \"Nicholas\", \"Scott\", 57, \"418-555-1075\", 25885, \"853572\", \"Gear\", \"Key Chains/Miscellaneous\", 2018, \"Bumble Bee Key Chain\", NaN, 5.99, \"http://images.brickset.com/sets/images/853572-1.jpg\", 2], [118, \"Jacob\", \"Barron\", 27, \"319-555-6104\", 24680, \"60113\", \"City\", \"Traffic\", 2018, \"Rally Car\", 104.0, 9.99, \"http://images.brickset.com/sets/images/60113-1.jpg\", 1], [119, \"Jacob\", \"Barron\", 27, \"319-555-6104\", 24792, \"75134\", \"Star Wars\", \"Battlefront\", 2018, \"Galactic Empire Battle Pack\", 109.0, 12.99, \"http://images.brickset.com/sets/images/75134-1.jpg\", 2], [120, \"Madeline\", \"Castor\", 39, \"450-555-9877\", 25006, \"41567\", \"Mixels\", \"Series 8\", 2018, \"Skulzy\", 66.0, 4.99, \"http://images.brickset.com/sets/images/41567-1.jpg\", 1], [121, \"Madeline\", \"Castor\", 39, \"450-555-9877\", 25969, \"76059\", \"Marvel Super Heroes\", \"Ultimate Spider-Man\", 2018, \"Spider-Man: Doc Ock's Tentacle Trap\", 446.0, 39.99, \"http://images.brickset.com/sets/images/76059-1.jpg\", 1], [122, \"Madeline\", \"Castor\", 39, \"450-555-9877\", 26025, \"41178\", \"Elves\", \"NaN\", 2018, \"The Dragon Sanctuary\", 585.0, 49.99, \"NaN\", 1], [123, \"Trevor\", \"Perez\", 39, \"878-555-5155\", 24730, \"41115\", \"Friends\", \"NaN\", 2018, \"Emma's Creative Workshop\", 108.0, 9.99, \"http://images.brickset.com/sets/images/41115-1.jpg\", 1], [124, \"Trevor\", \"Perez\", 39, \"878-555-5155\", 24746, \"76048\", \"Marvel Super Heroes\", \"Avengers Assemble\", 2018, \"Iron Skull Sub Attack\", 335.0, 29.99, \"http://images.brickset.com/sets/images/76048-1.jpg\", 1], [125, \"Trevor\", \"Perez\", 39, \"878-555-5155\", 24703, \"41069\", \"Disney Princess\", \"Palace Pets\", 2018, \"Treasure's Day at the Pool\", 70.0, 5.99, \"http://images.brickset.com/sets/images/41069-1.jpg\", 1], [126, \"David\", \"Cabral\", 19, \"415-555-8642\", 24957, \"71309\", \"Bionicle\", \"Toa\", 2018, \"Onua - Uniter of Earth\", 143.0, 19.99, \"http://images.brickset.com/sets/images/71309-1.jpg\", 2], [127, \"Adam\", \"Albornoz\", 36, \"418-555-2486\", 24907, \"42050\", \"Technic\", \"NaN\", 2018, \"Drag Racer\", 647.0, 79.99, \"http://images.brickset.com/sets/images/42050-1.jpg\", 1], [128, \"Manuel\", \"Wilkerson\", 23, \"441-555-3652\", 24725, \"41174\", \"Elves\", \"NaN\", 2018, \"The Starlight Inn\", 343.0, 29.99, \"http://images.brickset.com/sets/images/41174-1.jpg\", 1], [129, \"Manuel\", \"Wilkerson\", 23, \"441-555-3652\", 24751, \"76066\", \"Marvel Super Heroes\", \"Mighty Micros\", 2018, \"Hulk vs. Ultron\", 80.0, 9.99, \"http://images.brickset.com/sets/images/76066-1.jpg\", 1], [130, \"Manuel\", \"Wilkerson\", 23, \"441-555-3652\", 24768, \"70599\", \"Ninjago\", \"Skybound\", 2018, \"Cole's Dragon\", 98.0, 9.99, \"http://images.brickset.com/sets/images/70599-1.jpg\", 2], [131, \"Dakota\", \"Klopp\", 33, \"970-555-9320\", 25660, \"75822\", \"The Angry Birds Movie\", \"NaN\", 2018, \"Piggy Plane Attack\", 168.0, 19.99, \"http://images.brickset.com/sets/images/75822-1.jpg\", 1], [132, \"Dakota\", \"Klopp\", 33, \"970-555-9320\", 24807, \"71235\", \"Dimensions\", \"Level Pack\", 2018, \"Level Pack: Midway Arcade\", 96.0, 29.99, \"http://images.brickset.com/sets/images/71235-1.jpg\", 2], [133, \"Dakota\", \"Klopp\", 33, \"970-555-9320\", 25006, \"41567\", \"Mixels\", \"Series 8\", 2018, \"Skulzy\", 66.0, 4.99, \"http://images.brickset.com/sets/images/41567-1.jpg\", 2], [134, \"Aleksandr\", \"Gurrola\", 61, \"508-555-9403\", 25910, \"30347\", \"City\", \"Fire\", 2018, \"Fire Car\", 53.0, 3.99, \"http://images.brickset.com/sets/images/30347-1.jpg\", 1], [135, \"Michael\", \"Hernandez Muniz\", 62, \"NaN\", 24745, \"76047\", \"Marvel Super Heroes\", \"Captain America: Civil War\", 2018, \"Black Panther Pursuit\", 287.0, 29.99, \"http://images.brickset.com/sets/images/76047-1.jpg\", 2], [136, \"Xavier\", \"Suazo\", 27, \"321-555-0605\", 24779, \"75114\", \"Star Wars\", \"Buildable Figures\", 2018, \"First Order Stormtrooper\", 81.0, 19.99, \"http://images.brickset.com/sets/images/75114-1.jpg\", 1], [137, \"Xavier\", \"Suazo\", 27, \"321-555-0605\", 24771, \"70603\", \"Ninjago\", \"Skybound\", 2018, \"Raid Zeppelin\", 294.0, 29.99, \"http://images.brickset.com/sets/images/70603-1.jpg\", 1], [138, \"Jaime\", \"Rideout\", 26, \"913-555-5139\", 25641, \"70326\", \"Nexo Knights\", \"NaN\", 2018, \"The Black Knight Mech\", 530.0, 39.99, \"NaN\", 2], [139, \"Jaime\", \"Rideout\", 26, \"913-555-5139\", 24717, \"10818\", \"Duplo\", \"NaN\", 2018, \"My First Truck\", 29.0, 19.99, \"http://images.brickset.com/sets/images/10818-1.jpg\", 2], [140, \"Jaime\", \"Rideout\", 26, \"913-555-5139\", 24899, \"41114\", \"Friends\", \"Party\", 2018, \"Party Styling\", 54.0, 4.99, \"http://images.brickset.com/sets/images/41114-1.jpg\", 2], [141, \"Tj\", \"Aguon\", 47, \"862-555-5629\", 24737, \"41135\", \"Friends\", \"Pop Star\", 2018, \"Livi's Pop Star House\", 597.0, 49.99, \"http://images.brickset.com/sets/images/41135-1.jpg\", 1], [142, \"Tj\", \"Aguon\", 47, \"862-555-5629\", 24894, \"31040\", \"Creator\", \"NaN\", 2018, \"Desert Racers\", 65.0, 4.99, \"http://images.brickset.com/sets/images/31040-1.jpg\", 1], [143, \"Tj\", \"Aguon\", 47, \"862-555-5629\", 24720, \"10830\", \"Duplo\", \"NaN\", 2018, \"Minnie's Caf\\u00e9\", 27.0, 19.99, \"http://images.brickset.com/sets/images/10830-1.jpg\", 1], [144, \"Taylor\", \"Allen\", 41, \"760-555-8123\", 25923, \"75147\", \"Star Wars\", \"Original Content\", 2018, \"Star Scavenger\", 558.0, 49.99, \"http://images.brickset.com/sets/images/75147-1.jpg\", 2], [145, \"Kaitlyn\", \"Degeer\", 24, \"316-555-7890\", 25887, \"853543\", \"Ninjago\", \"NaN\", 2018, \"Ninjago Party Set\", 70.0, 7.99, \"http://images.brickset.com/sets/images/853543-1.jpg\", 1], [146, \"Kaitlyn\", \"Degeer\", 24, \"316-555-7890\", 24765, \"70332\", \"Nexo Knights\", \"Ultimate\", 2018, \"Ultimate Aaron\", 82.0, 9.99, \"http://images.brickset.com/sets/images/70332-1.jpg\", 2], [147, \"Kaitlyn\", \"Degeer\", 24, \"316-555-7890\", 26035, \"41574\", \"Mixels\", \"Series 9\", 2018, \"Compax\", 66.0, 4.99, \"NaN\", 1], [148, \"Kaitlyn\", \"Degeer\", 24, \"316-555-7890\", 24994, \"10251\", \"Advanced Models\", \"Modular Buildings\", 2018, \"Brick Bank\", 2380.0, 169.99, \"http://images.brickset.com/sets/images/10251-1.jpg\", 2], [149, \"Matthew\", \"Sandoval\", 22, \"671-555-7044\", 25660, \"75822\", \"The Angry Birds Movie\", \"NaN\", 2018, \"Piggy Plane Attack\", 168.0, 19.99, \"http://images.brickset.com/sets/images/75822-1.jpg\", 1], [150, \"Matthew\", \"Sandoval\", 22, \"671-555-7044\", 25884, \"853571\", \"Gear\", \"Key Chains/Miscellaneous\", 2018, \"Hot Dog Guy Key Chain\", NaN, 5.99, \"http://images.brickset.com/sets/images/853571-1.jpg\", 1], [151, \"Jordan\", \"West\", 56, \"810-555-1608\", 24898, \"41113\", \"Friends\", \"Party\", 2018, \"Party Gift Shop\", 52.0, 4.99, \"http://images.brickset.com/sets/images/41113-1.jpg\", 1], [152, \"Jordan\", \"West\", 56, \"810-555-1608\", 24711, \"10807\", \"Duplo\", \"NaN\", 2018, \"Horse Trailer\", 15.0, 19.99, \"http://images.brickset.com/sets/images/10807-1.jpg\", 1], [153, \"Reyes\", \"Wilson\", 33, \"605-555-2774\", 24903, \"41558\", \"Mixels\", \"Series 7\", 2018, \"Mixadel\", 63.0, 4.99, \"http://images.brickset.com/sets/images/41558-1.jpg\", 1], [154, \"Reyes\", \"Wilson\", 33, \"605-555-2774\", 24693, \"31045\", \"Creator\", \"NaN\", 2018, \"Ocean Explorer\", 213.0, 14.99, \"http://images.brickset.com/sets/images/31045-1.jpg\", 1], [155, \"Reyes\", \"Wilson\", 33, \"605-555-2774\", 24793, \"75133\", \"Star Wars\", \"Battlefront\", 2018, \"Rebel Alliance Battle Pack\", 101.0, 12.99, \"http://images.brickset.com/sets/images/75133-1.jpg\", 2], [156, \"Avery\", \"Leung\", 33, \"330-555-2699\", 24781, \"75116\", \"Star Wars\", \"Buildable Figures\", 2018, \"Finn\", 98.0, 24.99, \"http://images.brickset.com/sets/images/75116-1.jpg\", 1], [157, \"Avery\", \"Leung\", 33, \"330-555-2699\", 25876, \"853555\", \"Gear\", \"Stationery\", 2018, \"Campsite Scrapbook\", NaN, 14.99, \"http://images.brickset.com/sets/images/853555-1.jpg\", 1], [158, \"Michael\", \"Williams\", 31, \"936-555-2974\", 24988, \"40202\", \"Seasonal\", \"Easter\", 2018, \"Easter Chick\", 111.0, 9.99, \"NaN\", 1], [159, \"Michael\", \"Williams\", 31, \"936-555-2974\", 24672, \"71307\", \"Bionicle\", \"Toa\", 2018, \"Gali - Uniter of Water\", 87.0, 14.99, \"http://images.brickset.com/sets/images/71307-1.jpg\", 1], [160, \"Michael\", \"Williams\", 31, \"936-555-2974\", 24895, \"31041\", \"Creator\", \"NaN\", 2018, \"Construction Vehicles\", 64.0, 4.99, \"http://images.brickset.com/sets/images/31041-1.jpg\", 1], [161, \"Colleen\", \"Galley\", 31, \"710-555-8843\", 24705, \"41141\", \"Disney Princess\", \"Palace Pets\", 2018, \"Pumpkin's Royal Carriage\", 79.0, 9.99, \"http://images.brickset.com/sets/images/41141-1.jpg\", 2], [162, \"Colleen\", \"Galley\", 31, \"710-555-8843\", 24976, \"60105\", \"City\", \"Fire\", 2018, \"Fire ATV\", 64.0, 6.99, \"http://images.brickset.com/sets/images/60105-1.jpg\", 1], [163, \"Colleen\", \"Galley\", 31, \"710-555-8843\", 24956, \"71300\", \"Bionicle\", \"companions\", 2018, \"Uxar - Creature of Jungle\", 89.0, 9.99, \"http://images.brickset.com/sets/images/71300-1.jpg\", 1], [164, \"Brandilyn\", \"Robertson\", 27, \"724-555-5496\", 24703, \"41069\", \"Disney Princess\", \"Palace Pets\", 2018, \"Treasure's Day at the Pool\", 70.0, 5.99, \"http://images.brickset.com/sets/images/41069-1.jpg\", 1], [165, \"Brandilyn\", \"Robertson\", 27, \"724-555-5496\", 25886, \"853519\", \"Gear\", \"Playmats\", 2018, \"NK Playmat\", NaN, 14.99, \"http://images.brickset.com/sets/images/853519-1.jpg\", 3], [166, \"Brandilyn\", \"Robertson\", 27, \"724-555-5496\", 24704, \"41140\", \"Disney Princess\", \"Palace Pets\", 2018, \"Daisy's Beauty Salon\", 98.0, 9.99, \"http://images.brickset.com/sets/images/41140-1.jpg\", 1], [167, \"Brandilyn\", \"Robertson\", 27, \"724-555-5496\", 25635, \"70320\", \"Nexo Knights\", \"NaN\", 2018, \"Aaron Fox's Aero-Striker V2\", 301.0, 29.99, \"http://images.brickset.com/sets/images/70320-1.jpg\", 1], [168, \"Brandilyn\", \"Robertson\", 27, \"724-555-5496\", 24745, \"76047\", \"Marvel Super Heroes\", \"Captain America: Civil War\", 2018, \"Black Panther Pursuit\", 287.0, 29.99, \"http://images.brickset.com/sets/images/76047-1.jpg\", 2], [169, \"Son\", \"Saldanha\", 30, \"507-555-2278\", 25878, \"853505\", \"Gear\", \"Role-Play toys\", 2018, \"NK Sword Standard\", NaN, 9.99, \"http://images.brickset.com/sets/images/853505-1.jpg\", 2], [170, \"Son\", \"Saldanha\", 30, \"507-555-2278\", 24793, \"75133\", \"Star Wars\", \"Battlefront\", 2018, \"Rebel Alliance Battle Pack\", 101.0, 12.99, \"http://images.brickset.com/sets/images/75133-1.jpg\", 2], [171, \"Katherine\", \"Beck\", 45, \"209-555-7105\", 24994, \"10251\", \"Advanced Models\", \"Modular Buildings\", 2018, \"Brick Bank\", 2380.0, 169.99, \"http://images.brickset.com/sets/images/10251-1.jpg\", 1], [172, \"Katherine\", \"Beck\", 45, \"209-555-7105\", 24959, \"75139\", \"Star Wars\", \"The Force Awakens\", 2018, \"Battle on Takodana\", 409.0, 59.99, \"http://images.brickset.com/sets/images/75139-1.jpg\", 1], [173, \"Katherine\", \"Beck\", 45, \"209-555-7105\", 24758, \"70312\", \"Nexo Knights\", \"NaN\", 2018, \"Lance's Mecha Horse\", 237.0, 19.99, \"http://images.brickset.com/sets/images/70312-1.jpg\", 2], [174, \"Katherine\", \"Beck\", 45, \"209-555-7105\", 26025, \"41178\", \"Elves\", \"NaN\", 2018, \"The Dragon Sanctuary\", 585.0, 49.99, \"NaN\", 1], [175, \"Beemnet\", \"Masters\", 41, \"902-555-8429\", 24678, \"60109\", \"City\", \"Fire\", 2018, \"Fire Boat\", 412.0, 79.99, \"http://images.brickset.com/sets/images/60109-1.jpg\", 1], [176, \"Beemnet\", \"Masters\", 41, \"902-555-8429\", 24794, \"75135\", \"Star Wars\", \"Episode III\", 2018, \"Obi-Wan's Jedi Interceptor\", 215.0, 24.99, \"http://images.brickset.com/sets/images/75135-1.jpg\", 1], [177, \"Shylynn\", \"Seitz\", 28, \"205-555-7084\", 24756, \"70310\", \"Nexo Knights\", \"NaN\", 2018, \"Knighton Battle Blaster\", 76.0, 9.99, \"http://images.brickset.com/sets/images/70310-1.jpg\", 2], [178, \"Shylynn\", \"Seitz\", 28, \"205-555-7084\", 24679, \"60111\", \"City\", \"Fire\", 2018, \"Fire Utility Truck\", 368.0, 39.99, \"http://images.brickset.com/sets/images/60111-1.jpg\", 1], [179, \"Sonny\", \"Smith\", 24, \"246-555-7913\", 24699, \"76053\", \"DC Comics Super Heroes\", \"Batman\", 2018, \"Gotham City Cycle Chase\", 224.0, 19.99, \"http://images.brickset.com/sets/images/76053-1.jpg\", 1], [180, \"Joshua\", \"Reyes\", 53, \"251-555-5985\", 25605, \"75146\", \"Star Wars\", \"Seasonal\", 2018, \"Star Wars Advent Calendar\", 282.0, 39.99, \"http://images.brickset.com/sets/images/75146-1.jpg\", 2], [181, \"Joshua\", \"Reyes\", 53, \"251-555-5985\", 24780, \"75115\", \"Star Wars\", \"Buildable Figures\", 2018, \"Poe Dameron\", 102.0, 24.99, \"http://images.brickset.com/sets/images/75115-1.jpg\", 3], [182, \"Joshua\", \"Reyes\", 53, \"251-555-5985\", 24618, \"71238\", \"Dimensions\", \"Fun Pack\", 2018, \"Fun Pack: Cyberman\", 40.0, 14.99, \"http://images.brickset.com/sets/images/71238-1.jpg\", 1], [183, \"Asia\", \"Salyer\", 24, \"508-555-0418\", 24751, \"76066\", \"Marvel Super Heroes\", \"Mighty Micros\", 2018, \"Hulk vs. Ultron\", 80.0, 9.99, \"http://images.brickset.com/sets/images/76066-1.jpg\", 3], [184, \"Neil\", \"Gabel\", 30, \"508-555-5700\", 26056, \"5005057\", \"Gear\", \"Video Games/XBOX 360\", 2018, \"Marvel Avengers XBOX 360 Video Game\", NaN, 49.99, \"http://images.brickset.com/sets/images/5005057-1.jpg\", 2], [185, \"Neil\", \"Gabel\", 30, \"508-555-5700\", 26058, \"5005059\", \"Gear\", \"Video Games/PS3\", 2018, \"Marvel Avengers PS3 Video Game\", NaN, 49.99, \"http://images.brickset.com/sets/images/5005059-1.jpg\", 1], [186, \"Neil\", \"Gabel\", 30, \"508-555-5700\", 24672, \"71307\", \"Bionicle\", \"Toa\", 2018, \"Gali - Uniter of Water\", 87.0, 14.99, \"http://images.brickset.com/sets/images/71307-1.jpg\", 1], [189, \"Demetri\", \"Do\", 21, \"541-555-1433\", 24665, \"21031\", \"Architecture\", \"NaN\", 2018, \"Burj Khalifa\", 333.0, 39.99, \"http://images.brickset.com/sets/images/21031-1.jpg\", 1], [190, \"Demetri\", \"Do\", 21, \"541-555-1433\", 25620, \"70588\", \"Ninjago\", \"Rise of the Villains\", 2018, \"Titanium Ninja Tumbler \", 342.0, 29.99, \"NaN\", 4], [191, \"Demetri\", \"Do\", 21, \"541-555-1433\", 24917, \"70314\", \"Nexo Knights\", \"NaN\", 2018, \"Beast Master's Chaos Chariot\", 314.0, 29.99, \"http://images.brickset.com/sets/images/70314-1.jpg\", 2], [192, \"Demetri\", \"Do\", 21, \"541-555-1433\", 24794, \"75135\", \"Star Wars\", \"Episode III\", 2018, \"Obi-Wan's Jedi Interceptor\", 215.0, 24.99, \"http://images.brickset.com/sets/images/75135-1.jpg\", 1], [193, \"Brittany\", \"Mclellan\", 25, \"210-555-0265\", 24662, \"21026\", \"Architecture\", \"Skylines\", 2018, \"Venice\", 212.0, 29.99, \"http://images.brickset.com/sets/images/21026-1.jpg\", 2], [194, \"Brittany\", \"Mclellan\", 25, \"210-555-0265\", 24717, \"10818\", \"Duplo\", \"NaN\", 2018, \"My First Truck\", 29.0, 19.99, \"http://images.brickset.com/sets/images/10818-1.jpg\", 1], [195, \"Joseph\", \"Ross\", 33, \"254-555-7628\", 24794, \"75135\", \"Star Wars\", \"Episode III\", 2018, \"Obi-Wan's Jedi Interceptor\", 215.0, 24.99, \"http://images.brickset.com/sets/images/75135-1.jpg\", 4], [196, \"Joseph\", \"Ross\", 33, \"254-555-7628\", 24684, \"60117\", \"City\", \"Traffic\", 2018, \"Van & Caravan\", 250.0, 19.99, \"http://images.brickset.com/sets/images/60117-1.jpg\", 2], [197, \"Paige\", \"Wagner\", 35, \"860-555-1618\", 26038, \"41577\", \"Mixels\", \"Series 9\", 2018, \"Mysto\", 64.0, 4.99, \"NaN\", 1], [198, \"Paige\", \"Wagner\", 35, \"860-555-1618\", 24727, \"41176\", \"Elves\", \"NaN\", 2018, \"The Secret Market Place\", 691.0, 59.99, \"http://images.brickset.com/sets/images/41176-1.jpg\", 3], [199, \"Paige\", \"Wagner\", 35, \"860-555-1618\", 24957, \"71309\", \"Bionicle\", \"Toa\", 2018, \"Onua - Uniter of Earth\", 143.0, 19.99, \"http://images.brickset.com/sets/images/71309-1.jpg\", 1], [200, \"Paige\", \"Wagner\", 35, \"860-555-1618\", 24798, \"75140\", \"Star Wars\", \"The Force Awakens\", 2018, \"Resistance Troop Transporter\", 646.0, 69.99, \"http://images.brickset.com/sets/images/75140-1.jpg\", 1], [201, \"Daianaira\", \"Joseph\", 26, \"714-555-9762\", 25594, \"71011\", \"Collectable Minifigures\", \"Series 15\", 2018, \"LEGO Minifigures - Series 15 - Sealed Box\", NaN, 3.99, \"http://images.brickset.com/sets/images/71011-18.jpg\", 1], [202, \"Daianaira\", \"Joseph\", 26, \"714-555-9762\", 26058, \"5005059\", \"Gear\", \"Video Games/PS3\", 2018, \"Marvel Avengers PS3 Video Game\", NaN, 49.99, \"http://images.brickset.com/sets/images/5005059-1.jpg\", 1], [203, \"Sean\", \"Cordova\", 43, \"881-555-7280\", 25004, \"41565\", \"Mixels\", \"Series 8\", 2018, \"Hydro\", 70.0, 4.99, \"http://images.brickset.com/sets/images/41565-1.jpg\", 5], [204, \"Sean\", \"Cordova\", 43, \"881-555-7280\", 25656, \"10804\", \"Duplo\", \"NaN\", 2018, \"Jungle\", 86.0, 49.99, \"http://images.brickset.com/sets/images/10804-1.jpg\", 1], [205, \"Amber\", \"Terwilliger\", 35, \"626-555-5321\", 24733, \"41118\", \"Friends\", \"NaN\", 2018, \"Heartlake Supermarket\", 313.0, 29.99, \"http://images.brickset.com/sets/images/41118-1.jpg\", 2], [206, \"Amber\", \"Terwilliger\", 35, \"626-555-5321\", 25611, \"21127\", \"Minecraft\", \"Minifig-scale\", 2018, \"The Fortress\", NaN, 109.99, \"http://images.brickset.com/sets/images/21127-1.jpg\", 1], [207, \"Katie\", \"Evering\", 37, \"882-555-7296\", 24659, \"71228\", \"Dimensions\", \"Level Pack\", 2018, \"Level Pack: Ghostbusters\", 115.0, 29.99, \"http://images.brickset.com/sets/images/71228-1.jpg\", 1], [208, \"Katie\", \"Evering\", 37, \"882-555-7296\", 26040, \"41579\", \"Mixels\", \"Series 9\", 2018, \"Camsta\", 62.0, 4.99, \"NaN\", 2], [209, \"Katie\", \"Evering\", 37, \"882-555-7296\", 25659, \"75821\", \"The Angry Birds Movie\", \"NaN\", 2018, \"Piggy Car Escape\", 74.0, 12.99, \"http://images.brickset.com/sets/images/75821-1.jpg\", 2], [210, \"Katie\", \"Evering\", 37, \"882-555-7296\", 24765, \"70332\", \"Nexo Knights\", \"Ultimate\", 2018, \"Ultimate Aaron\", 82.0, 9.99, \"http://images.brickset.com/sets/images/70332-1.jpg\", 2], [211, \"Nerea\", \"Feldman\", 28, \"423-555-9631\", 24805, \"42049\", \"Technic\", \"NaN\", 2018, \"Mine Loader\", 476.0, 49.99, \"http://images.brickset.com/sets/images/42049-1.jpg\", 2], [212, \"Nerea\", \"Feldman\", 28, \"423-555-9631\", 25921, \"75157\", \"Star Wars\", \"Rebels\", 2018, \"Captain Rex's AT-TE\", 972.0, 119.99, \"http://images.brickset.com/sets/images/75157-1.jpg\", 2], [213, \"Julianna\", \"Stephens\", 34, \"403-555-9991\", 24692, \"31044\", \"Creator\", \"NaN\", 2018, \"Park Animals\", 202.0, 14.99, \"http://images.brickset.com/sets/images/31044-1.jpg\", 1], [214, \"Julianna\", \"Stephens\", 34, \"403-555-9991\", 24797, \"75138\", \"Star Wars\", \"Episode V\", 2018, \"Hoth Attack\", 233.0, 24.99, \"http://images.brickset.com/sets/images/75138-1.jpg\", 1], [215, \"Katrina\", \"Clyman\", 32, \"604-555-3882\", 24689, \"60129\", \"City\", \"Police\", 2018, \"Police Patrol Boat\", 200.0, 49.99, \"http://images.brickset.com/sets/images/60129-1.jpg\", 1], [216, \"Katrina\", \"Clyman\", 32, \"604-555-3882\", 24663, \"21027\", \"Architecture\", \"Skylines\", 2018, \"Berlin\", 289.0, 29.99, \"http://images.brickset.com/sets/images/21027-1.jpg\", 1], [217, \"Ramon\", \"Walker-Reese\", 23, \"NaN\", 24796, \"75137\", \"Star Wars\", \"Episode V\", 2018, \"Carbon-Freezing Chamber\", 231.0, 24.99, \"http://images.brickset.com/sets/images/75137-1.jpg\", 1], [218, \"Ramon\", \"Walker-Reese\", 23, \"NaN\", 25633, \"70318\", \"Nexo Knights\", \"NaN\", 2018, \"The Glob Lobber\", 95.0, 9.99, \"http://images.brickset.com/sets/images/70318-1.jpg\", 1], [219, \"Brandon\", \"Lopez\", 21, \"606-555-3903\", 24713, \"10809\", \"Duplo\", \"NaN\", 2018, \"Police Patrol\", 15.0, 14.99, \"http://images.brickset.com/sets/images/10809-1.jpg\", 1], [220, \"Brandon\", \"Lopez\", 21, \"606-555-3903\", 24660, \"71241\", \"Dimensions\", \"Fun Pack\", 2018, \"Fun Pack: Slimer\", 33.0, 14.99, \"http://images.brickset.com/sets/images/71241-1.jpg\", 1], [221, \"Sagi\", \"Heredia\", 19, \"989-555-3671\", 24898, \"41113\", \"Friends\", \"Party\", 2018, \"Party Gift Shop\", 52.0, 4.99, \"http://images.brickset.com/sets/images/41113-1.jpg\", 3], [222, \"Sagi\", \"Heredia\", 19, \"989-555-3671\", 25640, \"70325\", \"Nexo Knights\", \"NaN\", 2018, \"Infernox captures the Queen\", 253.0, 24.99, \"http://images.brickset.com/sets/images/70325-1.jpg\", 1], [226, \"Melissa\", \"Holmberg\", 36, \"NaN\", 24791, \"75132\", \"Star Wars\", \"The Force Awakens\", 2018, \"First Order Battle Pack\", 88.0, 12.99, \"http://images.brickset.com/sets/images/75132-1.jpg\", 1], [227, \"Cody\", \"Gonzales\", 44, \"973-555-3236\", 24908, \"42052\", \"Technic\", \"NaN\", 2018, \"Heavy Lift Helicopter\", 1042.0, 139.99, \"http://images.brickset.com/sets/images/42052-1.jpg\", 1], [228, \"Cody\", \"Gonzales\", 44, \"973-555-3236\", 25922, \"75149\", \"Star Wars\", \"The Force Awakens\", 2018, \"Resistance X-wing Fighter\", 740.0, 79.99, \"http://images.brickset.com/sets/images/75149-1.jpg\", 3], [229, \"Jessie\", \"Barron\", 37, \"918-555-7552\", 24696, \"31050\", \"Creator\", \"NaN\", 2018, \"Corner Deli\", 467.0, 39.99, \"http://images.brickset.com/sets/images/31050-1.jpg\", 1], [230, \"Jessie\", \"Barron\", 37, \"918-555-7552\", 24730, \"41115\", \"Friends\", \"NaN\", 2018, \"Emma's Creative Workshop\", 108.0, 9.99, \"http://images.brickset.com/sets/images/41115-1.jpg\", 1], [231, \"Jackson\", \"Roybal\", 26, \"NaN\", 26036, \"41575\", \"Mixels\", \"Series 9\", 2018, \"Cobrax\", 64.0, 4.99, \"NaN\", 1], [232, \"Jackson\", \"Roybal\", 26, \"NaN\", 24700, \"76061\", \"DC Comics Super Heroes\", \"Mighty Micros\", 2018, \"Batman vs. Catwoman\", 79.0, 9.99, \"http://images.brickset.com/sets/images/76061-1.jpg\", 1], [233, \"Jackson\", \"Roybal\", 26, \"NaN\", 24695, \"31048\", \"Creator\", \"NaN\", 2018, \"Lakeside Lodge\", 368.0, 29.99, \"http://images.brickset.com/sets/images/31048-1.jpg\", 1], [234, \"Kelsey\", \"Schiffner\", 37, \"510-555-5847\", 24919, \"70601\", \"Ninjago\", \"Skybound\", 2018, \"Sky Shark\", 221.0, 19.99, \"http://images.brickset.com/sets/images/70601-1.jpg\", 2], [235, \"Kelsey\", \"Schiffner\", 37, \"510-555-5847\", 24756, \"70310\", \"Nexo Knights\", \"NaN\", 2018, \"Knighton Battle Blaster\", 76.0, 9.99, \"http://images.brickset.com/sets/images/70310-1.jpg\", 1], [236, \"Kalynne\", \"Kerth\", 46, \"361-555-5328\", 24976, \"60105\", \"City\", \"Fire\", 2018, \"Fire ATV\", 64.0, 6.99, \"http://images.brickset.com/sets/images/60105-1.jpg\", 1], [237, \"Kalynne\", \"Kerth\", 46, \"361-555-5328\", 25641, \"70326\", \"Nexo Knights\", \"NaN\", 2018, \"The Black Knight Mech\", 530.0, 39.99, \"NaN\", 1], [238, \"John Jay\", \"Griego\", 50, \"710-555-8921\", 24552, \"71229\", \"Dimensions\", \"Team Pack\", 2018, \"Team Pack: Joker and Harley Quinn\", 92.0, 24.99, \"http://images.brickset.com/sets/images/71229-1.jpg\", 2], [239, \"John Jay\", \"Griego\", 50, \"710-555-8921\", 24795, \"75136\", \"Star Wars\", \"Episode IV\", 2018, \"Droid Escape Pod\", 197.0, 24.99, \"http://images.brickset.com/sets/images/75136-1.jpg\", 1], [240, \"Kareena\", \"Hagar\", 23, \"678-555-3786\", 25663, \"75825\", \"The Angry Birds Movie\", \"NaN\", 2018, \"Piggy Pirate Ship\", 620.0, 59.99, \"http://images.brickset.com/sets/images/75825-1.jpg\", 1], [241, \"Celia\", \"Foley\", 42, \"NaN\", 24670, \"71305\", \"Bionicle\", \"Toa\", 2018, \"Lewa - Uniter of Jungle\", 79.0, 14.99, \"http://images.brickset.com/sets/images/71305-1.jpg\", 1], [242, \"Celia\", \"Foley\", 42, \"NaN\", 24734, \"41119\", \"Friends\", \"NaN\", 2018, \"Heartlake Cupcake Cafe\", 439.0, 39.99, \"http://images.brickset.com/sets/images/41119-1.jpg\", 1], [243, \"Celia\", \"Foley\", 42, \"NaN\", 25645, \"71314\", \"Bionicle\", \"Reboot Villains\", 2018, \"Storm Beast\", 109.0, 14.99, \"NaN\", 3], [244, \"Celia\", \"Foley\", 42, \"NaN\", 25605, \"75146\", \"Star Wars\", \"Seasonal\", 2018, \"Star Wars Advent Calendar\", 282.0, 39.99, \"http://images.brickset.com/sets/images/75146-1.jpg\", 2], [245, \"Celia\", \"Foley\", 42, \"NaN\", 25612, \"21128\", \"Minecraft\", \"Minifig-scale\", 2018, \"The Village\", NaN, 199.99, \"NaN\", 1], [246, \"Alyssa\", \"Gorrell\", 38, \"867-555-7840\", 24683, \"60116\", \"City\", \"Medical\", 2018, \"Ambulance Plane\", 183.0, 19.99, \"http://images.brickset.com/sets/images/60116-1.jpg\", 2], [247, \"Alyssa\", \"Gorrell\", 38, \"867-555-7840\", 25880, \"853548\", \"Gear\", \"Key Chains/Friends\", 2018, \"Andrea Key Chain\", NaN, 5.99, \"http://images.brickset.com/sets/images/853548-1.jpg\", 1], [248, \"Alyssa\", \"Gorrell\", 38, \"867-555-7840\", 24659, \"71228\", \"Dimensions\", \"Level Pack\", 2018, \"Level Pack: Ghostbusters\", 115.0, 29.99, \"http://images.brickset.com/sets/images/71228-1.jpg\", 1], [249, \"Tian\", \"Nelson\", 38, \"205-555-7773\", 25634, \"70319\", \"Nexo Knights\", \"NaN\", 2018, \"Macy's Thunder Mace\", 202.0, 19.99, \"http://images.brickset.com/sets/images/70319-1.jpg\", 4], [250, \"Tian\", \"Nelson\", 38, \"205-555-7773\", 25647, \"71316\", \"Bionicle\", \"Reboot Villains\", 2018, \"Umarak the Destroyer\", 191.0, 24.99, \"NaN\", 1], [251, \"Tian\", \"Nelson\", 38, \"205-555-7773\", 26060, \"5005051\", \"Gear\", \"Digital Media\", 2018, \"Friends of Heartlake City Girlz 4 Life\", NaN, 19.99, \"NaN\", 1], [252, \"Elizabeth\", \"Kendrick\", 35, \"816-555-5138\", 25630, \"70337\", \"Nexo Knights\", \"Ultimate\", 2018, \"Ultimate Lance\", 75.0, 9.99, \"NaN\", 1], [253, \"Elizabeth\", \"Kendrick\", 35, \"816-555-5138\", 24735, \"41120\", \"Friends\", \"Adventure Camp\", 2018, \"Adventure Camp Archery\", 114.0, 9.99, \"http://images.brickset.com/sets/images/41120-1.jpg\", 1], [254, \"Van\", \"Rapp\", 51, \"413-555-0987\", 25632, \"70339\", \"Nexo Knights\", \"Ultimate\", 2018, \"Ultimate Flama\", 67.0, 9.99, \"NaN\", 2], [255, \"Sofia\", \"Szloboda\", 46, \"602-555-2267\", 24906, \"41562\", \"Mixels\", \"Series 7\", 2018, \"Trumpsy\", 54.0, 4.99, \"http://images.brickset.com/sets/images/41562-1.jpg\", 2], [256, \"Sofia\", \"Szloboda\", 46, \"602-555-2267\", 24704, \"41140\", \"Disney Princess\", \"Palace Pets\", 2018, \"Daisy's Beauty Salon\", 98.0, 9.99, \"http://images.brickset.com/sets/images/41140-1.jpg\", 2], [257, \"Abigayle\", \"Hosman\", 34, \"604-555-7100\", 24710, \"10806\", \"Duplo\", \"NaN\", 2018, \"Horses\", 20.0, 14.99, \"http://images.brickset.com/sets/images/10806-1.jpg\", 1], [258, \"Abigayle\", \"Hosman\", 34, \"604-555-7100\", 25630, \"70337\", \"Nexo Knights\", \"Ultimate\", 2018, \"Ultimate Lance\", 75.0, 9.99, \"NaN\", 1], [259, \"Joseph\", \"Brown\", 50, \"801-555-2112\", 24704, \"41140\", \"Disney Princess\", \"Palace Pets\", 2018, \"Daisy's Beauty Salon\", 98.0, 9.99, \"http://images.brickset.com/sets/images/41140-1.jpg\", 1], [260, \"Joseph\", \"Brown\", 50, \"801-555-2112\", 25851, \"B0189OU0JY\", \"Gear\", \"Digital media\", 2018, \"LEGO Star Wars: Droid Tales\", NaN, 19.99, \"http://images.brickset.com/sets/images/B0189OU0JY-1.jpg\", 1], [261, \"Joseph\", \"Brown\", 50, \"801-555-2112\", 25910, \"30347\", \"City\", \"Fire\", 2018, \"Fire Car\", 53.0, 3.99, \"http://images.brickset.com/sets/images/30347-1.jpg\", 2], [262, \"Joseph\", \"Brown\", 50, \"801-555-2112\", 25657, \"76051\", \"Marvel Super Heroes\", \"Captain America: Civil War\", 2018, \"Super Hero Airport Battle\", 807.0, 79.99, \"http://images.brickset.com/sets/images/76051-1.jpg\", 2], [263, \"Austin\", \"Atencio\", 30, \"225-555-7391\", 25659, \"75821\", \"The Angry Birds Movie\", \"NaN\", 2018, \"Piggy Car Escape\", 74.0, 12.99, \"http://images.brickset.com/sets/images/75821-1.jpg\", 1], [264, \"Austin\", \"Atencio\", 30, \"225-555-7391\", 24804, \"42048\", \"Technic\", \"NaN\", 2018, \"Race Kart\", 345.0, 29.99, \"http://images.brickset.com/sets/images/42048-1.jpg\", 2], [265, \"Austin\", \"Atencio\", 30, \"225-555-7391\", 26041, \"41580\", \"Mixels\", \"Series 9\", 2018, \"Myke\", 63.0, 4.99, \"NaN\", 1], [266, \"Austin\", \"Atencio\", 30, \"225-555-7391\", 24704, \"41140\", \"Disney Princess\", \"Palace Pets\", 2018, \"Daisy's Beauty Salon\", 98.0, 9.99, \"http://images.brickset.com/sets/images/41140-1.jpg\", 1], [267, \"Brenden\", \"Trujillo\", 31, \"928-555-1076\", 25658, \"21305\", \"Ideas\", \"NaN\", 2018, \"Maze\", 769.0, 69.99, \"NaN\", 1], [268, \"Darian\", \"Smith\", 24, \"830-555-6006\", 26036, \"41575\", \"Mixels\", \"Series 9\", 2018, \"Cobrax\", 64.0, 4.99, \"NaN\", 1], [269, \"Elizabeth\", \"Roemmich\", 32, \"502-555-4381\", 24994, \"10251\", \"Advanced Models\", \"Modular Buildings\", 2018, \"Brick Bank\", 2380.0, 169.99, \"http://images.brickset.com/sets/images/10251-1.jpg\", 1], [270, \"Elizabeth\", \"Roemmich\", 32, \"502-555-4381\", 25657, \"76051\", \"Marvel Super Heroes\", \"Captain America: Civil War\", 2018, \"Super Hero Airport Battle\", 807.0, 79.99, \"http://images.brickset.com/sets/images/76051-1.jpg\", 1], [271, \"Lady\", \"Brown\", 21, \"856-555-0798\", 24723, \"41172\", \"Elves\", \"NaN\", 2018, \"The Water Dragon Adventure\", 212.0, 19.99, \"http://images.brickset.com/sets/images/41172-1.jpg\", 1], [272, \"Lady\", \"Brown\", 21, \"856-555-0798\", 24666, \"71301\", \"Bionicle\", \"Companions\", 2018, \"Ketar - Creature of Stone\", 80.0, 9.99, \"http://images.brickset.com/sets/images/71301-1.jpg\", 1], [273, \"Lady\", \"Brown\", 21, \"856-555-0798\", 24733, \"41118\", \"Friends\", \"NaN\", 2018, \"Heartlake Supermarket\", 313.0, 29.99, \"http://images.brickset.com/sets/images/41118-1.jpg\", 1], [274, \"Lady\", \"Brown\", 21, \"856-555-0798\", 24758, \"70312\", \"Nexo Knights\", \"NaN\", 2018, \"Lance's Mecha Horse\", 237.0, 19.99, \"http://images.brickset.com/sets/images/70312-1.jpg\", 1], [275, \"Sarah\", \"Wagner\", 20, \"NaN\", 24898, \"41113\", \"Friends\", \"Party\", 2018, \"Party Gift Shop\", 52.0, 4.99, \"http://images.brickset.com/sets/images/41113-1.jpg\", 1], [276, \"Sarah\", \"Wagner\", 20, \"NaN\", 24671, \"71306\", \"Bionicle\", \"Toa\", 2018, \"Pohatu - Uniter of Stone\", 90.0, 14.99, \"http://images.brickset.com/sets/images/71306-1.jpg\", 1], [277, \"Sarah\", \"Wagner\", 20, \"NaN\", 26026, \"41179\", \"Elves\", \"NaN\", 2018, \"Queen Dragon's Rescue\", 833.0, 69.99, \"NaN\", 1], [278, \"Sarah\", \"Wagner\", 20, \"NaN\", 24720, \"10830\", \"Duplo\", \"NaN\", 2018, \"Minnie's Caf\\u00e9\", 27.0, 19.99, \"http://images.brickset.com/sets/images/10830-1.jpg\", 1], [279, \"Sarah\", \"Wagner\", 20, \"NaN\", 24725, \"41174\", \"Elves\", \"NaN\", 2018, \"The Starlight Inn\", 343.0, 29.99, \"http://images.brickset.com/sets/images/41174-1.jpg\", 1], [280, \"Spencer\", \"Pasillas\", 44, \"865-555-3503\", 24625, \"41066\", \"Disney Princess\", \"Frozen\", 2018, \"Anna & Kristoff's Sleigh Adventure\", 174.0, 29.99, \"http://images.brickset.com/sets/images/41066-1.jpg\", 1], [281, \"Spencer\", \"Pasillas\", 44, \"865-555-3503\", 24716, \"10817\", \"Duplo\", \"NaN\", 2018, \"Creative Chest\", 70.0, 29.99, \"http://images.brickset.com/sets/images/10817-1.jpg\", 1], [282, \"Spencer\", \"Pasillas\", 44, \"865-555-3503\", 24891, \"10815\", \"Duplo\", \"NaN\", 2018, \"My First Rocket\", 18.0, 9.99, \"http://images.brickset.com/sets/images/10815-1.jpg\", 1], [283, \"Spencer\", \"Pasillas\", 44, \"865-555-3503\", 24756, \"70310\", \"Nexo Knights\", \"NaN\", 2018, \"Knighton Battle Blaster\", 76.0, 9.99, \"http://images.brickset.com/sets/images/70310-1.jpg\", 1], [289, \"Alejandre\", \"Baek\", 26, \"616-555-9268\", 24771, \"70603\", \"Ninjago\", \"Skybound\", 2018, \"Raid Zeppelin\", 294.0, 29.99, \"http://images.brickset.com/sets/images/70603-1.jpg\", 2], [290, \"Billlie\", \"Benson\", 50, \"940-555-2729\", 24719, \"10829\", \"Duplo\", \"Mickey Mouse Clubhouse\", 2018, \"Mickey's Workshop\", 18.0, 19.99, \"http://images.brickset.com/sets/images/10829-1.jpg\", 1], [291, \"Billlie\", \"Benson\", 50, \"940-555-2729\", 25879, \"853534\", \"Gear\", \"Key Chains/Ninjago\", 2018, \"Airjitzu Jay Key Chain\", NaN, 5.99, \"http://images.brickset.com/sets/images/853534-1.jpg\", 1], [292, \"Marisa\", \"Beck\", 37, \"580-555-3417\", 25622, \"70591\", \"Ninjago\", \"Skybound\", 2018, \"Kryptarium Prison Breakout\", 207.0, 19.99, \"http://images.brickset.com/sets/images/70591-1.jpg\", 1], [293, \"Marisa\", \"Beck\", 37, \"580-555-3417\", 25917, \"76058\", \"Marvel Super Heroes\", \"Ultimate Spider-Man\", 2018, \"Spider-Man: Ghost Rider Team-Up\", 217.0, 19.99, \"http://images.brickset.com/sets/images/76058-1.jpg\", 1], [294, \"Marisa\", \"Beck\", 37, \"580-555-3417\", 24896, \"31046\", \"Creator\", \"NaN\", 2018, \"Fast Car\", 222.0, 19.99, \"http://images.brickset.com/sets/images/31046-1.jpg\", 2], [295, \"Marisa\", \"Beck\", 37, \"580-555-3417\", 24692, \"31044\", \"Creator\", \"NaN\", 2018, \"Park Animals\", 202.0, 14.99, \"http://images.brickset.com/sets/images/31044-1.jpg\", 2], [296, \"Cartrell\", \"Park\", 49, \"816-555-5191\", 24726, \"41175\", \"Elves\", \"NaN\", 2018, \"Fire Dragon's Lava Cave\", 441.0, 39.99, \"http://images.brickset.com/sets/images/41175-1.jpg\", 1], [297, \"Cartrell\", \"Park\", 49, \"816-555-5191\", 24807, \"71235\", \"Dimensions\", \"Level Pack\", 2018, \"Level Pack: Midway Arcade\", 96.0, 29.99, \"http://images.brickset.com/sets/images/71235-1.jpg\", 1], [298, \"Krista\", \"Gaines\", 24, \"307-555-5115\", 24697, \"76044\", \"DC Comics Super Heroes\", \"Batman v Superman: Dawn of Justice\", 2018, \"Clash of the Heroes\", 92.0, 12.99, \"http://images.brickset.com/sets/images/76044-1.jpg\", 1], [299, \"Krista\", \"Gaines\", 24, \"307-555-5115\", 26024, \"41177\", \"Elves\", \"NaN\", 2018, \"The Precious Crystal Mine\", 273.0, 29.99, \"http://images.brickset.com/sets/images/41177-1.jpg\", 1], [300, \"Krista\", \"Gaines\", 24, \"307-555-5115\", 24702, \"76063\", \"DC Comics Super Heroes\", \"Mighty Micros\", 2018, \"The Flash vs. Captain Cold\", 88.0, 9.99, \"http://images.brickset.com/sets/images/76063-1.jpg\", 2], [301, \"Krista\", \"Gaines\", 24, \"307-555-5115\", 24684, \"60117\", \"City\", \"Traffic\", 2018, \"Van & Caravan\", 250.0, 19.99, \"http://images.brickset.com/sets/images/60117-1.jpg\", 2], [302, \"Krista\", \"Gaines\", 24, \"307-555-5115\", 24714, \"10814\", \"Duplo\", \"NaN\", 2018, \"Tow Truck\", 28.0, 19.99, \"http://images.brickset.com/sets/images/10814-1.jpg\", 1], [303, \"Pa\", \"Strasser\", 26, \"830-555-7071\", 24770, \"70602\", \"Ninjago\", \"Skybound\", 2018, \"Jay's Elemental Dragon\", 350.0, 29.99, \"http://images.brickset.com/sets/images/70602-1.jpg\", 1], [304, \"Pa\", \"Strasser\", 26, \"830-555-7071\", 24795, \"75136\", \"Star Wars\", \"Episode IV\", 2018, \"Droid Escape Pod\", 197.0, 24.99, \"http://images.brickset.com/sets/images/75136-1.jpg\", 2], [323, \"Makenzie\", \"Pitts\", 25, \"NaN\", 26037, \"41576\", \"Mixels\", \"Series 9\", 2018, \"Spinza\", 60.0, 4.99, \"NaN\", 2], [324, \"Ramses\", \"Ackah Yensu\", 38, \"909-555-0851\", 25879, \"853534\", \"Gear\", \"Key Chains/Ninjago\", 2018, \"Airjitzu Jay Key Chain\", NaN, 5.99, \"http://images.brickset.com/sets/images/853534-1.jpg\", 1], [325, \"Ramses\", \"Ackah Yensu\", 38, \"909-555-0851\", 24791, \"75132\", \"Star Wars\", \"The Force Awakens\", 2018, \"First Order Battle Pack\", 88.0, 12.99, \"http://images.brickset.com/sets/images/75132-1.jpg\", 1], [326, \"Ramses\", \"Ackah Yensu\", 38, \"909-555-0851\", 24916, \"60131\", \"City\", \"Police\", 2018, \"Crooks Island\", 244.0, 29.99, \"http://images.brickset.com/sets/images/60131-1.jpg\", 1], [327, \"Ramses\", \"Ackah Yensu\", 38, \"909-555-0851\", 24719, \"10829\", \"Duplo\", \"Mickey Mouse Clubhouse\", 2018, \"Mickey's Workshop\", 18.0, 19.99, \"http://images.brickset.com/sets/images/10829-1.jpg\", 2], [328, \"Ramses\", \"Ackah Yensu\", 38, \"909-555-0851\", 24796, \"75137\", \"Star Wars\", \"Episode V\", 2018, \"Carbon-Freezing Chamber\", 231.0, 24.99, \"http://images.brickset.com/sets/images/75137-1.jpg\", 2], [329, \"Christian\", \"Ortiviz Madrid\", 41, \"434-555-8176\", 24781, \"75116\", \"Star Wars\", \"Buildable Figures\", 2018, \"Finn\", 98.0, 24.99, \"http://images.brickset.com/sets/images/75116-1.jpg\", 3], [330, \"Christian\", \"Ortiviz Madrid\", 41, \"434-555-8176\", 25630, \"70337\", \"Nexo Knights\", \"Ultimate\", 2018, \"Ultimate Lance\", 75.0, 9.99, \"NaN\", 1], [331, \"Christian\", \"Ortiviz Madrid\", 41, \"434-555-8176\", 24729, \"41111\", \"Friends\", \"Party\", 2018, \"Party Train\", 109.0, 9.99, \"http://images.brickset.com/sets/images/41111-1.jpg\", 1], [332, \"Christian\", \"Ortiviz Madrid\", 41, \"434-555-8176\", 24766, \"70334\", \"Nexo Knights\", \"Ultimate\", 2018, \"Ultimate Beast Master\", 65.0, 9.99, \"http://images.brickset.com/sets/images/70334-1.jpg\", 2], [333, \"Jeffrey\", \"Cervantes\", 61, \"859-555-4454\", 24919, \"70601\", \"Ninjago\", \"Skybound\", 2018, \"Sky Shark\", 221.0, 19.99, \"http://images.brickset.com/sets/images/70601-1.jpg\", 1], [334, \"Jeffrey\", \"Cervantes\", 61, \"859-555-4454\", 24784, \"75125\", \"Star Wars\", \"MicroFighters\", 2018, \"Resistance X-wing Fighter\", 87.0, 9.99, \"http://images.brickset.com/sets/images/75125-1.jpg\", 1], [335, \"Jeffrey\", \"Cervantes\", 61, \"859-555-4454\", 24733, \"41118\", \"Friends\", \"NaN\", 2018, \"Heartlake Supermarket\", 313.0, 29.99, \"http://images.brickset.com/sets/images/41118-1.jpg\", 1], [336, \"Jeffrey\", \"Cervantes\", 61, \"859-555-4454\", 24689, \"60129\", \"City\", \"Police\", 2018, \"Police Patrol Boat\", 200.0, 49.99, \"http://images.brickset.com/sets/images/60129-1.jpg\", 1], [337, \"Meagan\", \"Burke\", 22, \"316-555-5143\", 24769, \"70600\", \"Ninjago\", \"Skybound\", 2018, \"Ninja Bike Chase\", 231.0, 19.99, \"http://images.brickset.com/sets/images/70600-1.jpg\", 1], [338, \"Meagan\", \"Burke\", 22, \"316-555-5143\", 24705, \"41141\", \"Disney Princess\", \"Palace Pets\", 2018, \"Pumpkin's Royal Carriage\", 79.0, 9.99, \"http://images.brickset.com/sets/images/41141-1.jpg\", 1], [339, \"Meagan\", \"Burke\", 22, \"316-555-5143\", 24668, \"71303\", \"Bionicle\", \"Companions\", 2018, \"Ikir - Creature of Fire\", 77.0, 9.99, \"http://images.brickset.com/sets/images/71303-1.jpg\", 1], [340, \"Meagan\", \"Burke\", 22, \"316-555-5143\", 25901, \"5004612\", \"Gear\", \"Watches/Clocks\", 2018, \"Lucy Wyldstyle Minifigure Link Watch\", NaN, 24.99, \"http://images.brickset.com/sets/images/5004612-1.jpg\", 1], [341, \"Dakotah\", \"Baca\", 30, \"979-555-1121\", 25611, \"21127\", \"Minecraft\", \"Minifig-scale\", 2018, \"The Fortress\", NaN, 109.99, \"http://images.brickset.com/sets/images/21127-1.jpg\", 1], [342, \"Dakotah\", \"Baca\", 30, \"979-555-1121\", 24689, \"60129\", \"City\", \"Police\", 2018, \"Police Patrol Boat\", 200.0, 49.99, \"http://images.brickset.com/sets/images/60129-1.jpg\", 1], [343, \"Elaine\", \"Richa\", 37, \"246-555-8048\", 24759, \"70313\", \"Nexo Knights\", \"NaN\", 2018, \"Moltor's Lava Smasher\", 187.0, 19.99, \"http://images.brickset.com/sets/images/70313-1.jpg\", 2], [344, \"Chisa\", \"Pomeroy\", 39, \"617-555-1805\", 24788, \"75129\", \"Star Wars\", \"MicroFighters\", 2018, \"Wookiee Gunship\", 84.0, 9.99, \"http://images.brickset.com/sets/images/75129-1.jpg\", 1], [345, \"Chisa\", \"Pomeroy\", 39, \"617-555-1805\", 25901, \"5004612\", \"Gear\", \"Watches/Clocks\", 2018, \"Lucy Wyldstyle Minifigure Link Watch\", NaN, 24.99, \"http://images.brickset.com/sets/images/5004612-1.jpg\", 2], [346, \"Trevor\", \"Calderon-Nava\", 47, \"778-555-6609\", 24746, \"76048\", \"Marvel Super Heroes\", \"Avengers Assemble\", 2018, \"Iron Skull Sub Attack\", 335.0, 29.99, \"http://images.brickset.com/sets/images/76048-1.jpg\", 3], [347, \"Trevor\", \"Calderon-Nava\", 47, \"778-555-6609\", 24727, \"41176\", \"Elves\", \"NaN\", 2018, \"The Secret Market Place\", 691.0, 59.99, \"http://images.brickset.com/sets/images/41176-1.jpg\", 1], [348, \"Senay\", \"Hildreth\", 30, \"607-555-8247\", 24895, \"31041\", \"Creator\", \"NaN\", 2018, \"Construction Vehicles\", 64.0, 4.99, \"http://images.brickset.com/sets/images/31041-1.jpg\", 3], [349, \"Senay\", \"Hildreth\", 30, \"607-555-8247\", 24798, \"75140\", \"Star Wars\", \"The Force Awakens\", 2018, \"Resistance Troop Transporter\", 646.0, 69.99, \"http://images.brickset.com/sets/images/75140-1.jpg\", 2], [350, \"Senay\", \"Hildreth\", 30, \"607-555-8247\", 25642, \"70327\", \"Nexo Knights\", \"NaN\", 2018, \"The King's Mech\", 375.0, 29.99, \"http://images.brickset.com/sets/images/70327-1.jpg\", 1], [351, \"Senay\", \"Hildreth\", 30, \"607-555-8247\", 24957, \"71309\", \"Bionicle\", \"Toa\", 2018, \"Onua - Uniter of Earth\", 143.0, 19.99, \"http://images.brickset.com/sets/images/71309-1.jpg\", 2], [352, \"Shadae\", \"Chidel\", 20, \"406-555-0853\", 24661, \"71233\", \"Dimensions\", \"Fun Pack\", 2018, \"Fun Pack: Stay Puft\", 65.0, 14.99, \"http://images.brickset.com/sets/images/71233-1.jpg\", 2], [353, \"Shadae\", \"Chidel\", 20, \"406-555-0853\", 24705, \"41141\", \"Disney Princess\", \"Palace Pets\", 2018, \"Pumpkin's Royal Carriage\", 79.0, 9.99, \"http://images.brickset.com/sets/images/41141-1.jpg\", 1], [354, \"Vanessa\", \"Mantey\", 42, \"NaN\", 24621, \"41557\", \"Mixels\", \"Series 7\", 2018, \"Camillot\", 64.0, 4.99, \"http://images.brickset.com/sets/images/41557-1.jpg\", 1], [355, \"Vanessa\", \"Mantey\", 42, \"NaN\", 24696, \"31050\", \"Creator\", \"NaN\", 2018, \"Corner Deli\", 467.0, 39.99, \"http://images.brickset.com/sets/images/31050-1.jpg\", 2], [356, \"Vanessa\", \"Mantey\", 42, \"NaN\", 24747, \"76049\", \"Marvel Super Heroes\", \"Avengers Assemble\", 2018, \"Avenjet Space Mission\", 523.0, 59.99, \"http://images.brickset.com/sets/images/76049-1.jpg\", 1], [357, \"Vanessa\", \"Mantey\", 42, \"NaN\", 24728, \"41110\", \"Friends\", \"Party\", 2018, \"Birthday Party\", 191.0, 19.99, \"http://images.brickset.com/sets/images/41110-1.jpg\", 1], [358, \"Mitchell\", \"Olivo\", 41, \"345-555-9053\", 26037, \"41576\", \"Mixels\", \"Series 9\", 2018, \"Spinza\", 60.0, 4.99, \"NaN\", 1], [359, \"Mitchell\", \"Olivo\", 41, \"345-555-9053\", 25918, \"76055\", \"DC Comics Super Heroes\", \"Batman\", 2018, \"Batman: Killer Croc Sewer Smash\", 759.0, 79.99, \"http://images.brickset.com/sets/images/76055-1.jpg\", 1], [360, \"Hanibal\", \"Vera\", 54, \"206-555-3697\", 24783, \"75118\", \"Star Wars\", \"Buildable Figures\", 2018, \"Captain Phasma\", 82.0, 24.99, \"http://images.brickset.com/sets/images/75118-1.jpg\", 2], [361, \"Holly\", \"Klingelsmith\", 33, \"NaN\", 25003, \"41564\", \"Mixels\", \"Series 8\", 2018, \"Aquad\", 70.0, 4.99, \"http://images.brickset.com/sets/images/41564-1.jpg\", 4], [362, \"Holly\", \"Klingelsmith\", 33, \"NaN\", 24906, \"41562\", \"Mixels\", \"Series 7\", 2018, \"Trumpsy\", 54.0, 4.99, \"http://images.brickset.com/sets/images/41562-1.jpg\", 1], [363, \"Mason\", \"Perez\", 32, \"403-555-2627\", 24718, \"10819\", \"Duplo\", \"NaN\", 2018, \"My First Garden\", 25.0, 19.99, \"http://images.brickset.com/sets/images/10819-1.jpg\", 3], [364, \"Mason\", \"Perez\", 32, \"403-555-2627\", 24903, \"41558\", \"Mixels\", \"Series 7\", 2018, \"Mixadel\", 63.0, 4.99, \"http://images.brickset.com/sets/images/41558-1.jpg\", 1], [365, \"Jose\", \"Downing\", 53, \"415-555-4797\", 25923, \"75147\", \"Star Wars\", \"Original Content\", 2018, \"Star Scavenger\", 558.0, 49.99, \"http://images.brickset.com/sets/images/75147-1.jpg\", 1], [366, \"Jose\", \"Downing\", 53, \"415-555-4797\", 24666, \"71301\", \"Bionicle\", \"Companions\", 2018, \"Ketar - Creature of Stone\", 80.0, 9.99, \"http://images.brickset.com/sets/images/71301-1.jpg\", 1], [367, \"Jordan\", \"O'Boyle\", 28, \"880-555-9695\", 24662, \"21026\", \"Architecture\", \"Skylines\", 2018, \"Venice\", 212.0, 29.99, \"http://images.brickset.com/sets/images/21026-1.jpg\", 1], [368, \"Jordan\", \"O'Boyle\", 28, \"880-555-9695\", 25635, \"70320\", \"Nexo Knights\", \"NaN\", 2018, \"Aaron Fox's Aero-Striker V2\", 301.0, 29.99, \"http://images.brickset.com/sets/images/70320-1.jpg\", 2], [369, \"Justin\", \"Hiner\", 23, \"212-555-7274\", 24797, \"75138\", \"Star Wars\", \"Episode V\", 2018, \"Hoth Attack\", 233.0, 24.99, \"http://images.brickset.com/sets/images/75138-1.jpg\", 1], [370, \"Brianna\", \"Biery\", 20, \"443-555-5650\", 25656, \"10804\", \"Duplo\", \"NaN\", 2018, \"Jungle\", 86.0, 49.99, \"http://images.brickset.com/sets/images/10804-1.jpg\", 2], [371, \"Brianna\", \"Biery\", 20, \"443-555-5650\", 24898, \"41113\", \"Friends\", \"Party\", 2018, \"Party Gift Shop\", 52.0, 4.99, \"http://images.brickset.com/sets/images/41113-1.jpg\", 1], [372, \"Sergey\", \"Lapp\", 56, \"802-555-5261\", 24709, \"10803\", \"Duplo\", \"NaN\", 2018, \"Arctic\", 40.0, 29.99, \"http://images.brickset.com/sets/images/10803-1.jpg\", 1], [373, \"Sergey\", \"Lapp\", 56, \"802-555-5261\", 25923, \"75147\", \"Star Wars\", \"Original Content\", 2018, \"Star Scavenger\", 558.0, 49.99, \"http://images.brickset.com/sets/images/75147-1.jpg\", 1], [374, \"Allison\", \"English\", 20, \"308-555-8064\", 24757, \"70311\", \"Nexo Knights\", \"NaN\", 2018, \"Chaos Catapult\", 93.0, 9.99, \"http://images.brickset.com/sets/images/70311-1.jpg\", 1], [375, \"Isabel\", \"Garrison\", 38, \"561-555-4014\", 25876, \"853555\", \"Gear\", \"Stationery\", 2018, \"Campsite Scrapbook\", NaN, 14.99, \"http://images.brickset.com/sets/images/853555-1.jpg\", 1], [376, \"Isabel\", \"Garrison\", 38, \"561-555-4014\", 24756, \"70310\", \"Nexo Knights\", \"NaN\", 2018, \"Knighton Battle Blaster\", 76.0, 9.99, \"http://images.brickset.com/sets/images/70310-1.jpg\", 1], [377, \"Isabel\", \"Garrison\", 38, \"561-555-4014\", 24725, \"41174\", \"Elves\", \"NaN\", 2018, \"The Starlight Inn\", 343.0, 29.99, \"http://images.brickset.com/sets/images/41174-1.jpg\", 1], [378, \"Rachelle\", \"Henderson\", 50, \"636-555-3458\", 25009, \"41570\", \"Mixels\", \"Series 8\", 2018, \"Skrubz\", 68.0, 4.99, \"http://images.brickset.com/sets/images/41570-1.jpg\", 1], [379, \"Eden\", \"Morgan\", 47, \"882-555-5047\", 24712, \"10808\", \"Duplo\", \"NaN\", 2018, \"Little Plane\", 13.0, 9.99, \"http://images.brickset.com/sets/images/10808-1.jpg\", 2], [380, \"Eden\", \"Morgan\", 47, \"882-555-5047\", 25612, \"21128\", \"Minecraft\", \"Minifig-scale\", 2018, \"The Village\", NaN, 199.99, \"NaN\", 1], [381, \"Eden\", \"Morgan\", 47, \"882-555-5047\", 24675, \"60106\", \"City\", \"Fire\", 2018, \"Fire Starter Set\", 90.0, 9.99, \"http://images.brickset.com/sets/images/60106-1.jpg\", 2], [382, \"Emilie\", \"Ellis\", 33, \"806-555-3409\", 25639, \"70324\", \"Nexo Knights\", \"NaN\", 2018, \"Merlok's Library 2.0\", 288.0, 24.99, \"http://images.brickset.com/sets/images/70324-1.jpg\", 1], [383, \"Emilie\", \"Ellis\", 33, \"806-555-3409\", 24760, \"70315\", \"Nexo Knights\", \"NaN\", 2018, \"Clay's Rumble Blade\", 367.0, 39.99, \"http://images.brickset.com/sets/images/70315-1.jpg\", 1], [384, \"Emilie\", \"Ellis\", 33, \"806-555-3409\", 24762, \"70330\", \"Nexo Knights\", \"Ultimate\", 2018, \"Ultimate Clay\", 72.0, 9.99, \"http://images.brickset.com/sets/images/70330-1.jpg\", 2], [385, \"Emilie\", \"Ellis\", 33, \"806-555-3409\", 25877, \"853506\", \"Gear\", \"Role-Play toys\", 2018, \"NK Shield Standard\", NaN, 12.99, \"http://images.brickset.com/sets/images/853506-1.jpg\", 1], [386, \"Seth\", \"Foley\", 24, \"NaN\", 24903, \"41558\", \"Mixels\", \"Series 7\", 2018, \"Mixadel\", 63.0, 4.99, \"http://images.brickset.com/sets/images/41558-1.jpg\", 2], [387, \"Seth\", \"Foley\", 24, \"NaN\", 24750, \"76065\", \"Marvel Super Heroes\", \"Mighty Micros\", 2018, \"Captain America vs. Red Skull\", 95.0, 9.99, \"http://images.brickset.com/sets/images/76065-1.jpg\", 1], [388, \"Seth\", \"Foley\", 24, \"NaN\", 25875, \"853570\", \"City\", \"Police\", 2018, \"Police Accessory Set\", 26.0, 14.99, \"http://images.brickset.com/sets/images/853570-1.jpg\", 2], [389, \"Seth\", \"Foley\", 24, \"NaN\", 25594, \"71011\", \"Collectable Minifigures\", \"Series 15\", 2018, \"LEGO Minifigures - Series 15 - Sealed Box\", NaN, 3.99, \"http://images.brickset.com/sets/images/71011-18.jpg\", 1], [390, \"Sara\", \"Siegwarth\", 30, \"214-555-6861\", 24898, \"41113\", \"Friends\", \"Party\", 2018, \"Party Gift Shop\", 52.0, 4.99, \"http://images.brickset.com/sets/images/41113-1.jpg\", 1], [391, \"Sara\", \"Siegwarth\", 30, \"214-555-6861\", 25876, \"853555\", \"Gear\", \"Stationery\", 2018, \"Campsite Scrapbook\", NaN, 14.99, \"http://images.brickset.com/sets/images/853555-1.jpg\", 1], [392, \"Siria\", \"Vorwald\", 28, \"716-555-2704\", 24956, \"71300\", \"Bionicle\", \"companions\", 2018, \"Uxar - Creature of Jungle\", 89.0, 9.99, \"http://images.brickset.com/sets/images/71300-1.jpg\", 1], [393, \"Siria\", \"Vorwald\", 28, \"716-555-2704\", 24691, \"31043\", \"Creator\", \"NaN\", 2018, \"Chopper Transporter\", 124.0, 9.99, \"http://images.brickset.com/sets/images/31043-1.jpg\", 1], [394, \"Blake\", \"Serota\", 44, \"952-555-3416\", 26058, \"5005059\", \"Gear\", \"Video Games/PS3\", 2018, \"Marvel Avengers PS3 Video Game\", NaN, 49.99, \"http://images.brickset.com/sets/images/5005059-1.jpg\", 1], [395, \"Blake\", \"Serota\", 44, \"952-555-3416\", 24785, \"75126\", \"Star Wars\", \"MicroFighters\", 2018, \"First Order Snowspeeder\", 91.0, 9.99, \"http://images.brickset.com/sets/images/75126-1.jpg\", 1], [396, \"Blake\", \"Serota\", 44, \"952-555-3416\", 25885, \"853572\", \"Gear\", \"Key Chains/Miscellaneous\", 2018, \"Bumble Bee Key Chain\", NaN, 5.99, \"http://images.brickset.com/sets/images/853572-1.jpg\", 1], [397, \"Lavie\", \"Faulkner\", 41, \"718-555-0575\", 25647, \"71316\", \"Bionicle\", \"Reboot Villains\", 2018, \"Umarak the Destroyer\", 191.0, 24.99, \"NaN\", 2], [398, \"Lavie\", \"Faulkner\", 41, \"718-555-0575\", 25662, \"75824\", \"The Angry Birds Movie\", \"NaN\", 2018, \"Pig City Teardown\", 386.0, 39.99, \"http://images.brickset.com/sets/images/75824-1.jpg\", 1], [399, \"Lavie\", \"Faulkner\", 41, \"718-555-0575\", 25623, \"70592\", \"Ninjago\", \"Rise of the Villains\", 2018, \"Salvage M.E.C.\", 439.0, 39.99, \"http://images.brickset.com/sets/images/70592-1.jpg\", 1], [400, \"Brianna\", \"Prisbrey\", 28, \"580-555-3606\", 24697, \"76044\", \"DC Comics Super Heroes\", \"Batman v Superman: Dawn of Justice\", 2018, \"Clash of the Heroes\", 92.0, 12.99, \"http://images.brickset.com/sets/images/76044-1.jpg\", 1], [401, \"Brianna\", \"Prisbrey\", 28, \"580-555-3606\", 25656, \"10804\", \"Duplo\", \"NaN\", 2018, \"Jungle\", 86.0, 49.99, \"http://images.brickset.com/sets/images/10804-1.jpg\", 1], [402, \"Brianna\", \"Prisbrey\", 28, \"580-555-3606\", 24551, \"71234\", \"Dimensions\", \"Fun Pack\", 2018, \"Fun Pack: Sensei Wu\", 58.0, 14.99, \"http://images.brickset.com/sets/images/71234-1.jpg\", 1], [403, \"Da Som\", \"Roskam\", 36, \"441-555-9959\", 24764, \"70333\", \"Nexo Knights\", \"Ultimate\", 2018, \"Ultimate Robin\", 75.0, 9.99, \"http://images.brickset.com/sets/images/70333-1.jpg\", 1], [404, \"Da Som\", \"Roskam\", 36, \"441-555-9959\", 25875, \"853570\", \"City\", \"Police\", 2018, \"Police Accessory Set\", 26.0, 14.99, \"http://images.brickset.com/sets/images/853570-1.jpg\", 1], [405, \"Alina\", \"Calerich\", 22, \"480-555-5897\", 24731, \"41116\", \"Friends\", \"NaN\", 2018, \"Olivia's Exploration Car\", 185.0, 14.99, \"http://images.brickset.com/sets/images/41116-1.jpg\", 1], [406, \"Alina\", \"Calerich\", 22, \"480-555-5897\", 24727, \"41176\", \"Elves\", \"NaN\", 2018, \"The Secret Market Place\", 691.0, 59.99, \"http://images.brickset.com/sets/images/41176-1.jpg\", 1], [407, \"Alina\", \"Calerich\", 22, \"480-555-5897\", 24915, \"60130\", \"City\", \"Police\", 2018, \"Prison Island\", 754.0, 89.99, \"http://images.brickset.com/sets/images/60130-1.jpg\", 1], [408, \"Alina\", \"Calerich\", 22, \"480-555-5897\", 25897, \"853551\", \"Gear\", \"Key Chains/Friends\", 2018, \"Olivia Key Chain\", NaN, 5.99, \"http://images.brickset.com/sets/images/853551-1.jpg\", 1], [409, \"Alina\", \"Calerich\", 22, \"480-555-5897\", 24673, \"71308\", \"Bionicle\", \"Toa\", 2018, \"Tahu - Uniter of Fire\", 132.0, 19.99, \"http://images.brickset.com/sets/images/71308-1.jpg\", 1], [410, \"Ursula\", \"Goyen\", 33, \"973-555-5517\", 24920, \"70605\", \"Ninjago\", \"Skybound\", 2018, \"Misfortune's Keep\", 754.0, 79.99, \"http://images.brickset.com/sets/images/70605-1.jpg\", 2], [411, \"Ursula\", \"Goyen\", 33, \"973-555-5517\", 25876, \"853555\", \"Gear\", \"Stationery\", 2018, \"Campsite Scrapbook\", NaN, 14.99, \"http://images.brickset.com/sets/images/853555-1.jpg\", 1], [412, \"Ursula\", \"Goyen\", 33, \"973-555-5517\", 25638, \"70323\", \"Nexo Knights\", \"NaN\", 2018, \"Jestro's Volcano Lair\", 1186.0, 119.99, \"http://images.brickset.com/sets/images/70323-1.jpg\", 1], [413, \"Ursula\", \"Goyen\", 33, \"973-555-5517\", 24722, \"41171\", \"Elves\", \"NaN\", 2018, \"Emily Jones & the Baby Wind Dragon\", 80.0, 9.99, \"http://images.brickset.com/sets/images/41171-1.jpg\", 1], [414, \"Ashley\", \"Bletcher\", 61, \"567-555-1984\", 24905, \"41561\", \"Mixels\", \"Series 7\", 2018, \"Tapsy\", 57.0, 4.99, \"http://images.brickset.com/sets/images/41561-1.jpg\", 2], [415, \"Ashley\", \"Bletcher\", 61, \"567-555-1984\", 24709, \"10803\", \"Duplo\", \"NaN\", 2018, \"Arctic\", 40.0, 29.99, \"http://images.brickset.com/sets/images/10803-1.jpg\", 1], [416, \"Ashley\", \"Bletcher\", 61, \"567-555-1984\", 24697, \"76044\", \"DC Comics Super Heroes\", \"Batman v Superman: Dawn of Justice\", 2018, \"Clash of the Heroes\", 92.0, 12.99, \"http://images.brickset.com/sets/images/76044-1.jpg\", 2], [417, \"Jackson\", \"Dominguez\", 40, \"NaN\", 24759, \"70313\", \"Nexo Knights\", \"NaN\", 2018, \"Moltor's Lava Smasher\", 187.0, 19.99, \"http://images.brickset.com/sets/images/70313-1.jpg\", 2], [418, \"Jackson\", \"Dominguez\", 40, \"NaN\", 25611, \"21127\", \"Minecraft\", \"Minifig-scale\", 2018, \"The Fortress\", NaN, 109.99, \"http://images.brickset.com/sets/images/21127-1.jpg\", 1], [419, \"Jackson\", \"Dominguez\", 40, \"NaN\", 25008, \"41569\", \"Mixels\", \"Series 8\", 2018, \"Surgeo\", 63.0, 4.99, \"http://images.brickset.com/sets/images/41569-1.jpg\", 2], [420, \"Jackson\", \"Dominguez\", 40, \"NaN\", 24733, \"41118\", \"Friends\", \"NaN\", 2018, \"Heartlake Supermarket\", 313.0, 29.99, \"http://images.brickset.com/sets/images/41118-1.jpg\", 1], [421, \"Jackson\", \"Dominguez\", 40, \"NaN\", 25632, \"70339\", \"Nexo Knights\", \"Ultimate\", 2018, \"Ultimate Flama\", 67.0, 9.99, \"NaN\", 3], [422, \"Jackson\", \"Dominguez\", 40, \"NaN\", 26034, \"41573\", \"Mixels\", \"Series 9\", 2018, \"Sweepz\", 61.0, 4.99, \"NaN\", 1], [423, \"Jackson\", \"Dominguez\", 40, \"NaN\", 25885, \"853572\", \"Gear\", \"Key Chains/Miscellaneous\", 2018, \"Bumble Bee Key Chain\", NaN, 5.99, \"http://images.brickset.com/sets/images/853572-1.jpg\", 2], [424, \"India\", \"Rudy\", 39, \"NaN\", 24709, \"10803\", \"Duplo\", \"NaN\", 2018, \"Arctic\", 40.0, 29.99, \"http://images.brickset.com/sets/images/10803-1.jpg\", 1], [425, \"India\", \"Rudy\", 39, \"NaN\", 25004, \"41565\", \"Mixels\", \"Series 8\", 2018, \"Hydro\", 70.0, 4.99, \"http://images.brickset.com/sets/images/41565-1.jpg\", 2], [426, \"India\", \"Rudy\", 39, \"NaN\", 24659, \"71228\", \"Dimensions\", \"Level Pack\", 2018, \"Level Pack: Ghostbusters\", 115.0, 29.99, \"http://images.brickset.com/sets/images/71228-1.jpg\", 1], [427, \"India\", \"Rudy\", 39, \"NaN\", 25636, \"70321\", \"Nexo Knights\", \"NaN\", 2018, \"General Magmar's Siege Machine of Doom\", 516.0, 49.99, \"http://images.brickset.com/sets/images/70321-1.jpg\", 2], [428, \"India\", \"Rudy\", 39, \"NaN\", 24790, \"75131\", \"Star Wars\", \"The Force Awakens\", 2018, \"Resistance Trooper Battle Pack\", 112.0, 12.99, \"http://images.brickset.com/sets/images/75131-1.jpg\", 1], [429, \"Alex\", \"Martin\", 32, \"612-555-6849\", 25664, \"75826\", \"The Angry Birds Movie\", \"NaN\", 2018, \"King Pig's Castle\", 859.0, 89.99, \"http://images.brickset.com/sets/images/75826-1.jpg\", 2], [430, \"Alex\", \"Martin\", 32, \"612-555-6849\", 25624, \"70593\", \"Ninjago\", \"Skybound\", 2018, \"The Green NRG Dragon\", 567.0, 49.99, \"http://images.brickset.com/sets/images/70593-1.jpg\", 1], [431, \"Carolane\", \"Levosky\", 37, \"732-555-0913\", 25876, \"853555\", \"Gear\", \"Stationery\", 2018, \"Campsite Scrapbook\", NaN, 14.99, \"http://images.brickset.com/sets/images/853555-1.jpg\", 4], [432, \"Carolane\", \"Levosky\", 37, \"732-555-0913\", 26041, \"41580\", \"Mixels\", \"Series 9\", 2018, \"Myke\", 63.0, 4.99, \"NaN\", 1], [433, \"Carolane\", \"Levosky\", 37, \"732-555-0913\", 24797, \"75138\", \"Star Wars\", \"Episode V\", 2018, \"Hoth Attack\", 233.0, 24.99, \"http://images.brickset.com/sets/images/75138-1.jpg\", 2], [434, \"Tristin\", \"Marcy\", 39, \"NaN\", 25010, \"41571\", \"Mixels\", \"Series 8\", 2018, \"Tuth\", 67.0, 4.99, \"http://images.brickset.com/sets/images/41571-1.jpg\", 1], [435, \"Tristin\", \"Marcy\", 39, \"NaN\", 24760, \"70315\", \"Nexo Knights\", \"NaN\", 2018, \"Clay's Rumble Blade\", 367.0, 39.99, \"http://images.brickset.com/sets/images/70315-1.jpg\", 2], [436, \"Tristin\", \"Marcy\", 39, \"NaN\", 24800, \"42044\", \"Technic\", \"NaN\", 2018, \"Display Team Jet\", 113.0, 12.99, \"http://images.brickset.com/sets/images/42044-1.jpg\", 1], [437, \"Tristin\", \"Marcy\", 39, \"NaN\", 24986, \"30446\", \"DC Comics Super Heroes\", \"Batman v Superman: Dawn of Justice\", 2018, \"The Batmobile\", 63.0, 3.99, \"http://images.brickset.com/sets/images/30446-1.jpg\", 1], [438, \"Tristin\", \"Marcy\", 39, \"NaN\", 26057, \"5005058\", \"Gear\", \"Video Games/Wii U\", 2018, \"Marvel Avengers Wii U Video Game\", NaN, 49.99, \"http://images.brickset.com/sets/images/5005058-1.jpg\", 3], [439, \"Aaron\", \"Bruner\", 18, \"914-555-5003\", 24679, \"60111\", \"City\", \"Fire\", 2018, \"Fire Utility Truck\", 368.0, 39.99, \"http://images.brickset.com/sets/images/60111-1.jpg\", 4], [440, \"Aaron\", \"Bruner\", 18, \"914-555-5003\", 24956, \"71300\", \"Bionicle\", \"companions\", 2018, \"Uxar - Creature of Jungle\", 89.0, 9.99, \"http://images.brickset.com/sets/images/71300-1.jpg\", 1], [441, \"Aaron\", \"Bruner\", 18, \"914-555-5003\", 24796, \"75137\", \"Star Wars\", \"Episode V\", 2018, \"Carbon-Freezing Chamber\", 231.0, 24.99, \"http://images.brickset.com/sets/images/75137-1.jpg\", 2], [442, \"Dominic\", \"Mayo\", 34, \"936-555-0956\", 25887, \"853543\", \"Ninjago\", \"NaN\", 2018, \"Ninjago Party Set\", 70.0, 7.99, \"http://images.brickset.com/sets/images/853543-1.jpg\", 2], [443, \"Michael\", \"Donner\", 18, \"432-555-3069\", 24660, \"71241\", \"Dimensions\", \"Fun Pack\", 2018, \"Fun Pack: Slimer\", 33.0, 14.99, \"http://images.brickset.com/sets/images/71241-1.jpg\", 2], [444, \"Michael\", \"Donner\", 18, \"432-555-3069\", 24709, \"10803\", \"Duplo\", \"NaN\", 2018, \"Arctic\", 40.0, 29.99, \"http://images.brickset.com/sets/images/10803-1.jpg\", 1], [445, \"Michael\", \"Donner\", 18, \"432-555-3069\", 26059, \"5005060\", \"Gear\", \"Video Games/3DS\", 2018, \"Marvel Avengers Nintendo 3DS Video Game\", NaN, 29.99, \"http://images.brickset.com/sets/images/5005060-1.jpg\", 1], [446, \"Elyssa\", \"Nelson\", 26, \"815-555-4287\", 24703, \"41069\", \"Disney Princess\", \"Palace Pets\", 2018, \"Treasure's Day at the Pool\", 70.0, 5.99, \"http://images.brickset.com/sets/images/41069-1.jpg\", 1], [447, \"Elyssa\", \"Nelson\", 26, \"815-555-4287\", 24736, \"41121\", \"Friends\", \"Adventure Camp\", 2018, \"Adventure Camp Rafting\", 320.0, 29.99, \"http://images.brickset.com/sets/images/41121-1.jpg\", 1], [448, \"Francisco\", \"Smith\", 34, \"229-555-6673\", 24687, \"60127\", \"City\", \"Police\", 2018, \"Prison Island Starter Set\", 92.0, 9.99, \"http://images.brickset.com/sets/images/60127-1.jpg\", 1], [449, \"Francisco\", \"Smith\", 34, \"229-555-6673\", 24802, \"42046\", \"Technic\", \"NaN\", 2018, \"Getaway Racer\", 170.0, 19.99, \"http://images.brickset.com/sets/images/42046-1.jpg\", 1], [450, \"Saige\", \"Dugger\", 27, \"406-555-4946\", 24677, \"60108\", \"City\", \"Fire\", 2018, \"Fire Response Unit\", 257.0, 39.99, \"http://images.brickset.com/sets/images/60108-1.jpg\", 1], [451, \"Saige\", \"Dugger\", 27, \"406-555-4946\", 24715, \"10816\", \"Duplo\", \"NaN\", 2018, \"My First Cars and Trucks\", 36.0, 19.99, \"http://images.brickset.com/sets/images/10816-1.jpg\", 2], [452, \"Saige\", \"Dugger\", 27, \"406-555-4946\", 24722, \"41171\", \"Elves\", \"NaN\", 2018, \"Emily Jones & the Baby Wind Dragon\", 80.0, 9.99, \"http://images.brickset.com/sets/images/41171-1.jpg\", 1], [453, \"Saige\", \"Dugger\", 27, \"406-555-4946\", 25635, \"70320\", \"Nexo Knights\", \"NaN\", 2018, \"Aaron Fox's Aero-Striker V2\", 301.0, 29.99, \"http://images.brickset.com/sets/images/70320-1.jpg\", 1], [454, \"Saige\", \"Dugger\", 27, \"406-555-4946\", 24762, \"70330\", \"Nexo Knights\", \"Ultimate\", 2018, \"Ultimate Clay\", 72.0, 9.99, \"http://images.brickset.com/sets/images/70330-1.jpg\", 1], [455, \"Taylor\", \"Bruder\", 56, \"409-555-7986\", 24718, \"10819\", \"Duplo\", \"NaN\", 2018, \"My First Garden\", 25.0, 19.99, \"http://images.brickset.com/sets/images/10819-1.jpg\", 2], [456, \"Taylor\", \"Bruder\", 56, \"409-555-7986\", 24793, \"75133\", \"Star Wars\", \"Battlefront\", 2018, \"Rebel Alliance Battle Pack\", 101.0, 12.99, \"http://images.brickset.com/sets/images/75133-1.jpg\", 2], [457, \"Keyana\", \"Lafay\", 52, \"786-555-6090\", 25594, \"71011\", \"Collectable Minifigures\", \"Series 15\", 2018, \"LEGO Minifigures - Series 15 - Sealed Box\", NaN, 3.99, \"http://images.brickset.com/sets/images/71011-18.jpg\", 1], [458, \"Keyana\", \"Lafay\", 52, \"786-555-6090\", 24663, \"21027\", \"Architecture\", \"Skylines\", 2018, \"Berlin\", 289.0, 29.99, \"http://images.brickset.com/sets/images/21027-1.jpg\", 1], [459, \"Keyana\", \"Lafay\", 52, \"786-555-6090\", 24919, \"70601\", \"Ninjago\", \"Skybound\", 2018, \"Sky Shark\", 221.0, 19.99, \"http://images.brickset.com/sets/images/70601-1.jpg\", 1], [460, \"Keyana\", \"Lafay\", 52, \"786-555-6090\", 26037, \"41576\", \"Mixels\", \"Series 9\", 2018, \"Spinza\", 60.0, 4.99, \"NaN\", 2], [461, \"Kaitlyn\", \"Engel\", 27, \"440-555-1127\", 24672, \"71307\", \"Bionicle\", \"Toa\", 2018, \"Gali - Uniter of Water\", 87.0, 14.99, \"http://images.brickset.com/sets/images/71307-1.jpg\", 3], [462, \"Kaitlyn\", \"Engel\", 27, \"440-555-1127\", 25010, \"41571\", \"Mixels\", \"Series 8\", 2018, \"Tuth\", 67.0, 4.99, \"http://images.brickset.com/sets/images/41571-1.jpg\", 2], [463, \"Kaitlyn\", \"Engel\", 27, \"440-555-1127\", 25896, \"853547\", \"Gear\", \"Key Chains/Friends\", 2018, \"Emma Key Chain\", NaN, 5.99, \"http://images.brickset.com/sets/images/853547-1.jpg\", 2], [464, \"Kaitlyn\", \"Engel\", 27, \"440-555-1127\", 25645, \"71314\", \"Bionicle\", \"Reboot Villains\", 2018, \"Storm Beast\", 109.0, 14.99, \"NaN\", 1], [465, \"Rachael\", \"Tilley\", 26, \"806-555-8594\", 24988, \"40202\", \"Seasonal\", \"Easter\", 2018, \"Easter Chick\", 111.0, 9.99, \"NaN\", 2], [466, \"Rachael\", \"Tilley\", 26, \"806-555-8594\", 26036, \"41575\", \"Mixels\", \"Series 9\", 2018, \"Cobrax\", 64.0, 4.99, \"NaN\", 1], [467, \"Keith\", \"Atwood\", 25, \"NaN\", 24804, \"42048\", \"Technic\", \"NaN\", 2018, \"Race Kart\", 345.0, 29.99, \"http://images.brickset.com/sets/images/42048-1.jpg\", 1], [468, \"John\", \"Ellis\", 24, \"815-555-9436\", 26057, \"5005058\", \"Gear\", \"Video Games/Wii U\", 2018, \"Marvel Avengers Wii U Video Game\", NaN, 49.99, \"http://images.brickset.com/sets/images/5005058-1.jpg\", 1], [469, \"Tynecia\", \"Kramer\", 20, \"778-555-0036\", 24731, \"41116\", \"Friends\", \"NaN\", 2018, \"Olivia's Exploration Car\", 185.0, 14.99, \"http://images.brickset.com/sets/images/41116-1.jpg\", 1], [470, \"Tynecia\", \"Kramer\", 20, \"778-555-0036\", 24770, \"70602\", \"Ninjago\", \"Skybound\", 2018, \"Jay's Elemental Dragon\", 350.0, 29.99, \"http://images.brickset.com/sets/images/70602-1.jpg\", 1], [471, \"Tynecia\", \"Kramer\", 20, \"778-555-0036\", 25658, \"21305\", \"Ideas\", \"NaN\", 2018, \"Maze\", 769.0, 69.99, \"NaN\", 2], [472, \"Jennifer\", \"Dana\", 26, \"956-555-9719\", 24691, \"31043\", \"Creator\", \"NaN\", 2018, \"Chopper Transporter\", 124.0, 9.99, \"http://images.brickset.com/sets/images/31043-1.jpg\", 2], [473, \"Jennifer\", \"Dana\", 26, \"956-555-9719\", 25597, \"75827\", \"Ghostbusters\", \"NaN\", 2018, \"Firehouse Headquarters \", 4634.0, 349.99, \"http://images.brickset.com/sets/images/75827-1.jpg\", 2], [474, \"Gabriel\", \"Dysart\", 49, \"858-555-0076\", 25637, \"70322\", \"Nexo Knights\", \"NaN\", 2018, \"Axl's Tower Carrier\", 670.0, 69.99, \"http://images.brickset.com/sets/images/70322-1.jpg\", 2], [475, \"Gabriel\", \"Dysart\", 49, \"858-555-0076\", 24697, \"76044\", \"DC Comics Super Heroes\", \"Batman v Superman: Dawn of Justice\", 2018, \"Clash of the Heroes\", 92.0, 12.99, \"http://images.brickset.com/sets/images/76044-1.jpg\", 3], [476, \"Dylan\", \"Mcgrath\", 18, \"229-555-1970\", 24748, \"76050\", \"Marvel Super Heroes\", \"Captain America: Civil War\", 2018, \"Crossbones' Hazard Heist\", 179.0, 19.99, \"http://images.brickset.com/sets/images/76050-1.jpg\", 1], [477, \"Dylan\", \"Mcgrath\", 18, \"229-555-1970\", 25645, \"71314\", \"Bionicle\", \"Reboot Villains\", 2018, \"Storm Beast\", 109.0, 14.99, \"NaN\", 1], [478, \"Jacob\", \"Griffith\", 29, \"928-555-3406\", 25627, \"70596\", \"Ninjago\", \"Rise of the Villains\", 2018, \"Samurai X Cave Chaos\", 1253.0, 119.99, \"NaN\", 1], [479, \"Jacob\", \"Griffith\", 29, \"928-555-3406\", 25887, \"853543\", \"Ninjago\", \"NaN\", 2018, \"Ninjago Party Set\", 70.0, 7.99, \"http://images.brickset.com/sets/images/853543-1.jpg\", 2], [480, \"Jacob\", \"Griffith\", 29, \"928-555-3406\", 24716, \"10817\", \"Duplo\", \"NaN\", 2018, \"Creative Chest\", 70.0, 29.99, \"http://images.brickset.com/sets/images/10817-1.jpg\", 1], [481, \"Dustin\", \"Tennis\", 31, \"229-555-5837\", 24687, \"60127\", \"City\", \"Police\", 2018, \"Prison Island Starter Set\", 92.0, 9.99, \"http://images.brickset.com/sets/images/60127-1.jpg\", 1], [482, \"Melanie\", \"Rollert\", 43, \"NaN\", 25668, \"75828\", \"Ghostbusters\", \"Reboot\", 2018, \"Ghostbusters Ecto-1 & Ecto-2\", NaN, 59.99, \"http://images.brickset.com/sets/images/75828-1.jpg\", 2], [483, \"Melanie\", \"Rollert\", 43, \"NaN\", 26026, \"41179\", \"Elves\", \"NaN\", 2018, \"Queen Dragon's Rescue\", 833.0, 69.99, \"NaN\", 3], [484, \"Robert\", \"Buse\", 38, \"712-555-9533\", 24794, \"75135\", \"Star Wars\", \"Episode III\", 2018, \"Obi-Wan's Jedi Interceptor\", 215.0, 24.99, \"http://images.brickset.com/sets/images/75135-1.jpg\", 2], [485, \"Robert\", \"Buse\", 38, \"712-555-9533\", 24784, \"75125\", \"Star Wars\", \"MicroFighters\", 2018, \"Resistance X-wing Fighter\", 87.0, 9.99, \"http://images.brickset.com/sets/images/75125-1.jpg\", 1], [486, \"Robert\", \"Buse\", 38, \"712-555-9533\", 24733, \"41118\", \"Friends\", \"NaN\", 2018, \"Heartlake Supermarket\", 313.0, 29.99, \"http://images.brickset.com/sets/images/41118-1.jpg\", 2], [487, \"Jessa\", \"Stites\", 51, \"NaN\", 24618, \"71238\", \"Dimensions\", \"Fun Pack\", 2018, \"Fun Pack: Cyberman\", 40.0, 14.99, \"http://images.brickset.com/sets/images/71238-1.jpg\", 1], [488, \"Jessa\", \"Stites\", 51, \"NaN\", 24762, \"70330\", \"Nexo Knights\", \"Ultimate\", 2018, \"Ultimate Clay\", 72.0, 9.99, \"http://images.brickset.com/sets/images/70330-1.jpg\", 1], [489, \"Ryan\", \"Marquez\", 25, \"281-555-0811\", 24766, \"70334\", \"Nexo Knights\", \"Ultimate\", 2018, \"Ultimate Beast Master\", 65.0, 9.99, \"http://images.brickset.com/sets/images/70334-1.jpg\", 1], [490, \"Ryan\", \"Marquez\", 25, \"281-555-0811\", 25898, \"75145\", \"Star Wars\", \"Original Content\", 2018, \"Eclipse Fighter\", 363.0, 29.99, \"http://images.brickset.com/sets/images/75145-1.jpg\", 1], [491, \"Ryan\", \"Marquez\", 25, \"281-555-0811\", 24618, \"71238\", \"Dimensions\", \"Fun Pack\", 2018, \"Fun Pack: Cyberman\", 40.0, 14.99, \"http://images.brickset.com/sets/images/71238-1.jpg\", 1], [492, \"Orion\", \"Gates\", 54, \"214-555-0029\", 24769, \"70600\", \"Ninjago\", \"Skybound\", 2018, \"Ninja Bike Chase\", 231.0, 19.99, \"http://images.brickset.com/sets/images/70600-1.jpg\", 4], [493, \"Orion\", \"Gates\", 54, \"214-555-0029\", 25623, \"70592\", \"Ninjago\", \"Rise of the Villains\", 2018, \"Salvage M.E.C.\", 439.0, 39.99, \"http://images.brickset.com/sets/images/70592-1.jpg\", 2], [494, \"Orion\", \"Gates\", 54, \"214-555-0029\", 25624, \"70593\", \"Ninjago\", \"Skybound\", 2018, \"The Green NRG Dragon\", 567.0, 49.99, \"http://images.brickset.com/sets/images/70593-1.jpg\", 1], [495, \"Jenny\", \"Tutone\", 35, \"919-867-5309\", 24729, \"41111\", \"Friends\", \"Party\", 2018, \"Party Train\", 109.0, 9.99, \"http://images.brickset.com/sets/images/41111-1.jpg\", 1], [496, \"Jenny\", \"Tutone\", 35, \"919-867-5309\", 24894, \"31040\", \"Creator\", \"NaN\", 2018, \"Desert Racers\", 65.0, 4.99, \"http://images.brickset.com/sets/images/31040-1.jpg\", 1], [497, \"Jenny\", \"Tutone\", 35, \"919-867-5309\", 24735, \"41120\", \"Friends\", \"Adventure Camp\", 2018, \"Adventure Camp Archery\", 114.0, 9.99, \"http://images.brickset.com/sets/images/41120-1.jpg\", 1], [498, \"Josie\", \"Paley\", 38, \"807-555-3971\", 25876, \"853555\", \"Gear\", \"Stationery\", 2018, \"Campsite Scrapbook\", NaN, 14.99, \"http://images.brickset.com/sets/images/853555-1.jpg\", 1], [499, \"Josie\", \"Paley\", 38, \"807-555-3971\", 24796, \"75137\", \"Star Wars\", \"Episode V\", 2018, \"Carbon-Freezing Chamber\", 231.0, 24.99, \"http://images.brickset.com/sets/images/75137-1.jpg\", 2], [500, \"Josie\", \"Paley\", 38, \"807-555-3971\", 24781, \"75116\", \"Star Wars\", \"Buildable Figures\", 2018, \"Finn\", 98.0, 24.99, \"http://images.brickset.com/sets/images/75116-1.jpg\", 3], [501, \"Josie\", \"Paley\", 38, \"807-555-3971\", 26034, \"41573\", \"Mixels\", \"Series 9\", 2018, \"Sweepz\", 61.0, 4.99, \"NaN\", 1], [502, \"Josie\", \"Paley\", 38, \"807-555-3971\", 24788, \"75129\", \"Star Wars\", \"MicroFighters\", 2018, \"Wookiee Gunship\", 84.0, 9.99, \"http://images.brickset.com/sets/images/75129-1.jpg\", 1], [503, \"Josie\", \"Paley\", 38, \"807-555-3971\", 24904, \"41559\", \"Mixels\", \"Series 7\", 2018, \"Paladum\", 64.0, 4.99, \"http://images.brickset.com/sets/images/41559-1.jpg\", 2], [504, \"Christina\", \"Williams\", 39, \"541-555-5085\", 24670, \"71305\", \"Bionicle\", \"Toa\", 2018, \"Lewa - Uniter of Jungle\", 79.0, 14.99, \"http://images.brickset.com/sets/images/71305-1.jpg\", 2], [505, \"Christina\", \"Williams\", 39, \"541-555-5085\", 24995, \"10702\", \"Classic\", \"NaN\", 2018, \"Creative Building Set\", 583.0, 29.99, \"http://images.brickset.com/sets/images/10702-1.jpg\", 1], [506, \"Christina\", \"Williams\", 39, \"541-555-5085\", 24758, \"70312\", \"Nexo Knights\", \"NaN\", 2018, \"Lance's Mecha Horse\", 237.0, 19.99, \"http://images.brickset.com/sets/images/70312-1.jpg\", 1], [507, \"Alexandra\", \"Leinhart\", 24, \"551-555-8769\", 24736, \"41121\", \"Friends\", \"Adventure Camp\", 2018, \"Adventure Camp Rafting\", 320.0, 29.99, \"http://images.brickset.com/sets/images/41121-1.jpg\", 2], [508, \"Alexandra\", \"Leinhart\", 24, \"551-555-8769\", 24762, \"70330\", \"Nexo Knights\", \"Ultimate\", 2018, \"Ultimate Clay\", 72.0, 9.99, \"http://images.brickset.com/sets/images/70330-1.jpg\", 1], [509, \"Alexandra\", \"Leinhart\", 24, \"551-555-8769\", 25635, \"70320\", \"Nexo Knights\", \"NaN\", 2018, \"Aaron Fox's Aero-Striker V2\", 301.0, 29.99, \"http://images.brickset.com/sets/images/70320-1.jpg\", 2], [510, \"Delmi\", \"Spedding\", 40, \"758-555-3948\", 24679, \"60111\", \"City\", \"Fire\", 2018, \"Fire Utility Truck\", 368.0, 39.99, \"http://images.brickset.com/sets/images/60111-1.jpg\", 2], [511, \"Delmi\", \"Spedding\", 40, \"758-555-3948\", 24735, \"41120\", \"Friends\", \"Adventure Camp\", 2018, \"Adventure Camp Archery\", 114.0, 9.99, \"http://images.brickset.com/sets/images/41120-1.jpg\", 1], [512, \"Peyton\", \"Wiebe\", 29, \"281-555-8711\", 25612, \"21128\", \"Minecraft\", \"Minifig-scale\", 2018, \"The Village\", NaN, 199.99, \"NaN\", 1], [513, \"Peyton\", \"Wiebe\", 29, \"281-555-8711\", 25922, \"75149\", \"Star Wars\", \"The Force Awakens\", 2018, \"Resistance X-wing Fighter\", 740.0, 79.99, \"http://images.brickset.com/sets/images/75149-1.jpg\", 1], [514, \"Peyton\", \"Wiebe\", 29, \"281-555-8711\", 26024, \"41177\", \"Elves\", \"NaN\", 2018, \"The Precious Crystal Mine\", 273.0, 29.99, \"http://images.brickset.com/sets/images/41177-1.jpg\", 2], [515, \"Gunnar\", \"Nickless\", 36, \"915-555-5334\", 24678, \"60109\", \"City\", \"Fire\", 2018, \"Fire Boat\", 412.0, 79.99, \"http://images.brickset.com/sets/images/60109-1.jpg\", 1], [516, \"Alex\", \"Ford\", 33, \"509-555-2531\", 24701, \"76062\", \"DC Comics Super Heroes\", \"Mighty Micros\", 2018, \"Robin vs. Bane\", 77.0, 9.99, \"http://images.brickset.com/sets/images/76062-1.jpg\", 1], [517, \"Audrey\", \"Eustace\", 26, \"NaN\", 24771, \"70603\", \"Ninjago\", \"Skybound\", 2018, \"Raid Zeppelin\", 294.0, 29.99, \"http://images.brickset.com/sets/images/70603-1.jpg\", 1], [518, \"Audrey\", \"Eustace\", 26, \"NaN\", 25877, \"853506\", \"Gear\", \"Role-Play toys\", 2018, \"NK Shield Standard\", NaN, 12.99, \"http://images.brickset.com/sets/images/853506-1.jpg\", 1], [519, \"Audrey\", \"Eustace\", 26, \"NaN\", 25641, \"70326\", \"Nexo Knights\", \"NaN\", 2018, \"The Black Knight Mech\", 530.0, 39.99, \"NaN\", 1], [520, \"Audrey\", \"Eustace\", 26, \"NaN\", 24749, \"76064\", \"Marvel Super Heroes\", \"Mighty Micros\", 2018, \"Spider-Man vs. Green Goblin\", 85.0, 9.99, \"http://images.brickset.com/sets/images/76064-1.jpg\", 1], [521, \"Jacob\", \"Scott\", 23, \"312-555-5114\", 24691, \"31043\", \"Creator\", \"NaN\", 2018, \"Chopper Transporter\", 124.0, 9.99, \"http://images.brickset.com/sets/images/31043-1.jpg\", 2], [522, \"Jacob\", \"Scott\", 23, \"312-555-5114\", 24672, \"71307\", \"Bionicle\", \"Toa\", 2018, \"Gali - Uniter of Water\", 87.0, 14.99, \"http://images.brickset.com/sets/images/71307-1.jpg\", 1], [523, \"Daniel\", \"Griffey\", 68, \"479-555-3648\", 25631, \"70338\", \"Nexo Knights\", \"Ultimate\", 2018, \"Ultimate General Magmar\", 64.0, 9.99, \"NaN\", 1], [524, \"Daniel\", \"Griffey\", 68, \"479-555-3648\", 24733, \"41118\", \"Friends\", \"NaN\", 2018, \"Heartlake Supermarket\", 313.0, 29.99, \"http://images.brickset.com/sets/images/41118-1.jpg\", 2], [525, \"Daniel\", \"Griffey\", 68, \"479-555-3648\", 24619, \"41560\", \"Mixels\", \"Series 7\", 2018, \"Jamzy\", 70.0, 4.99, \"http://images.brickset.com/sets/images/41560-1.jpg\", 4], [526, \"Amanda\", \"Hunter\", 21, \"NaN\", 25655, \"10826\", \"Duplo\", \"Miles from Tomorrowland\", 2018, \"Miles' Stellosphere Hangar\", 44.0, 34.99, \"http://images.brickset.com/sets/images/10826-1.jpg\", 2], [527, \"Amanda\", \"Hunter\", 21, \"NaN\", 24666, \"71301\", \"Bionicle\", \"Companions\", 2018, \"Ketar - Creature of Stone\", 80.0, 9.99, \"http://images.brickset.com/sets/images/71301-1.jpg\", 1], [528, \"Alissa\", \"Lamsal\", 27, \"313-555-1678\", 24762, \"70330\", \"Nexo Knights\", \"Ultimate\", 2018, \"Ultimate Clay\", 72.0, 9.99, \"http://images.brickset.com/sets/images/70330-1.jpg\", 2], [529, \"Alissa\", \"Lamsal\", 27, \"313-555-1678\", 25640, \"70325\", \"Nexo Knights\", \"NaN\", 2018, \"Infernox captures the Queen\", 253.0, 24.99, \"http://images.brickset.com/sets/images/70325-1.jpg\", 3], [530, \"Melissa\", \"Prael\", 41, \"819-555-1361\", 24919, \"70601\", \"Ninjago\", \"Skybound\", 2018, \"Sky Shark\", 221.0, 19.99, \"http://images.brickset.com/sets/images/70601-1.jpg\", 1], [531, \"Melissa\", \"Prael\", 41, \"819-555-1361\", 25006, \"41567\", \"Mixels\", \"Series 8\", 2018, \"Skulzy\", 66.0, 4.99, \"http://images.brickset.com/sets/images/41567-1.jpg\", 1], [532, \"Melissa\", \"Prael\", 41, \"819-555-1361\", 24804, \"42048\", \"Technic\", \"NaN\", 2018, \"Race Kart\", 345.0, 29.99, \"http://images.brickset.com/sets/images/42048-1.jpg\", 1], [533, \"Audrey\", \"Baker\", 40, \"386-555-0465\", 25916, \"76054\", \"DC Comics Super Heroes\", \"Batman\", 2018, \"Batman: Scarecrow Harvest of Fear\", 563.0, 59.99, \"http://images.brickset.com/sets/images/76054-1.jpg\", 1], [534, \"Audrey\", \"Baker\", 40, \"386-555-0465\", 25660, \"75822\", \"The Angry Birds Movie\", \"NaN\", 2018, \"Piggy Plane Attack\", 168.0, 19.99, \"http://images.brickset.com/sets/images/75822-1.jpg\", 1], [535, \"Audrey\", \"Baker\", 40, \"386-555-0465\", 24803, \"42047\", \"Technic\", \"NaN\", 2018, \"Police Interceptor\", 185.0, 19.99, \"http://images.brickset.com/sets/images/42047-1.jpg\", 1], [536, \"Audrey\", \"Baker\", 40, \"386-555-0465\", 24691, \"31043\", \"Creator\", \"NaN\", 2018, \"Chopper Transporter\", 124.0, 9.99, \"http://images.brickset.com/sets/images/31043-1.jpg\", 1], [537, \"Ean\", \"Kruse\", 53, \"740-555-8273\", 24918, \"70317\", \"Nexo Knights\", \"NaN\", 2018, \"The Fortrex\", 1140.0, 99.99, \"http://images.brickset.com/sets/images/70317-1.jpg\", 1], [538, \"Ean\", \"Kruse\", 53, \"740-555-8273\", 24898, \"41113\", \"Friends\", \"Party\", 2018, \"Party Gift Shop\", 52.0, 4.99, \"http://images.brickset.com/sets/images/41113-1.jpg\", 1], [539, \"Lawrence\", \"Lewis\", 21, \"602-555-4393\", 24663, \"21027\", \"Architecture\", \"Skylines\", 2018, \"Berlin\", 289.0, 29.99, \"http://images.brickset.com/sets/images/21027-1.jpg\", 2], [540, \"Shelby\", \"Siekmeier\", 56, \"210-555-8934\", 24907, \"42050\", \"Technic\", \"NaN\", 2018, \"Drag Racer\", 647.0, 79.99, \"http://images.brickset.com/sets/images/42050-1.jpg\", 1], [541, \"Shelby\", \"Siekmeier\", 56, \"210-555-8934\", 26058, \"5005059\", \"Gear\", \"Video Games/PS3\", 2018, \"Marvel Avengers PS3 Video Game\", NaN, 49.99, \"http://images.brickset.com/sets/images/5005059-1.jpg\", 1], [542, \"Megan\", \"Sweetman\", 30, \"567-555-4401\", 24957, \"71309\", \"Bionicle\", \"Toa\", 2018, \"Onua - Uniter of Earth\", 143.0, 19.99, \"http://images.brickset.com/sets/images/71309-1.jpg\", 1], [543, \"Megan\", \"Sweetman\", 30, \"567-555-4401\", 24959, \"75139\", \"Star Wars\", \"The Force Awakens\", 2018, \"Battle on Takodana\", 409.0, 59.99, \"http://images.brickset.com/sets/images/75139-1.jpg\", 2], [544, \"Megan\", \"Sweetman\", 30, \"567-555-4401\", 24986, \"30446\", \"DC Comics Super Heroes\", \"Batman v Superman: Dawn of Justice\", 2018, \"The Batmobile\", 63.0, 3.99, \"http://images.brickset.com/sets/images/30446-1.jpg\", 1], [545, \"Megan\", \"Sweetman\", 30, \"567-555-4401\", 24737, \"41135\", \"Friends\", \"Pop Star\", 2018, \"Livi's Pop Star House\", 597.0, 49.99, \"http://images.brickset.com/sets/images/41135-1.jpg\", 1], [546, \"Dylan\", \"Scott\", 53, \"813-555-0271\", 25884, \"853571\", \"Gear\", \"Key Chains/Miscellaneous\", 2018, \"Hot Dog Guy Key Chain\", NaN, 5.99, \"http://images.brickset.com/sets/images/853571-1.jpg\", 1], [547, \"Dylan\", \"Scott\", 53, \"813-555-0271\", 24683, \"60116\", \"City\", \"Medical\", 2018, \"Ambulance Plane\", 183.0, 19.99, \"http://images.brickset.com/sets/images/60116-1.jpg\", 1], [548, \"John\", \"Leavell\", 39, \"843-555-8490\", 24786, \"75127\", \"Star Wars\", \"MicroFighters\", 2018, \"The Ghost\", 104.0, 9.99, \"http://images.brickset.com/sets/images/75127-1.jpg\", 1], [549, \"John\", \"Leavell\", 39, \"843-555-8490\", 25656, \"10804\", \"Duplo\", \"NaN\", 2018, \"Jungle\", 86.0, 49.99, \"http://images.brickset.com/sets/images/10804-1.jpg\", 1], [550, \"John\", \"Leavell\", 39, \"843-555-8490\", 25624, \"70593\", \"Ninjago\", \"Skybound\", 2018, \"The Green NRG Dragon\", 567.0, 49.99, \"http://images.brickset.com/sets/images/70593-1.jpg\", 1], [551, \"John\", \"Leavell\", 39, \"843-555-8490\", 24551, \"71234\", \"Dimensions\", \"Fun Pack\", 2018, \"Fun Pack: Sensei Wu\", 58.0, 14.99, \"http://images.brickset.com/sets/images/71234-1.jpg\", 1], [552, \"Angel\", \"Payne\", 62, \"NaN\", 25605, \"75146\", \"Star Wars\", \"Seasonal\", 2018, \"Star Wars Advent Calendar\", 282.0, 39.99, \"http://images.brickset.com/sets/images/75146-1.jpg\", 4], [553, \"Angel\", \"Payne\", 62, \"NaN\", 24793, \"75133\", \"Star Wars\", \"Battlefront\", 2018, \"Rebel Alliance Battle Pack\", 101.0, 12.99, \"http://images.brickset.com/sets/images/75133-1.jpg\", 1], [554, \"Nadia\", \"Romero\", 37, \"702-555-1158\", 24672, \"71307\", \"Bionicle\", \"Toa\", 2018, \"Gali - Uniter of Water\", 87.0, 14.99, \"http://images.brickset.com/sets/images/71307-1.jpg\", 1], [555, \"Nadia\", \"Romero\", 37, \"702-555-1158\", 24986, \"30446\", \"DC Comics Super Heroes\", \"Batman v Superman: Dawn of Justice\", 2018, \"The Batmobile\", 63.0, 3.99, \"http://images.brickset.com/sets/images/30446-1.jpg\", 1], [556, \"Sarah\", \"Harris\", 44, \"787-555-1308\", 25624, \"70593\", \"Ninjago\", \"Skybound\", 2018, \"The Green NRG Dragon\", 567.0, 49.99, \"http://images.brickset.com/sets/images/70593-1.jpg\", 1], [557, \"Danait\", \"Mckinny\", 33, \"NaN\", 24919, \"70601\", \"Ninjago\", \"Skybound\", 2018, \"Sky Shark\", 221.0, 19.99, \"http://images.brickset.com/sets/images/70601-1.jpg\", 2], [558, \"Joseph\", \"Holub\", 33, \"732-555-8846\", 25877, \"853506\", \"Gear\", \"Role-Play toys\", 2018, \"NK Shield Standard\", NaN, 12.99, \"http://images.brickset.com/sets/images/853506-1.jpg\", 3], [559, \"Joseph\", \"Holub\", 33, \"732-555-8846\", 25007, \"41568\", \"Mixels\", \"Series 8\", 2018, \"Lewt\", 62.0, 4.99, \"http://images.brickset.com/sets/images/41568-1.jpg\", 1], [560, \"Joseph\", \"Holub\", 33, \"732-555-8846\", 25606, \"75148\", \"Star Wars\", \"The Force Awakens\", 2018, \"Encounter on Jakku\", 530.0, 59.99, \"http://images.brickset.com/sets/images/75148-1.jpg\", 1], [561, \"Joseph\", \"Holub\", 33, \"732-555-8846\", 24619, \"41560\", \"Mixels\", \"Series 7\", 2018, \"Jamzy\", 70.0, 4.99, \"http://images.brickset.com/sets/images/41560-1.jpg\", 1], [562, \"Joseph\", \"Holub\", 33, \"732-555-8846\", 24797, \"75138\", \"Star Wars\", \"Episode V\", 2018, \"Hoth Attack\", 233.0, 24.99, \"http://images.brickset.com/sets/images/75138-1.jpg\", 2], [563, \"Elias\", \"Garrett\", 50, \"832-555-9165\", 24915, \"60130\", \"City\", \"Police\", 2018, \"Prison Island\", 754.0, 89.99, \"http://images.brickset.com/sets/images/60130-1.jpg\", 3], [564, \"Elias\", \"Garrett\", 50, \"832-555-9165\", 25898, \"75145\", \"Star Wars\", \"Original Content\", 2018, \"Eclipse Fighter\", 363.0, 29.99, \"http://images.brickset.com/sets/images/75145-1.jpg\", 1], [565, \"Elias\", \"Garrett\", 50, \"832-555-9165\", 24725, \"41174\", \"Elves\", \"NaN\", 2018, \"The Starlight Inn\", 343.0, 29.99, \"http://images.brickset.com/sets/images/41174-1.jpg\", 1], [566, \"Isaac\", \"Younger\", 42, \"345-555-2861\", 25662, \"75824\", \"The Angry Birds Movie\", \"NaN\", 2018, \"Pig City Teardown\", 386.0, 39.99, \"http://images.brickset.com/sets/images/75824-1.jpg\", 1], [567, \"Isaac\", \"Younger\", 42, \"345-555-2861\", 24686, \"60119\", \"City\", \"Harbour\", 2018, \"Ferry\", 301.0, 29.99, \"http://images.brickset.com/sets/images/60119-1.jpg\", 1], [568, \"Dominique\", \"Kifletsion\", 28, \"647-555-6291\", 24730, \"41115\", \"Friends\", \"NaN\", 2018, \"Emma's Creative Workshop\", 108.0, 9.99, \"http://images.brickset.com/sets/images/41115-1.jpg\", 2], [569, \"Dominique\", \"Kifletsion\", 28, \"647-555-6291\", 25917, \"76058\", \"Marvel Super Heroes\", \"Ultimate Spider-Man\", 2018, \"Spider-Man: Ghost Rider Team-Up\", 217.0, 19.99, \"http://images.brickset.com/sets/images/76058-1.jpg\", 3], [570, \"Morgan\", \"Andreas\", 22, \"785-555-6517\", 25002, \"41563\", \"Mixels\", \"Series 8\", 2018, \"Splasho\", 67.0, 4.99, \"http://images.brickset.com/sets/images/41563-1.jpg\", 2], [571, \"Morgan\", \"Andreas\", 22, \"785-555-6517\", 24918, \"70317\", \"Nexo Knights\", \"NaN\", 2018, \"The Fortrex\", 1140.0, 99.99, \"http://images.brickset.com/sets/images/70317-1.jpg\", 1], [572, \"Morgan\", \"Andreas\", 22, \"785-555-6517\", 24675, \"60106\", \"City\", \"Fire\", 2018, \"Fire Starter Set\", 90.0, 9.99, \"http://images.brickset.com/sets/images/60106-1.jpg\", 1], [573, \"Kelly\", \"Wilson\", 36, \"419-555-4451\", 24694, \"31047\", \"Creator\", \"NaN\", 2018, \"Propeller Plane\", 230.0, 19.99, \"http://images.brickset.com/sets/images/31047-1.jpg\", 1], [574, \"Adam\", \"Mehdinia\", 36, \"520-555-0348\", 25883, \"853568\", \"Gear\", \"Key Chains/City\", 2018, \"Prison Guard Key Chain\", NaN, 5.99, \"http://images.brickset.com/sets/images/853568-1.jpg\", 2], [575, \"Katelynn\", \"Wardlaw\", 35, \"604-555-2142\", 24913, \"60112\", \"City\", \"Fire\", 2018, \"Fire Engine\", 376.0, 49.99, \"http://images.brickset.com/sets/images/60112-1.jpg\", 1], [576, \"Autriana\", \"Hess\", 26, \"616-555-0154\", 24681, \"60114\", \"City\", \"Harbour\", 2018, \"Race Boat\", 95.0, 9.99, \"http://images.brickset.com/sets/images/60114-1.jpg\", 1], [577, \"Autriana\", \"Hess\", 26, \"616-555-0154\", 24710, \"10806\", \"Duplo\", \"NaN\", 2018, \"Horses\", 20.0, 14.99, \"http://images.brickset.com/sets/images/10806-1.jpg\", 1], [578, \"Autriana\", \"Hess\", 26, \"616-555-0154\", 26025, \"41178\", \"Elves\", \"NaN\", 2018, \"The Dragon Sanctuary\", 585.0, 49.99, \"NaN\", 1], [579, \"Christy\", \"Larsen\", 26, \"910-555-9252\", 24903, \"41558\", \"Mixels\", \"Series 7\", 2018, \"Mixadel\", 63.0, 4.99, \"http://images.brickset.com/sets/images/41558-1.jpg\", 1], [580, \"Christy\", \"Larsen\", 26, \"910-555-9252\", 24735, \"41120\", \"Friends\", \"Adventure Camp\", 2018, \"Adventure Camp Archery\", 114.0, 9.99, \"http://images.brickset.com/sets/images/41120-1.jpg\", 1], [581, \"Tanner\", \"Dockstader\", 21, \"573-555-4274\", 24789, \"75130\", \"Star Wars\", \"MicroFighters\", 2018, \"AT-DP\", 76.0, 9.99, \"http://images.brickset.com/sets/images/75130-1.jpg\", 1], [582, \"Tanner\", \"Dockstader\", 21, \"573-555-4274\", 24690, \"31042\", \"Creator\", \"NaN\", 2018, \"Super Soarer\", 100.0, 9.99, \"http://images.brickset.com/sets/images/31042-1.jpg\", 2], [583, \"Tanner\", \"Dockstader\", 21, \"573-555-4274\", 25917, \"76058\", \"Marvel Super Heroes\", \"Ultimate Spider-Man\", 2018, \"Spider-Man: Ghost Rider Team-Up\", 217.0, 19.99, \"http://images.brickset.com/sets/images/76058-1.jpg\", 1], [584, \"Tanner\", \"Dockstader\", 21, \"573-555-4274\", 24692, \"31044\", \"Creator\", \"NaN\", 2018, \"Park Animals\", 202.0, 14.99, \"http://images.brickset.com/sets/images/31044-1.jpg\", 2], [585, \"Trenidy\", \"Embrey\", 26, \"215-555-1034\", 25884, \"853571\", \"Gear\", \"Key Chains/Miscellaneous\", 2018, \"Hot Dog Guy Key Chain\", NaN, 5.99, \"http://images.brickset.com/sets/images/853571-1.jpg\", 2], [586, \"Trenidy\", \"Embrey\", 26, \"215-555-1034\", 24779, \"75114\", \"Star Wars\", \"Buildable Figures\", 2018, \"First Order Stormtrooper\", 81.0, 19.99, \"http://images.brickset.com/sets/images/75114-1.jpg\", 1], [587, \"Trenidy\", \"Embrey\", 26, \"215-555-1034\", 24791, \"75132\", \"Star Wars\", \"The Force Awakens\", 2018, \"First Order Battle Pack\", 88.0, 12.99, \"http://images.brickset.com/sets/images/75132-1.jpg\", 3], [588, \"Sean\", \"Graves-Ayers\", 34, \"949-555-1759\", 25641, \"70326\", \"Nexo Knights\", \"NaN\", 2018, \"The Black Knight Mech\", 530.0, 39.99, \"NaN\", 2], [589, \"Sean\", \"Graves-Ayers\", 34, \"949-555-1759\", 26035, \"41574\", \"Mixels\", \"Series 9\", 2018, \"Compax\", 66.0, 4.99, \"NaN\", 1], [590, \"Paige\", \"Ice\", 21, \"NaN\", 24682, \"60115\", \"City\", \"Traffic\", 2018, \"4 x 4 Off Roader\", 176.0, 19.99, \"http://images.brickset.com/sets/images/60115-1.jpg\", 1], [591, \"Paige\", \"Ice\", 21, \"NaN\", 26038, \"41577\", \"Mixels\", \"Series 9\", 2018, \"Mysto\", 64.0, 4.99, \"NaN\", 1], [592, \"Aiden\", \"Ganley\", 19, \"786-555-5067\", 25639, \"70324\", \"Nexo Knights\", \"NaN\", 2018, \"Merlok's Library 2.0\", 288.0, 24.99, \"http://images.brickset.com/sets/images/70324-1.jpg\", 1], [593, \"Aiden\", \"Ganley\", 19, \"786-555-5067\", 24756, \"70310\", \"Nexo Knights\", \"NaN\", 2018, \"Knighton Battle Blaster\", 76.0, 9.99, \"http://images.brickset.com/sets/images/70310-1.jpg\", 2], [594, \"Dustin\", \"Vanvuuren\", 51, \"812-555-1009\", 24709, \"10803\", \"Duplo\", \"NaN\", 2018, \"Arctic\", 40.0, 29.99, \"http://images.brickset.com/sets/images/10803-1.jpg\", 2], [595, \"Dustin\", \"Vanvuuren\", 51, \"812-555-1009\", 24807, \"71235\", \"Dimensions\", \"Level Pack\", 2018, \"Level Pack: Midway Arcade\", 96.0, 29.99, \"http://images.brickset.com/sets/images/71235-1.jpg\", 1], [596, \"Dustin\", \"Vanvuuren\", 51, \"812-555-1009\", 25920, \"75151\", \"Star Wars\", \"Episode III\", 2018, \"Clone Turbo Tank\", 903.0, 109.99, \"http://images.brickset.com/sets/images/75151-1.jpg\", 1], [597, \"Payton\", \"Milsap\", 42, \"NaN\", 24669, \"71304\", \"Bionicle\", \"Companions\", 2018, \"Terak - Creature of Earth\", 74.0, 9.99, \"http://images.brickset.com/sets/images/71304-1.jpg\", 1], [598, \"Payton\", \"Milsap\", 42, \"NaN\", 24702, \"76063\", \"DC Comics Super Heroes\", \"Mighty Micros\", 2018, \"The Flash vs. Captain Cold\", 88.0, 9.99, \"http://images.brickset.com/sets/images/76063-1.jpg\", 3], [599, \"Payton\", \"Milsap\", 42, \"NaN\", 24678, \"60109\", \"City\", \"Fire\", 2018, \"Fire Boat\", 412.0, 79.99, \"http://images.brickset.com/sets/images/60109-1.jpg\", 2], [600, \"Juana\", \"Geisert\", 35, \"701-555-8100\", 25919, \"75150\", \"Star Wars\", \"Rebels\", 2018, \"Vader's TIE Advanced vs. A-wing Fighter\", 702.0, 89.99, \"http://images.brickset.com/sets/images/75150-1.jpg\", 2], [601, \"Juana\", \"Geisert\", 35, \"701-555-8100\", 25644, \"71313\", \"Bionicle\", \"Reboot Villains\", 2018, \"Lava Beast\", 114.0, 14.99, \"NaN\", 1], [602, \"Stephanie\", \"Harrison\", 42, \"NaN\", 24736, \"41121\", \"Friends\", \"Adventure Camp\", 2018, \"Adventure Camp Rafting\", 320.0, 29.99, \"http://images.brickset.com/sets/images/41121-1.jpg\", 1], [603, \"Benjamin\", \"Park\", 33, \"NaN\", 24785, \"75126\", \"Star Wars\", \"MicroFighters\", 2018, \"First Order Snowspeeder\", 91.0, 9.99, \"http://images.brickset.com/sets/images/75126-1.jpg\", 1], [604, \"Benjamin\", \"Park\", 33, \"NaN\", 25898, \"75145\", \"Star Wars\", \"Original Content\", 2018, \"Eclipse Fighter\", 363.0, 29.99, \"http://images.brickset.com/sets/images/75145-1.jpg\", 4], [605, \"Benjamin\", \"Park\", 33, \"NaN\", 25883, \"853568\", \"Gear\", \"Key Chains/City\", 2018, \"Prison Guard Key Chain\", NaN, 5.99, \"http://images.brickset.com/sets/images/853568-1.jpg\", 1], [606, \"Benjamin\", \"Park\", 33, \"NaN\", 24957, \"71309\", \"Bionicle\", \"Toa\", 2018, \"Onua - Uniter of Earth\", 143.0, 19.99, \"http://images.brickset.com/sets/images/71309-1.jpg\", 2], [607, \"Miles\", \"Hill\", 34, \"NaN\", 24758, \"70312\", \"Nexo Knights\", \"NaN\", 2018, \"Lance's Mecha Horse\", 237.0, 19.99, \"http://images.brickset.com/sets/images/70312-1.jpg\", 2], [608, \"Carolyn\", \"Quarry\", 23, \"567-555-7649\", 25627, \"70596\", \"Ninjago\", \"Rise of the Villains\", 2018, \"Samurai X Cave Chaos\", 1253.0, 119.99, \"NaN\", 2], [609, \"Carolyn\", \"Quarry\", 23, \"567-555-7649\", 24806, \"71311\", \"Bionicle\", \"Miscellaneous\", 2018, \"Kopaka and Melum - Unity set\", 171.0, 24.99, \"http://images.brickset.com/sets/images/71311-1.jpg\", 2], [610, \"Jennifer\", \"Reinert\", 29, \"402-555-0467\", 24660, \"71241\", \"Dimensions\", \"Fun Pack\", 2018, \"Fun Pack: Slimer\", 33.0, 14.99, \"http://images.brickset.com/sets/images/71241-1.jpg\", 3], [616, \"Spencer\", \"Morgan\", 28, \"784-555-3455\", 26041, \"41580\", \"Mixels\", \"Series 9\", 2018, \"Myke\", 63.0, 4.99, \"NaN\", 2], [617, \"Spencer\", \"Morgan\", 28, \"784-555-3455\", 26060, \"5005051\", \"Gear\", \"Digital Media\", 2018, \"Friends of Heartlake City Girlz 4 Life\", NaN, 19.99, \"NaN\", 1], [618, \"Amelia\", \"Hageman\", 40, \"336-555-1950\", 24702, \"76063\", \"DC Comics Super Heroes\", \"Mighty Micros\", 2018, \"The Flash vs. Captain Cold\", 88.0, 9.99, \"http://images.brickset.com/sets/images/76063-1.jpg\", 2], [619, \"Amelia\", \"Hageman\", 40, \"336-555-1950\", 24720, \"10830\", \"Duplo\", \"NaN\", 2018, \"Minnie's Caf\\u00e9\", 27.0, 19.99, \"http://images.brickset.com/sets/images/10830-1.jpg\", 4]];\n",
       "\n",
       "        // Define the dt_args\n",
       "        let dt_args = {\"layout\": {\"topStart\": \"pageLength\", \"topEnd\": \"search\", \"bottomStart\": \"info\", \"bottomEnd\": \"paging\"}, \"order\": [], \"warn_on_selected_rows_not_rendered\": true, \"filtered_row_count\": 18, \"fnInfoCallback\": function (oSettings, iStart, iEnd, iMax, iTotal, sPre) { return sPre + ' (<a href=\"https://mwouts.github.io/itables/downsampling.html\">downsampled</a> from 603x14 to 585x14 as maxBytes=64KB)'; }};\n",
       "        dt_args[\"data\"] = data;\n",
       "\n",
       "        \n",
       "        new DataTable(table, dt_args);\n",
       "    });\n",
       "</script>\n"
      ],
      "text/plain": [
       "<IPython.core.display.HTML object>"
      ]
     },
     "metadata": {},
     "output_type": "display_data"
    }
   ],
   "source": [
    "mask = DF['age'] <= 18\n",
    "DF_new1 = DF[mask]\n",
    "show(DF_new1)\n",
    "\n",
    "mask = (DF['age'] >= 19) & (DF['age'] <= 25) \n",
    "DF_new2 = DF[mask]\n",
    "show(DF_new2)\n",
    "\n",
    "mask = (DF['age'] >= 26) & (DF['age'] <= 35) \n",
    "DF_new3 = DF[mask]\n",
    "show(DF_new3)\n",
    "\n",
    "mask = (DF['age'] >= 36) & (DF['age'] <= 50) \n",
    "DF_new4 = DF[mask]\n",
    "show(DF_new4)\n",
    "\n",
    "mask = DF['age'] >= 18\n",
    "DF_new5 = DF[mask]\n",
    "show(DF_new5)"
   ]
  },
  {
   "cell_type": "markdown",
   "id": "6b6a6bf3-2e28-4ba2-8e48-8e5d910c8656",
   "metadata": {},
   "source": [
    "6.  Which age group has purchased the highest number of Lego sets.\n",
    " - Looking at the length of each data frame using this code, I can see that the fifth age group (51 and above) has purchased the most"
   ]
  },
  {
   "cell_type": "code",
   "execution_count": 94,
   "id": "36eb6c5e-4ee5-4f23-91dc-6ee5384ad1aa",
   "metadata": {},
   "outputs": [
    {
     "data": {
      "text/plain": [
       "30"
      ]
     },
     "execution_count": 94,
     "metadata": {},
     "output_type": "execute_result"
    }
   ],
   "source": [
    "len(DF_new1)"
   ]
  },
  {
   "cell_type": "code",
   "execution_count": 95,
   "id": "a2d1f098-72f4-4f66-bdcd-67102d580e3f",
   "metadata": {},
   "outputs": [
    {
     "data": {
      "text/plain": [
       "129"
      ]
     },
     "execution_count": 95,
     "metadata": {},
     "output_type": "execute_result"
    }
   ],
   "source": [
    "len(DF_new2)"
   ]
  },
  {
   "cell_type": "code",
   "execution_count": 96,
   "id": "d1a3d253-0ca8-41a8-a6f6-05a612cd83f6",
   "metadata": {},
   "outputs": [
    {
     "data": {
      "text/plain": [
       "183"
      ]
     },
     "execution_count": 96,
     "metadata": {},
     "output_type": "execute_result"
    }
   ],
   "source": [
    "len(DF_new3)"
   ]
  },
  {
   "cell_type": "code",
   "execution_count": 97,
   "id": "d5d06d38-bca3-4803-8372-bddba7243a40",
   "metadata": {},
   "outputs": [
    {
     "data": {
      "text/plain": [
       "216"
      ]
     },
     "execution_count": 97,
     "metadata": {},
     "output_type": "execute_result"
    }
   ],
   "source": [
    "len(DF_new4)"
   ]
  },
  {
   "cell_type": "code",
   "execution_count": 98,
   "id": "64b366c0-a4bd-40a8-8d26-ea762f296cdb",
   "metadata": {},
   "outputs": [
    {
     "data": {
      "text/plain": [
       "603"
      ]
     },
     "execution_count": 98,
     "metadata": {},
     "output_type": "execute_result"
    }
   ],
   "source": [
    "len(DF_new5)"
   ]
  },
  {
   "cell_type": "markdown",
   "id": "392771c7-4f4e-4523-82cf-e33ea78b8b6d",
   "metadata": {},
   "source": [
    "7.  Which age group has spent the most money on Legos?\n",
    "   - As you can see, in this data se it looks like yet again the fifth data set has spent the most amount of money on legos"
   ]
  },
  {
   "cell_type": "code",
   "execution_count": 101,
   "id": "463a9e0d-19f5-4887-9cd2-771eca9e33d6",
   "metadata": {},
   "outputs": [
    {
     "data": {
      "text/plain": [
       "641.7"
      ]
     },
     "execution_count": 101,
     "metadata": {},
     "output_type": "execute_result"
    }
   ],
   "source": [
    "DF_new1['us_price'].sum()"
   ]
  },
  {
   "cell_type": "code",
   "execution_count": 102,
   "id": "cdf81995-4c2b-4d55-a8f6-a30993045197",
   "metadata": {},
   "outputs": [
    {
     "data": {
      "text/plain": [
       "3629.710000000001"
      ]
     },
     "execution_count": 102,
     "metadata": {},
     "output_type": "execute_result"
    }
   ],
   "source": [
    "DF_new2['us_price'].sum()"
   ]
  },
  {
   "cell_type": "code",
   "execution_count": 103,
   "id": "0f4b28b1-2647-4ebe-a93a-eb953913a641",
   "metadata": {},
   "outputs": [
    {
     "data": {
      "text/plain": [
       "5260.169999999998"
      ]
     },
     "execution_count": 103,
     "metadata": {},
     "output_type": "execute_result"
    }
   ],
   "source": [
    "DF_new3['us_price'].sum()"
   ]
  },
  {
   "cell_type": "code",
   "execution_count": 104,
   "id": "d55dff29-db47-4a2b-b6d2-00230f4c6c88",
   "metadata": {},
   "outputs": [
    {
     "data": {
      "text/plain": [
       "6641.84"
      ]
     },
     "execution_count": 104,
     "metadata": {},
     "output_type": "execute_result"
    }
   ],
   "source": [
    "DF_new4['us_price'].sum()"
   ]
  },
  {
   "cell_type": "code",
   "execution_count": 105,
   "id": "f1c96ac8-bcc5-43c7-9ce1-3a0fcc781455",
   "metadata": {},
   "outputs": [
    {
     "data": {
      "text/plain": [
       "17583.97"
      ]
     },
     "execution_count": 105,
     "metadata": {},
     "output_type": "execute_result"
    }
   ],
   "source": [
    "DF_new5['us_price'].sum()"
   ]
  },
  {
   "cell_type": "markdown",
   "id": "ef9e6ecb-0e78-4b47-93a1-0b124315e20a",
   "metadata": {},
   "source": [
    "8.  Which Lego theme has made the most money for Lego? HINT: Simpler than #5, just use a groupby()\n",
    " - It looks like out of all the themes, Star Wars made the most money at 2842.25"
   ]
  },
  {
   "cell_type": "code",
   "execution_count": 112,
   "id": "b3caedf8-5a03-4e89-96d3-8e4f3952146a",
   "metadata": {},
   "outputs": [
    {
     "data": {
      "text/plain": [
       "theme\n",
       "Star Wars                  2842.25\n",
       "Ninjago                    1649.62\n",
       "Nexo Knights               1569.36\n",
       "City                       1476.55\n",
       "Minecraft                  1439.91\n",
       "Gear                       1056.45\n",
       "Friends                     924.58\n",
       "Duplo                       854.65\n",
       "Elves                       809.78\n",
       "Advanced Models             679.96\n",
       "Bionicle                    549.66\n",
       "Marvel Super Heroes         539.81\n",
       "Technic                     492.90\n",
       "Ghostbusters                469.97\n",
       "DC Comics Super Heroes      450.78\n",
       "Creator                     409.75\n",
       "Architecture                389.90\n",
       "The Angry Birds Movie       375.89\n",
       "Dimensions                  369.82\n",
       "Mixels                      274.45\n",
       "Disney Princess             167.85\n",
       "Ideas                       139.98\n",
       "Classic                      29.99\n",
       "Seasonal                     29.97\n",
       "Collectable Minifigures      11.97\n",
       "Name: us_price, dtype: float64"
      ]
     },
     "execution_count": 112,
     "metadata": {},
     "output_type": "execute_result"
    }
   ],
   "source": [
    "DF.groupby('theme')['us_price'].sum().sort_values(ascending=False)"
   ]
  },
  {
   "cell_type": "markdown",
   "id": "14e3096a-eaa7-4da5-a3c4-4075cb6954a6",
   "metadata": {},
   "source": [
    "9.  Which area code has spent the most money on Legos? In the US the area code is the first 3 digits of a phone number. HINT: You will need to split the phone number and get just the first three. You decided what to do about reporting the NaNs.\n",
    "   - I decided to just remove the NaNs. With that in mid, the top three area codes were 973, 281 and 956"
   ]
  },
  {
   "cell_type": "code",
   "execution_count": 130,
   "id": "4cf43b65-8dff-4020-9e28-c2a7b18f7d3c",
   "metadata": {},
   "outputs": [
    {
     "data": {
      "text/html": [
       "<table id=\"itables_b27b5b4b_6ca9_4cec_ae20_7dc555237958\" class=\"display nowrap\" data-quarto-disable-processing=\"true\" style=\"table-layout:auto;width:auto;margin:auto;caption-side:bottom\">\n",
       "<thead>\n",
       "    <tr style=\"text-align: right;\">\n",
       "      <th></th>\n",
       "      <th>us_price</th>\n",
       "    </tr>\n",
       "    <tr>\n",
       "      <th>area_codes</th>\n",
       "      <th></th>\n",
       "    </tr>\n",
       "  </thead><tbody><tr>\n",
       "<td style=\"vertical-align:middle; text-align:left\">\n",
       "<div style=\"float:left; margin-right: 10px;\">\n",
       "<a href=https://mwouts.github.io/itables/><svg class=\"main-svg\" xmlns=\"http://www.w3.org/2000/svg\" xmlns:xlink=\"http://www.w3.org/1999/xlink\"\n",
       "width=\"64\" viewBox=\"0 0 500 400\" style=\"font-family: 'Droid Sans', sans-serif;\">\n",
       "    <g style=\"fill:#d9d7fc\">\n",
       "        <path d=\"M100,400H500V357H100Z\" />\n",
       "        <path d=\"M100,300H400V257H100Z\" />\n",
       "        <path d=\"M0,200H400V157H0Z\" />\n",
       "        <path d=\"M100,100H500V57H100Z\" />\n",
       "        <path d=\"M100,350H500V307H100Z\" />\n",
       "        <path d=\"M100,250H400V207H100Z\" />\n",
       "        <path d=\"M0,150H400V107H0Z\" />\n",
       "        <path d=\"M100,50H500V7H100Z\" />\n",
       "    </g>\n",
       "    <g style=\"fill:#1a1366;stroke:#1a1366;\">\n",
       "   <rect x=\"100\" y=\"7\" width=\"400\" height=\"43\">\n",
       "    <animate\n",
       "      attributeName=\"width\"\n",
       "      values=\"0;400;0\"\n",
       "      dur=\"5s\"\n",
       "      repeatCount=\"indefinite\" />\n",
       "      <animate\n",
       "      attributeName=\"x\"\n",
       "      values=\"100;100;500\"\n",
       "      dur=\"5s\"\n",
       "      repeatCount=\"indefinite\" />\n",
       "  </rect>\n",
       "        <rect x=\"0\" y=\"107\" width=\"400\" height=\"43\">\n",
       "    <animate\n",
       "      attributeName=\"width\"\n",
       "      values=\"0;400;0\"\n",
       "      dur=\"3.5s\"\n",
       "      repeatCount=\"indefinite\" />\n",
       "    <animate\n",
       "      attributeName=\"x\"\n",
       "      values=\"0;0;400\"\n",
       "      dur=\"3.5s\"\n",
       "      repeatCount=\"indefinite\" />\n",
       "  </rect>\n",
       "        <rect x=\"100\" y=\"207\" width=\"300\" height=\"43\">\n",
       "    <animate\n",
       "      attributeName=\"width\"\n",
       "      values=\"0;300;0\"\n",
       "      dur=\"3s\"\n",
       "      repeatCount=\"indefinite\" />\n",
       "    <animate\n",
       "      attributeName=\"x\"\n",
       "      values=\"100;100;400\"\n",
       "      dur=\"3s\"\n",
       "      repeatCount=\"indefinite\" />\n",
       "  </rect>\n",
       "        <rect x=\"100\" y=\"307\" width=\"400\" height=\"43\">\n",
       "    <animate\n",
       "      attributeName=\"width\"\n",
       "      values=\"0;400;0\"\n",
       "      dur=\"4s\"\n",
       "      repeatCount=\"indefinite\" />\n",
       "      <animate\n",
       "      attributeName=\"x\"\n",
       "      values=\"100;100;500\"\n",
       "      dur=\"4s\"\n",
       "      repeatCount=\"indefinite\" />\n",
       "  </rect>\n",
       "        <g style=\"fill:transparent;stroke-width:8; stroke-linejoin:round\" rx=\"5\">\n",
       "            <g transform=\"translate(45 50) rotate(-45)\">\n",
       "                <circle r=\"33\" cx=\"0\" cy=\"0\" />\n",
       "                <rect x=\"-8\" y=\"32\" width=\"16\" height=\"30\" />\n",
       "            </g>\n",
       "\n",
       "            <g transform=\"translate(450 152)\">\n",
       "                <polyline points=\"-15,-20 -35,-20 -35,40 25,40 25,20\" />\n",
       "                <rect x=\"-15\" y=\"-40\" width=\"60\" height=\"60\" />\n",
       "            </g>\n",
       "\n",
       "            <g transform=\"translate(50 352)\">\n",
       "                <polygon points=\"-35,-5 0,-40 35,-5\" />\n",
       "                <polygon points=\"-35,10 0,45 35,10\" />\n",
       "            </g>\n",
       "\n",
       "            <g transform=\"translate(75 250)\">\n",
       "                <polyline points=\"-30,30 -60,0 -30,-30\" />\n",
       "                <polyline points=\"0,30 -30,0 0,-30\" />\n",
       "            </g>\n",
       "\n",
       "            <g transform=\"translate(425 250) rotate(180)\">\n",
       "                <polyline points=\"-30,30 -60,0 -30,-30\" />\n",
       "                <polyline points=\"0,30 -30,0 0,-30\" />\n",
       "            </g>\n",
       "        </g>\n",
       "    </g>\n",
       "</svg>\n",
       "</a>\n",
       "</div>\n",
       "<div>\n",
       "Loading ITables v2.2.2 from the internet...\n",
       "(need <a href=https://mwouts.github.io/itables/troubleshooting.html>help</a>?)</td>\n",
       "</div>\n",
       "</tr></tbody>\n",
       "\n",
       "</table>\n",
       "<link href=\"https://www.unpkg.com/dt_for_itables@2.0.13/dt_bundle.css\" rel=\"stylesheet\">\n",
       "<script type=\"module\">\n",
       "    import {DataTable, jQuery as $} from 'https://www.unpkg.com/dt_for_itables@2.0.13/dt_bundle.js';\n",
       "\n",
       "    document.querySelectorAll(\"#itables_b27b5b4b_6ca9_4cec_ae20_7dc555237958:not(.dataTable)\").forEach(table => {\n",
       "        if (!(table instanceof HTMLTableElement))\n",
       "            return;\n",
       "\n",
       "        // Define the table data\n",
       "        const data = [[\"973\", 444.94], [\"281\", 434.91], [\"956\", 359.98], [\"209\", 329.95], [\"567\", 326.91], [\"339\", 312.93], [\"340\", 294.97], [\"284\", 289.98], [\"882\", 277.93], [\"418\", 271.93], [\"316\", 257.92], [\"502\", 249.98], [\"318\", 239.95], [\"928\", 227.96], [\"859\", 225.92], [\"819\", 214.95], [\"441\", 214.91], [\"774\", 213.97], [\"778\", 204.95], [\"480\", 190.95], [\"541\", 189.93], [\"210\", 179.96], [\"423\", 169.98], [\"812\", 169.97], [\"361\", 161.95], [\"979\", 159.98], [\"860\", 154.96], [\"345\", 154.96], [\"604\", 154.95], [\"580\", 152.93], [\"732\", 152.92], [\"832\", 149.97], [\"612\", 139.98], [\"626\", 139.98], [\"205\", 139.93], [\"406\", 134.93], [\"868\", 129.97], [\"214\", 129.95], [\"508\", 128.95], [\"843\", 124.96], [\"607\", 124.96], [\"616\", 124.93], [\"907\", 119.98], [\"784\", 119.94], [\"712\", 119.91], [\"801\", 118.95], [\"785\", 114.97], [\"251\", 114.95], [\"317\", 112.96], [\"386\", 109.96], [\"878\", 105.96], [\"701\", 104.98], [\"740\", 104.98], [\"902\", 104.98], [\"718\", 104.97], [\"806\", 102.94], [\"469\", 99.98], [\"450\", 94.97], [\"909\", 93.95], [\"786\", 93.94], [\"869\", 92.98], [\"307\", 92.95], [\"724\", 90.95], [\"816\", 89.96], [\"813\", 85.97], [\"815\", 85.97], [\"705\", 84.97], [\"754\", 84.95], [\"807\", 84.94], [\"858\", 82.98], [\"915\", 79.99], [\"802\", 79.98], [\"415\", 79.97], [\"865\", 79.96], [\"856\", 79.96], [\"710\", 76.95], [\"432\", 74.97], [\"862\", 74.97], [\"914\", 74.97], [\"229\", 74.95], [\"908\", 69.97], [\"551\", 69.97], [\"516\", 69.97], [\"952\", 65.97], [\"606\", 65.96], [\"913\", 64.97], [\"403\", 64.96], [\"678\", 59.99], [\"517\", 59.98], [\"880\", 59.98], [\"830\", 59.97], [\"225\", 57.96], [\"867\", 55.97], [\"443\", 54.98], [\"881\", 54.98], [\"250\", 54.97], [\"305\", 54.97], [\"561\", 54.97], [\"613\", 54.97], [\"970\", 54.97], [\"434\", 54.96], [\"573\", 54.96], [\"714\", 53.98], [\"760\", 49.99], [\"917\", 49.99], [\"787\", 49.99], [\"758\", 49.98], [\"918\", 49.98], [\"321\", 49.98], [\"603\", 49.96], [\"336\", 47.95], [\"949\", 44.98], [\"254\", 44.98], [\"479\", 44.97], [\"602\", 44.97], [\"440\", 40.96], [\"563\", 39.99], [\"246\", 39.98], [\"330\", 39.98], [\"215\", 38.97], [\"936\", 37.96], [\"617\", 34.98], [\"289\", 34.98], [\"313\", 34.98], [\"409\", 32.98], [\"605\", 32.97], [\"989\", 29.98], [\"647\", 29.98], [\"510\", 29.98], [\"662\", 28.98], [\"671\", 25.98], [\"940\", 25.98], [\"212\", 24.99], [\"206\", 24.99], [\"805\", 24.98], [\"312\", 24.98], [\"810\", 24.98], [\"919\", 24.97], [\"507\", 22.98], [\"734\", 22.98], [\"319\", 22.98], [\"419\", 19.99], [\"716\", 19.98], [\"702\", 18.98], [\"519\", 18.97], [\"402\", 14.99], [\"910\", 14.98], [\"980\", 10.98], [\"947\", 9.99], [\"308\", 9.99], [\"413\", 9.99], [\"216\", 9.99], [\"509\", 9.99], [\"325\", 9.98], [\"520\", 5.99], [\"636\", 4.99]];\n",
       "\n",
       "        // Define the dt_args\n",
       "        let dt_args = {\"layout\": {\"topStart\": \"pageLength\", \"topEnd\": \"search\", \"bottomStart\": \"info\", \"bottomEnd\": \"paging\"}, \"order\": [], \"warn_on_selected_rows_not_rendered\": true};\n",
       "        dt_args[\"data\"] = data;\n",
       "\n",
       "        \n",
       "        new DataTable(table, dt_args);\n",
       "    });\n",
       "</script>\n"
      ],
      "text/plain": [
       "<IPython.core.display.HTML object>"
      ]
     },
     "metadata": {},
     "output_type": "display_data"
    }
   ],
   "source": [
    "DF['area_codes'] = DF['phone_number'].dropna().apply(lambda x: x.split('-')[0])\n",
    "show(DF.groupby('area_codes')['us_price'].sum().sort_values(ascending=False))"
   ]
  },
  {
   "cell_type": "markdown",
   "id": "13001974-5ad4-4a28-9b13-5e0faccdf458",
   "metadata": {},
   "source": [
    "10.  Come up with a question you want to answer using these data, and write it down. Then, create a data visualization that answers the question, and explain how your visualization answers the question."
   ]
  },
  {
   "cell_type": "markdown",
   "id": "6a13be24-39a1-49db-89fe-286da70a569c",
   "metadata": {},
   "source": [
    "My question is: how do the number of pieces that are in the lego sets people buy change depending on their age?"
   ]
  },
  {
   "cell_type": "code",
   "execution_count": 152,
   "id": "9f63293c-ffc0-4a18-b683-01e28c4b1c16",
   "metadata": {},
   "outputs": [
    {
     "data": {
      "application/vnd.plotly.v1+json": {
       "config": {
        "plotlyServerURL": "https://plot.ly"
       },
       "data": [
        {
         "hovertemplate": "age=%{x}<br>pieces=%{y}<extra></extra>",
         "legendgroup": "",
         "marker": {
          "color": "#636efa",
          "symbol": "circle"
         },
         "mode": "markers",
         "name": "",
         "orientation": "v",
         "showlegend": false,
         "type": "scatter",
         "x": [
          24,
          35,
          35,
          41,
          41,
          41,
          19,
          19,
          37,
          37,
          19,
          19,
          20,
          36,
          36,
          36,
          40,
          40,
          44,
          44,
          39,
          46,
          46,
          45,
          45,
          45,
          45,
          31,
          31,
          31,
          31,
          55,
          55,
          55,
          44,
          43,
          43,
          43,
          51,
          51,
          20,
          20,
          20,
          37,
          17,
          17,
          48,
          48,
          48,
          27,
          27,
          40,
          24,
          50,
          22,
          22,
          22,
          22,
          22,
          32,
          32,
          25,
          25,
          25,
          34,
          34,
          34,
          21,
          33,
          51,
          18,
          18,
          18,
          18,
          18,
          30,
          30,
          30,
          30,
          25,
          19,
          43,
          43,
          43,
          63,
          63,
          63,
          20,
          20,
          20,
          38,
          38,
          21,
          21,
          21,
          48,
          48,
          36,
          36,
          36,
          23,
          23,
          23,
          23,
          29,
          38,
          38,
          38,
          38,
          38,
          55,
          55,
          23,
          23,
          23,
          57,
          57,
          57,
          27,
          27,
          39,
          39,
          39,
          39,
          39,
          39,
          19,
          36,
          23,
          23,
          23,
          33,
          33,
          33,
          61,
          62,
          27,
          27,
          26,
          26,
          26,
          47,
          47,
          47,
          41,
          24,
          24,
          24,
          24,
          22,
          22,
          56,
          56,
          33,
          33,
          33,
          33,
          33,
          31,
          31,
          31,
          31,
          31,
          31,
          27,
          27,
          27,
          27,
          27,
          30,
          30,
          45,
          45,
          45,
          45,
          41,
          41,
          28,
          28,
          24,
          53,
          53,
          53,
          24,
          30,
          30,
          30,
          17,
          17,
          21,
          21,
          21,
          21,
          25,
          25,
          33,
          33,
          35,
          35,
          35,
          35,
          26,
          26,
          43,
          43,
          35,
          35,
          37,
          37,
          37,
          37,
          28,
          28,
          34,
          34,
          32,
          32,
          23,
          23,
          21,
          21,
          19,
          19,
          17,
          17,
          17,
          36,
          44,
          44,
          37,
          37,
          26,
          26,
          26,
          37,
          37,
          46,
          46,
          50,
          50,
          23,
          42,
          42,
          42,
          42,
          42,
          38,
          38,
          38,
          38,
          38,
          38,
          35,
          35,
          51,
          46,
          46,
          34,
          34,
          50,
          50,
          50,
          50,
          30,
          30,
          30,
          30,
          31,
          24,
          32,
          32,
          21,
          21,
          21,
          21,
          20,
          20,
          20,
          20,
          20,
          44,
          44,
          44,
          44,
          16,
          16,
          16,
          16,
          16,
          26,
          50,
          50,
          37,
          37,
          37,
          37,
          49,
          49,
          24,
          24,
          24,
          24,
          24,
          26,
          26,
          43,
          43,
          43,
          35,
          23,
          23,
          23,
          23,
          23,
          59,
          59,
          59,
          41,
          41,
          36,
          36,
          37,
          25,
          25,
          38,
          38,
          38,
          38,
          38,
          41,
          41,
          41,
          41,
          61,
          61,
          61,
          61,
          22,
          22,
          22,
          22,
          30,
          30,
          37,
          39,
          39,
          47,
          47,
          30,
          30,
          30,
          30,
          20,
          20,
          42,
          42,
          42,
          42,
          41,
          41,
          54,
          33,
          33,
          32,
          32,
          53,
          53,
          28,
          28,
          23,
          20,
          20,
          56,
          56,
          20,
          38,
          38,
          38,
          50,
          47,
          47,
          47,
          33,
          33,
          33,
          33,
          24,
          24,
          24,
          24,
          30,
          30,
          28,
          28,
          44,
          44,
          44,
          41,
          41,
          41,
          28,
          28,
          28,
          36,
          36,
          22,
          22,
          22,
          22,
          22,
          33,
          33,
          33,
          33,
          61,
          61,
          61,
          40,
          40,
          40,
          40,
          40,
          40,
          40,
          39,
          39,
          39,
          39,
          39,
          32,
          32,
          37,
          37,
          37,
          39,
          39,
          39,
          39,
          39,
          18,
          18,
          18,
          34,
          18,
          18,
          18,
          26,
          26,
          34,
          34,
          27,
          27,
          27,
          27,
          27,
          56,
          56,
          52,
          52,
          52,
          52,
          27,
          27,
          27,
          27,
          26,
          26,
          25,
          24,
          20,
          20,
          20,
          26,
          26,
          49,
          49,
          18,
          18,
          29,
          29,
          29,
          31,
          43,
          43,
          38,
          38,
          38,
          51,
          51,
          25,
          25,
          25,
          54,
          54,
          54,
          35,
          35,
          35,
          38,
          38,
          38,
          38,
          38,
          38,
          39,
          39,
          39,
          24,
          24,
          24,
          40,
          40,
          29,
          29,
          29,
          36,
          33,
          26,
          26,
          26,
          26,
          23,
          23,
          68,
          68,
          68,
          21,
          21,
          27,
          27,
          41,
          41,
          41,
          40,
          40,
          40,
          40,
          53,
          53,
          21,
          56,
          56,
          30,
          30,
          30,
          30,
          53,
          53,
          39,
          39,
          39,
          39,
          62,
          62,
          37,
          37,
          44,
          33,
          33,
          33,
          33,
          33,
          33,
          50,
          50,
          50,
          42,
          42,
          28,
          28,
          22,
          22,
          22,
          36,
          36,
          35,
          26,
          26,
          26,
          26,
          26,
          21,
          21,
          21,
          21,
          26,
          26,
          26,
          34,
          34,
          21,
          21,
          19,
          19,
          51,
          51,
          51,
          42,
          42,
          42,
          35,
          35,
          42,
          33,
          33,
          33,
          33,
          34,
          23,
          23,
          29,
          16,
          16,
          16,
          16,
          16,
          28,
          28,
          40,
          40
         ],
         "xaxis": "x",
         "y": [
          77,
          1093,
          333,
          368,
          1093,
          19,
          233,
          77,
          108,
          null,
          13,
          15,
          69,
          69,
          376,
          61,
          1093,
          2380,
          63,
          368,
          null,
          null,
          375,
          409,
          70,
          248,
          null,
          194,
          101,
          212,
          903,
          666,
          567,
          439,
          406,
          74,
          64,
          333,
          91,
          450,
          98,
          212,
          2144,
          null,
          76,
          222,
          54,
          61,
          598,
          null,
          168,
          27,
          563,
          972,
          597,
          186,
          598,
          62,
          null,
          null,
          76,
          222,
          95,
          386,
          69,
          54,
          72,
          439,
          null,
          363,
          124,
          61,
          98,
          63,
          62,
          55,
          80,
          98,
          null,
          null,
          517,
          null,
          70,
          257,
          null,
          98,
          47,
          658,
          202,
          726,
          202,
          53,
          null,
          114,
          75,
          null,
          53,
          172,
          62,
          233,
          187,
          114,
          202,
          597,
          231,
          646,
          101,
          412,
          409,
          224,
          null,
          null,
          248,
          98,
          320,
          237,
          null,
          null,
          104,
          109,
          66,
          446,
          585,
          108,
          335,
          70,
          143,
          647,
          343,
          80,
          98,
          168,
          96,
          66,
          53,
          287,
          81,
          294,
          530,
          29,
          54,
          597,
          65,
          27,
          558,
          70,
          82,
          66,
          2380,
          168,
          null,
          52,
          15,
          63,
          213,
          101,
          98,
          null,
          111,
          87,
          64,
          79,
          64,
          89,
          70,
          null,
          98,
          301,
          287,
          null,
          101,
          2380,
          409,
          237,
          585,
          412,
          215,
          76,
          368,
          224,
          282,
          102,
          40,
          80,
          null,
          null,
          87,
          412,
          92,
          333,
          342,
          314,
          215,
          212,
          29,
          215,
          250,
          64,
          691,
          143,
          646,
          null,
          null,
          70,
          86,
          313,
          null,
          115,
          62,
          74,
          82,
          476,
          972,
          202,
          233,
          200,
          289,
          231,
          95,
          15,
          33,
          52,
          253,
          212,
          40,
          754,
          88,
          1042,
          740,
          467,
          108,
          64,
          79,
          368,
          221,
          76,
          64,
          530,
          92,
          197,
          620,
          79,
          439,
          109,
          282,
          null,
          183,
          null,
          115,
          202,
          191,
          null,
          75,
          114,
          67,
          54,
          98,
          20,
          75,
          98,
          null,
          53,
          807,
          74,
          345,
          63,
          98,
          769,
          64,
          2380,
          807,
          212,
          80,
          313,
          237,
          52,
          90,
          833,
          27,
          343,
          174,
          70,
          18,
          76,
          53,
          47,
          171,
          84,
          150,
          294,
          18,
          null,
          207,
          217,
          222,
          202,
          441,
          96,
          92,
          273,
          88,
          250,
          28,
          350,
          197,
          null,
          214,
          179,
          64,
          61,
          230,
          82,
          40,
          68,
          null,
          70,
          57,
          null,
          69,
          191,
          63,
          754,
          109,
          60,
          null,
          88,
          244,
          18,
          231,
          98,
          75,
          109,
          65,
          221,
          87,
          313,
          200,
          231,
          79,
          77,
          null,
          null,
          200,
          187,
          84,
          null,
          335,
          691,
          64,
          646,
          375,
          143,
          65,
          79,
          64,
          467,
          523,
          191,
          60,
          759,
          82,
          70,
          54,
          25,
          63,
          558,
          80,
          212,
          301,
          233,
          86,
          52,
          40,
          558,
          93,
          null,
          76,
          343,
          68,
          13,
          null,
          90,
          288,
          367,
          72,
          null,
          63,
          95,
          26,
          null,
          52,
          null,
          89,
          124,
          null,
          91,
          null,
          191,
          386,
          439,
          92,
          86,
          58,
          75,
          26,
          185,
          691,
          754,
          null,
          132,
          754,
          null,
          1186,
          80,
          57,
          40,
          92,
          187,
          null,
          63,
          313,
          67,
          61,
          null,
          40,
          70,
          115,
          516,
          112,
          859,
          567,
          null,
          63,
          233,
          67,
          367,
          113,
          63,
          null,
          368,
          89,
          231,
          70,
          33,
          40,
          null,
          70,
          320,
          92,
          170,
          257,
          36,
          80,
          301,
          72,
          25,
          101,
          null,
          289,
          221,
          60,
          87,
          67,
          null,
          109,
          111,
          64,
          345,
          null,
          185,
          350,
          769,
          124,
          4634,
          670,
          92,
          179,
          109,
          1253,
          70,
          70,
          92,
          null,
          833,
          215,
          87,
          313,
          40,
          72,
          65,
          363,
          40,
          231,
          439,
          567,
          109,
          65,
          114,
          null,
          231,
          98,
          61,
          84,
          64,
          79,
          583,
          237,
          320,
          72,
          301,
          368,
          114,
          null,
          740,
          273,
          412,
          77,
          294,
          null,
          530,
          85,
          124,
          87,
          64,
          313,
          70,
          44,
          80,
          72,
          253,
          221,
          66,
          345,
          563,
          168,
          185,
          124,
          1140,
          52,
          289,
          647,
          null,
          143,
          409,
          63,
          597,
          null,
          183,
          104,
          86,
          567,
          58,
          282,
          101,
          87,
          63,
          567,
          221,
          null,
          62,
          530,
          70,
          233,
          754,
          363,
          343,
          386,
          301,
          108,
          217,
          67,
          1140,
          90,
          230,
          null,
          376,
          95,
          20,
          585,
          63,
          114,
          76,
          100,
          217,
          202,
          null,
          81,
          88,
          530,
          66,
          176,
          64,
          288,
          76,
          40,
          96,
          903,
          74,
          88,
          412,
          702,
          114,
          320,
          91,
          363,
          null,
          143,
          237,
          1253,
          171,
          33,
          null,
          28,
          82,
          740,
          62,
          63,
          null,
          88,
          27
         ],
         "yaxis": "y"
        }
       ],
       "layout": {
        "autosize": false,
        "height": 500,
        "legend": {
         "tracegroupgap": 0
        },
        "margin": {
         "t": 60
        },
        "template": {
         "data": {
          "bar": [
           {
            "error_x": {
             "color": "#2a3f5f"
            },
            "error_y": {
             "color": "#2a3f5f"
            },
            "marker": {
             "line": {
              "color": "#E5ECF6",
              "width": 0.5
             },
             "pattern": {
              "fillmode": "overlay",
              "size": 10,
              "solidity": 0.2
             }
            },
            "type": "bar"
           }
          ],
          "barpolar": [
           {
            "marker": {
             "line": {
              "color": "#E5ECF6",
              "width": 0.5
             },
             "pattern": {
              "fillmode": "overlay",
              "size": 10,
              "solidity": 0.2
             }
            },
            "type": "barpolar"
           }
          ],
          "carpet": [
           {
            "aaxis": {
             "endlinecolor": "#2a3f5f",
             "gridcolor": "white",
             "linecolor": "white",
             "minorgridcolor": "white",
             "startlinecolor": "#2a3f5f"
            },
            "baxis": {
             "endlinecolor": "#2a3f5f",
             "gridcolor": "white",
             "linecolor": "white",
             "minorgridcolor": "white",
             "startlinecolor": "#2a3f5f"
            },
            "type": "carpet"
           }
          ],
          "choropleth": [
           {
            "colorbar": {
             "outlinewidth": 0,
             "ticks": ""
            },
            "type": "choropleth"
           }
          ],
          "contour": [
           {
            "colorbar": {
             "outlinewidth": 0,
             "ticks": ""
            },
            "colorscale": [
             [
              0,
              "#0d0887"
             ],
             [
              0.1111111111111111,
              "#46039f"
             ],
             [
              0.2222222222222222,
              "#7201a8"
             ],
             [
              0.3333333333333333,
              "#9c179e"
             ],
             [
              0.4444444444444444,
              "#bd3786"
             ],
             [
              0.5555555555555556,
              "#d8576b"
             ],
             [
              0.6666666666666666,
              "#ed7953"
             ],
             [
              0.7777777777777778,
              "#fb9f3a"
             ],
             [
              0.8888888888888888,
              "#fdca26"
             ],
             [
              1,
              "#f0f921"
             ]
            ],
            "type": "contour"
           }
          ],
          "contourcarpet": [
           {
            "colorbar": {
             "outlinewidth": 0,
             "ticks": ""
            },
            "type": "contourcarpet"
           }
          ],
          "heatmap": [
           {
            "colorbar": {
             "outlinewidth": 0,
             "ticks": ""
            },
            "colorscale": [
             [
              0,
              "#0d0887"
             ],
             [
              0.1111111111111111,
              "#46039f"
             ],
             [
              0.2222222222222222,
              "#7201a8"
             ],
             [
              0.3333333333333333,
              "#9c179e"
             ],
             [
              0.4444444444444444,
              "#bd3786"
             ],
             [
              0.5555555555555556,
              "#d8576b"
             ],
             [
              0.6666666666666666,
              "#ed7953"
             ],
             [
              0.7777777777777778,
              "#fb9f3a"
             ],
             [
              0.8888888888888888,
              "#fdca26"
             ],
             [
              1,
              "#f0f921"
             ]
            ],
            "type": "heatmap"
           }
          ],
          "heatmapgl": [
           {
            "colorbar": {
             "outlinewidth": 0,
             "ticks": ""
            },
            "colorscale": [
             [
              0,
              "#0d0887"
             ],
             [
              0.1111111111111111,
              "#46039f"
             ],
             [
              0.2222222222222222,
              "#7201a8"
             ],
             [
              0.3333333333333333,
              "#9c179e"
             ],
             [
              0.4444444444444444,
              "#bd3786"
             ],
             [
              0.5555555555555556,
              "#d8576b"
             ],
             [
              0.6666666666666666,
              "#ed7953"
             ],
             [
              0.7777777777777778,
              "#fb9f3a"
             ],
             [
              0.8888888888888888,
              "#fdca26"
             ],
             [
              1,
              "#f0f921"
             ]
            ],
            "type": "heatmapgl"
           }
          ],
          "histogram": [
           {
            "marker": {
             "pattern": {
              "fillmode": "overlay",
              "size": 10,
              "solidity": 0.2
             }
            },
            "type": "histogram"
           }
          ],
          "histogram2d": [
           {
            "colorbar": {
             "outlinewidth": 0,
             "ticks": ""
            },
            "colorscale": [
             [
              0,
              "#0d0887"
             ],
             [
              0.1111111111111111,
              "#46039f"
             ],
             [
              0.2222222222222222,
              "#7201a8"
             ],
             [
              0.3333333333333333,
              "#9c179e"
             ],
             [
              0.4444444444444444,
              "#bd3786"
             ],
             [
              0.5555555555555556,
              "#d8576b"
             ],
             [
              0.6666666666666666,
              "#ed7953"
             ],
             [
              0.7777777777777778,
              "#fb9f3a"
             ],
             [
              0.8888888888888888,
              "#fdca26"
             ],
             [
              1,
              "#f0f921"
             ]
            ],
            "type": "histogram2d"
           }
          ],
          "histogram2dcontour": [
           {
            "colorbar": {
             "outlinewidth": 0,
             "ticks": ""
            },
            "colorscale": [
             [
              0,
              "#0d0887"
             ],
             [
              0.1111111111111111,
              "#46039f"
             ],
             [
              0.2222222222222222,
              "#7201a8"
             ],
             [
              0.3333333333333333,
              "#9c179e"
             ],
             [
              0.4444444444444444,
              "#bd3786"
             ],
             [
              0.5555555555555556,
              "#d8576b"
             ],
             [
              0.6666666666666666,
              "#ed7953"
             ],
             [
              0.7777777777777778,
              "#fb9f3a"
             ],
             [
              0.8888888888888888,
              "#fdca26"
             ],
             [
              1,
              "#f0f921"
             ]
            ],
            "type": "histogram2dcontour"
           }
          ],
          "mesh3d": [
           {
            "colorbar": {
             "outlinewidth": 0,
             "ticks": ""
            },
            "type": "mesh3d"
           }
          ],
          "parcoords": [
           {
            "line": {
             "colorbar": {
              "outlinewidth": 0,
              "ticks": ""
             }
            },
            "type": "parcoords"
           }
          ],
          "pie": [
           {
            "automargin": true,
            "type": "pie"
           }
          ],
          "scatter": [
           {
            "fillpattern": {
             "fillmode": "overlay",
             "size": 10,
             "solidity": 0.2
            },
            "type": "scatter"
           }
          ],
          "scatter3d": [
           {
            "line": {
             "colorbar": {
              "outlinewidth": 0,
              "ticks": ""
             }
            },
            "marker": {
             "colorbar": {
              "outlinewidth": 0,
              "ticks": ""
             }
            },
            "type": "scatter3d"
           }
          ],
          "scattercarpet": [
           {
            "marker": {
             "colorbar": {
              "outlinewidth": 0,
              "ticks": ""
             }
            },
            "type": "scattercarpet"
           }
          ],
          "scattergeo": [
           {
            "marker": {
             "colorbar": {
              "outlinewidth": 0,
              "ticks": ""
             }
            },
            "type": "scattergeo"
           }
          ],
          "scattergl": [
           {
            "marker": {
             "colorbar": {
              "outlinewidth": 0,
              "ticks": ""
             }
            },
            "type": "scattergl"
           }
          ],
          "scattermapbox": [
           {
            "marker": {
             "colorbar": {
              "outlinewidth": 0,
              "ticks": ""
             }
            },
            "type": "scattermapbox"
           }
          ],
          "scatterpolar": [
           {
            "marker": {
             "colorbar": {
              "outlinewidth": 0,
              "ticks": ""
             }
            },
            "type": "scatterpolar"
           }
          ],
          "scatterpolargl": [
           {
            "marker": {
             "colorbar": {
              "outlinewidth": 0,
              "ticks": ""
             }
            },
            "type": "scatterpolargl"
           }
          ],
          "scatterternary": [
           {
            "marker": {
             "colorbar": {
              "outlinewidth": 0,
              "ticks": ""
             }
            },
            "type": "scatterternary"
           }
          ],
          "surface": [
           {
            "colorbar": {
             "outlinewidth": 0,
             "ticks": ""
            },
            "colorscale": [
             [
              0,
              "#0d0887"
             ],
             [
              0.1111111111111111,
              "#46039f"
             ],
             [
              0.2222222222222222,
              "#7201a8"
             ],
             [
              0.3333333333333333,
              "#9c179e"
             ],
             [
              0.4444444444444444,
              "#bd3786"
             ],
             [
              0.5555555555555556,
              "#d8576b"
             ],
             [
              0.6666666666666666,
              "#ed7953"
             ],
             [
              0.7777777777777778,
              "#fb9f3a"
             ],
             [
              0.8888888888888888,
              "#fdca26"
             ],
             [
              1,
              "#f0f921"
             ]
            ],
            "type": "surface"
           }
          ],
          "table": [
           {
            "cells": {
             "fill": {
              "color": "#EBF0F8"
             },
             "line": {
              "color": "white"
             }
            },
            "header": {
             "fill": {
              "color": "#C8D4E3"
             },
             "line": {
              "color": "white"
             }
            },
            "type": "table"
           }
          ]
         },
         "layout": {
          "annotationdefaults": {
           "arrowcolor": "#2a3f5f",
           "arrowhead": 0,
           "arrowwidth": 1
          },
          "autotypenumbers": "strict",
          "coloraxis": {
           "colorbar": {
            "outlinewidth": 0,
            "ticks": ""
           }
          },
          "colorscale": {
           "diverging": [
            [
             0,
             "#8e0152"
            ],
            [
             0.1,
             "#c51b7d"
            ],
            [
             0.2,
             "#de77ae"
            ],
            [
             0.3,
             "#f1b6da"
            ],
            [
             0.4,
             "#fde0ef"
            ],
            [
             0.5,
             "#f7f7f7"
            ],
            [
             0.6,
             "#e6f5d0"
            ],
            [
             0.7,
             "#b8e186"
            ],
            [
             0.8,
             "#7fbc41"
            ],
            [
             0.9,
             "#4d9221"
            ],
            [
             1,
             "#276419"
            ]
           ],
           "sequential": [
            [
             0,
             "#0d0887"
            ],
            [
             0.1111111111111111,
             "#46039f"
            ],
            [
             0.2222222222222222,
             "#7201a8"
            ],
            [
             0.3333333333333333,
             "#9c179e"
            ],
            [
             0.4444444444444444,
             "#bd3786"
            ],
            [
             0.5555555555555556,
             "#d8576b"
            ],
            [
             0.6666666666666666,
             "#ed7953"
            ],
            [
             0.7777777777777778,
             "#fb9f3a"
            ],
            [
             0.8888888888888888,
             "#fdca26"
            ],
            [
             1,
             "#f0f921"
            ]
           ],
           "sequentialminus": [
            [
             0,
             "#0d0887"
            ],
            [
             0.1111111111111111,
             "#46039f"
            ],
            [
             0.2222222222222222,
             "#7201a8"
            ],
            [
             0.3333333333333333,
             "#9c179e"
            ],
            [
             0.4444444444444444,
             "#bd3786"
            ],
            [
             0.5555555555555556,
             "#d8576b"
            ],
            [
             0.6666666666666666,
             "#ed7953"
            ],
            [
             0.7777777777777778,
             "#fb9f3a"
            ],
            [
             0.8888888888888888,
             "#fdca26"
            ],
            [
             1,
             "#f0f921"
            ]
           ]
          },
          "colorway": [
           "#636efa",
           "#EF553B",
           "#00cc96",
           "#ab63fa",
           "#FFA15A",
           "#19d3f3",
           "#FF6692",
           "#B6E880",
           "#FF97FF",
           "#FECB52"
          ],
          "font": {
           "color": "#2a3f5f"
          },
          "geo": {
           "bgcolor": "white",
           "lakecolor": "white",
           "landcolor": "#E5ECF6",
           "showlakes": true,
           "showland": true,
           "subunitcolor": "white"
          },
          "hoverlabel": {
           "align": "left"
          },
          "hovermode": "closest",
          "mapbox": {
           "style": "light"
          },
          "paper_bgcolor": "white",
          "plot_bgcolor": "#E5ECF6",
          "polar": {
           "angularaxis": {
            "gridcolor": "white",
            "linecolor": "white",
            "ticks": ""
           },
           "bgcolor": "#E5ECF6",
           "radialaxis": {
            "gridcolor": "white",
            "linecolor": "white",
            "ticks": ""
           }
          },
          "scene": {
           "xaxis": {
            "backgroundcolor": "#E5ECF6",
            "gridcolor": "white",
            "gridwidth": 2,
            "linecolor": "white",
            "showbackground": true,
            "ticks": "",
            "zerolinecolor": "white"
           },
           "yaxis": {
            "backgroundcolor": "#E5ECF6",
            "gridcolor": "white",
            "gridwidth": 2,
            "linecolor": "white",
            "showbackground": true,
            "ticks": "",
            "zerolinecolor": "white"
           },
           "zaxis": {
            "backgroundcolor": "#E5ECF6",
            "gridcolor": "white",
            "gridwidth": 2,
            "linecolor": "white",
            "showbackground": true,
            "ticks": "",
            "zerolinecolor": "white"
           }
          },
          "shapedefaults": {
           "line": {
            "color": "#2a3f5f"
           }
          },
          "ternary": {
           "aaxis": {
            "gridcolor": "white",
            "linecolor": "white",
            "ticks": ""
           },
           "baxis": {
            "gridcolor": "white",
            "linecolor": "white",
            "ticks": ""
           },
           "bgcolor": "#E5ECF6",
           "caxis": {
            "gridcolor": "white",
            "linecolor": "white",
            "ticks": ""
           }
          },
          "title": {
           "x": 0.05
          },
          "xaxis": {
           "automargin": true,
           "gridcolor": "white",
           "linecolor": "white",
           "ticks": "",
           "title": {
            "standoff": 15
           },
           "zerolinecolor": "white",
           "zerolinewidth": 2
          },
          "yaxis": {
           "automargin": true,
           "gridcolor": "white",
           "linecolor": "white",
           "ticks": "",
           "title": {
            "standoff": 15
           },
           "zerolinecolor": "white",
           "zerolinewidth": 2
          }
         }
        },
        "title": {
         "text": "Age vs Number of Pieces",
         "x": 0.5
        },
        "width": 800,
        "xaxis": {
         "anchor": "y",
         "autorange": true,
         "domain": [
          0,
          1
         ],
         "range": [
          12.729991204925241,
          71.27000879507476
         ],
         "title": {
          "text": "Age"
         },
         "type": "linear"
        },
        "yaxis": {
         "anchor": "x",
         "autorange": true,
         "domain": [
          0,
          1
         ],
         "range": [
          -304.55687203791473,
          4951.556872037915
         ],
         "title": {
          "text": "Number of Pieces"
         },
         "type": "linear"
        }
       }
      },
      "image/png": "[encoded data removed]",
      "text/html": [
       "<div>                            <div id=\"9388fbd2-525f-4e28-ae6f-f35586ed39bb\" class=\"plotly-graph-div\" style=\"height:500px; width:800px;\"></div>            <script type=\"text/javascript\">                require([\"plotly\"], function(Plotly) {                    window.PLOTLYENV=window.PLOTLYENV || {};                                    if (document.getElementById(\"9388fbd2-525f-4e28-ae6f-f35586ed39bb\")) {                    Plotly.newPlot(                        \"9388fbd2-525f-4e28-ae6f-f35586ed39bb\",                        [{\"hovertemplate\":\"age=%{x}\\u003cbr\\u003epieces=%{y}\\u003cextra\\u003e\\u003c\\u002fextra\\u003e\",\"legendgroup\":\"\",\"marker\":{\"color\":\"#636efa\",\"symbol\":\"circle\"},\"mode\":\"markers\",\"name\":\"\",\"orientation\":\"v\",\"showlegend\":false,\"x\":[24,35,35,41,41,41,19,19,37,37,19,19,20,36,36,36,40,40,44,44,39,46,46,45,45,45,45,31,31,31,31,55,55,55,44,43,43,43,51,51,20,20,20,37,17,17,48,48,48,27,27,40,24,50,22,22,22,22,22,32,32,25,25,25,34,34,34,21,33,51,18,18,18,18,18,30,30,30,30,25,19,43,43,43,63,63,63,20,20,20,38,38,21,21,21,48,48,36,36,36,23,23,23,23,29,38,38,38,38,38,55,55,23,23,23,57,57,57,27,27,39,39,39,39,39,39,19,36,23,23,23,33,33,33,61,62,27,27,26,26,26,47,47,47,41,24,24,24,24,22,22,56,56,33,33,33,33,33,31,31,31,31,31,31,27,27,27,27,27,30,30,45,45,45,45,41,41,28,28,24,53,53,53,24,30,30,30,17,17,21,21,21,21,25,25,33,33,35,35,35,35,26,26,43,43,35,35,37,37,37,37,28,28,34,34,32,32,23,23,21,21,19,19,17,17,17,36,44,44,37,37,26,26,26,37,37,46,46,50,50,23,42,42,42,42,42,38,38,38,38,38,38,35,35,51,46,46,34,34,50,50,50,50,30,30,30,30,31,24,32,32,21,21,21,21,20,20,20,20,20,44,44,44,44,16,16,16,16,16,26,50,50,37,37,37,37,49,49,24,24,24,24,24,26,26,43,43,43,35,23,23,23,23,23,59,59,59,41,41,36,36,37,25,25,38,38,38,38,38,41,41,41,41,61,61,61,61,22,22,22,22,30,30,37,39,39,47,47,30,30,30,30,20,20,42,42,42,42,41,41,54,33,33,32,32,53,53,28,28,23,20,20,56,56,20,38,38,38,50,47,47,47,33,33,33,33,24,24,24,24,30,30,28,28,44,44,44,41,41,41,28,28,28,36,36,22,22,22,22,22,33,33,33,33,61,61,61,40,40,40,40,40,40,40,39,39,39,39,39,32,32,37,37,37,39,39,39,39,39,18,18,18,34,18,18,18,26,26,34,34,27,27,27,27,27,56,56,52,52,52,52,27,27,27,27,26,26,25,24,20,20,20,26,26,49,49,18,18,29,29,29,31,43,43,38,38,38,51,51,25,25,25,54,54,54,35,35,35,38,38,38,38,38,38,39,39,39,24,24,24,40,40,29,29,29,36,33,26,26,26,26,23,23,68,68,68,21,21,27,27,41,41,41,40,40,40,40,53,53,21,56,56,30,30,30,30,53,53,39,39,39,39,62,62,37,37,44,33,33,33,33,33,33,50,50,50,42,42,28,28,22,22,22,36,36,35,26,26,26,26,26,21,21,21,21,26,26,26,34,34,21,21,19,19,51,51,51,42,42,42,35,35,42,33,33,33,33,34,23,23,29,16,16,16,16,16,28,28,40,40],\"xaxis\":\"x\",\"y\":[77.0,1093.0,333.0,368.0,1093.0,19.0,233.0,77.0,108.0,null,13.0,15.0,69.0,69.0,376.0,61.0,1093.0,2380.0,63.0,368.0,null,null,375.0,409.0,70.0,248.0,null,194.0,101.0,212.0,903.0,666.0,567.0,439.0,406.0,74.0,64.0,333.0,91.0,450.0,98.0,212.0,2144.0,null,76.0,222.0,54.0,61.0,598.0,null,168.0,27.0,563.0,972.0,597.0,186.0,598.0,62.0,null,null,76.0,222.0,95.0,386.0,69.0,54.0,72.0,439.0,null,363.0,124.0,61.0,98.0,63.0,62.0,55.0,80.0,98.0,null,null,517.0,null,70.0,257.0,null,98.0,47.0,658.0,202.0,726.0,202.0,53.0,null,114.0,75.0,null,53.0,172.0,62.0,233.0,187.0,114.0,202.0,597.0,231.0,646.0,101.0,412.0,409.0,224.0,null,null,248.0,98.0,320.0,237.0,null,null,104.0,109.0,66.0,446.0,585.0,108.0,335.0,70.0,143.0,647.0,343.0,80.0,98.0,168.0,96.0,66.0,53.0,287.0,81.0,294.0,530.0,29.0,54.0,597.0,65.0,27.0,558.0,70.0,82.0,66.0,2380.0,168.0,null,52.0,15.0,63.0,213.0,101.0,98.0,null,111.0,87.0,64.0,79.0,64.0,89.0,70.0,null,98.0,301.0,287.0,null,101.0,2380.0,409.0,237.0,585.0,412.0,215.0,76.0,368.0,224.0,282.0,102.0,40.0,80.0,null,null,87.0,412.0,92.0,333.0,342.0,314.0,215.0,212.0,29.0,215.0,250.0,64.0,691.0,143.0,646.0,null,null,70.0,86.0,313.0,null,115.0,62.0,74.0,82.0,476.0,972.0,202.0,233.0,200.0,289.0,231.0,95.0,15.0,33.0,52.0,253.0,212.0,40.0,754.0,88.0,1042.0,740.0,467.0,108.0,64.0,79.0,368.0,221.0,76.0,64.0,530.0,92.0,197.0,620.0,79.0,439.0,109.0,282.0,null,183.0,null,115.0,202.0,191.0,null,75.0,114.0,67.0,54.0,98.0,20.0,75.0,98.0,null,53.0,807.0,74.0,345.0,63.0,98.0,769.0,64.0,2380.0,807.0,212.0,80.0,313.0,237.0,52.0,90.0,833.0,27.0,343.0,174.0,70.0,18.0,76.0,53.0,47.0,171.0,84.0,150.0,294.0,18.0,null,207.0,217.0,222.0,202.0,441.0,96.0,92.0,273.0,88.0,250.0,28.0,350.0,197.0,null,214.0,179.0,64.0,61.0,230.0,82.0,40.0,68.0,null,70.0,57.0,null,69.0,191.0,63.0,754.0,109.0,60.0,null,88.0,244.0,18.0,231.0,98.0,75.0,109.0,65.0,221.0,87.0,313.0,200.0,231.0,79.0,77.0,null,null,200.0,187.0,84.0,null,335.0,691.0,64.0,646.0,375.0,143.0,65.0,79.0,64.0,467.0,523.0,191.0,60.0,759.0,82.0,70.0,54.0,25.0,63.0,558.0,80.0,212.0,301.0,233.0,86.0,52.0,40.0,558.0,93.0,null,76.0,343.0,68.0,13.0,null,90.0,288.0,367.0,72.0,null,63.0,95.0,26.0,null,52.0,null,89.0,124.0,null,91.0,null,191.0,386.0,439.0,92.0,86.0,58.0,75.0,26.0,185.0,691.0,754.0,null,132.0,754.0,null,1186.0,80.0,57.0,40.0,92.0,187.0,null,63.0,313.0,67.0,61.0,null,40.0,70.0,115.0,516.0,112.0,859.0,567.0,null,63.0,233.0,67.0,367.0,113.0,63.0,null,368.0,89.0,231.0,70.0,33.0,40.0,null,70.0,320.0,92.0,170.0,257.0,36.0,80.0,301.0,72.0,25.0,101.0,null,289.0,221.0,60.0,87.0,67.0,null,109.0,111.0,64.0,345.0,null,185.0,350.0,769.0,124.0,4634.0,670.0,92.0,179.0,109.0,1253.0,70.0,70.0,92.0,null,833.0,215.0,87.0,313.0,40.0,72.0,65.0,363.0,40.0,231.0,439.0,567.0,109.0,65.0,114.0,null,231.0,98.0,61.0,84.0,64.0,79.0,583.0,237.0,320.0,72.0,301.0,368.0,114.0,null,740.0,273.0,412.0,77.0,294.0,null,530.0,85.0,124.0,87.0,64.0,313.0,70.0,44.0,80.0,72.0,253.0,221.0,66.0,345.0,563.0,168.0,185.0,124.0,1140.0,52.0,289.0,647.0,null,143.0,409.0,63.0,597.0,null,183.0,104.0,86.0,567.0,58.0,282.0,101.0,87.0,63.0,567.0,221.0,null,62.0,530.0,70.0,233.0,754.0,363.0,343.0,386.0,301.0,108.0,217.0,67.0,1140.0,90.0,230.0,null,376.0,95.0,20.0,585.0,63.0,114.0,76.0,100.0,217.0,202.0,null,81.0,88.0,530.0,66.0,176.0,64.0,288.0,76.0,40.0,96.0,903.0,74.0,88.0,412.0,702.0,114.0,320.0,91.0,363.0,null,143.0,237.0,1253.0,171.0,33.0,null,28.0,82.0,740.0,62.0,63.0,null,88.0,27.0],\"yaxis\":\"y\",\"type\":\"scatter\"}],                        {\"template\":{\"data\":{\"histogram2dcontour\":[{\"type\":\"histogram2dcontour\",\"colorbar\":{\"outlinewidth\":0,\"ticks\":\"\"},\"colorscale\":[[0.0,\"#0d0887\"],[0.1111111111111111,\"#46039f\"],[0.2222222222222222,\"#7201a8\"],[0.3333333333333333,\"#9c179e\"],[0.4444444444444444,\"#bd3786\"],[0.5555555555555556,\"#d8576b\"],[0.6666666666666666,\"#ed7953\"],[0.7777777777777778,\"#fb9f3a\"],[0.8888888888888888,\"#fdca26\"],[1.0,\"#f0f921\"]]}],\"choropleth\":[{\"type\":\"choropleth\",\"colorbar\":{\"outlinewidth\":0,\"ticks\":\"\"}}],\"histogram2d\":[{\"type\":\"histogram2d\",\"colorbar\":{\"outlinewidth\":0,\"ticks\":\"\"},\"colorscale\":[[0.0,\"#0d0887\"],[0.1111111111111111,\"#46039f\"],[0.2222222222222222,\"#7201a8\"],[0.3333333333333333,\"#9c179e\"],[0.4444444444444444,\"#bd3786\"],[0.5555555555555556,\"#d8576b\"],[0.6666666666666666,\"#ed7953\"],[0.7777777777777778,\"#fb9f3a\"],[0.8888888888888888,\"#fdca26\"],[1.0,\"#f0f921\"]]}],\"heatmap\":[{\"type\":\"heatmap\",\"colorbar\":{\"outlinewidth\":0,\"ticks\":\"\"},\"colorscale\":[[0.0,\"#0d0887\"],[0.1111111111111111,\"#46039f\"],[0.2222222222222222,\"#7201a8\"],[0.3333333333333333,\"#9c179e\"],[0.4444444444444444,\"#bd3786\"],[0.5555555555555556,\"#d8576b\"],[0.6666666666666666,\"#ed7953\"],[0.7777777777777778,\"#fb9f3a\"],[0.8888888888888888,\"#fdca26\"],[1.0,\"#f0f921\"]]}],\"heatmapgl\":[{\"type\":\"heatmapgl\",\"colorbar\":{\"outlinewidth\":0,\"ticks\":\"\"},\"colorscale\":[[0.0,\"#0d0887\"],[0.1111111111111111,\"#46039f\"],[0.2222222222222222,\"#7201a8\"],[0.3333333333333333,\"#9c179e\"],[0.4444444444444444,\"#bd3786\"],[0.5555555555555556,\"#d8576b\"],[0.6666666666666666,\"#ed7953\"],[0.7777777777777778,\"#fb9f3a\"],[0.8888888888888888,\"#fdca26\"],[1.0,\"#f0f921\"]]}],\"contourcarpet\":[{\"type\":\"contourcarpet\",\"colorbar\":{\"outlinewidth\":0,\"ticks\":\"\"}}],\"contour\":[{\"type\":\"contour\",\"colorbar\":{\"outlinewidth\":0,\"ticks\":\"\"},\"colorscale\":[[0.0,\"#0d0887\"],[0.1111111111111111,\"#46039f\"],[0.2222222222222222,\"#7201a8\"],[0.3333333333333333,\"#9c179e\"],[0.4444444444444444,\"#bd3786\"],[0.5555555555555556,\"#d8576b\"],[0.6666666666666666,\"#ed7953\"],[0.7777777777777778,\"#fb9f3a\"],[0.8888888888888888,\"#fdca26\"],[1.0,\"#f0f921\"]]}],\"surface\":[{\"type\":\"surface\",\"colorbar\":{\"outlinewidth\":0,\"ticks\":\"\"},\"colorscale\":[[0.0,\"#0d0887\"],[0.1111111111111111,\"#46039f\"],[0.2222222222222222,\"#7201a8\"],[0.3333333333333333,\"#9c179e\"],[0.4444444444444444,\"#bd3786\"],[0.5555555555555556,\"#d8576b\"],[0.6666666666666666,\"#ed7953\"],[0.7777777777777778,\"#fb9f3a\"],[0.8888888888888888,\"#fdca26\"],[1.0,\"#f0f921\"]]}],\"mesh3d\":[{\"type\":\"mesh3d\",\"colorbar\":{\"outlinewidth\":0,\"ticks\":\"\"}}],\"scatter\":[{\"fillpattern\":{\"fillmode\":\"overlay\",\"size\":10,\"solidity\":0.2},\"type\":\"scatter\"}],\"parcoords\":[{\"type\":\"parcoords\",\"line\":{\"colorbar\":{\"outlinewidth\":0,\"ticks\":\"\"}}}],\"scatterpolargl\":[{\"type\":\"scatterpolargl\",\"marker\":{\"colorbar\":{\"outlinewidth\":0,\"ticks\":\"\"}}}],\"bar\":[{\"error_x\":{\"color\":\"#2a3f5f\"},\"error_y\":{\"color\":\"#2a3f5f\"},\"marker\":{\"line\":{\"color\":\"#E5ECF6\",\"width\":0.5},\"pattern\":{\"fillmode\":\"overlay\",\"size\":10,\"solidity\":0.2}},\"type\":\"bar\"}],\"scattergeo\":[{\"type\":\"scattergeo\",\"marker\":{\"colorbar\":{\"outlinewidth\":0,\"ticks\":\"\"}}}],\"scatterpolar\":[{\"type\":\"scatterpolar\",\"marker\":{\"colorbar\":{\"outlinewidth\":0,\"ticks\":\"\"}}}],\"histogram\":[{\"marker\":{\"pattern\":{\"fillmode\":\"overlay\",\"size\":10,\"solidity\":0.2}},\"type\":\"histogram\"}],\"scattergl\":[{\"type\":\"scattergl\",\"marker\":{\"colorbar\":{\"outlinewidth\":0,\"ticks\":\"\"}}}],\"scatter3d\":[{\"type\":\"scatter3d\",\"line\":{\"colorbar\":{\"outlinewidth\":0,\"ticks\":\"\"}},\"marker\":{\"colorbar\":{\"outlinewidth\":0,\"ticks\":\"\"}}}],\"scattermapbox\":[{\"type\":\"scattermapbox\",\"marker\":{\"colorbar\":{\"outlinewidth\":0,\"ticks\":\"\"}}}],\"scatterternary\":[{\"type\":\"scatterternary\",\"marker\":{\"colorbar\":{\"outlinewidth\":0,\"ticks\":\"\"}}}],\"scattercarpet\":[{\"type\":\"scattercarpet\",\"marker\":{\"colorbar\":{\"outlinewidth\":0,\"ticks\":\"\"}}}],\"carpet\":[{\"aaxis\":{\"endlinecolor\":\"#2a3f5f\",\"gridcolor\":\"white\",\"linecolor\":\"white\",\"minorgridcolor\":\"white\",\"startlinecolor\":\"#2a3f5f\"},\"baxis\":{\"endlinecolor\":\"#2a3f5f\",\"gridcolor\":\"white\",\"linecolor\":\"white\",\"minorgridcolor\":\"white\",\"startlinecolor\":\"#2a3f5f\"},\"type\":\"carpet\"}],\"table\":[{\"cells\":{\"fill\":{\"color\":\"#EBF0F8\"},\"line\":{\"color\":\"white\"}},\"header\":{\"fill\":{\"color\":\"#C8D4E3\"},\"line\":{\"color\":\"white\"}},\"type\":\"table\"}],\"barpolar\":[{\"marker\":{\"line\":{\"color\":\"#E5ECF6\",\"width\":0.5},\"pattern\":{\"fillmode\":\"overlay\",\"size\":10,\"solidity\":0.2}},\"type\":\"barpolar\"}],\"pie\":[{\"automargin\":true,\"type\":\"pie\"}]},\"layout\":{\"autotypenumbers\":\"strict\",\"colorway\":[\"#636efa\",\"#EF553B\",\"#00cc96\",\"#ab63fa\",\"#FFA15A\",\"#19d3f3\",\"#FF6692\",\"#B6E880\",\"#FF97FF\",\"#FECB52\"],\"font\":{\"color\":\"#2a3f5f\"},\"hovermode\":\"closest\",\"hoverlabel\":{\"align\":\"left\"},\"paper_bgcolor\":\"white\",\"plot_bgcolor\":\"#E5ECF6\",\"polar\":{\"bgcolor\":\"#E5ECF6\",\"angularaxis\":{\"gridcolor\":\"white\",\"linecolor\":\"white\",\"ticks\":\"\"},\"radialaxis\":{\"gridcolor\":\"white\",\"linecolor\":\"white\",\"ticks\":\"\"}},\"ternary\":{\"bgcolor\":\"#E5ECF6\",\"aaxis\":{\"gridcolor\":\"white\",\"linecolor\":\"white\",\"ticks\":\"\"},\"baxis\":{\"gridcolor\":\"white\",\"linecolor\":\"white\",\"ticks\":\"\"},\"caxis\":{\"gridcolor\":\"white\",\"linecolor\":\"white\",\"ticks\":\"\"}},\"coloraxis\":{\"colorbar\":{\"outlinewidth\":0,\"ticks\":\"\"}},\"colorscale\":{\"sequential\":[[0.0,\"#0d0887\"],[0.1111111111111111,\"#46039f\"],[0.2222222222222222,\"#7201a8\"],[0.3333333333333333,\"#9c179e\"],[0.4444444444444444,\"#bd3786\"],[0.5555555555555556,\"#d8576b\"],[0.6666666666666666,\"#ed7953\"],[0.7777777777777778,\"#fb9f3a\"],[0.8888888888888888,\"#fdca26\"],[1.0,\"#f0f921\"]],\"sequentialminus\":[[0.0,\"#0d0887\"],[0.1111111111111111,\"#46039f\"],[0.2222222222222222,\"#7201a8\"],[0.3333333333333333,\"#9c179e\"],[0.4444444444444444,\"#bd3786\"],[0.5555555555555556,\"#d8576b\"],[0.6666666666666666,\"#ed7953\"],[0.7777777777777778,\"#fb9f3a\"],[0.8888888888888888,\"#fdca26\"],[1.0,\"#f0f921\"]],\"diverging\":[[0,\"#8e0152\"],[0.1,\"#c51b7d\"],[0.2,\"#de77ae\"],[0.3,\"#f1b6da\"],[0.4,\"#fde0ef\"],[0.5,\"#f7f7f7\"],[0.6,\"#e6f5d0\"],[0.7,\"#b8e186\"],[0.8,\"#7fbc41\"],[0.9,\"#4d9221\"],[1,\"#276419\"]]},\"xaxis\":{\"gridcolor\":\"white\",\"linecolor\":\"white\",\"ticks\":\"\",\"title\":{\"standoff\":15},\"zerolinecolor\":\"white\",\"automargin\":true,\"zerolinewidth\":2},\"yaxis\":{\"gridcolor\":\"white\",\"linecolor\":\"white\",\"ticks\":\"\",\"title\":{\"standoff\":15},\"zerolinecolor\":\"white\",\"automargin\":true,\"zerolinewidth\":2},\"scene\":{\"xaxis\":{\"backgroundcolor\":\"#E5ECF6\",\"gridcolor\":\"white\",\"linecolor\":\"white\",\"showbackground\":true,\"ticks\":\"\",\"zerolinecolor\":\"white\",\"gridwidth\":2},\"yaxis\":{\"backgroundcolor\":\"#E5ECF6\",\"gridcolor\":\"white\",\"linecolor\":\"white\",\"showbackground\":true,\"ticks\":\"\",\"zerolinecolor\":\"white\",\"gridwidth\":2},\"zaxis\":{\"backgroundcolor\":\"#E5ECF6\",\"gridcolor\":\"white\",\"linecolor\":\"white\",\"showbackground\":true,\"ticks\":\"\",\"zerolinecolor\":\"white\",\"gridwidth\":2}},\"shapedefaults\":{\"line\":{\"color\":\"#2a3f5f\"}},\"annotationdefaults\":{\"arrowcolor\":\"#2a3f5f\",\"arrowhead\":0,\"arrowwidth\":1},\"geo\":{\"bgcolor\":\"white\",\"landcolor\":\"#E5ECF6\",\"subunitcolor\":\"white\",\"showland\":true,\"showlakes\":true,\"lakecolor\":\"white\"},\"title\":{\"x\":0.05},\"mapbox\":{\"style\":\"light\"}}},\"xaxis\":{\"anchor\":\"y\",\"domain\":[0.0,1.0],\"title\":{\"text\":\"Age\"}},\"yaxis\":{\"anchor\":\"x\",\"domain\":[0.0,1.0],\"title\":{\"text\":\"Number of Pieces\"}},\"legend\":{\"tracegroupgap\":0},\"margin\":{\"t\":60},\"title\":{\"text\":\"Age vs Number of Pieces\",\"x\":0.5},\"autosize\":false,\"width\":800,\"height\":500},                        {\"responsive\": true}                    ).then(function(){\n",
       "                            \n",
       "var gd = document.getElementById('9388fbd2-525f-4e28-ae6f-f35586ed39bb');\n",
       "var x = new MutationObserver(function (mutations, observer) {{\n",
       "        var display = window.getComputedStyle(gd).display;\n",
       "        if (!display || display === 'none') {{\n",
       "            console.log([gd, 'removed!']);\n",
       "            Plotly.purge(gd);\n",
       "            observer.disconnect();\n",
       "        }}\n",
       "}});\n",
       "\n",
       "// Listen for the removal of the full notebook cells\n",
       "var notebookContainer = gd.closest('#notebook-container');\n",
       "if (notebookContainer) {{\n",
       "    x.observe(notebookContainer, {childList: true});\n",
       "}}\n",
       "\n",
       "// Listen for the clearing of the current output cell\n",
       "var outputEl = gd.closest('.output');\n",
       "if (outputEl) {{\n",
       "    x.observe(outputEl, {childList: true});\n",
       "}}\n",
       "\n",
       "                        })                };                });            </script>        </div>"
      ]
     },
     "metadata": {},
     "output_type": "display_data"
    }
   ],
   "source": [
    "fig = px.scatter(DF,\n",
    "                 x='age',\n",
    "                 y='pieces')\n",
    "\n",
    "fig.update_layout(title='Age vs Number of Pieces',\n",
    "                  title_x=0.5,\n",
    "                  xaxis_title=\"Age\",\n",
    "                  yaxis_title=\"Number of Pieces\",\n",
    "                  autosize=False,\n",
    "                  width=800,\n",
    "                  height=500)\n",
    "\n",
    "fig.show()"
   ]
  },
  {
   "cell_type": "markdown",
   "id": "37225029-e0b1-426c-8181-8b62effc4940",
   "metadata": {},
   "source": [
    "This graph answers the question by graphing out the piece count based on each age"
   ]
  },
  {
   "cell_type": "markdown",
   "id": "97ce4284-c698-44bc-b9e2-4e8d2988bbaa",
   "metadata": {},
   "source": [
    "## Essay Response\n",
    "\n",
    "Give a brief report on what you are reading and what you have learned so far. If you chose your own articles please insert a link to the articles. If you chose a book, please give the book title and author.\n",
    "\n",
    "1. What drew you to the book/articles\n",
    "2. What have you learned so far.\n",
    "\n",
    "eg. In the first chapter of the book the author talks about..... or My first article discusses..... or I disagree with what the author is saying so far.... or I really like what I am learning about because...."
   ]
  },
  {
   "cell_type": "markdown",
   "id": "a4ee7dce-84ad-4313-a961-7e716bb6dd1a",
   "metadata": {},
   "source": [
    "I am really interesting in artificial intellegence as a whole. It's such a facisnating and powerful technology and it's growing  fast, doing incredible things and only getting more incredible. I think that it has the potential to be really benifitial however it also has a lot of scary and risky aspects to it, and my articles outline both of those sides. They talk about all of the benifits that AI is providing us as we speak as well as in the future. It's transforming industries by operating time consuming or error-prone processes, and it streamlines development by speeding up data analysis in many different places. It's helping with automating so many tasks as well as managing small buisnesses. At the same time though, it comes with many risks and downsides. People are worried about about AI perpetuating previous biases. Because it's based on data sets, it's very possible that it is able to pick up on and repeat human bias, and it's been seen to do this many times. This could  be very damaging, but of course it doesn't stop there. They talk about ethical concerns, and we're already seeing AI being used in many different forms of warfare. All in all I still thing AI is awesome in general and while I'm definitly worried about the possible and even the current risks and downsides, I still can't help but feel excited for what's to come."
   ]
  }
 ],
 "metadata": {
  "kernelspec": {
   "display_name": "Python 3 (ipykernel)",
   "language": "python",
   "name": "python3"
  },
  "language_info": {
   "codemirror_mode": {
    "name": "ipython",
    "version": 3
   },
   "file_extension": ".py",
   "mimetype": "text/x-python",
   "name": "python",
   "nbconvert_exporter": "python",
   "pygments_lexer": "ipython3",
   "version": "3.12.2"
  }
 },
 "nbformat": 4,
 "nbformat_minor": 5
}
